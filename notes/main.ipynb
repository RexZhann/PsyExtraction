{
 "cells": [
  {
   "cell_type": "markdown",
   "metadata": {},
   "source": [
    "import all dependencies"
   ]
  },
  {
   "cell_type": "code",
   "execution_count": 2,
   "metadata": {},
   "outputs": [],
   "source": [
    "from collections import Counter\n",
    "import seaborn as sns\n",
    "import matplotlib.pyplot as plt\n",
    "\n",
    "import numpy as np\n",
    "import re\n",
    "import os\n",
    "\n",
    "import dashscope\n",
    "from dashscope import TextEmbedding\n",
    "from dashvector import Client, Doc\n",
    "\n",
    "import json\n",
    "\n",
    "from sklearn.metrics.pairwise import cosine_similarity\n",
    "from dashscope import Generation"
   ]
  },
  {
   "cell_type": "markdown",
   "metadata": {},
   "source": [
    "create a test text database"
   ]
  },
  {
   "cell_type": "code",
   "execution_count": 3,
   "metadata": {},
   "outputs": [
    {
     "data": {
      "text/plain": [
       "[['thelcd-10 classification of mental and behavioural disorders clinical descriptions and diagnostic guidelines |  world health organization i  geneva i  1992 icd-10 reprinted 1993, 1994, 1995, 1998, 2000, 2002, 2004 who library cataloguing in publication data the icd-10 classification of mental and behavioural disorders : clinical descriptions and diagnostic guidelines. ',\n",
       "  '1.mental disorders — classification  2.mental disorders — diagnosis isbn 92 4 154422 8  (nlm classification: wm 15) © world health organization 1992 all rights reserved. ',\n",
       "  'publications of the world health organization can be obtained from marketing and dissemination, world health organization, 20 avenue appia, 1211 geneva 27, switzerland (tel: +41 22 791 2476; fax: +41 22 791 4857; email: bookorders@who.int). ',\n",
       "  'requests for permission to reproduce or translate who publications — whether for sale or for noncommercial distribution — should be addressed to publications, at the above address (fax: +41 22 791 4806; email: permissions@who.int). ',\n",
       "  'the designations employed and the presentation of the material in this publication do not imply the expression of any opinion whatsoever on the part of the world health organization concerning the legal status of any country, territory, city or area or of its authorities, or concerning the delimitation of its frontiers or boundaries. ',\n",
       "  'dotted lines on maps represent approximate border lines for which there may not yet be full agreement. ',\n",
       "  \"the mention of specific companies or of certain manufacturers' products does not imply that they are endorsed or recommended by the world health organization in preference to others of a similar nature that are not mentioned. \",\n",
       "  'errors and omissions excepted, the names of proprietary products are distinguished by initial capital letters. ',\n",
       "  'the world health organization does not warrant that the information contained in this publication is complete and correct and shall not be liable for any damages incurred as a result of its use. ',\n",
       "  'printed in switzerland 9057/9522/9928/10297/11833/12786/14450 — 33000 2003/15477 — strategic — 2000 contents preface  v acknowledgements  ix introduction  1 notes on selected categories in the classification of mental and behavioural disorders in icd-10  8 list of categories  22 clinical descriptions and diagnostic guidelines  41 annex. ',\n",
       "  'other conditions from icd-10 often associated with mental and behavioural disorders  292 list of principal investigators  312 index  326 in preface in the early 1960s, the mental health programme of the world health organization (who) became actively engaged in a programme aiming to improve the diagnosis and classification of mental disorders. ',\n",
       "  'at that time, who convened a series of meetings to review knowledge, actively involving representatives of different disciplines, various schools of thought in psychiatry, and all parts of the world in the programme. ',\n",
       "  'it stimulated and conducted research on criteria for classification and for reliability of diagnosis, and produced and promulgated procedures for joint rating of videotaped interviews and other useful research methods. ',\n",
       "  'numerous proposals to improve the classification of mental disorders resulted from the extensive consultation process, and these were used in drafting the eighth revision of the international classification of diseases (icd-8). ',\n",
       "  'a glossary defining each category of mental disorder in icd-8 was also developed. ',\n",
       "  'the programme activities also resulted in the establishment of a network of individuals and centres who continued to work on issues related to the improvement of psychiatric classification (7, 2). ',\n",
       "  'the 1970s saw further growth of interest in improving psychiatric classification worldwide. ',\n",
       "  'expansion of international contacts, the undertaking of several international collaborative studies, and the availability of new treatments all contributed to this trend. ',\n",
       "  'several national psychiatric bodies encouraged the development of specific criteria for classification in order to improve diagnostic reliability. ',\n",
       "  'in particular, the american psychiatric association developed and promulgated its third revision of the diagnostic and statistical manual, which incorporated operational criteria into its classification system. ',\n",
       "  'in 1978, who entered into a long-term collaborative project with the alcohol, drug abuse and mental health administration (adamha) in the usa, aiming to facilitate further improvements in the classification and diagnosis of mental disorders, and alcoholand drug-related problems (5). ',\n",
       "  'a series of workshops brought together scientists from a number of different psychiatric traditions and cultures, reviewed knowledge in specified areas, and developed recommendations for future research. ',\n",
       "  'a major international conference on classification and diagnosis was held in copenhagen, denmark, in 1982 to review the recommendations that emerged from these workshops and to outline a research agenda and guidelines for future work (4). ',\n",
       "  'v mental and behavioural disorders several major research efforts were undertaken to implement the recommendations of the copenhagen conference. ',\n",
       "  'one of them, involving centres in 17 countries, had as its aim the development of the composite international diagnostic interview, an instrument suitable for conducting epidemiological studies of mental disorders in general population groups in different countries (5). ',\n",
       "  'another major project focused on developing an assessment instrument suitable for use by clinicians (schedules for clinical assessment in neuropsychiatry) (6). ',\n",
       "  'still another study was initiated to develop an instrument for the assessment of personality disorders in different countries (the international personality disorder examination) (7). ',\n",
       "  'in addition, several lexicons have been, or are being, prepared to provide clear definitions of terms (8). ',\n",
       "  'a mutually beneficial relationship evolved between these projects and the work on definitions of mental and behavioural disorders in the tenth revision of the international classification of diseases and related health problems (icd-10) (9). ',\n",
       "  'converting diagnostic criteria into diagnostic algorithms incorporated in the assessment instruments was useful in uncovering inconsistencies, ambiguities and overlap and allowing their removal. ',\n",
       "  'the work on refining the icd-10 also helped to shape the assessment instruments. ',\n",
       "  'the final result was a clear set of criteria for icd-10 and assessment instruments which can produce data necessary for the classification of disorders according to the criteria included in chapter v',\n",
       "  '(f) of icd-10. ',\n",
       "  'the copenhagen conference also recommended that the viewpoints of the different psychiatric traditions be presented in publications describing the origins of the classification in the icd-10. ',\n",
       "  'this resulted in several major publications, including a volume that contains a series of presentations highlighting the origins of classification in contemporary psychiatry (10). ',\n",
       "  'the preparation and publication of this work, clinical descriptions and diagnostic guidelines, are the culmination of the efforts of numerous people who have contributed to it over many years. ',\n",
       "  'the work has gone through several major drafts, each prepared after extensive consultation with panels of experts, national and international psychiatric societies, and individual consultants. ',\n",
       "  'the draft in use in 1987 was the basis of field trials conducted in some 40 countries, which constituted the largest ever research effort of its type designed to improve psychiatric diagnosis (11, 12). ',\n",
       "  'the results of the trials were used in finalizing these guidelines. ',\n",
       "  'this work is the first of a series of publications developed from chapter v',\n",
       "  '(f) of icd-10. ',\n",
       "  'other texts will include diagnostic criteria for researchers, a version for use by general health care workers, a multiaxial presentation, and vi preface \\'\"crosswalks\" — allowing cross-reference between corresponding terms in icd-10, icd-9 and icd-8. ',\n",
       "  'use of this publication is described in the introduction, and a subsequent section of the book provides notes on some of the frequently discussed difficulties of classification. ',\n",
       "  'the acknowledgements section is of particular significance since it bears witness to the vast number of individual experts and institutions, all over the world, who actively participated in the production of the classification and the guidelines. ',\n",
       "  'all the major traditions and schools of psychiatry are represented, which gives this work its uniquely international character. ',\n",
       "  'the classification and the guidelines were produced and tested in many languages; it is hoped that the arduous process of ensuring equivalence of translations has resulted in improvements in the clarity, simplicity and logical structure of the texts in english and in other languages. ',\n",
       "  'a classification is a way of seeing the world at a point in time. ',\n",
       "  'there is no doubt that scientific progress and experience with the use of these guidelines will ultimately require their revision and updating. ',\n",
       "  'i hope that such revisions will be the product of the same cordial and productive worldwide scientific collaboration as that which has produced the current text. ',\n",
       "  'norman sartorius director, division of mental health world health organization references 1. kramer, ',\n",
       "  'm. et al. the icd-9 classification of mental disorders: a review of its developments and contents. ',\n",
       "  'acta psychiatrica scandinavica, 59: 241-262 (1979). ',\n",
       "  '2. sartorius, ',\n",
       "  'n. classification: an international perspective. ',\n",
       "  'psychiatric annals, 6: 22-35 (1976). ',\n",
       "  '3. jablensky, ',\n",
       "  'a. et al. diagnosis and classification of mental disorders and alcoholand drug-related problems: a research agenda for the 1980s. ',\n",
       "  'psychological medicine, 13: 907-921 (1983). ',\n",
       "  '4. mental disorders, alcohol-and drug-related  problems: international  perspectives on their diagnosis and classification. ',\n",
       "  'amsterdam, excerpta medica, 1985 (international congress series, no. 669). ',\n",
       "  'vii mental and behavioural disorders 5. robins, ',\n",
       "  'l. et al. the composite international diagnostic interview. ',\n",
       "  'archives of general psychiatry, 45: 1069-1077 (1989). ',\n",
       "  '6. wing, ',\n",
       "  'j.k. ',\n",
       "  'et al. scan: schedules for clinical assessment in neuropsychiatry. ',\n",
       "  'archives of general psychiatry, 47: 589-593 (1990). ',\n",
       "  '7. loranger, ',\n",
       "  'a.w. ',\n",
       "  'et al. the who/adamha international pilot study of personality disorders: background and purpose. ',\n",
       "  'journal of  personality disorders, 5(3): 296-306 (1991). ',\n",
       "  '8. lexicon of psychiatric and mental health terms. ',\n",
       "  'vol. ',\n",
       "  '1. geneva, world health organization, 1989. ',\n",
       "  '9. international statistical classification of diseases and related health problems. ',\n",
       "  'tenth revision. ',\n",
       "  'vol. ',\n",
       "  '1: tabular list, 1992. ',\n",
       "  'vol. ',\n",
       "  '2: instruction manual 1993. ',\n",
       "  'vol. ',\n",
       "  '3: index, 1994. ',\n",
       "  'geneva, world health organization. ',\n",
       "  '10. sartorius, ',\n",
       "  'n. et al. (ed.) sources and traditions in classification in psychiatry. ',\n",
       "  'toronto, hogrefe and huber, 1990. ',\n",
       "  '11. sartorius, ',\n",
       "  'n. et al. (ed.) psychiatric classification in an international perspective. ',\n",
       "  'british journal of psychiatry, 152 (suppl. 1) (1988). ',\n",
       "  '12. sartorius, ',\n",
       "  'n. et al. progress towards achieving a common language in psychiatry: results from the field trials of the clinical guidelines accompanying the who classification of mental and behavioural disorders in icd-10. ',\n",
       "  'archives of general psychiatry, 1993, 50: 115-124. ',\n",
       "  'vin acknowledgements many individuals and organizations have contributed to the production of the classification of mental and behavioural disorders in icd-10 and to the development of the texts that accompany it. ',\n",
       "  'the field trials of the icd-10 proposals, for example, involved researchers and clinicians in some 40 countries; it is clearly impossible to present a complete list of all those who participated in this effort. ',\n",
       "  'what follows is a mention of individuals and agencies whose contributions were central to the creation of the documents composing the icd-10 family of classifications and guidelines. ',\n",
       "  'the individuals who produced the initial drafts of the classification and guidelines are included in the list of principal investigators on pages 312 325: their names are marked by an asterisk. ',\n",
       "  'dr ',\n",
       "  'a. jablensky, then senior medical officer in the division of mental health of who, in geneva, coordinated this part of the programme and thus made a major contribution to the proposals. ',\n",
       "  'once the proposals for the classification were assembled and circulated for comment to who expert panels and many other individuals, including those listed below, an amended version of the classification was produced for field tests. ',\n",
       "  'these were conducted according to a protocol produced by who staff with the help of dr ',\n",
       "  'j. burke, dr ',\n",
       "  'j.e. ',\n",
       "  'cooper, and dr ',\n",
       "  'j. mezzich and involved a large number of centres, whose work was coordinated by field trial coordinating centres (ftccs). ',\n",
       "  'the ftccs (listed on pages xi-xii) also undertook the task of producing equivalent translations of the icd in the languages used in their countries. ',\n",
       "  'dr ',\n",
       "  'n. sartorius had overall responsibility for the work on the classification of mental and behavioural disorders in icd-10 and for the production of accompanying documents. ',\n",
       "  'throughout the phase of field testing and subsequently, dr ',\n",
       "  'j.e. ',\n",
       "  'cooper acted as chief consultant to the project and provided invaluable guidance and help to the who coordinating team. ',\n",
       "  'among the team members were dr ',\n",
       "  'j. van drimmelen, who has worked with who from the beginning of the process of developing icd-10 proposals, and mrs ',\n",
       "  'j. wilson, who conscientiously and efficiently handled the innumerable administrative tasks linked to the field tests and other activities related to the projects. ',\n",
       "  'mr ',\n",
       "  \"a. l'hours provided ix mental and behavioural disorders generous support, ensuring compliance between the icd-10 development in general and the production of this classification, and mr \",\n",
       "  'g. gemert produced the index. ',\n",
       "  'a number of other consultants, including in particular dr ',\n",
       "  'a. bertelsen, dr ',\n",
       "  'h. dilling, dr ',\n",
       "  'j. lopez-ibor, dr ',\n",
       "  'c. pull, dr ',\n",
       "  'd. regier, dr ',\n",
       "  'm. rutter and dr ',\n",
       "  'n. wig, were also closely involved in this work, functioning not only as heads of ftccs for the field trials but also providing advice and guidance about issues in their area of expertise and relevant to the psychiatric traditions of the groups of countries about which they were particularly knowledgeable. ',\n",
       "  \"among the agencies whose help was of vital importance were the alcohol, drug abuse and mental health administration in the usa, which provided generous support to the activities preparatory to the drafting of icd-10, and which ensured effective and productive consultation between groups working on icd-10 and those working on the fourth revision of the american psychiatric association's diagnostic and statistical manual (dsm-iv) classification; the who advisory committee on icd-10, chaired by dr \",\n",
       "  'e. stromgren; and the world psychiatric association which, through its president, dr ',\n",
       "  'c. stefanis, and the special committee on classification, assembled comments of numerous psychiatrists in its member associations and gave most valuable advice during both the field trials and the finalization of the proposals. ',\n",
       "  'other nongovernmental organizations in official and working relations with who, including the world federation for mental health, the world association for psychosocial rehabilitation, the world association of social psychiatry, the world federation of neurology, and the international union of psychological societies, helped in many ways, as did the who collaborating centres for research and training in mental health, located in some 40 countries. ',\n",
       "  'governments of who member states, including in particular belgium, germany, the netherlands, spain and the usa, also provided direct support to the process of developing the classification of mental and behavioural disorders, both through their designated contributions to who and through contributions and financial support to the centres that participated in this work. ',\n",
       "  'the icd-10 proposals are thus a product of collaboration, in the true sense of the word, between very many individuals and agencies in numerous countries. ',\n",
       "  'they were produced in the hope that they will serve as a strong support to the work of the many who are concerned with caring for the mentally ill and their families, worldwide. ',\n",
       "  'x acknowledgements no classification is ever perfect: further improvements and simplifications should become possible with increases in our knowledge and as experience with the classification accumulates. ',\n",
       "  'the task of collecting and digesting comments and results of tests of the classification will remain largely on the shoulders of the centres that collaborated with who in the development of the classification. ',\n",
       "  'their addresses are listed below because it is hoped that they will continue to be involved in the improvement of the who classifications and associated materials in the future and to assist the organization in this work as generously as they have so far. ',\n",
       "  'numerous publications have arisen from field trial centres describing results of their studies in connection with icd-10. ',\n",
       "  'a full list of these publications and reprints of the articles can be obtained from division of mental health, world health organization, 1211 geneva 27, switzerland. ',\n",
       "  'field trial coordinating centres and directors dr ',\n",
       "  'a. bertelsen, institute of psychiatric demography, psychiatric hospital, university of aarhus, risskov, denmark dr ',\n",
       "  'd. caetano, department of psychiatry, state university of campinas, campinas, brazil dr ',\n",
       "  's. channabasavanna, national institute of mental health and neurosciences, bangalore, india dr ',\n",
       "  'h. dilling, psychiatric clinic of the medical school, liibeck, germany dr ',\n",
       "  'm. gelder, department of psychiatry, oxford university hospital, warneford hospital, headington, england dr ',\n",
       "  'd. kemali, university of naples, first faculty of medicine and surgery, institute of medical psychology and psychiatry, naples, italy dr ',\n",
       "  'j.j. ',\n",
       "  'lopez-ibor jr, lopez-ibor clinic, pierto de hierro, madrid, spain dr ',\n",
       "  'g. mellsop, the wellington clinical school, wellington hospital, wellington, new zealand dr y. ',\n",
       "  'nakane, department of neuropsychiatry, nagasaki university, school of medicine, nagasaki, japan xi mental and behavioural disorders dr ',\n",
       "  'a. okasha, department of psychiatry, ain-shams university, cairo, egypt dr ',\n",
       "  'c. pull, department of neuropsychiatry, centre hospitalier de luxembourg, luxembourg, luxembourg dr ',\n",
       "  'd. regier, director, division of clinical research, national institute of mental health, rockville, md, usa dr ',\n",
       "  's. tzirkin, all union research centre of mental health, institute of psychiatry, academy of medical sciences, moscow, russian federation dr xu tao-yuan, department of psychiatry, shanghai psychiatric hospital, shanghai, china former directors of field trial centres dr ',\n",
       "  'j.e. ',\n",
       "  \"cooper, department of psychiatry, queen's medical centre, nottingham, england dr \",\n",
       "  'r. takahashi, department of psychiatry, tokyo medical and dental university, tokyo, japan dr ',\n",
       "  'n. wig, regional adviser for mental health, world health organization, regional office for the eastern mediterranean, alexandria, egypt dr yang de-sen, hunan medical college, changsha, hunan, china xll introduction chapter v, mental and behavioural disorders, of icd-10 is to be available in several different versions for different purposes. ',\n",
       "  'this version, clinical descriptions and diagnostic guidelines, is intended for general clinical, educational and service use. ',\n",
       "  'diagnostic criteria for research has been produced for research purposes and is designed to be used in conjunction with this book. ',\n",
       "  'the much shorter glossary provided by chapter v',\n",
       "  '(f) for icd-10 itself is suitable for use by coders or clerical workers, and also serves as a reference point for compatibility with other classifications; it is not recommended for use by mental health professionals. ',\n",
       "  'shorter and simpler versions of the classifications for use by primary health care workers are now in preparation, as is a multiaxial scheme. ',\n",
       "  'clinical descriptions and diagnostic guidelines has been the starting point for the development of the different versions, and the utmost care has been taken to avoid problems of incompatibility between them. ',\n",
       "  'layout it is important that users study this general introduction, and also read carefully the additional introductory and explanatory texts at the beginning of several of the individual categories. ',\n",
       "  'this is particularly important for f23. ',\n",
       "  '(acute and transient psychotic disorders), and for the block f30-f39 (mood [affective] disorders). ',\n",
       "  'because of the long-standing and notoriously difficult problems associated with the description and classification of these disorders, special care has been taken to explain how the classification has been approached. ',\n",
       "  'for each disorder, a description is provided of the main clinical features, and also of any important but less specific associated features. ',\n",
       "  '\"diagnostic guidelines\" are then provided in most cases, indicating the number and balance of symptoms usually required before a confident diagnosis can be made. ',\n",
       "  'the guidelines are worded so that a degree of flexibility is retained for diagnostic decisions in clinical work, particularly in the situation where provisional diagnosis may have to be made before the clinical picture is entirely clear or information is complete. ',\n",
       "  'to avoid repetition, clinical descriptions and some 1 mental and behavioural disorders general diagnostic guidelines are provided for certain groups of disorders, in addition to those that relate only to individual disorders. ',\n",
       "  'when the requirements laid down in the diagnostic guidelines are clearly fulfilled, the diagnosis can be regarded as \"confident\". ',\n",
       "  'when the requirements are only partially fulfilled, it is nevertheless useful to record a diagnosis for most purposes. ',\n",
       "  'it is then for the diagnostician and other users of the diagnostic statements to decide whether to record the lesser degrees of confidence (such as \"provisional\" if more information is yet to come, or \"tentative\" if more information is unlikely to become available) that are implied in these circumstances. ',\n",
       "  'statements about the duration of symptoms are also intended as general guidelines rather than strict requirements; clinicians should use their own judgement about the appropriateness of choosing diagnoses when the duration of particular symptoms is slightly longer or shorter than that specified. ',\n",
       "  'the diagnostic guidelines should also provide a useful stimulus for clinical teaching, since they serve as a reminder about points of clinical practice that can be found in a fuller form in most textbooks of psychiatry. ',\n",
       "  'they may also be suitable for some types of research projects, where the greater precision (and therefore restriction) of the diagnostic criteria for research are not required. ',\n",
       "  'these descriptions and guidelines carry no theoretical implications, and they do not pretend to be comprehensive statements about the current state of knowledge of the disorders. ',\n",
       "  'they are simply a set of symptoms and comments that have been agreed, by a large number of advisors and consultants in many different countries, to be a reasonable basis for defining the limits of categories in the classification of mental disorders. ',\n",
       "  'principal differences between chapter v',\n",
       "  '(f) of icd-10 and chapter v of icd-9 general principles of icd-10 icd-10 is much larger than icd-9. ',\n",
       "  'numeric codes (001 -999) were used in icd-9, whereas an alphanumeric coding scheme, based on codes with a single letter followed by two numbers at the three-character level (a00-z99), has been adopted in icd-10. ',\n",
       "  'this has significantly enlarged the number of categories available for the classification. ',\n",
       "  'further detail is then provided by means of decimal numeric subdivisions at the four-character level. ',\n",
       "  '2 introduction the chapter that dealt with mental disorders in icd-9 had only 30 three-character categories (290-319); chapter v',\n",
       "  '(f) of icd-10 has 100 such categories. ',\n",
       "  'a proportion of these categories has been left unused for the time being, so as to allow the introduction of changes into the classification without the need to redesign the entire system. ',\n",
       "  'icd-10 as a whole is designed to be a central (\"core\") classification for a family of diseaseand health-related classifications. ',\n",
       "  'some members of the family of classifications are derived by using a fifth or even sixth character to specify more detail. ',\n",
       "  'in others, the categories are condensed to give broad groups suitable for use, for instance, in primary health care or general medical practice. ',\n",
       "  'there is a multiaxial presentation of chapter v',\n",
       "  '(f) of icd-10 and a version for child psychiatric practice and research. ',\n",
       "  'the \"family\" also includes classifications that cover information not contained in the icd, but having important medical or health implications, ',\n",
       "  'e.g. ',\n",
       "  'the classification of impairments, disabilities and handicaps, the classification of procedures in medicine, and the classification of reasons for encounter between patients and health workers. ',\n",
       "  'neurosis and psychosis the traditional division between neurosis and psychosis that was evident in icd-9 (although deliberately left without any attempt to define these concepts) has not been used in icd-10. ',\n",
       "  'however, the term \"neurotic\" is still retained for occasional use and occurs, for instance, in the heading of a major group (or block) of disorders f40-f48, \"neurotic, stress-related and somatoform disorders\". ',\n",
       "  'except for depressive neurosis, most of the disorders regarded as neuroses by those who use the concept are to be found in this block, and the remainder are in the subsequent blocks. ',\n",
       "  'instead of following the neurotic psychotic dichotomy, the disorders are now arranged in groups according to major common themes or descriptive likenesses, which makes for increased convenience of use. ',\n",
       "  'for instance, cyclothymia (f34.0) is in the block f30-f39, mood [affective] disorders, rather than in f60-f69, disorders of adult personality and behaviour; similarly, all disorders associated with the use of psychoactive substances are grouped together in f10-f19, regardless of their severity. ',\n",
       "  '\"psychotic\" has been retained as a convenient descriptive term, particularly in f23, acute and transient psychotic disorders. ',\n",
       "  'its use does not involve assumptions about psychodynamic mechanisms, but simply indicates the presence of hallucinations, delusions, or a limited number of severe abnormalities of 3 mental and behavioural disorders behaviour, such as gross excitement and overactivity, marked psychomotor retardation, and catatonic behaviour. ',\n",
       "  'other differences between icd-9 and icd-10 all disorders attributable to an organic cause are grouped together in the block f00-f09, which makes the use of this part of the classification easier than the arrangement in the icd-9. ',\n",
       "  'the new arrangement of mental and behavioural disorders due to psychoactive substance use in the block f10-f19 has also been found more useful than the earlier system. ',\n",
       "  'the third character indicates the substance used, the fourth and fifth characters the psychopathological syndrome, ',\n",
       "  'e.g. ',\n",
       "  'from acute intoxication and residual states; this allows the reporting of all disorders related to a substance even when only three-character categories are used. ',\n",
       "  'the block that covers schizophrenia, schizotypal states and delusional disorders (f20 f29) has been expanded by the introduction of new categories such as undifferentiated schizophrenia, postschizophrenic depression, and schizotypal disorder. ',\n",
       "  'the classification of acute short-lived psychoses, which are commonly seen in most developing countries, is considerably expanded compared with that in the icd-9. ',\n",
       "  'classification of affective disorders has been particularly influenced by the adoption of the principle of grouping together disorders with a common theme. ',\n",
       "  'terms such as \"neurotic depression\" and \"endogenous depression\" are not used, but their close equivalents can be found in the different types and severities of depression now specified (including dysthymia (f34.1)). ',\n",
       "  'the behavioural syndromes and mental disorders associated with physiological dysfunction and hormonal changes, such as eating disorders, nonorganic sleep disorders, and sexual dysfunctions, have been brought together in f50-f59 and described in greater detail than in icd-9, because of the growing needs for such a classification in liaison psychiatry. ',\n",
       "  'block f60 f69 contains a number of new disorders of adult behaviour such as pathological gambling, fire-setting, and stealing, as well as the more traditional disorders of personality. ',\n",
       "  'disorders of sexual preference are clearly differentiated from disorders of gender identity, and homosexuality in itself is no longer included as a category. ',\n",
       "  '4 introduction some further comments about changes between the provisions for the coding of disorders specific to childhood and mental retardation can be found on pages 18-20. ',\n",
       "  'problems of terminology disorder the term \"disorder\" is used throughout the classification, so as to avoid even greater problems inherent in the use of terms such as \"disease\" and \"illness\". ',\n",
       "  '\"disorder\" is not an exact term, but it is used here to imply the existence of a clinically recognizable set of symptoms or behaviour associated in most cases with distress and with interference with personal functions. ',\n",
       "  'social deviance or conflict alone, without personal dysfunction, should not be included in mental disorder as defined here. ',\n",
       "  'psychogenic and psychosomatic the term \"psychogenic\" has not been used in the titles of categories, in view of its different meanings in different languages and psychiatric traditions. ',\n",
       "  'it still occurs occasionally in the text, and should be taken to indicate that the diagnostician regards obvious life events or difficulties as playing an important role in the genesis of the disorder. ',\n",
       "  '\"psychosomatic\" is not used for similar reasons and also because use of this term might be taken to imply that psychological factors play no role in the occurrence, course and outcome of other diseases that are not so described. ',\n",
       "  'disorders described as psychosomatic in other classifications can be found here in f45. ',\n",
       "  '(somatoform disorders), f50. ',\n",
       "  '(eating disorders), f52. ',\n",
       "  '(sexual dysfunction), and f54. ',\n",
       "  '(psychological or behavioural factors associated with disorders or diseases classified elsewhere). ',\n",
       "  'it is particularly important to note category f54. ',\n",
       "  '(category 316 in icd-9) and to remember to use it for specifying the association of physical disorders, coded elsewhere in icd-10, with an emotional causation. ',\n",
       "  'a common example would be the recording of psychogenic asthma or eczema by means of both f54 from chapter v',\n",
       "  '(f) and the appropriate code for the physical condition from other chapters in icd-10. ',\n",
       "  '5 mental and behavioural disorders impairment, disability, handicap and related terms the terms \"impairment\", \"disability\" and \"handicap\" are used according to the recommendations of the system adopted by who.1 occasionally, where justified by clinical tradition, the terms are used in a broader sense. ',\n",
       "  'see also pages 8 and 9 regarding dementia and its relationships with impairment, disability and handicap. ',\n",
       "  'some specific points for users children and adolescents blocks f80-f89 (disorders of psychological development) and f90-f98 (behavioural and emotional disorders with onset usually occurring in childhood and adolescence) cover only those disorders that are specific to childhood and adolescence. ',\n",
       "  'a number of disorders placed in other categories can occur in persons of almost any age, and should be used for children and adolescents when required. ',\n",
       "  'examples are disorders of eating (f50.-), sleeping (f51.-) and gender identity (f64. ) . ',\n",
       "  'some types of phobia occurring in children pose special problems for classification, as noted in the description of f93.1 (phobic anxiety disorder of childhood). ',\n",
       "  'recording more than one diagnosis it is recommended that clinicians should follow the general rule of recording as many diagnoses as are necessary to cover the clinical picture. ',\n",
       "  'when recording more than one diagnosis, it is usually best to give one precedence over the others by specifying it as the main diagnosis, and to label any others as subsidiary or additional diagnoses. ',\n",
       "  'precedence should be given to that diagnosis most relevant to the purpose for which the diagnoses are being collected; in clinical work this is often the disorder that gave rise to the consultation or contact with health services. ',\n",
       "  'in many cases it will be the disorder that necessitates admission to an inpatient, outpatient or day-care service. ',\n",
       "  'at other times, for example when reviewing the patient\\'s whole career, the most important diagnosis may well be the \"life-time\" diagnosis, which could be different from the one 1 international classification of impairments, disabilities and handicaps. ',\n",
       "  'geneva, world health organization, 1980. ',\n",
       "  '6 introduction most relevant to the immediate consultation (for instance a patient with chronic schizophrenia presenting for an episode of care because of symptoms of acute anxiety). ',\n",
       "  'if there is any doubt about the order in which to record several diagnoses, or the diagnostician is uncertain of the purpose for which information will be used, a useful rule is to record the diagnoses in the numerical order in which they appear in the classification. ',\n",
       "  'recording diagnoses from other chapters of icd-10 the use of other chapters of the icd-10 system in addition to chapter v',\n",
       "  '(f) is strongly recommended. ',\n",
       "  'the categories most relevant to mental health services are listed in the annex to this book. ',\n",
       "  '7 notes on selected categories in the classification of mental and behavioural disorders in icd-10 in the course of preparation of the icd-10 chapter on mental disorder, certain categories attracted considerable interest and debate before a reasonable level of consensus could be achieved among all concerned. ',\n",
       "  'brief notes are presented here on some of the issues that were raised. ',\n",
       "  'dementia (f01 f03) and its relationships with impairment, disability and handicap although a decline in cognitive abilities is essential for the diagnosis of dementia, no consequent interference with the performance of social roles, either within the family or with regard to employment, is used as a diagnostic guideline or criterion. ',\n",
       "  'this is a particular instance of a general principle that applies to the definitions of all the disorders in chapter v',\n",
       "  '(f) of icd-10, adopted because of the wide variations between different cultures, religions, and nationalities in terms of work and social roles that are available, or regarded as appropriate. ',\n",
       "  \"nevertheless, once a diagnosis has been made using other information, the extent to which an individual's work, family, or leisure activities are hindered or even prevented is often a useful indicator of the severity of a disorder. \",\n",
       "  'this is an opportune moment to refer to the general issue of the relationships between symptoms, diagnostic criteria, and the system adopted by who for describing impairment, disability, and handicap1. ',\n",
       "  'in terms of this system, impairment (i.e. a \"loss or abnormality... of structure or function\") is manifest psychologically by interference with mental functions such as memory, attention, and emotive functions. ',\n",
       "  'many types of psychological impairment have always been recognized as psychiatric symptoms. ',\n",
       "  'to a lesser degree, some types of disability (defined in the who system as \"a restriction or lack... of ability to perform an activity in the manner or within the range considered normal for a human being\") have also conventionally been regarded as 1 international classification of impairments, disabilities and handicaps. ',\n",
       "  'geneva, world health organization, 1980. ',\n",
       "  '8 notes on selected categories psychiatric symptoms. ',\n",
       "  'examples of disability at the personal level include the ordinary, and usually necessary, activities of daily life involved in personal care and survival related to washing, dressing, eating, and excretion. ',\n",
       "  'interference with these activities is often a direct consequence of psychological impairment, and is influenced little, if at all, by culture. ',\n",
       "  'personal disabilities can therefore legitimately appear among diagnostic guidelines and criteria, particularly for dementia. ',\n",
       "  'in contrast, a handicap (\"the disadvantage for an individual... that prevents or limits the performance of a role that is normal...for that individual\") represents the effects of impairments or disabilities in a wide social context that may be heavily influenced by culture. ',\n",
       "  'handicaps should therefore not be used as essential components of a diagnosis. ',\n",
       "  'duration of symptoms required for schizophrenia (f20.-) prodromal states before the appearance of typical schizophrenic symptoms, there is sometimes a period of weeks or months — particularly in young people — during which a prodrome of nonspecific symptoms appears (such as loss of interest, avoiding the company of others, staying away from work, being irritable and oversensitive). ',\n",
       "  'these symptoms are not diagnostic of any particular disorder, but neither are they typical of the healthy state of the individual. ',\n",
       "  'they are often just as distressing to the family and as incapacitating to the patient as the more clearly morbid symptoms, such as delusions and hallucinations, which develop later. ',\n",
       "  'viewed retrospectively, such prodromal states seem to be an important part of the development of the disorder, but little systematic information is available as to whether similar prodromes are common in other psychiatric disorders, or whether similar states appear and disappear from time to time in individuals who never develop any diagnosable psychiatric disorder. ',\n",
       "  'if a prodrome typical of and specific to schizophrenia could be identified, described reliably, and shown to be uncommon in those with other psychiatric disorders and those with no disorders at all, it would be justifiable to include a prodrome among the optional criteria for schizophrenia. ',\n",
       "  'for the purposes of icd-10, it was considered that insufficient information is available on these points at present to justify the inclusion of a prodromal state as a contributor to this diagnosis. ',\n",
       "  'an additional, closely related, and still unsolved problem 9 mental and behavioural disorders is the extent to which such prodromes can be distinguished from schizoid and paranoid personality disorders. ',\n",
       "  'separation of acute and transient psychotic disorders (f23.-) from schizophrenia (f20. ) in icd-10, the diagnosis of schizophrenia depends upon the presence of typical delusions, hallucinations or other symptoms (described on pages 86-89), and a minimum duration of 1 month is specified. ',\n",
       "  'strong clinical traditions in several countries, based on descriptive though not epidemiological studies, contribute towards the conclusion that, whatever the nature of the dementia praecox of kraepelin and the schizophrenias of bleuler, it, or they, are not the same as very acute psychoses that have an abrupt onset, a short course of a few weeks or even days, and a favourable outcome. ',\n",
       "  'terms such as \"bouffee delirante\", \"psychogenic psychosis\", \"schizophreniform psychosis\", \"cycloid psychosis\" and \"brief reactive psychosis\" indicate the widespread but diverse opinion and traditions that have developed. ',\n",
       "  'opinions and evidence also vary as to whether transient but typical schizophrenic symptoms may occur with these disorders, and whether they are usually or always associated with acute psychological stress (bouffee delirante, at least, was originally described as not usually associated with an obvious psychological precipitant). ',\n",
       "  'given the present lack of knowledge about both schizophrenia and these more acute disorders, it was considered that the best option for icd-10 would be to allow sufficient time for the symptoms of the acute disorders to appear, be recognized, and largely subside, before a diagnosis of schizophrenia was made. ',\n",
       "  'most clinical reports and authorities suggest that, in the large majority of patients with these acute psychoses, onset of psychotic symptoms occurs over a few days, or over 1-2 weeks at most, and that many patients recover with or without medication within 2-3 weeks. ',\n",
       "  'it therefore seems appropriate to specify 1 month as the transition point between the acute disorders in which symptoms of the schizophrenic type have been a feature and schizophrenia itself. ',\n",
       "  'for patients with psychotic, but non-schizophrenic, symptoms that persist beyond the 1-month point, there is no need to change the diagnosis until the duration requirement of delusional disorder (f22.0) is reached (3 months, as discussed below). ',\n",
       "  'a similar duration suggests itself when acute symptomatic psychoses (amfetamine psychosis is the best example) are considered. ',\n",
       "  'withdrawal of the 10 notes on selected categories toxic agent is usually followed by disappearance of the symptoms over 8-10 days, but since it often takes 7-10 days for the symptoms to become manifest and troublesome (and for the patient to present to the psychiatric services), the overall duration is often 20 days or more. ',\n",
       "  'about 30 days, or 1 month, would therefore seem an appropriate time to allow as an overall duration before calling the disorder schizophrenia, if the typical symptoms persist. ',\n",
       "  'to adopt a 1-month duration of typical psychotic symptoms as a necessary criterion for the diagnosis of schizophrenia rejects the assumption that schizophrenia must be of comparatively long duration. ',\n",
       "  'a duration of 6 months has been adopted in more than one national classification, but in the present state of ignorance there appear to be no advantages in restricting the diagnosis of schizophrenia in this way. ',\n",
       "  'in two large international collaborative studies on schizophrenia and related disorders1, the second of which was epidemiologically based, a substantial proportion of patients were found whose clear and typical schizophrenic symptoms lasted for more than 1 month but less than 6 months, and who made good, if not complete, recoveries from the disorder. ',\n",
       "  'it therefore seems best for the purposes of icd-10 to avoid any assumption about necessary chronicity for schizophrenia, and to regard the term as descriptive of a syndrome with a variety of causes (many of which are still unknown) and a variety of outcomes, depending upon the balance of genetic, physical, social, and cultural influences. ',\n",
       "  'there has also been considerable debate about the most appropriate duration of symptoms to specify as necessary for the diagnosis of persistent delusional disorder (f22. ) . ',\n",
       "  'three months was finally chosen as being the least unsatisfactory, since to delay the decision point to 6 months or more makes it necessary to introduce another intermediate category between acute and transient psychotic disorders (f23.-) and persistent delusional disorder. ',\n",
       "  'the whole subject of the relationship between the disorders under discussion awaits more and better information than is at present available; a comparatively simple solution, which gives precedence to the acute and transient states, seemed the best option, and perhaps one that will stimulate research. ',\n",
       "  '1 the international pilot study of schizophrenia. ',\n",
       "  'geneva, world health organization, 1973 (offset publication, no. 2). ',\n",
       "  'sartorius, ',\n",
       "  'n. et al. early manifestations and first contact incidence of schizophrenia in different cultures. ',\n",
       "  'a preliminary report on the initial evaluation phase of the who collaborative study on determinants of outcome of severe mental disorders. ',\n",
       "  'psychological medicine, 16: 909-928 (1986). ',\n",
       "  '11 mental and behavioural disorders the principle of describing and classifying a disorder or group of disorders so as to display options rather than to use built-in assumptions, has been used for acute and transient psychotic disorders (f23. ) ; these and related points are discussed briefly in the introduction to that category (pages 97-99). ',\n",
       "  'the term \"schizophreniform\" has not been used for a defined disorder in this classification. ',\n",
       "  'this is because it has been applied to several different clinical concepts over the last few decades, and associated with various mixtures of characteristics such as acute onset, comparatively brief duration, atypical symptoms or mixtures of symptoms, and a comparatively good outcome. ',\n",
       "  'there is no evidence to suggest a preferred choice for its usage, so the case for its inclusion as a diagnostic term was considered to be weak. ',\n",
       "  'moreover, the need for an intermediate category of this type is obviated by the use of f23.(acute and transient psychotic disorders) and its subdivisions, together with the requirement of 1 month of psychotic symptoms for a diagnosis of schizophrenia. ',\n",
       "  'as guidance for those who do use schizophreniform as a diagnostic term, it has been inserted in several places as an inclusion term relevant to those disorders that have the most overlap with the meanings it has acquired. ',\n",
       "  'these are: \"schizophreniform attack or psychosis, nos\" in f20.8 (other schizophrenia), and \"brief schizophreniform disorder or psychosis\" in f23.2 (acute schizophrenia-like psychotic disorder). ',\n",
       "  'simple schizophrenia (f20.6) this category has been retained because of its continued use in some countries, and because of the uncertainty about its nature and its relationships to schizoid personality disorder and schizotypal disorder, which will require additional information for resolution. ',\n",
       "  'the criteria proposed for its differentiation highlight the problems of defining the mutual boundaries of this whole group of disorders in practical terms. ',\n",
       "  'schizoaffective disorders (f25.-) the evidence at present available as to whether schizoaffective disorders (f25. ) as defined in the icd-10 should be placed in block f20-f29 (schizophrenia, schizotypal and delusional disorders) or in f30-f39 (mood [affective] disorders) is fairly evenly balanced. ',\n",
       "  'the final decision to place it in f20-f29 was influenced by feedback from the field trials of the 1987 draft, and by comments resulting from the worldwide circulation of the same draft to member 12 notes on selected categories societies of the world psychiatric association. ',\n",
       "  'it is clear that widespread and strong clinical traditions exist that favour its retention among schizophrenia and delusional disorders. ',\n",
       "  'it is relevant to this discussion that, given a set of affective symptoms, the addition of only mood-incongruent delusions is not sufficient to change the diagnosis to a schizoaffective category. ',\n",
       "  'at least one typically schizophrenic symptom must be present with the affective symptoms during the same episode of the disorder. ',\n",
       "  'mood [affective] disorders (f30-f39) it seems likely that psychiatrists will continue to disagree about the classification of disorders of mood until methods of dividing the clinical syndromes are developed that rely at least in part upon physiological or biochemical measurement, rather than being limited as at present to clinical descriptions of emotions and behaviour. ',\n",
       "  'as long as this limitation persists, one of the major choices lies between a comparatively simple classification with only a few degrees of severity, and one with greater details and more subdivisions. ',\n",
       "  'the 1987 draft of icd-10 used in the field trials had the merit of simplicity, containing, for example, only mild and severe depressive episodes, no separation of hypomania from mania, and no recommendation to specify the presence or absence of familiarly clinical concepts, such as the \\'\"somatic\" syndrome or affective hallucinations and delusions. ',\n",
       "  'however, feedback from many of the clinicians involved in the field trials, and other comments received from a variety of sources, indicated a widespread demand for opportunities to specify several grades of depression and the other features noted above. ',\n",
       "  'in addition, it is clear from the preliminary analysis of field trial data that in many centres the category of \"mild depressive episode\" often had a comparatively low interrater reliability. ',\n",
       "  'it has also become evident that the views of clinicians on the required number of subdivisions of depression are strongly influenced by the types of patient they encounter most frequently. ',\n",
       "  'those working in primary care, outpatient clinics and liaison settings need ways of describing patients with mild but clinically significant states of depression, whereas those whose work is mainly with inpatients frequently need to use the more extreme categories. ',\n",
       "  'further consultations with experts on affective disorders resulted in the present versions. ',\n",
       "  'options for specifying several aspects of affective disorders have been included, which, although still some way from being scientifically 13 mental and behavioural disorders respectable, are regarded by psychiatrists in many parts of the world as clinically useful. ',\n",
       "  'it is hoped that their inclusion will stimulate further discussion and research into their true clinical value. ',\n",
       "  'unsolved problems remain about how best to define and make diagnostic use of the incongruence of delusions with mood. ',\n",
       "  'there would seem to be both enough evidence and sufficient clinical demand for the inclusion of provisions for mood-congruent or mood-incongruent delusions to be included, at least as an \"optional extra\". ',\n",
       "  'recurrent brief depressive disorder since the introduction of icd-9, sufficient evidence has accumulated to justify the provision of a special category for the brief episodes of depression that meet the severity criteria but not the duration criteria for depressive episode (f32.-). ',\n",
       "  'these recurrent states are of unclear nosological significance and the provision of a category for their recording should encourage the collection of information that will lead to a better understanding of their frequency and long-term course. ',\n",
       "  'agoraphobia and panic disorder there has been considerable debate recently as to which of agoraphobia and panic disorder should be regarded as primary. ',\n",
       "  'from an international and crosscultural perspective, the amount and type of evidence available does not appear to justify rejection of the still widely accepted notion that the phobic disorder is best regarded as the prime disorder, with attacks of panic usually indicating its severity. ',\n",
       "  'mixed categories of anxiety and depression psychiatrists and others, especially in developing countries, who see patients in primary health care services should find particular use for f41.2 (mixed anxiety and depressive disorder), f41.3 (other mixed disorders), the various subdivisions of f43.2 (adjustment disorder), and f44.7 (mixed dissociative [conversion] disorder). ',\n",
       "  'the purpose of these categories is to facilitate the description of disorders manifest by a mixture of symptoms for which a simpler and 14 notes on selected categories more traditional psychiatric label is not appropriate but which nevertheless represent significantly common, severe states of distress and interference with functioning. ',\n",
       "  'they also result in frequent referral to primary care, medical and psychiatric services. ',\n",
       "  'difficulties in using these categories reliably may be encountered, but it is important to test them and — if necessary — improve their definition. ',\n",
       "  'dissociative and somatoform disorders, in relation to hysteria the term *\\'hysteria\" has not been used in the title for any disorder in chapter v',\n",
       "  '(f) of icd-10 because of its many and varied shades of meaning. ',\n",
       "  'instead, \"dissociative\" has been preferred, to bring together disorders previously termed hysteria, of both dissociative and conversion types. ',\n",
       "  'this is largely because patients with the dissociative and conversion varieties often share a number of other characteristics, and in addition they frequently exhibit both varieties at the same or different times. ',\n",
       "  'it also seems reasonable to presume that the same (or very similar) psychological mechanisms are common to both types of symptoms. ',\n",
       "  'there appears to be widespread international acceptance of the usefulness of grouping together several disorders with a predominantly physical or somatic mode of presentation under the term \"somatoform\". ',\n",
       "  'for the reasons already given, however, this new concept was not considered to be an adequate reason for separating amnesias and fugues from dissociative sensory and motor loss. ',\n",
       "  'if multiple personality disorder (f44.81) does exist as something other than a culture-specific or even iatrogenic condition, then it is presumably best placed among the dissociative group. ',\n",
       "  'neurasthenia although omitted from some classification systems, neurasthenia has been retained as a category in icd-10, since this diagnosis is still regularly and widely used in a number of countries. ',\n",
       "  'research carried out in various settings has demonstrated that a significant proportion of cases diagnosed as neurasthenia can also be classified under depression or anxiety: there are, however, cases in which the clinical syndrome does not match the description of any 15 mental and behavioural disorders other category but does meet all the criteria specified for a syndrome of neurasthenia. ',\n",
       "  'it is hoped that further research on neurasthenia will be stimulated by its inclusion as a separate category. ',\n",
       "  'culture-specific disorders the need for a separate category for disorders such as latah, amok, koro, and a variety of other possibly culture-specific disorders has been expressed less often in recent years. ',\n",
       "  'attempts to identify sound descriptive studies, preferably with an epidemiological basis, that would strengthen the case for these inclusions as disorders clinically distinguishable from others already inthe classification have failed, so they have not been separately classified. ',\n",
       "  'descriptions of these disorders currently available in the literature suggest that they may be regarded as local variants of anxiety, depression, somatoform disorder, or adjustment disorder; the nearest equivalent code should therefore be used if required, together with an additional note of which culture-specific disorder is involved. ',\n",
       "  'there may also be prominent elements of attention-seeking behaviour or adoption of the sick role akin to that described in f68.1 (intentional production or feigning of symptoms or disabilities), which can also be recorded. ',\n",
       "  'mental and behavioural disorders associated with the puerperium (f53.-) this category is unusual and apparently paradoxical in carrying a recommendation that it should be used only when unavoidable. ',\n",
       "  'its inclusion is a recognition of the very real practical problems in many developing countries that make the gathering of details about many cases of puerperal illness virtually impossible. ',\n",
       "  'however, even in the absence of sufficient information to allow a diagnosis of some variety of affective disorder (or, more rarely, schizophrenia), there will usually be enough known to allow diagnosis of a mild (f53.0) or severe (f53.1) disorder; this subdivision is useful for estimations of workload, and when decisions are to be made about provision of services. ',\n",
       "  'the inclusion of this category should not be taken to imply that, given adequate information, a significant proportion of cases of postpartum mental illness cannot be classified in other categories. ',\n",
       "  'most experts in this field are of the opinion that a clinical picture of puerperal psychosis is so rarely (if 16 notes on selected categories ever) reliably distinguishable from affective disorder or schizophrenia that a special category is not justified. ',\n",
       "  'any psychiatrist who is of the minority opinion that special postpartum psychoses do indeed exist may use this category, but should be aware of its real purpose. ',\n",
       "  'disorders of adult personality (f60.-) in all current psychiatric classifications, disorders of adult personality include a variety of severe problems, whose solution requires information that can come only from extensive and time-consuming investigations. ',\n",
       "  'the difference between observations and interpretation becomes particularly troublesome when attempts are made to write detailed guidelines or diagnostic criteria for these disorders; and the number of criteria that must be fulfilled before a diagnosis is regarded as confirmed remains an unsolved problem in the light of present knowledge. ',\n",
       "  'nevertheless, the attempts that have been made to specify guidelines and criteria for this category may help to demonstrate that a new approach to the description of personality disorders is required. ',\n",
       "  'after initial hesitation, a brief description of borderline personality disorder (f60.31) was finally included as a subcategory of emotionally unstable personality disorder (f60.3), again in the hope of stimulating investigations. ',\n",
       "  'other disorders of adult personality and behaviour (f68) two categories that have been included here but were not present in icd-9 are f68.0, elaboration of physical symptoms for psychological reasons, and f68.1, intentional production or feigning of symptoms or disabilities, either physical or psychological [factitious disorder]. ',\n",
       "  'since these are, strictly speaking, disorders of role or illness behaviour, it should be convenient for psychiatrists to have them grouped with other disorders of adult behaviour. ',\n",
       "  'together with malingering (z76.5), which has always been outside chapter v of the icd, the disorders from a trio of diagnoses often need to be considered together. ',\n",
       "  'the crucial difference between the first two and malingering is that the motivation for malingering is obvious and usually confined to situations where personal danger, criminal sentencing, or large sums of money are involved. ',\n",
       "  '17 mental and behavioural disorders mental retardation (f70-f79) the policy for chapter v',\n",
       "  '(f) of icd-10 has always been to deal with mental retardation as briefly and as simply as possible, acknowledging that justice can be done to this topic only by means of a comprehensive, possibly multiaxial, system. ',\n",
       "  'such a system needs to be developed separately, and work to produce appropriate proposals for international use is now in progress. ',\n",
       "  'disorders with onset specific to childhood f80-f89 disorders of psychological development disorders of childhood such as infantile autism and disintegrative psychosis, classified in icd-9 as psychoses, are now more appropriately contained in f84. ',\n",
       "  ', pervasive developmental disorders. ',\n",
       "  'while some uncertainty remains about their nosological status, it has been considered that sufficient information is now available to justify the inclusion of the syndromes of rett and asperger in this group as specified disorders. ',\n",
       "  'overactive disorder associated with mental retardation and stereotyped movements (f84.4) has been included in spite of its mixed nature, because evidence suggests that this may have considerable practical utility. ',\n",
       "  'f90-f98 behavioural and emotional disorders with onset usually occurring in childhood and adolescence differences in international opinion about the broadness of the concept of hyper  kinetic disorder have been a well-known problem for many years, and were discussed in detail at the meetings between who advisors and other experts held under the auspices of the who-adamha joint project. ',\n",
       "  'hyper  kinetic disorder is now defined more broadly in icd-10 than it was in icd-9. ',\n",
       "  'the icd-10 definition is also different in the relative emphasis given to the constituent symptoms of the overall hyperkinetic syndrome; since recent empirical research was used as the basis for the definition, there are good reasons for believing that the definition in icd-10 represents a significant improvement. ',\n",
       "  'hyperkinetic conduct disorder (f90.1) is one of the few examples of a combination category remaining in icd-10, chapter v',\n",
       "  '(f). ',\n",
       "  'the use of this diagnosis 18 notes on selected categories indicates that the criteria for both hyperkinetic disorder (f90. ) and conduct disorder (f91. ) are fulfilled. ',\n",
       "  'these few exceptions to the general rule were considered justified on the grounds of clinical convenience in view of the frequent coexistence of those disorders and the demonstrated later importance of the mixed syndrome. ',\n",
       "  'however, in the icd-10 classification of mental and behavioural disorders: diagnostic criteria  for research (dcr-10) it is recommended that, for research purposes, individual cases in these categories be described in terms of hyperactivity, emotional disturbance, and severity of conduct disorder (in addition to the combination category being used as an overall diagnosis). ',\n",
       "  'oppositional defiant disorder (f91.3) was not in icd-9, but has been included in icd-10 because of evidence of its predictive potential for later conduct problems. ',\n",
       "  'there is, however, a cautionary note recommending its use mainly for younger children. ',\n",
       "  'the icd-9 category 313 (disturbances of emotion specific to childhood and adolescence) has been developed into two separate categories for icd-10, namely emotional disorders with onset specific to childhood (f93.-) and disorders of social functioning with onset specific to childhood and adolescence (f94. ) . ',\n",
       "  'this is because of the continuing need for a differentiation between children and adults with respect to various forms of morbid anxiety and related emotions. ',\n",
       "  'the frequency with which emotional disorders in childhood are followed by no significant similar disorder in adult life, and the frequent onset of neurotic disorders in adults are clear indicators of this need. ',\n",
       "  'the key defining criterion used in icd-10 is the appropriateness to the developmental stage of the child of the emotion shown, plus an unusual degree of persistence with disturbance of function. ',\n",
       "  'in other words, these childhood disorders are significant exaggerations of emotional states and reactions that are regarded as normal for the age in question when occurring in only a mild form. ',\n",
       "  'if the content of the emotional state is unusual, or if it occurs at an unusual age, the general categories elsewhere in the classification should be used. ',\n",
       "  'in spite of its name, the new category f94. ',\n",
       "  '(disorders of social functioning with onset specific to childhood and adolescence) does not go against the general rule for icd-10 of not using interference with social roles as a diagnostic criterion. ',\n",
       "  'the abnormalities of social functioning involved in f94. ',\n",
       "  'are of a limited number and contained within the parent child relationship and the immediate family; these relationships do not have the same connotations or show the same cultural variations as those formed in the context of work or of providing for the family, which are excluded from use as diagnostic criteria. ',\n",
       "  '19 mental and behavioural disorders a number of categories that will be used frequently by child psychiatrists, such as eating disorders (f50.-), nonorganic sleep disorders (f51.-), and gender identity disorders (f64. ) , are to be found in the general sections of the classifications because of their frequent onset and occurrence in adults as well as children. ',\n",
       "  'nevertheless, clinical features specific to childhood were thought to justify the additional categories of feeding disorder of infancy (f98.2) and pica of infancy and childhood (f98.3). ',\n",
       "  'users of blocks f80 f89 and f90 f98 also need to be aware of the contents of the neurological chapter of icd-10 (chapter vi',\n",
       "  '(g)). ',\n",
       "  'this contains syndromes with predominantly physical manifestations and clear \"organic\" etiology, of which the kleine levin syndrome (g47.8) is of particular interest to child psychiatrists. ',\n",
       "  'unspecified mental disorder (f99) there are practical reasons why a category for the recording of \"unspecified mental disorder\" is required in icd-10, but the subdivision of the whole of the classificatory space available for chapter v',\n",
       "  '(f) into 10 blocks, each covering a specific area, posed a problem for this requirement. ',\n",
       "  'it was decided that the least unsatisfactory solution was to use the last category in the numerical order of the classification, ',\n",
       "  'i.e. ',\n",
       "  'f99. ',\n",
       "  'deletion of categories proposed for earlier drafts of icd-10 the process of consultation and reviews of the literature that preceded the drafting of chapter v',\n",
       "  '(f) of icd-10 resulted in numerous proposals for changes. ',\n",
       "  'decisions on whether to accept or reject proposals were influenced by a number of factors. ',\n",
       "  'these included the results of the field tests of the classification, consultations with heads of who collaborative centres, results of collaboration with nongovernmental organizations, advice from members of who expert advisory panels, results of translations of the classification, and the constraints of the rules governing the structure of the icd as a whole. ',\n",
       "  'it was normally easy to reject proposals that were idiosyncratic and unsupported by evidence, and to accept others that were accompanied by sound justification. ',\n",
       "  'some proposals, although reasonable when considered in 20 notes on selected categories isolation, could not be accepted because of the implications that even minor changes to one part of the classification would have for other parts. ',\n",
       "  'some other proposals had clear merit, but more research would be necessary before they could be considered for international use. ',\n",
       "  'a number of these proposals included in early versions of the general classification were omitted from the final version, including \"accentuation of personality traits\" and \"hazardous use of psychoactive substances\". ',\n",
       "  'it is hoped that research into the status and usefulness of these and other innovative categories will continue. ',\n",
       "  \"21 list of categories f00-f09 organic, including symptomatic, mental disorders f00 dementia in alzheimer's disease foo.o dementia in alzheimer's disease with early onset f00.1 dementia in alzheimer's disease with late onset f00.2 dementia in alzheimer's disease, atypical or mixed type f00.9 dementia in alzheimer's disease, unspecified f01 vascular dementia f01.0 vascular dementia of acute onset f01.1 multi-infarct dementia f01.2 subcortical vascular dementia f01.3 mixed cortical and subcortical vascular dementia f01.8 other vascular dementia fo 1.9 vascular dementia, unspecified f02 dementia in other diseases classified elsewhere f02.0 dementia in pick's disease f02.1 dementia in creutzfeldt jakob disease f02.2 dementia in huntington's disease f02.3 dementia in parkinson's disease f02.4 dementia in human immunodeficiency virus [hiv] disease f02.8 dementia in other specified diseases classified elsewhere f03 unspecified dementia a fifth character may be added to specify dementia in f00-f03, as follows: .\",\n",
       "  'xo without additional symptoms .',\n",
       "  'xl other symptoms, predominantly delusional .',\n",
       "  'x2 other symptoms, predominantly hallucinatory .',\n",
       "  'x3 other symptoms, predominantly depressive .',\n",
       "  'x4 other mixed symptoms 22 list of categories f04 organic amnesic syndrome, not induced by alcohol and other psychoactive substances f05 delirium, not induced by alcohol and other psychoactive substances f05.0 delirium, not superimposed on dementia, so described f05.1 delirium, superimposed on dementia f05.8 other delirium f05.9 delirium, unspecified f06 other mental disorders due to brain damage and dysfunction and to physical disease f06.0 organic hallucinosis f06.1 organic catatonic disorder f06.2 organic delusional [schizophrenia-like] disorder f06.3 organic mood [affective] disorders .30 organic manic disorder .31 organic bipolar affective disorder .32 organic depressive disorder .33 organic mixed affective disorder f06.4 organic anxiety disorder f06.5 organic dissociative disorder f06.6 organic emotionally labile [asthenic] disorder f06.7 mild cognitive disorder f06.8 other specified mental disorders due to brain damage and dysfunction and to physical disease f06.9 unspecified mental disorder due to brain damage and dysfunction and to physical disease f07 personality and behavioural disorders due to brain disease, damage and dysfunction f07.0 organic personality disorder f07.1 postencephalitic syndrome f07.2 postconcussional syndrome f07.8 other organic personality and behavioural disorders due to brain disease, damage and dysfunction f07.9 unspecified organic personality and behavioural disorder due to brain disease, damage and dysfunction f09 unspecified organic or symptomatic mental disorder 23 mental and behavioural disorders f10-f19 mental and behavioural disorders due to psychoactive substance use f10.mental and behavioural disorders due to use of alcohol f11.mental and behavioural disorders due to use of opioids f12.mental and behavioural disorders due to use of cannabinoids f13.mental and behavioural disorders due to use of sedatives or hypnotics f14.mental and behavioural disorders due to use of cocaine f15. ',\n",
       "  'mental and behavioural disorders due to use of other stimulants, including caffeine f16. ',\n",
       "  'mental and behavioural disorders due to use of hallucinogens f17. ',\n",
       "  'mental and behavioural disorders due to use of tobacco f18. ',\n",
       "  'mental and behavioural disorders due to use of volatile solvents f19. ',\n",
       "  'mental and behavioural disorders due to multiple drug use and use of other psychoactive substances fourand five-character categories may be used to specify the clinical conditions, as follows: flx.o acute intoxication .00 uncomplicated .01 with trauma or other bodily injury .02 with other medical complications .03 with delirium .04 with perceptual distortions .05 with coma .06 with convulsions .07 pathological intoxication 24 list of categories flx.l harmful use flx.2 dependence syndrome .20 currently abstinent .21 currently abstinent, but in a protected environment .22 currently on a clinically supervised maintenance or replacement regime [controlled dependence] .23 currently abstinent, but receiving treatment with aversive or blocking drugs .24 currently using the substance [active dependence] .25 continuous use .26 episodic use [dipsomania] fix.3 withdrawal state .30 uncomplicated .31 with convulsions flx.4 withdrawal state with delirium .40 without convulsions .41 with convulsions fix.5 psychotic disorder .50 schizophrenia-like .51 predominantly delusional .52 predominantly hallucinatory .53 predominantly polymorphic .54 predominantly depressive symptoms .55 predominantly manic symptoms .56 mixed fix.6 amnesic syndrome fix.7 residual and late-onset psychotic disorder .70 flashbacks .71 personality or behaviour disorder .72 residual affective disorder .73 dementia .74 other persisting cognitive impairment .75 late-onset psychotic disorder fix.8 other mental and behavioural disorders fix.9 unspecified mental and behavioural disorder 25 mental and behavioural disorders f20-f29 schizophrenia, schizotypal and delusional disorders f20 schizophrenia f20.0 paranoid schizophrenia f20.1 hebephrenic schizophrenia f20.2 catatonic schizophrenia f20.3 undifferentiated schizophrenia f20.4 post-schizophrenic depression f20.5 residual schizophrenia f20.6 simple schizophrenia f20.8 other schizophrenia f20.9 schizophrenia, unspecified a fifth character may be used to classify course: .',\n",
       "  'xo continuous .',\n",
       "  'xl episodic with progressive deficit ,x2 episodic with stable deficit .',\n",
       "  'x3 episodic remittent .',\n",
       "  'x4 incomplete remission .',\n",
       "  'x5 complete remission .',\n",
       "  'xs other ,x9 course uncertain, period of observation too short f21 schizotypal disorder f22 persistent delusional disorders f22.0 delusional disorder f22.8 other persistent delusional disorders f22.9 persistent delusional disorder, unspecified f23 acute and transient psychotic disorders f23.0 acute polymorphic psychotic disorder without symptoms of schizophrenia f23.1 acute polymorphic psychotic disorder with symptoms of schizophrenia f23.2 acute schizophrenia-like psychotic disorder f23.3 other acute predominantly delusional psychotic disorders f23.8 other acute and transient psychotic disorders f23.9 acute and transient psychotic disorders unspecified 26 list of categories a fifth character may be used to identify the presence or absence of associated acute stress: .',\n",
       "  ';to without associated acute stress .',\n",
       "  \"x\\\\ with associated acute stress f24 induced delusional disorder f25 schizoaffective disorders f25.0 schizoaffective disorder, manic type f25.1 schizoaffective disorder, depressive type f25.2 schizoaffective disorder, mixed type f25.8 other schizoaffective disorders f25.9 schizoaffective disorder, unspecified f28 other nonorganic psychotic disorders f29 unspecified nonorganic psychosis 27 mental and behavioural disorders f30-f39 mood [affective] disorders f30 manic episode f30.0 hypomania f30.1 mania without psychotic symptoms f30.2 mania with psychotic symptoms f3o.8 other manic episodes f30.9 manic episode, unspecified f31 bipolar affective disorder f31.0 bipolar affective disorder, current episode hypomanic f31.1 bipolar affective disorder, current episode manic without psychotic symptoms f31.2 bipolar affective disorder, current episode manic with psychotic symptoms f31.3 bipolar affective disorder, current episode mild or moderate depression .30 without somatic syndrome .31 with somatic syndrome f31.4 bipolar affective disorder, current episode severe depression without psychotic symptoms f31.5 bipolar affective disorder, current episode severe depression with psychotic symptoms f31.6 bipolar affective disorder, current episode mixed f31.7 bipolar affective disorder, currently in remission f31.8 other bipolar affective disorders f31.9 bipolar affective disorder, unspecified f32 depressive episode f32.0 mild depressive episode .00 without somatic syndrome .01 with somatic syndrome f32.1 moderate depressive episode .10 without somatic syndrome .11 with somatic syndrome f32.2 severe depressive episode without psychotic symptoms f32.3 severe depressive episode with psychotic symptoms f32.8 other depressive episodes f32.9 depressive episode, unspecified 28 list of categories f33 recurrent depressive disorder f33.o recurrent depressive disorder, current episode mild .00 without somatic syndrome .01 with somatic syndrome f33.1 recurrent depressive disorder, current episode moderate .10 without somatic syndrome .11 with somatic syndrome f33.2 recurrent depressive disorder, current episode severe without psychotic symptoms f33.3 recurrent depressive disorder, current episode severe with psychotic symptoms f33.4 recurrent depressive disorder, currently in remission f33.8 other recurrent depressive disorders f33.9 recurrent depressive disorder, unspecified f34 persistent mood [affective] disorders f34.0 cyclothymia f34.1 dysthymia f34.8 other persistent mood [affective] disorders f34.9 persistent mood [affective] disorder, unspecified f38 other mood [affective] disorders f38.o other single mood [affective] disorders .00 mixed affective episode f38.1 other recurrent mood [affective] disorders .10 recurrent brief depressive disorder f38.8 other specified mood [affective] disorders f39 unspecified mood [affective] disorder 29 mental and behavioural disorders f40-f48 neurotic, stress-related and somatoform disorders f40 phobic anxiety disorders f40.0 agoraphobia .00 without panic disorder .01 with panic disorder f40.1 social phobias f40.2 specific (isolated) phobias f40.8 other phobic anxiety disorders f40.9 phobic anxiety disorder, unspecified f41 other anxiety disorders f41.0 panic disorder [episodic paroxysmal anxiety] f41.1 generalized anxiety disorder f41.2 mixed anxiety and depressive disorder f41.3 other mixed anxiety disorders f41.8 other specified anxiety disorders f41.9 anxiety disorder, unspecified f42 obsessive compulsive disorder f42.0 predominantly obsessional thoughts or ruminations f42.1 predominantly compulsive acts [obsessional rituals] f42.2 mixed obsessional thoughts and acts f42.8 other obsessive compulsive disorders f42.9 obsessive-compulsive disorder, unspecified f43 reaction to severe stress, and adjustment disorders f43.0 acute stress reaction f43.1 post-traumatic stress disorder f43.2 adjustment disorders .20 brief depressive reaction .21 prolonged depressive reaction .22 mixed anxiety and depressive reaction .23 with predominant disturbance of other emotions .24 with predominant disturbance of conduct .25 with mixed disturbance of emotions and conduct .28 with other specified predominant symptoms f43.8 other reactions to severe stress f43.9 reaction to severe stress, unspecified 30 list of categories f44 dissociative [conversion] disorders f44.0 dissociative amnesia f44.1 dissociative fugue f44.2 dissociative stupor f44.3 trance and possession disorders f44.4 dissociative motor disorders f44.5 dissociative convulsions f44.6 dissociative anaesthesia and sensory loss f44.7 mixed dissociative [conversion] disorders f44.8 other dissociative [conversion] disorders .80 ganser's syndrome .81 multiple personality disorder .82 transient dissociative [conversion] disorders occurring in childhood and adolescence .88 other specified dissociative [conversion] disorders f44.9 dissociative [conversion] disorder, unspecified f45 somatoform disorders f45.0 somatization disorder f45.1 undifferentiated somatoform disorder f45.2 hypochondriacal disorder f45.3 somatoform autonomic dysfunction .30 heart and cardiovascular system .31 upper gastrointestinal tract .32 lower gastrointestinal tract .33 respiratory system .34 genitourinary system .38 other organ or system f45.4 persistent somatoform pain disorder f45.8 other somatoform disorders f45.9 somatoform disorder, unspecified f48 other neurotic disorders f48.0 neurasthenia f48.1 depersonalizationderealization syndrome f48.8 other specified neurotic disorders f48.9 neurotic disorder, unspecified 31 mental and behavioural disorders f50-f59 behavioural syndromes associated with physiological disturbances and physical factors f50 eating disorders f50.0 anorexia nervosa f50.1 atypical anorexia nervosa f50.2 bulimia nervosa f5o.3 atypical bulimia nervosa f50.4 overeating associated with other psychological disturbances f5o.5 vomiting associated with other psychological disturbances f50.8 other eating disorders f50.9 eating disorder, unspecified f51 nonorganic sleep disorders f51.0 nonorganic insomnia f51.1 nonorganic hypersomnia f51.2 nonorganic disorder of the sleep-wake schedule f51.3 sleepwalking [somnambulism] f51.4 sleep terrors [night terrors] f51.5 nightmares f51.8 other nonorganic sleep disorders f51.9 nonorganic sleep disorder, unspecified f52 sexual dysfunction, not caused by organic disorder or disease f52.0 lack or loss of sexual desire f52.1 sexual aversion and lack of sexual enjoyment .10 sexual aversion .11 lack of sexual enjoyment f52.2 failure of genital response f52.3 orgasmic dysfunction f52.4 premature ejaculation f52.5 nonorganic vaginismus f52.6 nonorganic dyspareunia f52.7 excessive sexual drive f52.8 other sexual dysfunction, not caused by organic disorders or disease f52.9 unspecified sexual dysfunction, not caused by organic disorder or disease 32 list of categories f53 mental and behavioural disorders associated with the puerperium, not elsewhere classified f53.0 mild mental and behavioural disorders associated with the puerperium, not elsewhere classified f53.1 severe mental and behavioural disorders associated with the puerperium, not elsewhere classified f53.8 other mental and behavioural disorders associated with the puerperium, not elsewhere classified f53.9 puerperal mental disorder, unspecified f54 psychological and behavioural factors associated with disorders or diseases classified elsewhere f55 abuse of non-dependence-producing substances f55.0 antidepressants f55.1 laxatives f55.2 analgesics f55.3 antacids f55.4 vitamins f55.5 steroids or hormones f55.6 specific herbal or folk remedies f55.8 other substances that do not produce dependence f55.9 unspecified f59 unspecified behavioural syndromes associated with physiological disturbances and physical factors 33 mental and behavioural disorders f60-f69 disorders of adult personality and behaviour f60 specific personality disorders f60.0 paranoid personality disorder f60.1 schizoid personality disorder f60.2 dissocial personality disorder f60.3 emotionally unstable personality disorder .30 impulsive type .31 borderline type f60.4 histrionic personality disorder f60.5 anankastic personality disorder f60.6 anxious [avoidant] personality disorder f60.7 dependent personality disorder f60.8 other specific personality disorders f60.9 personality disorder, unspecified f61 mixed and other personality disorders f61.0 mixed personality disorders f61.1 troublesome personality changes f62 enduring personality changes, not attributable to brain damage and disease f62.0 enduring personality change after catastrophic experience f62.1 enduring personality change after psychiatric illness f62.8 other enduring personality changes f62.9 enduring personality change, unspecified f63 habit and impulse disorders f63.0 pathological gambling f63.1 pathological fire-setting [pyromania] f63.2 pathological stealing [kleptomania] f63.3 trichotillomania f63.8 other habit and impulse disorders f63.9 habit and impulse disorder, unspecified f64 gender identity disorders f64.0 transsexualism f64.1 dual-role transvestism f64.2 gender identity disorder of childhood 34 list of categories f64.8 other gender identity disorders f64.9 gender identity disorder, unspecified f65 disorders of sexual preference f65.0 fetishism f65.1 fetishistic transvestism f65.2 exhibitionism f65.3 voyeurism f65.4 paedophilia f65.5 sadomasochism f65.6 multiple disorders of sexual preference f65.8 other disorders of sexual preference f65.9 disorder of sexual preference, unspecified f66 psychological and behavioural disorders associated with sexual development and orientation f66.0 sexual maturation disorder f66.1 egodystonic sexual orientation f66.2 sexual relationship disorder f66.8 other psychosexual development disorders f66.9 psychosexual development disorder, unspecified a fifth character may be used to indicate association with: .\",\n",
       "  'xo heterosexuality .',\n",
       "  'xl homosexuality ,xl bisexuality .',\n",
       "  'x$ other, including prepubertal f68 other disorders of adult personality and behaviour f68.0 elaboration of physical symptoms for psychological reasons f68.1 intentional production or feigning of symptoms or disabilities, either physical or psychological [factitious disorder] f68.8 other specified disorders of adult personality and behaviour f69 unspecified disorder of adult personality and behaviour 35 mental and behavioural disorders f70-f79 mental retardation f70 mild mental retardation f71 moderate mental retardation f72 severe mental retardation f73 profound mental retardation f78 other mental retardation f79 unspecified mental retardation a fourth character may be used to specify the extent of associated behaviowal impairment: flx.o no, or minimal, impairment of behaviour fix. ',\n",
       "  \"1 significant impairment of behaviour requiring attention or treatment f7x.8 other impairments of behaviour fix.9 without mention of impairment of behaviour 36 list of categories f80-f89 disorders of psychological development f80 specific developmental disorders of speech and language f80.0 specific speech articulation disorder f80.1 expressive language disorder f80.2 receptive language disorder f8o.3 acquired aphasia with epilepsy [landau kieffner syndrome] f80.8 other developmental disorders of speech and language f80.9 developmental disorder of speech and language, unspecified f81 specific developmental disorders of scholastic skills f81.0 specific reading disorder f81.1 specific spelling disorder f81.2 specific disorder of arithmetical skills f81.3 mixed disorder of scholastic skills f81.8 other developmental disorders of scholastic skills f81.9 developmental disorder of scholastic skills, unspecified f82 specific developmental disorder of motor function f83 mixed specific developmental disorders f84 pervasive developmental disorders f84.0 childhood autism f84.1 atypical autism f84.2 rett's syndrome f84.3 other childhood disintegrative disorder f84.4 over  active disorder associated with mental retardation and stereotyped movements f84.5 asperger's syndrome f84.8 other pervasive developmental disorders f84.9 pervasive developmental disorder, unspecified f88 other disorders of psychological development f89 unspecified disorder of psychological development 37 mental and behavioural disorders f90-f98 behavioural and emotional disorders with onset usually occurring in childhood and adolescence f90 hyperkinetic disorders f90.0 disturbance of activity and attention f90.1 hyperkinetic conduct disorder f90.8 other hyperkinetic disorders f90.9 hyperkinetic disorder, unspecified f91 conduct disorders f91.0 conduct disorder confined to the family context f91.1 unsocialized conduct disorder f91.2 socialized conduct disorder f91.3 oppositional defiant disorder f91.8 other conduct disorders f91.9 conduct disorder, unspecified f92 mixed disorders of conduct and emotions f92.0 depressive conduct disorder f92.8 other mixed disorders of conduct and emotions f92.9 mixed disorder of conduct and emotions, unspecified f93 emotional disorders with onset specific to childhood f93.0 separation anxiety disorder of childhood f93.1 phobic anxiety disorder of childhood f93.2 social anxiety disorder of childhood f93.3 sibling rivalry disorder f93.8 other childhood emotional disorders f93.9 childhood emotional disorder, unspecified f94 disorders of social functioning with onset specific to childhood and adolescence f94.0 elective mutism f94.1 reactive attachment disorder of childhood f94.2 disinhibited attachment disorder of childhood f94.8 other childhood disorders of social functioning f94.9 childhood disorders of social functioning, unspecified 38 list of categories f95 tic disorders f95.0 transient tic disorder f95.1 chronic motor or vocal tic disorder f95.2 combined vocal and multiple motor tic disorder [de la tourette's syndrome] f95.8 other tic disorders f95.9 tic disorder, unspecified f98 other behavioural and emotional disorders with onset usually occurring in childhood and adolescence f98.0 nonorganic enuresis f98.1 nonorganic encopresis f98.2 feeding disorder of infancy and childhood f98.3 pica of infancy and childhood f98.4 stereotyped movement disorders f98.5 stuttering [stammering] f98.6 cluttering f98.8 other specified behavioural and emotional disorders with onset usually occurring in childhood and adolescence f98.9 unspecified behavioural and emotional disorders with onset usually occurring in childhood and adolescence 39 mental and behavioural disorders f99 unspecified mental disorder f99 mental disorder, not otherwise specified 40 clinical descriptions and diagnostic guidelines mental and behavioural disorders f00-f09 organic, including symptomatic, mental disorders overview of this block f00 dementia in alzheimer's disease foo.o dementia in alzheimer's disease with early onset f00.1 dementia in alzheimer's disease with late onset f00.2 dementia in alzheimer's disease, atypical or mixed type f00.9 dementia in alzheimer's disease, unspecified f01 vascular dementia f01.0 vascular dementia of acute onset f01.1 multi-infarct dementia f01.2 subcortical vascular dementia f01.3 mixed cortical and subcortical vascular dementia f01.8 other vascular dementia f01.9 vascular dementia, unspecified f02 dementia in other diseases classified elsewhere f02.0 dementia in pick's disease f02.1 dementia in creutzfeldt jakob disease f02.2 dementia in huntington's disease f02.3 dementia in parkinson's disease f02.4 dementia in human immunodeficiency virus [hiv] disease f02.8 dementia in other specified diseases classified elsewhere f03 unspecified dementia a fifth character may be used to specifiy dementia in f00-f03, as follows: .\",\n",
       "  'xo without additional symptoms .',\n",
       "  'xl other symptoms, predominantly delusional .',\n",
       "  'x2 other symptoms, predominantly hallucinatory .',\n",
       "  'x3 other symptoms, predominantly depressive ,x4 other mixed symptoms f04 organic amnesic syndrome, not induced by alcohol and other psychoactive substances 42 f00-f09 organic mental disorders f05 delirium, not induced by alcohol and other psychoactive substances f05.0 delirium, not superimposed on dementia, so described f05.1 delirium, superimposed on dementia f05.8 other delirium f05.9 delirium, unspecified f06 other mental disorders due to brain damage and dysfunction and to physical disease f06.0 organic hallucinosis f06.1 organic catatonic disorder f06.2 organic delusional [schizophrenia-like] disorder f06.3 organic mood [affective] disorders .30 organic manic disorder .31 organic bipolar affective disorder .32 organic depressive disorder .33 organic mixed affective disorder f06.4 organic anxiety disorder f06.5 organic dissociative disorder f06.6 organic emotionally labile [asthenic] disorder f06.7 mild cognitive disorder f06.8 other specified mental disorders due to brain damage and dysfunction and to physical disease f06.9 unspecified mental disorder due to brain damage and dysfunction and to physical disease f07 personality and behavioural disorders due to brain disease, damage and dysfunction f07.0 organic personality disorder f07.1 postencephalitic syndrome f07.2 postconcussional syndrome f07.8 other organic personality and behavioural disorders due to brain disease, damage and dysfunction f07.9 unspecified organic personality and behavioural disorders due to brain disease, damage and dysfunction f09 unspecified organic or symptomatic mental disorder 43 mental and behavioural disorders introduction this block comprises a range of mental disorders grouped together on the basis of their common, demonstrable etiology in cerebral disease, brain injury, or other insult leading to cerebral dysfunction. ',\n",
       "  'the dysfunction may be primary, as in diseases, injuries, and insults that affect the brain directly or with predilection; or secondary, as in systemic diseases and disorders that attack the brain only as one of the multiple organs or systems of the body involved. ',\n",
       "  'alcoholand drug-caused brain disorders, though logically belonging to this group, are classified under f10-f19 because of practical advantages in keeping all disorders due to psychoactive substance use in a single block. ',\n",
       "  'although the spectrum of psychopathological manifestations of the conditions included here is broad, the essential features of the disorders form two main clusters. ',\n",
       "  'on the one hand, there are syndromes in which the invariable and most prominent features are either disturbances of cognitive functions, such as memory, intellect, and learning, or disturbances of the sensorium, such as disorders of consciousness and attention. ',\n",
       "  'on the other hand, there are syndromes of which the most conspicuous manifestations are in the areas of perception (hallucinations), thought contents (delusions), or mood and emotion (depression, elation, anxiety), or in the overall pattern of personality and behaviour, while cognitive or sensory dysfunction is minimal or difficult to ascerta in. ',\n",
       "  'the latter group of disorders has less secure footing in this block than the former because it contains many disorders that are symptomatically similar to conditions classified in other blocks (f20 f29, f30 f39, f40 f49, f60 f69) and are known to occur without gross cerebral pathological change or dysfunction. ',\n",
       "  'however, the growing evidence that a variety of cerebral and systemic diseases are causally related to the occurrence of such syndromes provides sufficient justification for their inclusion here in a clinically oriented classification. ',\n",
       "  'the majority of the disorders in this block can, at least theoretically, have their onset at any age, except perhaps early childhood. ',\n",
       "  'in practice, most tend to start in adult life or old age. ',\n",
       "  'while some of these disorders are seemingly irreversible and progressive, others are transient or respond to currently available treatments. ',\n",
       "  'use of the term \"organic\" does not imply that conditions elsewhere in this classification are \"nonorganic\" in the sense of having no cerebral substrate. ',\n",
       "  'in the present context, the term \"organic\" means simply that the syndrome so classified can be attributed to an independently diagnosable cerebral or 44 f00-f09 organic mental disorders systemic disease or disorder. ',\n",
       "  'the term \"symptomatic\" is used for those organic mental disorders in which cerebral involvement is secondary to a systemic extracerebral disease or disorder. ',\n",
       "  'it follows from the foregoing that, in the majority of cases, the recording of a diagnosis of any one of the disorders in this block will require the use of two codes: one for the psychopathological syndrome and another for the underlying disorder. ',\n",
       "  'the etiological code should be selected from the relevant chapter of the overall icd-10 classification. ',\n",
       "  'dementia a general description of dementia is given here, to indicate the minimum requirement for the diagnosis of dementia of any type, and is followed by the criteria that govern the diagnosis of more specific types. ',\n",
       "  'dementia is a syndrome due to disease of the brain, usually of a chronic or progressive nature, in which there is disturbance of multiple higher cortical functions, including memory, thinking, orientation, comprehension, calculation, learning capacity, language, and judgement. ',\n",
       "  'consciousness is not clouded. ',\n",
       "  'impairments of cognitive function are commonly accompanied, and occasionally preceded, by deterioration in emotional control, social behaviour, or motivation. ',\n",
       "  \"this syndrome occurs in alzheimer's disease, in cerebrovascular disease, and in other conditions primarily or secondarily affecting the brain. \",\n",
       "  'in assessing the presence or absence of a dementia, special care should be taken to avoid false-positive identification: motivational or emotional factors, particularly depression, in addition to motor slowness and general physical frailty, rather than loss of intellectual capacity, may account for failure to perform. ',\n",
       "  'dementia produces an appreciable decline in intellectual functioning, and usually some interference with personal activities of daily living, such as washing, dressing, eating, personal hygiene, excretory and toilet activities. ',\n",
       "  'how such a decline manifests itself will depend largely on the social and cultural setting in which the patient lives. ',\n",
       "  'changes in role performance, such as lowered ability to keep or find a job, should not be used as criteria of dementia because of the large cross-cultural differences that exist in what is appropriate, and because there may be frequent, externally imposed changes in the availability of work within a particular culture. ',\n",
       "  '45 mental and behavioural disorders if depressive symptoms are present but the criteria for depressive episode (f32.0-f32.3) are not fulfilled, they can be recorded by means of a fifth character. ',\n",
       "  'the presence of hallucinations or delusions may be treated similarly. ',\n",
       "  '.',\n",
       "  'xo without additional symptoms ,x\\\\ other symptoms, predominantly delusional .',\n",
       "  'x2 other symptoms, predominantly hallucinatory .',\n",
       "  'x3 other symptoms, predominantly depressive .',\n",
       "  'x4 other mixed symptoms diagnostic guidelines the primary requirement for diagnosis is evidence of a decline in both memory and thinking which is sufficient to impair personal activities of daily living, as described above. ',\n",
       "  'the impairment of memory typically affects the registration, storage, and retrieval of new information, but previously learned and familiar material may also be lost, particularly in the later stages. ',\n",
       "  'dementia is more than dysmnesia: there is also impairment of thinking and of reasoning capacity, and a reduction in the flow of ideas. ',\n",
       "  'the processing of incoming information is impaired, in that the individual finds it increasingly difficult to attend to more than one stimulus at a time, such as taking part in a conversation with several persons, and to shift the focus of attention from one topic to another. ',\n",
       "  'if dementia is the sole diagnosis, evidence of clear consciousness is required. ',\n",
       "  'however, a double diagnosis of delirium superimposed upon dementia is common (f05.1). ',\n",
       "  'the above symptoms and impairments should have been evident for at least 6 months for a confident clinical diagnosis of dementia to be made. ',\n",
       "  'differential diagnosis. ',\n",
       "  'consider: a depressive disorder (f30-f39), which may exhibit many of the features of an early dementia, especially memory impairment, slowed thinking, and lack of spontaneity; delirium (f05); mild or moderate mental retardation (f70-f71); states of subnormal cognitive functioning attributable to a severely impoverished social environment and limited education; iatrogenic mental disorders due to medication (f06.-). ',\n",
       "  'dementia may follow any other organic mental disorder classified in this block, or coexist with some of them, notably delirium (see f05.1). ',\n",
       "  \"46 f00-f09 organic mental disorders • a m i  dementia in alzheimer's disease alzheimer's disease is a primary degenerative cerebral disease of unknown etiology, with characteristic neuropathological and neurochemical features. \",\n",
       "  'it is usually insidious in onset and develops slowly but steadily over a period of years. ',\n",
       "  'this period can be as short as 2 or 3 years, but can occasionally be considerably longer. ',\n",
       "  \"the onset can be in middle adult life or even earlier (alzheimer's disease with early onset), but the incidence is higher in later life (alzheimer's disease with late onset). \",\n",
       "  'in cases with onset before the age of 65 70, there is the likelihood of a family history of a similar dementia, a more rapid course, and prominence of features of temporal and parietal lobe damage, including dysphasia or dyspraxia. ',\n",
       "  'in cases with a later onset, the course tends to be slower and to be characterized by more general impairment of higher cortical functions. ',\n",
       "  \"patients with down's syndrome are at high risk of developing alzheimer's disease. \",\n",
       "  'there are characteristic changes in the brain: a marked reduction in the population of neurons, particularly in the hippocampus, substantia innominata, locus ceruleus, and temporoparietal and frontal cortex; appearance of neurofibrillary tangles made of paired helical filaments; neuritic (argentophil) plaques, which consist largely of amyloid and show a definite progression in their development (although plaques without amyloid are also known to exist); and granulovacuolar bodies. ',\n",
       "  'neurochemical changes have also been found, including a marked reduction in the enzyme choline acetyltransferase, in acetylcholine itself, and in other neurotransmitters and neuromodulators. ',\n",
       "  'as originally described, the clinical features are accompanied by the above brain changes. ',\n",
       "  'however, it now appears that the two do not always progress in parallel: one may be indisputably present with only minimal evidence of the other. ',\n",
       "  \"nevertheless, the clinical features of alzheimer's disease are such that it is often possible to make a presumptive diagnosis on clinical grounds alone. \",\n",
       "  \"dementia in alzheimer's disease is at present irreversible. \",\n",
       "  '47 mental and behavioural disorders diagnostic guidelines the following features are essential for a definite diagnosis: ',\n",
       "  '(a) presence of a dementia as described above. ',\n",
       "  '(b) insidious onset with slow deterioration. ',\n",
       "  'while the onset usually seems difficult to pinpoint in time, realization by others that the defects exist may come suddenly. ',\n",
       "  'an apparent plateau may occur in the progression. ',\n",
       "  '(c) absence of clinical evidence, or findings from special investigations, to suggest that the mental state may be due to other systemic or brain disease which can induce a dementia (e.g. hypothyroidism, hypercalcaemia, vitamin b12 deficiency, niacin deficiency, neurosyphilis, normal pressure hydrocephalus, or subdural haematoma). ',\n",
       "  '(d) absence of a sudden, apoplectic onset, or of neurological signs of focal damage such as hemiparesis, sensory loss, visual field defects, and incoordination occurring early in the illness (although these phenomena may be superimposed later). ',\n",
       "  \"in a certain proportion of cases, the features of alzheimer's disease and vascular dementia may both be present. \",\n",
       "  'in such cases, double diagnosis (and coding) should be made. ',\n",
       "  \"when the vascular dementia precedes the alzheimer's disease, it may be impossible to diagnose the latter on clinical grounds. \",\n",
       "  \"includes: primary degenerative dementia of the alzheimer's type differential diagnosis. \",\n",
       "  \"consider: a depressive disorder (f30 f39); delirium (f05. ) ; organic amnesic syndrome (f04); other primary dementias, such as in pick's, creutzfeldt-jakob or huntington's disease (f02. ) ; secondary dementias associated with a variety of physical diseases, toxic states, etc. (f02.8); mild, moderate or severe mental retardation (f70 f72). \",\n",
       "  \"dementia in alzheimer's disease may coexist with vascular dementia (to be coded f00.2), as when cerebrovascular episodes (multi-infarct phenomena) are superimposed on a clinical picture and history suggesting alzheimer's disease. \",\n",
       "  'such episodes may result in sudden exacerbations of the manifestations of dementia. ',\n",
       "  'according to postmortem findings, both types may coexist in as many as 10 15% of all dementia cases. ',\n",
       "  \"48 f00-f09 organic mental disorders foo.o  dementia in alzheimer's disease with early onset dementia in alzheimer's disease beginning before the age of 65. \",\n",
       "  'there is relatively rapid deterioration, with marked multiple disorders of the higher cortical functions. ',\n",
       "  'aphasia, agraphia, alexia, and apraxia occur relatively early in the course of the dementia in most cases. ',\n",
       "  'diagnostic guidelines as for dementia, described above, with onset before the age of 65 years, and usually with rapid progression of symptoms. ',\n",
       "  \"family history of alzheimer's disease is a contributory but not necessary factor for the diagnosis, as is a family history of down's syndrome or of lymphoma. \",\n",
       "  \"includes: alzheimer's disease, type 2 presenile dementia, alzheimer's type f00.1  dementia in alzheimer's disease with late onset dementia in alzheimer's disease where the clinically observable onset is after the age of 65 years and usually in the late 70s or thereafter, with a slow progression, and usually with memory impairment as the principal feature. \",\n",
       "  'diagnostic guidelines as for dementia, described above, with attention to the presence or absence of features differentiating the disorder from the earlyonset subtype (foo.o). ',\n",
       "  \"includes: alzheimer's disease, type 1 senile dementia, alzheimer's type f00.2  dementia in alzheimer's disease, atypical or mixed type dementias that do not fit the descriptions and guidelines for either foo.o or f00.1 should be classified here; mixed alzheimer's and vascular dementias are also included here. \",\n",
       "  \"f00.9  dementia in alzheimer's disease, unspecified 49 mental and behavioural disorders |gifj| vascular dementia vascular (formerly arteriosclerotic) dementia, which includes multiinfarct dementia, is distinguished from dementia in alzheimer's disease by its history of onset, clinical features, and subsequent course. \",\n",
       "  'typically, there is a history of transient ischaemic attacks with brief impairment of consciousness, fleeting pareses, or visual loss. ',\n",
       "  'the dementia may also follow a succession of acute cerebrovascular accidents or, less commonly, a single major stroke. ',\n",
       "  'some impairment of memory and thinking then becomes apparent. ',\n",
       "  'onset, which is usually in later life, can be abrupt, following one particular ischaemic episode, or there may be more gradual emergence. ',\n",
       "  'the dementia is usually the result of infarction of the brain due to vascular diseases, including hypertensive cerebrovascular disease. ',\n",
       "  'the infarcts are usually small but cumulative in their effect. ',\n",
       "  'diagnostic guidelines the diagnosis presupposes the presence of a dementia as described above. ',\n",
       "  'impairment of cognitive function is commonly uneven, so that there may be memory loss, intellectual impairment, and focal neurological signs. ',\n",
       "  'insight and judgement may be relatively well preserved. ',\n",
       "  'an abrupt onset or a stepwise deterioration, as well as the presence of focal neurological signs and symptoms, increases the probability of the diagnosis; in some cases, confirmation can be provided only by computerized axial tomography or, ultimately, neuropathological examination. ',\n",
       "  'associated features are: hypertension, carotid bruit, emotional lability with transient depressive mood, weeping or explosive laughter, and transient episodes of clouded consciousness or delirium, often provoked by further infarction. ',\n",
       "  'personality is believed to be relatively well preserved, but personality changes may be evident in a proportion of cases with apathy, disinhibition, or accentuation of previous traits such as egocentricity, paranoid attitudes, or irritability. ',\n",
       "  'includes: arteriosclerotic dementia differential diagnosis. ',\n",
       "  \"consider: delirium (f05. ) ; other dementia, particularly in alzheimer's disease (f00. ) ; mood [affective] disorders (f30-f39); mild or moderate mental retardation (f70-f71); subdural haemorrhage (traumatic (s06.5), nontraumatic (162.0)). \",\n",
       "  \"50 f00-f09 organic mental disorders vascular dementia may coexist with dementia in alzheimer's disease (to be coded f00.2), as when evidence of a vascular episode is superimposed on a clinical picture and history suggesting alzheimer's disease. \",\n",
       "  'f01.0  vascular dementia of acute onset usually develops rapidly after a succession of strokes from cerebrovascular thrombosis, embolism, or haemorrhage. ',\n",
       "  'in rare cases, a single large infarction may be the cause. ',\n",
       "  'f01.1  multi-infarct dementia this is more gradual in onset than the acute form, following a number of minor ischaemic episodes which produce an accumulation of infarcts in the cerebral parenchyma. ',\n",
       "  'includes: predominantly cortical dementia f01.2  subcortical vascular dementia there may be a history of hypertension and foci of ischaemic destruction in the deep white matter of the cerebral hemispheres, which can be suspected on clinical grounds and demonstrated on computerized axial tomography scans. ',\n",
       "  \"the cerebral cortex is usually preserved and this contrasts with the clinical picture, which may closely resemble that of dementia in alzheimer's disease. \",\n",
       "  '(where diffuse demyelination of white matter can be demonstrated, the term \"binswanger\\'s encephalopathy\" may be used.) f01.3  mixed cortical and subcortical vascular dementia mixed cortical and subcortical components of the vascular dementia may be suspected from the clinical features, the results of investigations (including autopsy), or both. ',\n",
       "  \"f01.8  other vascular dementia f01.9  vascular dementia, unspecified |gi£| dementia in other diseases classified elsewhere cases of dementia due, or presumed to be due, to causes other than alzheimer's disease or cerebrovascular disease. \",\n",
       "  'onset may be at any time in life, though rarely in old age. ',\n",
       "  '51 mental and behavioural disorders diagnostic guidelines presence of a dementia as described above; presence of features characteristic of one of the specified syndromes, as set out in the following categories. ',\n",
       "  \"f02.0  dementia in pick's disease a progressive dementia, commencing in middle life (usually between 50 and 60 years), characterized by slowly progressing changes of character and social deterioration, followed by impairment of intellect, memory, and language functions, with apathy, euphoria, and (occasionally) extrapyramidal phenomena. \",\n",
       "  'the neuropathological picture is one of selective atrophy of the frontal and temporal lobes, but without the occurrence of neuritic plaques and neurofibrillary tangles in excess of that seen in normal aging. ',\n",
       "  'cases with early onset tend to exhibit a more malignant course. ',\n",
       "  'the social and behavioural manifestations often precede frank memory impairment. ',\n",
       "  'diagnostic guidelines the following features are required for a definite diagnosis: ',\n",
       "  '(a) a progressive dementia; ',\n",
       "  '(b) a predominance of frontal lobe features with euphoria, emotional blunting, and coarsening of social behaviour, disinhibition, and either apathy or restlessness; ',\n",
       "  '(c) behavioural manifestations, which commonly precede frank memory impairment. ',\n",
       "  \"frontal lobe features are more marked than temporal and parietal, unlike alzheimer's disease. \",\n",
       "  'differential diagnosis. ',\n",
       "  \"consider: dementia in alzheimer's disease (f00); vascular dementia (f01); dementia secondary to other disorders such as neurosyphilis (f02.8); normal pressure hydrocephalus (characterized by extreme psychomotor slowing, and gait and sphincter disturbances) (g91.2); other neurological or metabolic disorders. \",\n",
       "  'f02.1  dementia in creutzfeldt jakob disease a progressive dementia with extensive neurological signs, due to specific neuropathological changes (subacute spongiform encephalopathy) that are presumed to be caused by a transmissible agent. ',\n",
       "  'onset is usually in middle or later life, typically in the fifth 52 f00-f09 organic mental disorders decade, but may be at any adult age. ',\n",
       "  'the course is subacute, leading to death within 1-2 years. ',\n",
       "  'diagnostic guidelines creutzfeldt jakob disease should be suspected in all cases of a dementia that progresses fairly rapidly over months to 1 or 2 years and that is accompanied or followed by multiple neurological symptoms. ',\n",
       "  'in some cases, such as the so-called amyotrophic form, the neurological signs may precede the onset of the dementia. ',\n",
       "  'there is usually a progressive spastic paralysis of the limbs, accompanied by extrapyramidal signs with tremor, rigidity, and choreoathetoid movements. ',\n",
       "  'other variants may include ataxia, visual failure, or muscle fibrillation and atrophy of the upper motor neuron type. ',\n",
       "  'the triad consisting of — rapidly progressing, devastating dementia, — pyramidal and extrapyramidal disease with myoclonus, and — a characteristic (triphasic) electroencephalogram is thought to be highly suggestive of this disease. ',\n",
       "  'differential diagnosis. ',\n",
       "  \"consider: alzheimer's disease (f00.-) or pick's disease (f02.0); parkinson's disease (f02.3); postencephalitic parkinsonism (g21.3). \",\n",
       "  'the rapid course and early motor involvement should suggest creutzfeldt jakob disease. ',\n",
       "  \"f02.2  dementia in huntington's disease a dementia occurring as part of a widespread degeneration of the brain. \",\n",
       "  \"huntington's disease is transmitted by a single autosomal dominant gene. \",\n",
       "  'symptoms typically emerge in the third and fourth decade, and the sex incidence is probably equal. ',\n",
       "  'in a proportion of cases, the earliest symptoms may be depression, anxiety, or frank paranoid illness, accompanied by a personality change. ',\n",
       "  'progression is slow, leading to death usually within 10 to 15 years. ',\n",
       "  \"diagnostic guidelines the association of choreiform movement disorder, dementia, and family history of huntington's disease is highly suggestive of the diagnosis, though sporadic cases undoubtedly occur. \",\n",
       "  '53 mental and behavioural disorders involuntary choreiform movements, typically of the face, hands, and shoulders, or in the gait, are early manifestations. ',\n",
       "  'they usually precede the dementia and only rarely remain absent until the dementia is very advanced. ',\n",
       "  'other motor phenomena may predominate when the onset is at an unusually young age (e.g. striatal rigidity) or at a late age (e.g. intention tremor). ',\n",
       "  'the dementia is characterized by the predominant involvement of frontal lobe functions in the early stage, with relative preservation of memory until later. ',\n",
       "  \"includes: dementia in huntington's chorea differential diagnosis. \",\n",
       "  \"consider: other cases of choreic movements; alzheimer's, pick's or creutzfeldt jakob disease (f00. , f02.0, f02.1). \",\n",
       "  \"f02.3  dementia in parkinson's disease a dementia developing in the course of established parkinson's disease (especially its severe forms). \",\n",
       "  'no particular distinguishing clinical features have yet been demonstrated. ',\n",
       "  \"the dementia may be different from that in either alzheimer's disease or vascular dementia; however, there is also evidence that it may be the manifestation of a cooccurrence of one of these conditions with parkinson's disease. \",\n",
       "  \"this justifies the identification of cases of parkinson's disease with dementia for research until the issue is resolved. \",\n",
       "  \"diagnostic guidelines dementia developing in an individual with advanced, usually severe, parkinson's disease. \",\n",
       "  'includes: dementia in paralysis agitans dementia in parkinsonism differential diagnosis. ',\n",
       "  'consider: other secondary dementias (f02.8); multi-infarct dementia (fol. 1) associated with hypertensive or diabetic vascular disease; brain tumour (c70 c72); normal pressure hydrocephalus (g91.2). ',\n",
       "  '54 f00-f09 organic mental disorders f02.4  dementia in human immunodeficiency virus [hiv] disease a disorder characterized by cognitive deficits meeting the clinical diagnostic criteria for dementia, in the absence of a concurrent illness or condition other than hiv infection that could explain the findings. ',\n",
       "  'hiv dementia typically presents with complaints of forgetfulness, slowness, poor concentration, and difficulties with problem-solving and reading. ',\n",
       "  'apathy, reduced spontaneity, and social withdrawal are common, and in a significant minority of affected individuals the illness may present atypically as an affective disorder, psychosis, or seizures. ',\n",
       "  'physical examination often reveals tremor, impaired rapid repetitive movements, imbalance, ataxia, hypertonia, generalized hyperreflexia, positive frontal release signs, and impaired pursuit and saccadic eye movements. ',\n",
       "  'children also develop an hiv-associated neurodevelopmental disorder characterized by developmental delay, hypertonia, microcephaly, and basal ganglia calcification. ',\n",
       "  'the neurological involvement most often occurs in the absence of opportunistic infections and neoplasms, which is not the case for adults. ',\n",
       "  'hiv dementia generally, but not invariably, progresses quickly (over weeks or months) to severe global dementia, mutism, and death. ',\n",
       "  'includes: aids dementia complex hiv encephalopathy or subacute encephalitis f02.8  dementia in other specified diseases classified elsewhere dementia can occur as a manifestation or consequence of a variety of cerebral and somatic conditions. ',\n",
       "  'to specify the etiology, the icd-10 code for the underlying condition should be added. ',\n",
       "  'parkinsonism dementia complex of guam should also be coded here (identified by a fifth character, if necessary). ',\n",
       "  'it is a rapidly progressing dementia followed by extrapyramidal dysfunction and, in some cases, amyotrophic lateral sclerosis. ',\n",
       "  'the disease was originally described on the island of guam where it occurs with high frequency in the indigenous population, affecting twice as many males as females; it is now known to occur also in papua new guinea and japan. ',\n",
       "  \"55 mental and behavioural disorders includes: dementia in: carbon monoxide poisoning (t58) cerebral lipidosis (e75.-) epilepsy (g40.-) general paralysis of the insane (a52.1) hepatolenticular degeneration (wilson's disease) (e83.0) hypercalcaemia (e83.5) hypothyroidism, acquired (e00. , e02) intoxications (t36 — t65) multiple sclerosis (g35) neurosyphilis (a52.1) niacin deficiency [pellagra] (e52) polyarteritis nodosa (m30.0) systemic lupus erythematosus (m32.-) trypanosomiasis (african b56.-, american b57.-) vitamin b12 deficiency (e53.8) | g £ ] unspecified dementia this category should be used when the general criteria for the diagnosis of dementia are satisfied, but when it is not possible to identify one of the specific types (f00.0-f02.9). \",\n",
       "  'includes: presenile or senile dementia nos presenile or senile psychosis nos primary degenerative dementia nos e 3  organic amnesic syndrome, not induced by alcohol and other psychoactive substances a syndrome of prominent impairment of recent and remote memory. ',\n",
       "  'while immediate recall is preserved, the ability to learn new material is markedly reduced and this results in anterograde amnesia and disorientation in time. ',\n",
       "  'retrograde amnesia of varying intensity is also present but its extent may lessen over time if the underlying lesion or pathological process has a tendency to recover. ',\n",
       "  'confabulation may be a marked feature but is not invariably present. ',\n",
       "  'perception and other cognitive functions, including the intellect, are usually intact and provide a background against which the memory distur56 f00-f09 organic mental disorders bance appears as particularly striking. ',\n",
       "  'the prognosis depends on the course of the underlying lesion (which typically affects the hypothalamic diencephalic system or the hippocampal region); almost complete recovery is, in principle, possible. ',\n",
       "  'diagnostic guidelines for a definitive diagnosis it is necessary to establish: ',\n",
       "  '(a) presence of a memory impairment manifest in a defect of recent memory (impaired learning of new material); anterograde and retrograde amnesia, and a reduced ability to recall past experiences in reverse order of their occurrence; ',\n",
       "  '(b) history or objective evidence of an insult to, or a disease of, the brain (especially with bilateral involvement of the diencephalic and medial temporal structures); ',\n",
       "  '(c) absence of a defect in immediate recall (as tested, for example, by the digit span), of disturbances of attention and consciousness, and of global intellectual impairment. ',\n",
       "  'confabulations, lack of insight, and emotional changes (apathy, lack of initiative) are additional, though not in every case necessary, pointers to the diagnosis. ',\n",
       "  \"includes: korsakov's syndrome or psychosis, nonalcoholic differential diagnosis. \",\n",
       "  'this disorder should be distinguished from other organic syndromes in which memory impairment is prominent (e.g. dementia or delirium), from dissociative amnesia (f44.0), from impaired memory function in depressive disorders (f30-f39), and from malingering presenting with a complaint of memory loss (z76.5). ',\n",
       "  \"korsakov's syndrome induced by alcohol or drugs should not be coded here but in the appropriate section (fix.6). \",\n",
       "  '1 2 3  delirium, not induced by alcohol and other psychoactive substances an etiologically nonspecific syndrome characterized by concurrent disturbances of consciousness and attention, perception, thinking, memory, psychomotor behaviour, emotion, and the sleep-wake cycle. ',\n",
       "  'it may occur at any age but is most common after the age of 60 years. ',\n",
       "  'the delirious state is transient and of fluctuating 57 mental and behavioural disorders intensity; most cases recover within 4 weeks or less. ',\n",
       "  'however, delirium lasting, with fluctuations, for up to 6 months is not uncommon, especially when arising in the course of chronic liver disease, carcinoma, or subacute bacterial endocarditis. ',\n",
       "  'the distinction that is sometimes made between acute and subacute delirium is of little clinical relevance; the condition should be seen as a unitary syndrome of variable duration and severity ranging from mild to very severe. ',\n",
       "  'a delirious state may be superimposed on, or progress into, dementia. ',\n",
       "  'this category should not be used for states of delirium associated with the use of psychoactive drugs specified in f10-f19. ',\n",
       "  'delirious states due to prescribed medication (such as acute confusional states in elderly patients due to antidepressants) should be coded here. ',\n",
       "  'in such cases, the medication concerned should also be recorded by means of an additional t code from chapter xix of icd-10. ',\n",
       "  'diagnostic guidelines for a definite diagnosis, symptoms, mild or severe, should be present in each one of the following areas: ',\n",
       "  '(a) impairment of consciousness and attention (on a continuum from clouding to coma; reduced ability to direct, focus, sustain, and shift attention); ',\n",
       "  '(b) global disturbance of cognition (perceptual distortions, illusions and hallucinations — most often visual; impairment of abstract thinking and comprehension, with or without transient delusions, but typically with some degree of incoherence; impairment of immediate recall and of recent memory but with relatively intact remote memory; disorientation for time as well as, in more severe cases, for place and person); ',\n",
       "  '(c) psychomotor disturbances (hypoor hyperactivity and unpredictable shifts from one to the other; increased reaction time; increased or decreased flow of speech; enhanced startle reaction); ',\n",
       "  '(d) disturbance of the sleep wake cycle (insomnia or, in severe cases, total sleep loss or reversal of the sleep-wake cycle; daytime drowsiness; nocturnal worsening of symptoms; disturbing dreams or nightmares, which may continue as hallucinations after awakening); ',\n",
       "  '(e) emotional disturbances, ',\n",
       "  'e.g. depression, anxiety or fear, irritability, euphoria, apathy, or wondering perplexity. ',\n",
       "  '58 f00-f09 organic mental disorders the onset is usually rapid, the course diurnally fluctuating, and the total duration of the condition less than 6 months. ',\n",
       "  'the above clinical picture is so characteristic that a fairly confident diagnosis of delirium can be made even if the underlying cause is not clearly established. ',\n",
       "  'in addition to a history of an underlying physical or brain disease, evidence of cerebral dysfunction (e.g. an abnormal electroencephalogram, usually but not invariably showing a slowing of the background activity) may be required if the diagnosis is in doubt. ',\n",
       "  'includes: acute brain syndrome acute confusional state (nonalcoholic) acute infective psychosis acute organic reaction acute psycho-organic syndrome differential diagnosis. ',\n",
       "  'delirium should be distinguished from other organic syndromes, especially dementia (f00-f03), from acute and transient psychotic disorders (f23.-), and from acute states in schizophrenia (f20. ) or mood [affective] disorders (f30-f39) in which confusional features may be present. ',\n",
       "  'delirium, induced by alcohol and other psychoactive substances, should be coded in the appropriate section (flx.4). ',\n",
       "  'f05.0  delirium, not superimposed on dementia, so described this code should be used for delirium that is not superimposed upon pre-existing dementia. ',\n",
       "  'f05.1  delirium, superimposed on dementia this code should be used for conditions meeting the above criteria but developing in the course of a dementia (f00-f03). ',\n",
       "  \"f05.8  other delirium includes: delirium of mixed origin subacute confusional state or delirium f05.9  delirium, unspecified 59 mental and behavioural disorders •at  in  other mental disorders due to brain damage and dysfunction and to physical disease this category includes miscellaneous conditions causally related to brain dysfunction due to primary cerebral disease, to systemic disease affecting the brain secondarily, to endocrine disorders such as cushing's syndrome or other somatic illnesses, and to some exogenous toxic substances (but excluding alcohol and drugs classified under f10-f19) or hormones. \",\n",
       "  'these conditions have in common clinical features that do not by themselves allow a presumptive diagnosis of an organic mental disorder, such as dementia or delirium. ',\n",
       "  'rather, the clinical manifestations resemble, or are identical with, those of disorders not regarded as \"organic\" in the specific sense restricted to this block of the classification. ',\n",
       "  'their inclusion here is based on the hypothesis that they are directly caused by cerebral disease or dysfunction rather than resulting from either a fortuitous association with such disease or dysfunction, or a psychological reaction to its symptoms, such as schizophrenia-like disorders associated with long-standing epilepsy. ',\n",
       "  'the decision to classify a clinical syndrome here is supported by the following: ',\n",
       "  '(a) evidence of cerebral disease, damage or dysfunction, or of systemic physical disease, known to be associated with one of the listed syndromes; ',\n",
       "  '(b) a temporal relationship (weeks or a few months) between the development of the underlying disease and the onset of the mental syndrome; ',\n",
       "  '(c) recovery from the mental disorder following removal or improvement of the underlying presumed cause; ',\n",
       "  '(d) absence of evidence to suggest an alternative cause of the mental syndrome (such as a strong family history or precipitating stress). ',\n",
       "  'conditions ',\n",
       "  '(a) and ',\n",
       "  '(b) justify a provisional diagnosis; if all four are present, the certainty of diagnostic classification is significantly increased. ',\n",
       "  \"the following are among the conditions known to increase the relative risk for the syndromes classified here: epilepsy; limbic encephalitis; huntington's disease; head trauma; brain neoplasms; extracranial neoplasms with remote cns effects (especially carcinoma of the 60 f00-f09 organic mental disorders pancreas); vascular cerebral disease, lesions, or malformations; lupus erythematosus and other collagen diseases; endocrine disease (especially hypoand hyperthyroidism, cushing's disease); metabolic disorders (e.g. hypoglycaemia, porphyria, hypoxia); tropical infectious and parasitic diseases (e.g. trypanosomiasis); toxic effects of nonpsychotropic drugs (propranolol, levodopa, methyldopa, steroids, antihypertensives, antimalarials). \",\n",
       "  'excludes: mental disorders associated with delirium (f05.-) mental disorders associated with dementia as classified in f00-f03 f06.0  organic hallucinosis a disorder of persistent or recurrent hallucinations, usually visual or auditory, that occur in clear consciousness and may or may not be recognized by the subject as such. ',\n",
       "  'delusional elaboration of the hallucinations may occur, but insight is not infrequently preserved. ',\n",
       "  'diagnostic guidelines in addition to the general criteria in the introduction to f06 above, there should be evidence of persistent or recurrent hallucinations in any modality; no clouding of consciousness; no significant intellectual decline; no predominant disturbance of mood; and no predominance of delusions. ',\n",
       "  'includes: dermatozoenwahn organic hallucinatory state (nonalcoholic) excludes: alcoholic hallucinosis (f10.52) schizophrenia (f20. ) f06.1  organic catatonic disorder a disorder of diminished (stupor) or increased (excitement) psychomotor activity associated with catatonic symptoms. ',\n",
       "  'the extremes of psychomotor disturbance may alternate. ',\n",
       "  'it is not known whether the full range of catatonic disturbances described in schizophrenia occurs in such organic states, nor has it been conclusively determined whether an organic catatonic state may occur in clear consciousness or whether it is always a manifestation of delirium, with subsequent partial or total amnesia. ',\n",
       "  'this calls for caution in making this diagnosis and for a careful delimitation of 61 mental and behavioural disorders the condition from delirium. ',\n",
       "  'encephalitis and carbon monoxide poisoning are presumed to be associated with this syndrome more often than other organic causes. ',\n",
       "  'diagnostic guidelines the general criteria for assuming organic etiology, laid down in the introduction to f06, must be met. ',\n",
       "  'in addition, there should be one of the following: ',\n",
       "  '(a) stupor (diminution or complete absence of spontaneous movement with partial or complete mutism, negativism, and rigid posturing); ',\n",
       "  '(b) excitement (gross hypermotility with or without a tendency to assaultiveness); ',\n",
       "  '(c) both (shifting rapidly and unpredictably from hypoto hyperactivity). ',\n",
       "  'other catatonic phenomena that increase confidence in the diagnosis are: stereotypies, waxy flexibility, and impulsive acts. ',\n",
       "  'excludes: catatonic schizophrenia (20.2) dissociative stupor (f44.2) stupor nos (r40.1) f06.2  organic delusional [schizophrenia-like] disorder a disorder in which persistent or recurrent delusions dominate the clinical picture. ',\n",
       "  'the delusions may be accompanied by hallucinations but are not confined to their content. ',\n",
       "  'features suggestive of schizophrenia, such as bizarre delusions, hallucinations, or thought disorder, may also be present. ',\n",
       "  'diagnostic guidelines the general criteria for assuming an organic etiology, laid down in the introduction to f06, must be met. ',\n",
       "  'in addition, there should be delusions (persecutory, of bodily change, jealousy, disease, or death of the subject or another person). ',\n",
       "  'hallucinations, thought disorder, or isolated catatonic phenomena may be present. ',\n",
       "  'consciousness and memory must not be affected. ',\n",
       "  'this diagnosis should not be made if the presumed evidence of organic causation is nonspecific or limited to findings such as enlarged cerebral ventricles (visualized on computerized axial tomography) or \"soft\" neurological signs. ',\n",
       "  '62 f00-f09 organic mental disorders includes: paranoid and paranoid-hallucinatory organic states schizophrenia-like psychosis in epilepsy excludes: acute and transient psychotic disorders (f23.-) drug-induced psychotic disorders (fix.5) persistent delusional disorder (f22.-) schizophrenia (f20. ) f06.3  organic mood [affective] disorders disorders characterized by a change in mood or affect, usually accompanied by a change in the overall level of activity. ',\n",
       "  'the only criterion for inclusion of these disorders in this block is their presumed direct causation by a cerebral or other physical disorder whose presence must either be demonstrated independently (e.g. by means of appropriate physical and laboratory investigations) or assumed on the basis of adequate history information. ',\n",
       "  \"the affective disorder must follow the presumed organic factor and be judged not to represent an emotional response to the patient's knowledge of having, or having the symptoms of, a concurrent brain disorder. \",\n",
       "  'postinfective depression (e.g. following influenza) is a common example and should be coded here. ',\n",
       "  'persistent mild euphoria not amounting to hypomania (which is sometimes seen, for instance, in association with steroid therapy or antidepressants) should not be coded here but under f06.8. ',\n",
       "  'diagnostic guidelines in addition to the general criteria for assuming organic etiology, laid down in the introduction to f06, the condition must meet the requirements for a diagnosis of one of the disorders listed under f3o-f33. ',\n",
       "  'excludes: mood [affective] disorders, nonorganic or unspecified (f30-f39) right hemispheric affective disorder (f07.8) the following five-character codes might be used to specify the clinical disorder: f06.30 organic manic disorder f06.31 organic bipolar affective disorder 63 mental and behavioural disorders f06.32 organic depressive disorder f06.33 organic mixed affective disorder f06.4  organic anxiety disorder a disorder characterized by the essential descriptive features of a generalized anxiety disorder (f41.1), a panic disorder (f41.0), or a combination of both, but arising as a consequence of an organic disorder capable of causing cerebral dysfunction (e.g. temporal lobe epilepsy, thyrotoxicosis, or phaechromocytoma). ',\n",
       "  'excludes: anxiety disorders, nonorganic or unspecified (f41.-) f06.5  organic dissociative disorder a disorder that meets the requirements for one of the disorders in f44. ',\n",
       "  '(dissociative [conversion] disorder) and for which the general criteria for organic etiology are also fulfilled (as described in the introduction to this block). ',\n",
       "  'excludes: dissociative [conversion] disorders, nonorganic or unspecified (f44.-) f06.6  organic emotionally labile [asthenic] disorder a disorder characterized by marked and persistent emotional incontinence or lability, fatiguability, or a variety of unpleasant physical sensations (e.g. dizziness) and pains regarded as being due to the presence of an organic disorder. ',\n",
       "  'this disorder is thought to occur in association with cerebrovascular disease or hypertension more often than with other causes. ',\n",
       "  'excludes: somatoform disorders, nonorganic or unspecified (f45. ) f06.7  mild cognitive disorder this disorder may precede, accompany, or follow a wide variety of infections and physical disorders, both cerebral and systemic (including hiv infection). ',\n",
       "  'direct neurological evidence of cerebral involvement is not necessarily present, but there may nevertheless be distress and interference with usual activities. ',\n",
       "  'the boundaries of this category are still to be firmly established. ',\n",
       "  'when associated with a physical disorder from which the patient recovers, mild cognitive disorder does not last for more than a few additional weeks. ',\n",
       "  'this diagnosis should not be made if the condition is clearly attributable 64 f00-f09 organic mental disorders to a mental or behavioural disorder classified in any of the remaining blocks in this book. ',\n",
       "  'diagnostic guidelines the main feature is a decline in cognitive performance. ',\n",
       "  'this may include memory impairment, learning or concentration difficulties. ',\n",
       "  'objective tests usually indicate abnormality. ',\n",
       "  'the symptoms are such that a diagnosis of dementia (f00-f03), organic amnesic syndrome (f04) or delirium (f05.-) cannot be made. ',\n",
       "  'differential diagnosis. ',\n",
       "  'the disorder can be differentiated from postencephalitic syndrome (f07.1) and postconcussional syndrome (f07.2) by its different etiology, more restricted range of generally milder symptoms, and usually shorter duration. ',\n",
       "  'f06.8  other specified mental disorders due to brain damage and dysfunction and to physical disease examples are abnormal mood states occurring during treatment with steroids or antidepressants. ',\n",
       "  'includes: epileptic psychosis nos f06.9  unspecified mental disorder due to brain damage and dysfunction and to physical disease igifjfl personality and behavioural disorders due to brain disease, damage and dysfunction alteration of personality and behaviour can be a residual or concomitant disorder of brain disease, damage, or dysfunction. ',\n",
       "  'in some instances, differences in the manifestation of such residual or concomitant personality and behavioural syndromes may be suggestive of the type and/or localization of the intracerebral problem, but the reliability of this kind of diagnostic inference should not be overestimated. ',\n",
       "  'thus the underlying etiology should always be sought by independent means and, if known, recorded. ',\n",
       "  '65 mental and behavioural disorders f07.0  organic personality disorder this disorder is characterized by a significant alteration of the habitual patterns of premorbid behaviour. ',\n",
       "  'the expression of emotions, needs, and impulses is particularly affected. ',\n",
       "  'cognitive functions may be defective mainly or even exclusively in the areas of planning and anticipating the likely personal and social consequences, as in the so-called frontal lobe syndrome. ',\n",
       "  'however, it is now known that this syndrome occurs not only with frontal lobe lesions but also with lesions to other circumscribed areas of the brain. ',\n",
       "  'diagnostic guidelines in addition to an established history or other evidence of brain disease, damage, or dysfunction, a definitive diagnosis requires the presence of two or more of the following features: ',\n",
       "  '(a) consistently reduced ability to persevere with goal-directed activities, especially those involving longer periods of time and postponed gratification; ',\n",
       "  '(b) altered emotional behaviour, characterized by emotional lability, shallow and unwarranted cheerfulness (euphoria, inappropriate jocularity), and easy change to irritability or short-lived outbursts of anger and aggression; in some instances apathy may be a more prominent feature; ',\n",
       "  '(c) expression of needs and impulses without consideration of consequences or social convention (the patient may engage in dissocial acts, such as stealing, inappropriate sexual advances, or voracious eating, or may exhibit disregard for personal hygiene); ',\n",
       "  '(d) cognitive disturbances, in the form of suspiciousness or paranoid ideation, and/or excessive preoccupation with a single, usually abstract, theme (e.g. religion, \"right\" and \"wrong\"); ',\n",
       "  '(e) marked alteration of the rate and flow of language production, with features such as circumstantiality, over-inclusiveness, viscosity, and hypergraphia; ',\n",
       "  '(f) altered sexual behaviour (hyposexuality or change of sexual preference). ',\n",
       "  'includes: frontal lobe syndrome limbic epilepsy personality syndrome lobotomy syndrome organic pseudopsychopathic personality organic pseudoretarded personality postleucotomy syndrome 66 f00-f09 organic mental disorders excludes: enduring personality change after catastrophic experience (f62.0) enduring personality change after psychiatric illness (f62.1) postconcussional syndrome (f07.2) postencephalitic syndrome (f07.1) specific personality disorder (f60.-) f07.1  postencephalitic syndrome the syndrome includes residual behavioural change following recovery from either viral or bacterial encephalitis. ',\n",
       "  'symptoms are nonspecific and vary from individual to individual, from one infectious agent to another, and, most consistently, with the age of the individual at the time of infection. ',\n",
       "  'the principal difference between this disorder and the organic personality disorders is that it is often reversible. ',\n",
       "  'diagnostic guidelines the manifestations may include general malaise, apathy or irritability, some lowering of cognitive functioning (learning difficulties), altered sleep and eating patterns, and changes in sexuality and in social judgement. ',\n",
       "  'there may be a variety of residual neurological dysfunctions such as paralysis, deafness, aphasia, constructional apraxia, and acalculia. ',\n",
       "  'excludes: organic personality disorder (f07.0) f07.2  postconcussional syndrome the syndrome occurs following head trauma (usually sufficiently severe to result in loss of consciousness) and includes a number of disparate symptoms such as headache, dizziness (usually lacking the features of true vertigo), fatigue, irritability, difficulty in concentrating and performing mental tasks, impairment of memory, insomnia, and reduced tolerance to stress, emotional excitement, or alcohol. ',\n",
       "  'these symptoms may be accompanied by feelings of depression or anxiety, resulting from some loss of self-esteem and fear of permanent brain damage. ',\n",
       "  'such feelings enhance the original symptoms and a vicious circle results. ',\n",
       "  'some patients become hypochondriacal, embark on a search for diagnosis and cure, and may adopt a permanent sick role. ',\n",
       "  'the etiology of these symptoms is not always clear, and both organic and psychological factors have been proposed to account for them. ',\n",
       "  'the nosological status of this condition is thus somewhat uncertain. ',\n",
       "  'there is little doubt, however, that this syndrome is common and distressing to the patient. ',\n",
       "  '67 mental and behavioural disorders diagnostic guidelines at least three of the features described above should be present for a definite diagnosis. ',\n",
       "  'careful evaluation with laboratory techniques (electroencephalography, brain stem evoked potentials, brain imaging, oculonystagmography) may yield objective evidence to substantiate the symptoms but results are often negative. ',\n",
       "  'the complaints are not necessarily associated with compensation motives. ',\n",
       "  'includes: postcontusional syndrome (encephalopathy) post-traumatic brain syndrome, nonpsychotic f07.8  other organic personality and behavioural disorders due to brain disease, damage and dysfunction brain disease, damage, or dysfunction may produce a variety of cognitive, emotional, personality, and behavioural disorders, not all of which are classifiable under the preceding rubrics. ',\n",
       "  'however, since the nosological status of the tentative syndromes in this area is uncertain, they should be coded as \"other\". ',\n",
       "  'a fifth character may be added, if necessary, to identify presumptive individual entities such as: right hemispheric organic affective disorder (changes in the ability to express or comprehend emotion in individuals with right hemisphere disorder). ',\n",
       "  'although the patient may superficially appear to be depressed, depression is not usually present: it is the expression of emotion that is restricted. ',\n",
       "  'also code here: ',\n",
       "  '(a) any other specified but presumptive syndromes of personality or behavioural change due to brain disease, damage, or dysfunction other than those listed under f07.0-f07.2; and ',\n",
       "  \"(b) conditions with mild degrees of cognitive impairment not yet amounting to dementia in progressive mental disorders such as alzheimer's disease, parkinson's disease, etc. the diagnosis should be changed when the criteria for dementia are fulfilled. \",\n",
       "  'excludes: delirium (f05.-) 68 f00-f09 organic mental disorders f07.9  unspecified organic personality and behavioural disorder due to brain disease, damage and dysfunction includes: organic psychosyndrome • a m  unspecified organic or symptomatic mental disorder this category should only be used for recording mental disorders of known organic etiology. ',\n",
       "  'includes: organic psychosis nos symptomatic psychosis nos excludes: psychosis nos (f29) 69 mental and behavioural disorders f10-f19 mental and behavioural disorders due to psychoactive substance use overview of this block f10. ',\n",
       "  'mental and behavioural disorders due to use of alcohol f l l . ',\n",
       "  'mental and behavioural disorders due to use of opioids f12. ',\n",
       "  'mental and behavioural disorders due to use of cannabinoids f13. ',\n",
       "  'mental and behavioural disorders due to use of sedatives or hypnotics f14. ',\n",
       "  '— mental and behavioural disorders due to use of cocaine f15.mental and behavioural disorders due to use of other stimulants, including caffeine f16. ',\n",
       "  'mental and behavioural disorders due to use of hallucinogens f17. ',\n",
       "  'mental and behavioural disorders due to use of tobacco f18. ',\n",
       "  'mental and behavioural disorders due to use of volatile solvents f19. ',\n",
       "  'mental and behavioural disorders due to multiple drug use and use of other psychoactive substances fourand five-character codes may be used to specify the clinical conditions, as follows: flx.o acute intoxication .00 uncomplicated .01 with trauma or other bodily injury .02 with other medical complications .03 with delirium .04 with perceptual distortions .05 with coma .06 with convulsions .07 pathological intoxication flx.l harmful use fix.2 dependence syndrome .20 currently abstinent .21 currently abstinent, but in a protected environment .22 currently on a clinically supervised maintenance or replacement regime [controlled dependence] 70 f10-f19 disorders due to psychoactive substance use .23 currently abstinent, but receiving treatment with aversive or blocking drugs .24 currently using the substance [active dependence] .25 continuous use .26 episodic use [dipsomania] fix.3 withdrawal state .30 uncomplicated .31 with convulsions flx.4 withdrawal state with delirium .40 without convulsions .41 with convulsions fix.5 psychotic disorder .50 schizophrenia-like .51 predominantly delusional .52 predominantly hallucinatory .53 predominantly polymorphic .54 predominantly depressive symptoms .55 predominantly manic symptoms .56 mixed fix.6 amnesic syndrome flx.7 residual and late-onset psychotic disorder .70 flashbacks .71 personality or behaviour disorder .72 residual affective disorder .73 dementia .74 other persisting cognitive impairment .75 late-onset psychotic disorder fix.8 other mental and behavioural disorders fix.9 unspecified mental and behavioural disorder 71 mental and behavioural disorders introduction this block contains a wide variety of disorders that differ in severity (from uncomplicated intoxication and harmful use to obvious psychotic disorders and dementia), but that are all attributable to the use of one or more psychoactive substances (which may or may not have been medically prescribed). ',\n",
       "  'the substance involved is indicated by means of the second and third characters (i.e. the first two digits after the letter ',\n",
       "  'f), and the fourth and fifth characters specify the clinical states. ',\n",
       "  'to save space, all the psychoactive substances are listed first, followed by the four-character codes; these should be used, as required, for each substance specified, but it should be noted that not all fourcharacter codes are applicable to all substances. ',\n",
       "  \"diagnostic guidelines identification of the psychoactive substance used may be made on the basis of self-report data, objective analysis of specimens of urine, blood, etc., or other evidence (presence of drug samples in the patient's possession, clinical signs and symptoms, or reports from informed third parties). \",\n",
       "  'it is always advisable to seek corroboration from more than one source of evidence relating to substance use. ',\n",
       "  'objective analyses provide the most compelling evidence of present or recent use, though these data have limitations with regard to past use and current levels of use. ',\n",
       "  'many drug users take more than one type of drug, but the diagnosis of the disorder should be classified, whenever possible, according to the most important single substance (or class of substances) used. ',\n",
       "  'this may usually be done with regard to the particular drug, or type of drug, causing the presenting disorder. ',\n",
       "  'when in doubt, code the drug or type of drug most frequently misused, particularly in those cases involving continuous or daily use. ',\n",
       "  'only in cases in which patterns of psychoactive substance taking are chaotic and indiscriminate, or in which the contributions of different drugs are inextricably mixed, should code f19. ',\n",
       "  'be used (disorders resulting from multiple drug use). ',\n",
       "  'misuse of other than psychoactive substances, such as laxatives or aspirin, should be coded by means of f55.(abuse of non-dependence-producing substances), with a fourth character to specify the type of substance involved. ',\n",
       "  '72 f10-f19 disorders due to psychoactive substance use cases in which mental disorders (particularly delirium in the elderly) are due to psychoactive substances, but without the presence of one of the disorders in this block (e.g. harmful use or dependence syndrome), should be coded in f00-f09. ',\n",
       "  'where a state of delirium is superimposed upon such a disorder in this block, it should be coded by means of f1jc.3 or flx.4. ',\n",
       "  'the level of alcohol involvement can be indicated by means of a supplementary code from chapter xx of icd-10: y90. ',\n",
       "  '(evidence of alcohol involvement determined by blood alcohol content) or y91.(evidence of alcohol involvement determined by level of intoxication). ',\n",
       "  'f1a\\\\0  acute intoxication a transient condition following the administration of alcohol or other psychoactive substance, resulting in disturbances in level of consciousness, cognition, perception, affect or behaviour, or other psychophysiological functions and responses. ',\n",
       "  'this should be a main diagnosis only in cases where intoxication occurs without more persistent alcoholor drug-related problems being concomitantly present. ',\n",
       "  'where there are such problems, precedence should be given to diagnoses of harmful use (flx.l), dependence syndrome (flx.2), or psychotic disorder (flx.5). ',\n",
       "  'diagnostic guidelines acute intoxication is usually closely related to dose levels (see icd-10, chapter xx). ',\n",
       "  'exceptions to this may occur in individuals with certain underlying organic conditions (e.g. renal or hepatic insufficiency) in whom small doses of a substance may produce a disproportionately severe intoxicating effect. ',\n",
       "  'disinhibition due to social context should also be taken into account (e.g. behavioural disinhibition at parties or carnivals). ',\n",
       "  'acute intoxication is a transient phenomenon. ',\n",
       "  'intensity of intoxication lessens with time, and effects eventually disappear in the absence of further use of the substance. ',\n",
       "  'recovery is therefore complete except where tissue damage or another complication has arisen. ',\n",
       "  'symptoms of intoxication need not always reflect primary actions of the substance: for instance, depressant drugs may lead to symptoms of agitation or hyperactivity, and stimulant drugs may lead to socially withdrawn and introverted behaviour. ',\n",
       "  'effects of substances such as cannabis and hallucinogens may be particularly 73 mental and behavioural disorders unpredictable. ',\n",
       "  'moreover, many psychoactive substances are capable of producing different types of effect at different dose levels. ',\n",
       "  'for example, alcohol may have apparently stimulant effects on behaviour at lower dose levels, lead to agitation and aggression with increasing dose levels, and produce clear sedation at very high levels. ',\n",
       "  'includes: acute drunkenness in alcoholism \"bad trips\" ',\n",
       "  '(due to hallucinogenic drugs) ',\n",
       "  'drunkenness nos differential diagnosis. ',\n",
       "  'consider acute head injury and hypoglycaemia. ',\n",
       "  'consider also the possibilities of intoxication as the result of mixed substance use. ',\n",
       "  'the following five-character codes may be used to indicate whether the acute intoxication was associated with any complications: f1a\\\\00 uncomplicated symptoms of varying severity, usually dose-dependent, particularly at high dose levels. ',\n",
       "  'f1a\\\\01 with trauma or other bodily injury f1a\\\\02 with other medical complications complications such as haematemesis, inhalation of vomitus. ',\n",
       "  'fix.03 with delirium f1x.o4 with perceptual distortions f1;r.o5 with coma f1a\\\\06 with convulsions f1x.o7 pathological intoxication applies only to alcohol. ',\n",
       "  'sudden onset of aggression and often violent behaviour that is not typical of the individual when sober, very soon after drinking amounts of alcohol that would not produce intoxication in most people. ',\n",
       "  'f1x.1  harmful use a pattern of psychoactive substance use that is causing damage to health. ',\n",
       "  'the damage may be physical ',\n",
       "  '(as in cases of hepatitis from 74 f10-f19 disorders due to psychoactive substance use the self-administration of injected drugs) ',\n",
       "  'or mental ',\n",
       "  '(e.g. episodes of depressive disorder secondary to heavy consumption of alcohol). ',\n",
       "  'diagnostic guidelines the diagnosis requires that actual damage should have been caused to the mental or physical health of the user. ',\n",
       "  'harmful patterns of use are often criticized by others and frequently associated with adverse social consequences of various kinds. ',\n",
       "  'the fact that a pattern of use or a particular substance is disapproved of by another person or by the culture, or may have led to socially negative consequences such as arrest or marital arguments is not in itself evidence of harmful use. ',\n",
       "  'acute intoxication ',\n",
       "  '(see flx.o), or \"hangover\" is not in itself sufficient evidence of the damage to health required for coding harmful use. ',\n",
       "  'harmful use should not be diagnosed if dependence syndrome ',\n",
       "  '(flx.2), a psychotic disorder ',\n",
       "  '(fix.5), or another specific form of drugor alcohol-related disorder is present. ',\n",
       "  'f1a\\\\2  dependence syndrome a cluster of physiological, behavioural, and cognitive phenomena in which the use of a substance or a class of substances takes on a much higher priority for a given individual than other behaviours that once had greater value. ',\n",
       "  'a central descriptive characteristic of the dependence syndrome is the desire ',\n",
       "  '(often strong, sometimes overpowering) ',\n",
       "  'to take psychoactive drugs ',\n",
       "  '(which may or may not have been medically prescribed), alcohol, or tobacco. ',\n",
       "  'there may be evidence that return to substance use after a period of abstinence leads to a more rapid reappearance of other features of the syndrome than occurs with nondependent individuals. ',\n",
       "  'diagnostic guidelines a definite diagnosis of dependence should usually be made only if three or more of the following have been present together at some time during the previous year: ',\n",
       "  '(a) ',\n",
       "  'a strong desire or sense of compulsion to take the substance; ',\n",
       "  '(b) ',\n",
       "  'difficulties in controlling substance-taking behaviour in terms of its onset, termination, or levels of use; 75 mental and behavioural disorders ',\n",
       "  '(c) ',\n",
       "  'a physiological withdrawal state ',\n",
       "  '(see fix. ',\n",
       "  '3 and fix ',\n",
       "  'a) ',\n",
       "  'when substance use has ceased or been reduced, as evidenced by: the characteristic withdrawal syndrome for the substance; or use of the same ',\n",
       "  '(or a closely related) ',\n",
       "  'substance with the intention of relieving or avoiding withdrawal symptoms; ',\n",
       "  '(d) ',\n",
       "  'evidence of tolerance, such that increased doses of the psychoactive substance are required in order to achieve effects originally produced by lower doses ',\n",
       "  '(clear examples of this are found in alcoholand opiate-dependent individuals who may take daily doses sufficient to incapacitate or kill nontolerant users); ',\n",
       "  '(e) ',\n",
       "  'progressive neglect of alternative pleasures or interests because of psychoactive substance use, increased amount of time necessary to obtain or take the substance or to recover from its effects; ',\n",
       "  '(f) ',\n",
       "  'persisting with substance use despite clear evidence of overtly harmful consequences, such as harm to the liver through excessive drinking, depressive mood states consequent to periods of heavy substance use, or drug-related impairment of cognitive functioning; efforts should be made to determine that the user was actually, or could be expected to be, aware of the nature and extent of the harm. ',\n",
       "  'narrowing of the personal repertoire of patterns of psychoactive substance use has also been described as a characteristic feature ',\n",
       "  '(e.g. a tendency to drink alcoholic drinks in the same way on weekdays and weekends, regardless of social constraints that determine appropriate drinking behaviour). ',\n",
       "  'it is an essential characteristic of the dependence syndrome that either psychoactive substance taking or a desire to take a particular substance should be present; the subjective awareness of compulsion to use drugs is most commonly seen during attempts to stop or control substance use. ',\n",
       "  'this diagnostic requirement would exclude, for instance, surgical patients given opioid drugs for the relief of pain, who may show signs of an opioid withdrawal state when drugs are not given but who have no desire to continue taking drugs. ',\n",
       "  'the dependence syndrome may be present for a specific substance ',\n",
       "  '(e.g. tobacco or diazepam), for a class of substances ',\n",
       "  '(e.g. opioid drugs), or for a wider range of different substances ',\n",
       "  '(as for those individuals who feel a sense of compulsion regularly to use whatever drugs are available and who show distress, agitation, and/or physical signs of a withdrawal state upon abstinence). ',\n",
       "  '76 f10-f19 disorders due to psychoactive substance use includes: chronic alcoholism dipsomania drug addiction the diagnosis of the dependence syndrome may be further specified by the following five-character codes: f1x.2o currently abstinent f1x.21 currently abstinent, but in a protected environment ',\n",
       "  '(e.g. in hospital, in a therapeutic community, in prison, etc.) ',\n",
       "  'f1x.22 currently on a clinically supervised maintenance or replacement regime [controlled dependence] ',\n",
       "  '(e.g. with methadone; nicotine gum or nicotine patch) ',\n",
       "  'f1x.23 currently abstinent, but receiving treatment with aversive or blocking drugs ',\n",
       "  '(e.g. naltrexone or disulfiram) ',\n",
       "  'f1x.24 currently using the substance [active dependence] f1x.25 continuous use f1x.26 episodic use [dipsomania] f1x.3  withdrawal state a group of symptoms of variable clustering and severity occurring on absolute or relative withdrawal of a substance after repeated, and usually prolonged and/or high-dose, use of that substance. ',\n",
       "  'onset and course of the withdrawal state are time-limited and are related to the type of substance and the dose being used immediately before abstinence. ',\n",
       "  'the withdrawal state may be complicated by convulsions. ',\n",
       "  'diagnostic guidelines withdrawal state is one of the indicators of dependence syndrome ',\n",
       "  '(see fix.2) ',\n",
       "  'and this latter diagnosis should also be considered. ',\n",
       "  'withdrawal state should be coded as the main diagnosis if it is the reason for referral and sufficiently severe to require medical attention in its own right. ',\n",
       "  '77 mental and behavioural disorders physical symptoms vary according to the substance being used. ',\n",
       "  'psychological disturbances ',\n",
       "  '(e.g. anxiety, depression, and sleep disorders) ',\n",
       "  'are also common features of withdrawal. ',\n",
       "  'typically, the patient is likely to report that withdrawal symptoms are relieved by further substance use. ',\n",
       "  'it should be remembered that withdrawal symptoms can be induced by conditioned/learned stimuli in the absence of immediately preceding substance use. ',\n",
       "  'in such cases a diagnosis of withdrawal state should be made only if it is warranted in terms of severity. ',\n",
       "  'differential diagnosis. ',\n",
       "  'many symptoms present in drug withdrawal state may also be caused by other psychiatric conditions, ',\n",
       "  'e.g. anxiety states and depressive disorders. ',\n",
       "  'simple \"hangover\" or tremor due to other conditions should not be confused with the symptoms of a withdrawal state. ',\n",
       "  'the diagnosis of withdrawal state may be further specified by using the following five-character codes: f1x.3o uncomplicated f1x.31 with convulsions f1a\\\\4  withdrawal state with delirium a condition in which the withdrawal state ',\n",
       "  '(see fix.3) ',\n",
       "  'is complicated by delirium ',\n",
       "  '(see criteria for f05.-). ',\n",
       "  'alcohol-induced delirium tremens should be coded here. ',\n",
       "  'delirium tremens is a short-lived, but occasionally life-threatening, toxicconfusional state with accompanying somatic disturbances. ',\n",
       "  'it is usually a consequence of absolute or relative withdrawal of alcohol in severely dependent users with a long history of use. ',\n",
       "  'onset usually occurs after withdrawal of alcohol. ',\n",
       "  'in some cases the disorder appears during an episode of heavy drinking, in which case it should be coded here. ',\n",
       "  'prodromal symptoms typically include insomnia, tremulousness, and fear. ',\n",
       "  'onset may also be preceded by withdrawal convulsions. ',\n",
       "  'the classical triad of symptoms includes clouding of consciousness and confusion, vivid hallucinations and illusions affecting any sensory 78 f10-f19 disorders due to psychoactive substance use modality, and marked tremor. ',\n",
       "  'delusions, agitation, insomnia or sleepcycle reversal, and autonomic over  activity are usually also present. ',\n",
       "  'excludes: delirium, not induced by drugs and alcohol ',\n",
       "  '(f05.-) ',\n",
       "  'the diagnosis of withdrawal state with delirium may be further specified by using the following five-character codes: fix.40 without convulsions f1a\\\\41 with convulsions fix.5  psychotic disorder a cluster of psychotic phenomena that occur during or immediately after psychoactive substance use and are characterized by vivid hallucinations ',\n",
       "  '(typically auditory, but often in more than one sensory modality), misidentifications, delusions and/or ideas of reference ',\n",
       "  '(often of a paranoid or persecutory nature), psychomotor disturbances ',\n",
       "  '(excitement or stupor), and an abnormal affect, which may range from intense fear to ecstasy. ',\n",
       "  'the sensorium is usually clear but some degree of clouding of consciousness, though not severe confusion, may be present. ',\n",
       "  'the disorder typically resolves at least partially within 1 month and fully within 6 months. ',\n",
       "  'diagnostic guidelines a psychotic disorder occurring during or immediately after drug use ',\n",
       "  '(usually within 48 hours) ',\n",
       "  'should be recorded here provided that it is not a manifestation of drug withdrawal state with delirium ',\n",
       "  '(see fix.4) ',\n",
       "  'or of late onset. ',\n",
       "  'late-onset psychotic disorders ',\n",
       "  '(with onset more than 2 weeks after substance use) ',\n",
       "  'may occur, but should be coded as flx.75. ',\n",
       "  'psychoactive substance-induced psychotic disorders may present with varying patterns of symptoms. ',\n",
       "  'these variations will be influenced by the type of substance involved and the personality of the user. ',\n",
       "  'for stimulant drugs such as cocaine and amfetamines, drug-induced psychotic disorders are generally closely related to high dose levels and/or prolonged use of the substance. ',\n",
       "  'a diagnosis of a psychotic disorder should not be made merely on the basis of perceptual distortions or hallucinatory experiences when substances having primary hallucinogenic effects ',\n",
       "  '(e.g. lysergide ',\n",
       "  '(lsd), 79 mental and behavioural disorders mescaline, cannabis at high doses) ',\n",
       "  'have been taken. ',\n",
       "  'in such cases, and also for confusional states, a possible diagnosis of acute intoxication ',\n",
       "  '(flx.o) ',\n",
       "  'should be considered. ',\n",
       "  'particular care should also be taken to avoid mistakenly diagnosing a more serious condition ',\n",
       "  '(e.g. schizophrenia) ',\n",
       "  'when a diagnosis of psychoactive substance-induced psychosis is appropriate. ',\n",
       "  'many psychoactive substance-induced psychotic states are of short duration provided that no further amounts of the drug are taken ',\n",
       "  '(as in the case of amfetamine and cocaine psychoses). ',\n",
       "  'false diagnosis in such cases may have distressing and costly implications for the patient and for the health services. ',\n",
       "  'includes: alcoholic hallucinosis alcoholic jealousy alcoholic paranoia alcoholic psychosis nos differential diagnosis. ',\n",
       "  'consider the possibility of another mental disorder being aggravated or precipitated by psychoactive substance use ',\n",
       "  '(e.g. schizophrenia ',\n",
       "  '(f20.-); mood [affective] disorder ',\n",
       "  '(f30 f39); paranoid or schizoid personality disorder ',\n",
       "  '(f60.0, f60.1)). ',\n",
       "  'in such cases, a diagnosis of psychoactive substance-induced psychotic state may be inappropriate. ',\n",
       "  'the diagnosis of psychotic state may be further specified by the following five-character codes: f1a-.50 schizophrenia-like f1x.51 predominantly delusional f1a\\\\52 predominantly hallucinatory ',\n",
       "  '(includes alcoholic hallucinosis) ',\n",
       "  'f1a\\\\53 predominantly polymorphic f1x.54 predominantly depressive symptoms f1a\\\\55 predominantly manic symptoms fix.56 mixed 80 f10-f19 disorders due to psychoactive substance use f1a\\\\6  amnesic syndrome a syndrome associated with chronic prominent impairment of recent memory; remote memory is sometimes impaired, while immediate recall is preserved. ',\n",
       "  'disturbances of time sense and ordering of events are usually evident, as are difficulties in learning new material. ',\n",
       "  'confabulation may be marked but is not invariably present. ',\n",
       "  'other cognitive functions are usually relatively well preserved and amnesic defects are out of proportion to other disturbances. ',\n",
       "  'diagnostic guidelines amnesic syndrome induced by alcohol or other psychoactive substances coded here should meet the general criteria for organic amnesic syndrome ',\n",
       "  '(see f04). ',\n",
       "  'the primary requirements for this diagnosis are: ',\n",
       "  '(a) ',\n",
       "  'memory impairment as shown in impairment of recent memory ',\n",
       "  '(learning of new material); disturbances of time sense ',\n",
       "  '(rearrangements of chronological sequence, telescoping of repeated events into one, etc.); ',\n",
       "  '(b) ',\n",
       "  'absence of defect in immediate recall, of impairment of consciousness, and of generalized cognitive impairment; ',\n",
       "  '(c) ',\n",
       "  'history or objective evidence of chronic ',\n",
       "  '(and particularly highdose) ',\n",
       "  'use of alcohol or drugs. ',\n",
       "  'personality changes, often with apparent apathy and loss of initiative, and a tendency towards self-neglect may also be present, but should not be regarded as necessary conditions for diagnosis. ',\n",
       "  'although confabulation may be marked it should not be regarded as a necessary prerequisite for diagnosis. ',\n",
       "  \"includes: korsakov's psychosis or syndrome, alcoholor other psychoactive substance-induced differential diagnosis. \",\n",
       "  'consider: organic amnesic syndrome ',\n",
       "  '(nonalcoholic) ',\n",
       "  '(see f04); other organic syndromes involving marked impairment of memory ',\n",
       "  '(e.g. dementia or delirium) ',\n",
       "  '(f00-f03; f05.-); a depressive disorder ',\n",
       "  '(f31-f33). ',\n",
       "  '81 mental and behavioural disorders v\\\\x.l  residual and late-onset psychotic disorder a disorder in which alcoholor psychoactive substance-induced changes of cognition, affect, personality, or behaviour persist beyond the period during which a direct psychoactive substance-related effect might reasonably be assumed to be operating. ',\n",
       "  'diagnostic guidelines onset of the disorder should be directly related to the use of alcohol or a psychoactive substance. ',\n",
       "  'cases in which initial onset occurs later than episode(s) ',\n",
       "  'of substance use should be coded here only where clear and strong evidence is available to attribute the state to the residual effect of the substance. ',\n",
       "  'the disorder should represent a change from or marked exaggeration of prior and normal state of functioning. ',\n",
       "  'the disorder should persist beyond any period of time during which direct effects of the psychoactive substance might be assumed to be operative ',\n",
       "  '(see flx.o, acute intoxication). ',\n",
       "  'alcoholor psychoactive substance-induced dementia is not always irreversible; after an extended period of total abstinence, intellectual functions and memory may improve. ',\n",
       "  'the disorder should be carefully distinguished from withdrawalrelated conditions ',\n",
       "  '(see flx.3 and flx.4). ',\n",
       "  'it should be remembered that, under certain conditions and for certain substances, withdrawal state phenomena may be present for a period of many days or weeks after discontinuation of the substance. ',\n",
       "  'conditions induced by a psychoactive substance, persisting after its use, and meeting the criteria for diagnosis of psychotic disorder should not be diagnosed here ',\n",
       "  '(use fix.5, psychotic disorder). ',\n",
       "  \"patients who show the chronic end-state of korsakov's syndrome should be coded under flx.6. \",\n",
       "  'differential diagnosis. ',\n",
       "  'consider: pre-existing mental disorder masked by substance use and re-emerging as psychoactive substancerelated effects fade ',\n",
       "  '(for example, phobic anxiety, a depressive disorder, schizophrenia, or schizotypal disorder). ',\n",
       "  'in the case of flashbacks, consider acute and transient psychotic disorders ',\n",
       "  '(f23. ) ',\n",
       "  '. ',\n",
       "  'consider also organic injury and mild or moderate mental retardation ',\n",
       "  '(f70-f71), which may coexist with psychoactive substance misuse. ',\n",
       "  '82 f10-f19 disorders due to psychoactive substance use this diagnostic rubric may be further subdivided by using the following five-character codes: f1a-.70 flashbacks may be distinguished from psychotic disorders partly by their episodic nature, frequently of very short duration ',\n",
       "  '(seconds or minutes) ',\n",
       "  'and by their duplication ',\n",
       "  '(sometimes exact) ',\n",
       "  'of previous drug-related experiences. ',\n",
       "  'fix.71 personality or behaviour disorder meeting the criteria for organic personality disorder ',\n",
       "  '(f07.0). ',\n",
       "  'f1x.72 residual affective disorder meeting the criteria for organic mood [affective] disorders ',\n",
       "  '(f06.3). ',\n",
       "  'f1a\\\\73 dementia meeting the general criteria for dementia as outlined in the introduction to f00-f09. ',\n",
       "  'f1a\\\\74 other persisting cognitive impairment a residual category for disorders with persisting cognitive impairment, which do not meet the criteria for psychoactive substanceinduced amnesic syndrome ',\n",
       "  '(fix.6) ',\n",
       "  'or dementia ',\n",
       "  '(fix.73). ',\n",
       "  'f1a\\\\75 late-onset psychotic disorder f1x.8  other mental and behavioural disorders code here any other disorder in which the use of a substance can be identified as contributing directly to the condition, but which does not meet the criteria for inclusion in any of the above disorders. ',\n",
       "  'f1jr.9  unspecified mental and behavioural disorder 83 mental and behavioural disorders f20-f29 schizophrenia, schizotypal and delusional disorders overview of this block f20 schizophrenia f20.0 paranoid schizophrenia f20.1 hebephrenic schizophrenia f20.2 catatonic schizophrenia f20.3 undifferentiated schizophrenia f20.4 post-schizophrenic depression f20.5 residual schizophrenia f20.6 simple schizophrenia f20.8 other schizophrenia f20.9 schizophrenia, unspecified a fifth character may be used to classify course: f20.x0 continuous f20.xl episodic with progressive deficit f20.x2 episodic with stable deficit f20.x3 episodic remittent f20.x4 incomplete remission f20.;t5 complete remission f20.x8 other f20.x9 course uncertain, period of observation too short f21 schizotypal disorder f22 persistent delusional disorders f22.0 delusional disorder f22.8 other persistent delusional disorders f22.9 persistent delusional disorder, unspecified f23 acute and transient psychotic disorders f23.0 acute polymorphic psychotic disorder without symptoms of schizophrenia f23.1 acute polymorphic psychotic disorder with symptoms of schizophrenia f23.2 acute schizophrenia-like psychotic disorder f23.3 other acute predominantly delusional psychotic disorder 84 f20-f29 schizophrenia, schizotypal and delusional disorders f23.8 other acute and transient psychotic disorders f23.9 acute and transient psychotic disorder, unspecified a fifth character may be used to identify the presence or absence of associated acute stress: f23.xo without associated acute stress f23.xl with associated acute stress f24 induced delusional disorder f25 schizoaffective disorders f25.0 schizoaffective disorder, manic type f25.1 schizoaffective disorder, depressive type f25.2 schizoaffective disorder, mixed type f25.8 other schizoaffective disorders f25.9 schizoaffective disorder, unspecified f28 other nonorganic psychotic disorders f29 unspecified nonorganic psychosis 85 mental and behavioural disorders introduction schizophrenia is the commonest and most important disorder of this group. ',\n",
       "  'schizotypal disorder possesses many of the characteristic features of schizophrenic disorders and is probably genetically related to them; however, the hallucinations, delusions, and gross behavioural disturbances of schizophrenia itself are absent and so this disorder does not always come to medical attention. ',\n",
       "  'most of the delusional disorders are probably unrelated to schizophrenia, although they may be difficult to distinguish clinically, particularly in their early stages. ',\n",
       "  'they form a heterogeneous and poorly understood collection of disorders, which can conveniently be divided according to their typical duration into a group of persistent delusional disorders and a larger group of acute and transient psychotic disorders. ',\n",
       "  'the latter appear to be particularly common in developing countries. ',\n",
       "  'the subdivisions listed here should be regarded as provisional. ',\n",
       "  'schizoaffective disorders have been retained in this section in spite of their controversial nature. ',\n",
       "  '• a m i  schizophrenia the schizophrenic disorders are characterized in general by fundamental and characteristic distortions of thinking and perception, and by inappropriate or blunted affect. ',\n",
       "  'clear consciousness and intellectual capacity are usually maintained, although certain cognitive deficits may evolve in the course of time. ',\n",
       "  'the disturbance involves the most basic functions that give the normal person a feeling of individuality, uniqueness, and self-direction. ',\n",
       "  \"the most intimate thoughts, feelings, and acts are often felt to be known to or shared by others, and explanatory delusions may develop, to the effect that natural or supernatural forces are at work to influence the afflicted individual's thoughts and actions in ways that are often bizarre. \",\n",
       "  'the individual may see himself or herself as the pivot of all that happens. ',\n",
       "  \"hallucinations, especially auditory, are common and may comment on the individual's behaviour or thoughts. \",\n",
       "  'perception is frequently disturbed in other ways: colours or sounds may seem unduly vivid or altered in quality, and irrelevant features of ordinary things may appear more important than the whole object or situation. ',\n",
       "  'perplexity is also common early on and frequently leads to a belief that everyday situations possess a special, usually sinister, meaning intended uniquely for the individual. ',\n",
       "  'in the characteristic schizophrenic disturbance of thinking, peripheral and irrelevant features 86 f20-f29 schizophrenia, schizotypal and delusional disorders of a total concept, which are inhibited in normal directed mental activity, are brought to the fore and utilized in place of those that are relevant and appropriate to the situation. ',\n",
       "  'thus thinking becomes vague, elliptical, and obscure, and its expression in speech sometimes incomprehensible. ',\n",
       "  'breaks and interpolations in the train of thought are frequent, and thoughts may seem to be withdrawn by some outside agency. ',\n",
       "  'mood is characteristically shallow, capricious, or incongruous. ',\n",
       "  'ambivalence and disturbance of volition may appear as inertia, negativism, or stupor. ',\n",
       "  'catatonia may be present. ',\n",
       "  'the onset may be acute, with seriously disturbed behaviour, or insidious, with a gradual development of odd ideas and conduct. ',\n",
       "  'the course of the disorder shows equally great variation and is by no means inevitably chronic or deteriorating ',\n",
       "  '(the course is specified by five-character categories). ',\n",
       "  'in a proportion of cases, which may vary in different cultures and populations, the outcome is complete, or nearly complete, recovery. ',\n",
       "  'the sexes are approximately equally affected but the onset tends to be later in women. ',\n",
       "  'although no strictly pathognomonic symptoms can be identified, for practical purposes it is useful to divide the above symptoms into groups that have special importance for the diagnosis and often occur together, such as: ',\n",
       "  '(a) ',\n",
       "  'thought echo, thought insertion or withdrawal, and thought broadcasting; ',\n",
       "  '(b) ',\n",
       "  'delusions of control, influence, or passivity, clearly referred to body or limb movements or specific thoughts, actions, or sensations; delusional perception; ',\n",
       "  '(c) ',\n",
       "  \"hallucinatory voices giving a running commentary on the patient's behaviour, or discussing the patient among themselves, or other types of hallucinatory voices coming from some part of the body; \",\n",
       "  '(d) ',\n",
       "  'persistent delusions of other kinds that are culturally inappropriate and completely impossible, such as religious or political identity, or superhuman powers and abilities ',\n",
       "  '(e.g. being able to control the weather, or being in communication with aliens from another world); ',\n",
       "  '(e) ',\n",
       "  'persistent hallucinations in any modality, when accompanied either by fleeting or half-formed delusions without clear affective content, or by persistent over-valued ideas, or when occurring every day for weeks or months on end; ',\n",
       "  '(f) ',\n",
       "  'breaks or interpolations in the train of thought, resulting in incoherence or irrelevant speech, or neologisms; 87 mental and behavioural disorders ',\n",
       "  '(g) ',\n",
       "  'catatonic behaviour, such as excitement, posturing, or waxy flexibility, negativism, mutism, and stupor; ',\n",
       "  '(h) ',\n",
       "  '\"negative\" symptoms such as marked apathy, paucity of speech, and blunting or incongruity of emotional responses, usually resulting in social withdrawal and lowering of social performance; it must be clear that these are not due to depression or to neuroleptic medication; ',\n",
       "  '(i) ',\n",
       "  'a significant and consistent change in the overall quality of some aspects of personal behaviour, manifest as loss of interest, aimlessness, idleness, a self-absorbed attitude, and social withdrawal. ',\n",
       "  'diagnostic guidelines the normal requirement for a diagnosis of schizophrenia is that a minimum of one very clear symptom ',\n",
       "  ...]]"
      ]
     },
     "execution_count": 3,
     "metadata": {},
     "output_type": "execute_result"
    }
   ],
   "source": [
    "import os\n",
    "import fitz\n",
    "\n",
    "from pysbd import Segmenter\n",
    "\n",
    "segmenter = Segmenter()\n",
    "\n",
    "def read_pdfs_to_list(folder_path):\n",
    "    pdf_texts = []\n",
    "    for filename in os.listdir(folder_path):\n",
    "        if filename.endswith('.pdf'):\n",
    "            file_path = os.path.join(folder_path, filename)\n",
    "            with fitz.open(file_path) as doc:\n",
    "                full_text = \"\"\n",
    "                for page in doc:\n",
    "                    full_text += page.get_text()\n",
    "                \n",
    "                full_text = re.sub(r\"\\n\", \" \", full_text)\n",
    "                full_text = re.sub(r\"\\xa0\", \" \", full_text)\n",
    "                full_text = re.sub(r\"- \", \"\", full_text)\n",
    "                pdf_texts.append(segmenter.segment(full_text.lower()))\n",
    "    return pdf_texts\n",
    "\n",
    "folder_path = 'D:\\\\RexZhann\\\\nlp\\\\papers'\n",
    "\n",
    "\n",
    "pdf_texts = read_pdfs_to_list(folder_path)\n",
    "\n",
    "pdf_texts\n"
   ]
  },
  {
   "cell_type": "code",
   "execution_count": 1,
   "metadata": {},
   "outputs": [
    {
     "data": {
      "text/plain": [
       "[[\"f00-f09 organic, including symptomatic, mental disorders  overview of this block  f00 dementia in alzheimer's disease      f00.0 dementia in alzheimer's disease with early onset      f00.1 dementia in alzheimer's disease with late onset      f00.2 dementia in alzheimer's disease, atypical or mixed type      f00.9 dementia in alzheimer's disease, unspecified  f01 vascular dementia      f01.0 vascular dementia of acute onset      f01.1 multi-infarct dementia      f01.2 subcortical vascular dementia      f01.3 mixed cortical and subcortical vascular dementia      f01.8 other vascular dementia      f01.9 vascular dementia, unspecified  f02 dementia in other diseases classified elsewhere      f02.0 dementia in pick's disease      f02.1 dementia in creutzfeldt jakob disease      f02.2 dementia in huntington's disease      f02.3 dementia in parkinson's disease      f02.4 dementia in human immunodeficiency virus [hiv] disease      f02.8 dementia in other specified diseases classified elsewhere  f03 unspecified dementia  a fifth character may be used to specifiy dementia in f00-f03, as follows:            .\",\n",
       "  'xo without additional symptoms            .',\n",
       "  'xl other symptoms, predominantly delusional            .',\n",
       "  'x2 other symptoms, predominantly hallucinatory            .',\n",
       "  'x3 other symptoms, predominantly depressive            ,x4 other mixed symptoms  f04 organic amnesic syndrome, not induced by alcohol and other psycho     active substances    42                                   f00-f09 organic mental disorders  f05 delirium, not induced by alcohol and other psychoactive substances     f05.0 delirium, not superimposed on dementia, so described     f05.1 delirium, superimposed on dementia     f05.8 other delirium     f05.9 delirium, unspecified  f06 other mental disorders due to brain damage and dysfunction and to     physical disease     f06.0 organic hallucinosis     f06.1 organic catatonic disorder     f06.2 organic delusional [schizophrenia-like] disorder     f06.3 organic mood [affective] disorders          .30 organic manic disorder          .31 organic bipolar affective disorder          .32 organic depressive disorder          .33 organic mixed affective disorder     f06.4 organic anxiety disorder     f06.5 organic dissociative disorder     f06.6 organic emotionally labile [asthenic] disorder     f06.7 mild cognitive disorder     f06.8 other specified mental disorders due to brain damage and          dysfunction and to physical disease     f06.9 unspecified mental disorder due to brain damage and dysfunction          and to physical disease  f07 personality and behavioural disorders due to brain disease, damage and     dysfunction     f07.0 organic personality disorder     f07.1 postencephalitic syndrome     f07.2 postconcussional syndrome     f07.8 other organic personality and behavioural disorders due to brain          disease, damage and dysfunction     f07.9 unspecified organic personality and behavioural disorders due to          brain disease, damage and dysfunction  f09 unspecified organic or symptomatic mental disorder                                                               43   mental and behavioural disorders  introduction  this block comprises a range of mental disorders grouped together on the basis of their common, demonstrable etiology in cerebral disease, brain injury, or other insult leading to cerebral dysfunction. ',\n",
       "  'the dysfunction may be primary, as in diseases, injuries, and insults that affect the brain directly or with predilection; or secondary, as in systemic diseases and disorders that attack the brain only as one of the multiple organs or systems of the body involved. ',\n",
       "  'alcoholand drug-caused brain disorders, though logically belonging to this group, are classified under f10-f19 because of practical advantages in keeping all disorders due to psychoactive substance use in a single block.  ',\n",
       "  'although the spectrum of psychopathological manifestations of the conditions included here is broad, the essential features of the disorders form two main clusters. ',\n",
       "  'on the one hand, there are syndromes in which the invariable and most prominent features are either disturbances of cognitive functions, such as memory, intellect, and learning, or disturbances of the sensorium, such as disorders of consciousness and attention. ',\n",
       "  'on the other hand, there are syndromes of which the most conspicuous manifestations are in the areas of perception (hallucinations), thought contents (delusions), or mood and emotion (depression, elation, anxiety), or in the overall pattern of personality and behaviour, while cognitive or sensory dysfunction is minimal or difficult to ascerta in. ',\n",
       "  'the latter group of disorders has less secure footing in this block than the former because it contains many disorders that are symptomatically similar to conditions classified in other blocks (f20 f29, f30 f39, f40 f49, f60 f69) and are known to occur without gross cerebral pathological change or dysfunction. ',\n",
       "  'however, the growing evidence that a variety of cerebral and systemic diseases are causally related to the occurrence of such syndromes provides sufficient justification for their inclusion here in a clinically oriented classification.  ',\n",
       "  'the majority of the disorders in this block can, at least theoretically, have their onset at any age, except perhaps early childhood. ',\n",
       "  'in practice, most tend to start in adult life or old age. ',\n",
       "  'while some of these disorders are seemingly irreversible and progressive, others are transient or respond to currently available treatments.  ',\n",
       "  'use of the term \"organic\" does not imply that conditions elsewhere in this classification are \"nonorganic\" in the sense of having no cerebral substrate. ',\n",
       "  'in the present context, the term \"organic\" means simply that the syndrome so classified can be attributed to an independently diagnosable cerebral or  44                                   f00-f09 organic mental disorders  systemic disease or disorder. ',\n",
       "  'the term \"symptomatic\" is used for those organic mental disorders in which cerebral involvement is secondary to a systemic extracerebral disease or disorder.  ',\n",
       "  'it follows from the foregoing that, in the majority of cases, the recording of a diagnosis of any one of the disorders in this block will require the use of two codes: one for the psychopathological syndrome and another for the underlying disorder. ',\n",
       "  'the etiological code should be selected from the relevant chapter of the overall icd-10 classification.  ',\n",
       "  'dementia  a general description of dementia is given here, to indicate the minimum requirement for the diagnosis of dementia of any type, and is followed by the criteria that govern the diagnosis of more specific types.  ',\n",
       "  'dementia is a syndrome due to disease of the brain, usually of a chronic or progressive nature, in which there is disturbance of multiple higher cortical functions, including memory, thinking, orientation, comprehension, calculation, learning capacity, language, and judgement. ',\n",
       "  'consciousness is not clouded. ',\n",
       "  'impairments of cognitive function are commonly accompanied, and occasionally preceded, by deterioration in emotional control, social behaviour, or motivation. ',\n",
       "  \"this syndrome occurs in alzheimer's disease, in cerebrovascular disease, and in other conditions primarily or secondarily affecting the brain.  \",\n",
       "  'in assessing the presence or absence of a dementia, special care should be taken to avoid false-positive identification: motivational or emotional factors, particularly depression, in addition to motor slowness and general physical frailty, rather than loss of intellectual capacity, may account for failure to perform.  ',\n",
       "  'dementia produces an appreciable decline in intellectual functioning, and usually some interference with personal activities of daily living, such as washing, dressing, eating, personal hygiene, excretory and toilet activities. ',\n",
       "  'how such a decline manifests itself will depend largely on the social and cultural setting in which the patient lives. ',\n",
       "  'changes in role performance, such as lowered ability to keep or find a job, should not be used as criteria of dementia because of the large cross-cultural differences that exist in what is appropriate, and because there may be frequent, externally imposed changes in the availability of work within a particular culture.                                                              ',\n",
       "  '45   mental and behavioural disorders  if depressive symptoms are present but the criteria for depressive episode (f32.0-f32.3) are not fulfilled, they can be recorded by means of a fifth character. ',\n",
       "  'the presence of hallucinations or delusions may be treated similarly.  ',\n",
       "  '.',\n",
       "  'xo without additional symptoms ,x\\\\ other symptoms, predominantly delusional .',\n",
       "  'x2 other symptoms, predominantly hallucinatory .',\n",
       "  'x3 other symptoms, predominantly depressive .',\n",
       "  'x4 other mixed symptoms  diagnostic guidelines the primary requirement for diagnosis is evidence of a decline in both memory and thinking which is sufficient to impair personal activities of daily living, as described above. ',\n",
       "  'the impairment of memory typically affects the registration, storage, and retrieval of new information, but previously learned and familiar material may also be lost, particularly in the later stages. ',\n",
       "  'dementia is more than dysmnesia: there is also impairment of thinking and of reasoning capacity, and a reduction in the flow of ideas. ',\n",
       "  'the processing of incoming information is impaired, in that the individual finds it increasingly difficult to attend to more than one stimulus at a time, such as taking part in a conversation with several persons, and to shift the focus of attention from one topic to another. ',\n",
       "  'if dementia is the sole diagnosis, evidence of clear consciousness is required. ',\n",
       "  'however, a double diagnosis of delirium superimposed upon dementia is common (f05.1). ',\n",
       "  'the above symptoms and impairments should have been evident for at least 6 months for a confident clinical diagnosis of dementia to be made.  ',\n",
       "  'differential diagnosis. ',\n",
       "  'consider: a depressive disorder (f30-f39), which may exhibit many of the features of an early dementia, especially memory impairment, slowed thinking, and lack of spontaneity; delirium (f05); mild or moderate mental retardation (f70-f71); states of subnormal cognitive functioning attributable to a severely impoverished social environment and limited education; iatrogenic mental disorders due to medication (f06.-).  ',\n",
       "  'dementia may follow any other organic mental disorder classified in this block, or coexist with some of them, notably delirium (see f05.1).   ',\n",
       "  \"46                                   f00-f09 organic mental disorders  •ami dementia in alzheimer's disease          alzheimer's disease is a primary degenerative cerebral disease of         unknown etiology, with characteristic neuropathological and         neurochemical features. \",\n",
       "  'it is usually insidious in onset and develops         slowly but steadily over a period of years. ',\n",
       "  'this period can be as         short as 2 or 3 years, but can occasionally be considerably longer.         ',\n",
       "  \"the onset can be in middle adult life or even earlier (alzheimer's         disease with early onset), but the incidence is higher in later life         (alzheimer's disease with late onset). \",\n",
       "  'in cases with onset before the         age of 65 70, there is the likelihood of a family history of a similar         dementia, a more rapid course, and prominence of features of tem        poral and parietal lobe damage, including dysphasia or dyspraxia.         ',\n",
       "  'in cases with a later onset, the course tends to be slower and to be         characterized by more general impairment of higher cortical func        tions. ',\n",
       "  \"patients with down's syndrome are at high risk of developing         alzheimer's disease.          \",\n",
       "  'there are characteristic changes in the brain: a marked reduction         in the population of neurons, particularly in the hippocampus,         substantia innominata, locus ceruleus, and temporoparietal and fron        tal cortex; appearance of neurofibrillary tangles made of paired helical         filaments; neuritic (argentophil) plaques, which consist largely of         amyloid and show a definite progression in their development         (although plaques without amyloid are also known to exist); and         granulovacuolar bodies. ',\n",
       "  'neurochemical changes have also been         found, including a marked reduction in the enzyme choline acetyl        transferase, in acetylcholine itself, and in other neurotransmitters         and neuromodulators.          ',\n",
       "  'as originally described, the clinical features are accompanied by the         above brain changes. ',\n",
       "  'however, it now appears that the two do not         always progress in parallel: one may be indisputably present with         only minimal evidence of the other. ',\n",
       "  \"nevertheless, the clinical features         of alzheimer's disease are such that it is often possible to make a         presumptive diagnosis on clinical grounds alone.          \",\n",
       "  \"dementia in alzheimer's disease is at present irreversible.                                                               \",\n",
       "  '47   mental and behavioural disorders          diagnostic guidelines         the following features are essential for a definite diagnosis:         ',\n",
       "  '(a) presence of a dementia as described above.         ',\n",
       "  '(b) insidious onset with slow deterioration. ',\n",
       "  'while the onset usually            seems difficult to pinpoint in time, realization by others that            the defects exist may come suddenly. ',\n",
       "  'an apparent plateau may            occur in the progression.         ',\n",
       "  '(c) absence of clinical evidence, or findings from special investiga           tions, to suggest that the mental state may be due to other systemic            or brain disease which can induce a dementia (e.g. hypo           thyroidism, hypercalcaemia, vitamin b12 deficiency, niacin            deficiency, neurosyphilis, normal pressure hydrocephalus, or            subdural haematoma).         ',\n",
       "  '(d) absence of a sudden, apoplectic onset, or of neurological signs            of focal damage such as hemiparesis, sensory loss, visual field            defects, and incoordination occurring early in the illness (although            these phenomena may be superimposed later).          ',\n",
       "  \"in a certain proportion of cases, the features of alzheimer's disease         and vascular dementia may both be present. \",\n",
       "  'in such cases, double         diagnosis (and coding) should be made. ',\n",
       "  \"when the vascular dementia         precedes the alzheimer's disease, it may be impossible to diagnose         the latter on clinical grounds.          \",\n",
       "  \"includes: primary degenerative dementia of the alzheimer's type          differential diagnosis. \",\n",
       "  \"consider: a depressive disorder (f30 f39);         delirium (f05. -); organic amnesic syndrome (f04); other primary         dementias, such as in pick's, creutzfeldt-jakob or huntington's         disease (f02. -); secondary dementias associated with a variety of         physical diseases, toxic states, etc. (f02.8); mild, moderate or severe         mental retardation (f70 f72).          \",\n",
       "  \"dementia in alzheimer's disease may coexist with vascular dementia         (to be coded f00.2), as when cerebrovascular episodes (multi-infarct         phenomena) are superimposed on a clinical picture and history         suggesting alzheimer's disease. \",\n",
       "  'such episodes may result in sudden         exacerbations of the manifestations of dementia. ',\n",
       "  'according to         postmortem findings, both types may coexist in as many as 10 15%         of all dementia cases.  ',\n",
       "  \"48                                   f00-f09 organic mental disorders  f00.0 dementia in alzheimer's disease with early onset         dementia in alzheimer's disease beginning before the age of 65. \",\n",
       "  'there         is relatively rapid deterioration, with marked multiple disorders of         the higher cortical functions. ',\n",
       "  'aphasia, agraphia, alexia, and apraxia         occur relatively early in the course of the dementia in most cases.          ',\n",
       "  'diagnostic guidelines         as for dementia, described above, with onset before the age of         65 years, and usually with rapid progression of symptoms. ',\n",
       "  \"family         history of alzheimer's disease is a contributory but not necessary         factor for the diagnosis, as is a family history of down's syndrome         or of lymphoma.          \",\n",
       "  \"includes: alzheimer's disease, type 2                 presenile dementia, alzheimer's type  f00.1 dementia in alzheimer's disease with late onset         dementia in alzheimer's disease where the clinically observable onset         is after the age of 65 years and usually in the late 70s or thereafter,         with a slow progression, and usually with memory impairment as         the principal feature.          \",\n",
       "  'diagnostic guidelines         as for dementia, described above, with attention to the presence         or absence of features differentiating the disorder from the early        onset subtype (f00.0).          ',\n",
       "  \"includes: alzheimer's disease, type 1                 senile dementia, alzheimer's type  f00.2 dementia in alzheimer's disease, atypical or mixed type         dementias that do not fit the descriptions and guidelines for either         f00.0 or f00.1 should be classified here; mixed alzheimer's and         vascular dementias are also included here.  \",\n",
       "  \"f00.9 dementia in alzheimer's disease, unspecified                                                               49   mental and behavioural disorders  |gifj| vascular dementia          vascular (formerly arteriosclerotic) dementia, which includes multi        infarct dementia, is distinguished from dementia in alzheimer's         disease by its history of onset, clinical features, and subsequent course.         \",\n",
       "  'typically, there is a history of transient ischaemic attacks with brief         impairment of consciousness, fleeting pareses, or visual loss. ',\n",
       "  'the         dementia may also follow a succession of acute cerebrovascular         accidents or, less commonly, a single major stroke. ',\n",
       "  'some impair        ment of memory and thinking then becomes apparent. ',\n",
       "  'onset, which         is usually in later life, can be abrupt, following one particular         ischaemic episode, or there may be more gradual emergence. ',\n",
       "  'the         dementia is usually the result of infarction of the brain due to vascular         diseases, including hypertensive cerebrovascular disease. ',\n",
       "  'the infarcts         are usually small but cumulative in their effect.          ',\n",
       "  'diagnostic guidelines         the diagnosis presupposes the presence of a dementia as described         above. ',\n",
       "  'impairment of cognitive function is commonly uneven, so         that there may be memory loss, intellectual impairment, and focal         neurological signs. ',\n",
       "  'insight and judgement may be relatively well         preserved. ',\n",
       "  'an abrupt onset or a stepwise deterioration, as well as         the presence of focal neurological signs and symptoms, increases the         probability of the diagnosis; in some cases, confirmation can be         provided only by computerized axial tomography or, ultimately,         neuropathological examination.          ',\n",
       "  'associated features are: hypertension, carotid bruit, emotional lability         with transient depressive mood, weeping or explosive laughter, and         transient episodes of clouded consciousness or delirium, often pro        voked by further infarction. ',\n",
       "  'personality is believed to be relatively         well preserved, but personality changes may be evident in a propor        tion of cases with apathy, disinhibition, or accentuation of previous         traits such as egocentricity, paranoid attitudes, or irritability.          ',\n",
       "  'includes: arteriosclerotic dementia          differential diagnosis. ',\n",
       "  \"consider: delirium (f05. -); other dementia,         particularly in alzheimer's disease (f00. -); mood [affective] disorders         (f30-f39); mild or moderate mental retardation (f70-f71); sub        dural haemorrhage (traumatic (s06.5), nontraumatic (162.0)).  \",\n",
       "  \"50                                   f00-f09 organic mental disorders          vascular dementia may coexist with dementia in alzheimer's disease         (to be coded f00.2), as when evidence of a vascular episode is superim        posed on a clinical picture and history suggesting alzheimer's disease.  \",\n",
       "  'f01.0 vascular dementia of acute onset         usually develops rapidly after a succession of strokes from         cerebrovascular thrombosis, embolism, or haemorrhage. ',\n",
       "  'in rare cases,         a single large infarction may be the cause.  ',\n",
       "  'f01.1 multi-infarct dementia         this is more gradual in onset than the acute form, following a number         of minor ischaemic episodes which produce an accumulation of in        farcts in the cerebral parenchyma.          ',\n",
       "  'includes: predominantly cortical dementia  f01.2 subcortical vascular dementia         there may be a history of hypertension and foci of ischaemic destruc        tion in the deep white matter of the cerebral hemispheres, which can         be suspected on clinical grounds and demonstrated on computerized         axial tomography scans. ',\n",
       "  \"the cerebral cortex is usually preserved and         this contrasts with the clinical picture, which may closely resemble         that of dementia in alzheimer's disease. \",\n",
       "  '(where diffuse demyelination         of white matter can be demonstrated, the term \"binswanger\\'s         encephalopathy\" may be used.)  f01.3 mixed cortical and subcortical vascular dementia         mixed cortical and subcortical components of the vascular dementia         may be suspected from the clinical features, the results of investiga        tions (including autopsy), or both.  ',\n",
       "  \"f01.8 other vascular dementia  f01.9 vascular dementia, unspecified  |gi£| dementia in other diseases classified elsewhere          cases of dementia due, or presumed to be due, to causes other than         alzheimer's disease or cerebrovascular disease. \",\n",
       "  'onset may be at any         time in life, though rarely in old age.                                                             ',\n",
       "  '51   mental and behavioural disorders          diagnostic guidelines         presence of a dementia as described above; presence of features         characteristic of one of the specified syndromes, as set out in the         following categories.  ',\n",
       "  \"f02.0 dementia in pick's disease         a progressive dementia, commencing in middle life (usually between         50 and 60 years), characterized by slowly progressing changes of         character and social deterioration, followed by impairment of         intellect, memory, and language functions, with apathy, euphoria,         and (occasionally) extrapyramidal phenomena. \",\n",
       "  'the neuropathological         picture is one of selective atrophy of the frontal and temporal lobes,         but without the occurrence of neuritic plaques and neurofibrillary         tangles in excess of that seen in normal aging. ',\n",
       "  'cases with early onset         tend to exhibit a more malignant course. ',\n",
       "  'the social and behavioural         manifestations often precede frank memory impairment.          ',\n",
       "  'diagnostic guidelines         the following features are required for a definite diagnosis:         ',\n",
       "  '(a) a progressive dementia;         ',\n",
       "  '(b) a predominance of frontal lobe features with euphoria, emotional            blunting, and coarsening of social behaviour, disinhibition, and            either apathy or restlessness;         ',\n",
       "  '(c) behavioural manifestations, which commonly precede frank            memory impairment.          ',\n",
       "  \"frontal lobe features are more marked than temporal and parietal,         unlike alzheimer's disease.          \",\n",
       "  'differential diagnosis. ',\n",
       "  \"consider: dementia in alzheimer's disease         (f00); vascular dementia (f01); dementia secondary to other disorders         such as neurosyphilis (f02.8); normal pressure hydrocephalus         (characterized by extreme psychomotor slowing, and gait and sphincter         disturbances) (g91.2); other neurological or metabolic disorders.  \",\n",
       "  'f02.1 dementia in creutzfeldt jakob disease         a progressive dementia with extensive neurological signs, due to         specific neuropathological changes (subacute spongiform         encephalopathy) that are presumed to be caused by a transmissible         agent. ',\n",
       "  'onset is usually in middle or later life, typically in the fifth  52                                   f00-f09 organic mental disorders          decade, but may be at any adult age. ',\n",
       "  'the course is subacute, leading         to death within 1-2 years.          ',\n",
       "  'diagnostic guidelines         creutzfeldt jakob disease should be suspected in all cases of a         dementia that progresses fairly rapidly over months to 1 or 2 years         and that is accompanied or followed by multiple neurological         symptoms. ',\n",
       "  'in some cases, such as the so-called amyotrophic form,         the neurological signs may precede the onset of the dementia.          ',\n",
       "  'there is usually a progressive spastic paralysis of the limbs, accom        panied by extrapyramidal signs with tremor, rigidity, and         choreoathetoid movements. ',\n",
       "  'other variants may include ataxia, visual         failure, or muscle fibrillation and atrophy of the upper motor neuron         type. ',\n",
       "  'the triad consisting of         — rapidly progressing, devastating dementia,         — pyramidal and extrapyramidal disease with myoclonus, and         — a characteristic (triphasic) electroencephalogram         is thought to be highly suggestive of this disease.          ',\n",
       "  'differential diagnosis. ',\n",
       "  \"consider: alzheimer's disease (f00.-) or         pick's disease (f02.0); parkinson's disease (f02.3); postencephalitic         parkinsonism (g21.3).          \",\n",
       "  'the rapid course and early motor involvement should suggest         creutzfeldt jakob disease.  ',\n",
       "  \"f02.2 dementia in huntington's disease         a dementia occurring as part of a widespread degeneration of the         brain. \",\n",
       "  \"huntington's disease is transmitted by a single autosomal         dominant gene. \",\n",
       "  'symptoms typically emerge in the third and fourth         decade, and the sex incidence is probably equal. ',\n",
       "  'in a proportion         of cases, the earliest symptoms may be depression, anxiety, or frank         paranoid illness, accompanied by a personality change. ',\n",
       "  'progression         is slow, leading to death usually within 10 to 15 years.          ',\n",
       "  \"diagnostic guidelines         the association of choreiform movement disorder, dementia, and         family history of huntington's disease is highly suggestive of the         diagnosis, though sporadic cases undoubtedly occur.                                                              \",\n",
       "  '53   mental and behavioural disorders          involuntary choreiform movements, typically of the face, hands, and         shoulders, or in the gait, are early manifestations. ',\n",
       "  'they usually precede         the dementia and only rarely remain absent until the dementia is         very advanced. ',\n",
       "  'other motor phenomena may predominate when the         onset is at an unusually young age (e.g. striatal rigidity) or at a late         age (e.g. intention tremor).          ',\n",
       "  'the dementia is characterized by the predominant involvement of         frontal lobe functions in the early stage, with relative preservation         of memory until later.          ',\n",
       "  \"includes: dementia in huntington's chorea          differential diagnosis. \",\n",
       "  \"consider: other cases of choreic movements;         alzheimer's, pick's or creutzfeldt jakob disease (f00. , f02.0,         f02.1).  \",\n",
       "  \"f02.3 dementia in parkinson's disease         a dementia developing in the course of established parkinson's disease         (especially its severe forms). \",\n",
       "  'no particular distinguishing clinical         features have yet been demonstrated. ',\n",
       "  \"the dementia may be different         from that in either alzheimer's disease or vascular dementia; however,         there is also evidence that it may be the manifestation of a co        occurrence of one of these conditions with parkinson's disease. \",\n",
       "  \"this         justifies the identification of cases of parkinson's disease with         dementia for research until the issue is resolved.          \",\n",
       "  \"diagnostic guidelines         dementia developing in an individual with advanced, usually severe,         parkinson's disease.          \",\n",
       "  'includes: dementia in paralysis agitans                 dementia in parkinsonism          differential diagnosis. ',\n",
       "  'consider: other secondary dementias (f02.8);         multi-infarct dementia (fol. 1) associated with hypertensive or diabetic         vascular disease; brain tumour (c70 c72); normal pressure         hydrocephalus (g91.2).   ',\n",
       "  '54                                   f00-f09 organic mental disorders  f02.4 dementia in human immunodeficiency virus [hiv] disease         a disorder characterized by cognitive deficits meeting the clinical         diagnostic criteria for dementia, in the absence of a concurrent         illness or condition other than hiv infection that could explain the         findings.          ',\n",
       "  'hiv dementia typically presents with complaints of forgetfulness,         slowness, poor concentration, and difficulties with problem-solving         and reading. ',\n",
       "  'apathy, reduced spontaneity, and social withdrawal         are common, and in a significant minority of affected individuals         the illness may present atypically as an affective disorder, psychosis,         or seizures. ',\n",
       "  'physical examination often reveals tremor, impaired rapid         repetitive movements, imbalance, ataxia, hypertonia, generalized         hyperreflexia, positive frontal release signs, and impaired pursuit and         saccadic eye movements.          ',\n",
       "  'children also develop an hiv-associated neurodevelopmental disorder         characterized by developmental delay, hypertonia, microcephaly, and         basal ganglia calcification. ',\n",
       "  'the neurological involvement most often         occurs in the absence of opportunistic infections and neoplasms, which         is not the case for adults.          ',\n",
       "  'hiv dementia generally, but not invariably, progresses quickly (over         weeks or months) to severe global dementia, mutism, and death.          ',\n",
       "  'includes: aids dementia complex                 hiv encephalopathy or subacute encephalitis   f02.8 dementia in other specified diseases classified elsewhere         dementia can occur as a manifestation or consequence of a variety         of cerebral and somatic conditions. ',\n",
       "  'to specify the etiology, the icd-10         code for the underlying condition should be added.          ',\n",
       "  'parkinsonism dementia complex of guam should also be coded         here (identified by a fifth character, if necessary). ',\n",
       "  'it is a rapidly         progressing dementia followed by extrapyramidal dysfunction and,         in some cases, amyotrophic lateral sclerosis. ',\n",
       "  'the disease was originally         described on the island of guam where it occurs with high frequency         in the indigenous population, affecting twice as many males as         females; it is now known to occur also in papua new guinea and         japan.                                                              ',\n",
       "  \"55   mental and behavioural disorders          includes: dementia in:                 carbon monoxide poisoning (t58)                 cerebral lipidosis (e75.-)                 epilepsy (g40.-)                 general paralysis of the insane (a52.1)                 hepatolenticular degeneration (wilson's disease) (e83.0)                 hypercalcaemia (e83.5)                 hypothyroidism, acquired (e00. , e02)                 intoxications (t36 — t65)                 multiple sclerosis (g35)                 neurosyphilis (a52.1)                 niacin deficiency [pellagra] (e52)                 polyarteritis nodosa (m30.0)                 systemic lupus erythematosus (m32.-)                 trypanosomiasis (african b56.-, american b57.-)                 vitamin b12 deficiency (e53.8)  |g£] unspecified dementia          this category should be used when the general criteria for the diagnosis         of dementia are satisfied, but when it is not possible to identify one         of the specific types (f00.0-f02.9).          \",\n",
       "  'includes: presenile or senile dementia nos                 presenile or senile psychosis nos                 primary degenerative dementia nos  e3 organic amnesic syndrome, not induced by alcohol         and other psychoactive substances          a syndrome of prominent impairment of recent and remote memory.         ',\n",
       "  'while immediate recall is preserved, the ability to learn new material         is markedly reduced and this results in anterograde amnesia and         disorientation in time. ',\n",
       "  'retrograde amnesia of varying intensity is         also present but its extent may lessen over time if the underlying         lesion or pathological process has a tendency to recover. ',\n",
       "  'confabula        tion may be a marked feature but is not invariably present. ',\n",
       "  'percep        tion and other cognitive functions, including the intellect, are usually         intact and provide a background against which the memory distur 56                                  f00-f09 organic mental disorders         bance appears as particularly striking. ',\n",
       "  'the prognosis depends on        the course of the underlying lesion (which typically affects the        hypothalamic diencephalic system or the hippocampal region);        almost complete recovery is, in principle, possible.         ',\n",
       "  'diagnostic guidelines        for a definitive diagnosis it is necessary to establish:        ',\n",
       "  '(a) presence of a memory impairment manifest in a defect of recent           memory (impaired learning of new material); anterograde and           retrograde amnesia, and a reduced ability to recall past experiences           in reverse order of their occurrence;        ',\n",
       "  '(b) history or objective evidence of an insult to, or a disease of,           the brain (especially with bilateral involvement of the diencephalic           and medial temporal structures);        ',\n",
       "  '(c) absence of a defect in immediate recall (as tested, for example,           by the digit span), of disturbances of attention and consciousness,           and of global intellectual impairment.         ',\n",
       "  'confabulations, lack of insight, and emotional changes (apathy, lack        of initiative) are additional, though not in every case necessary,        pointers to the diagnosis.         ',\n",
       "  \"includes: korsakov's syndrome or psychosis, nonalcoholic         differential diagnosis. \",\n",
       "  'this disorder should be distinguished from        other organic syndromes in which memory impairment is prominent        (e.g. dementia or delirium), from dissociative amnesia (f44.0), from        impaired memory function in depressive disorders (f30-f39), and        from malingering presenting with a complaint of memory loss (z76.5).        ',\n",
       "  \"korsakov's syndrome induced by alcohol or drugs should not be        coded here but in the appropriate section (fix.6).  \",\n",
       "  '123 delirium, not induced by alcohol and other         psychoactive substances         an etiologically nonspecific syndrome characterized by concurrent         disturbances of consciousness and attention, perception, thinking,         memory, psychomotor behaviour, emotion, and the sleep-wake         cycle. ',\n",
       "  'it may occur at any age but is most common after the age         of 60 years. ',\n",
       "  'the delirious state is transient and of fluctuating                                                             57   mental and behavioural disorders          intensity; most cases recover within 4 weeks or less. ',\n",
       "  'however, delirium         lasting, with fluctuations, for up to 6 months is not uncommon,         especially when arising in the course of chronic liver disease,         carcinoma, or subacute bacterial endocarditis. ',\n",
       "  'the distinction that         is sometimes made between acute and subacute delirium is of little         clinical relevance; the condition should be seen as a unitary syndrome         of variable duration and severity ranging from mild to very severe.         ',\n",
       "  'a delirious state may be superimposed on, or progress into, dementia.          ',\n",
       "  'this category should not be used for states of delirium associated         with the use of psychoactive drugs specified in f10-f19. ',\n",
       "  'delirious         states due to prescribed medication (such as acute confusional states         in elderly patients due to antidepressants) should be coded here.         ',\n",
       "  'in such cases, the medication concerned should also be recorded by         means of an additional t code from chapter xix of icd-10.          ',\n",
       "  'diagnostic guidelines         for a definite diagnosis, symptoms, mild or severe, should be present         in each one of the following areas:         ',\n",
       "  '(a) impairment of consciousness and attention (on a continuum from            clouding to coma; reduced ability to direct, focus, sustain, and            shift attention);         ',\n",
       "  '(b) global disturbance of cognition (perceptual distortions, illusions            and hallucinations — most often visual; impairment of abstract            thinking and comprehension, with or without transient delusions,            but typically with some degree of incoherence; impairment of            immediate recall and of recent memory but with relatively intact            remote memory; disorientation for time as well as, in more severe            cases, for place and person);         ',\n",
       "  '(c) psychomotor disturbances (hypoor hyperactivity and unpre           dictable shifts from one to the other; increased reaction time;            increased or decreased flow of speech; enhanced startle reaction);         ',\n",
       "  '(d) disturbance of the sleep wake cycle (insomnia or, in severe cases,            total sleep loss or reversal of the sleep-wake cycle; daytime            drowsiness; nocturnal worsening of symptoms; disturbing dreams            or nightmares, which may continue as hallucinations after            awakening);         ',\n",
       "  '(e) emotional disturbances, e.g. depression, anxiety or fear, irri           tability, euphoria, apathy, or wondering perplexity.   ',\n",
       "  '58                                  f00-f09 organic mental disorders         the onset is usually rapid, the course diurnally fluctuating, and the        total duration of the condition less than 6 months. ',\n",
       "  'the above clinical        picture is so characteristic that a fairly confident diagnosis of delirium        can be made even if the underlying cause is not clearly established.        ',\n",
       "  'in addition to a history of an underlying physical or brain disease,        evidence of cerebral dysfunction (e.g. an abnormal electroen       cephalogram, usually but not invariably showing a slowing of the        background activity) may be required if the diagnosis is in doubt.         ',\n",
       "  'includes: acute brain syndrome                acute confusional state (nonalcoholic)                acute infective psychosis                acute organic reaction                acute psycho-organic syndrome         differential diagnosis. ',\n",
       "  'delirium should be distinguished from other        organic syndromes, especially dementia (f00-f03), from acute and        transient psychotic disorders (f23.-), and from acute states in        schizophrenia (f20. -) or mood [affective] disorders (f30-f39) in        which confusional features may be present. ',\n",
       "  'delirium, induced by        alcohol and other psychoactive substances, should be coded in the        appropriate section (flx.4).  ',\n",
       "  'f05.0 delirium, not superimposed on dementia, so described        this code should be used for delirium that is not superimposed upon        pre-existing dementia.  ',\n",
       "  'f05.1 delirium, superimposed on dementia        this code should be used for conditions meeting the above criteria        but developing in the course of a dementia (f00-f03).  ',\n",
       "  \"f05.8 other delirium        includes: delirium of mixed origin                 subacute confusional state or delirium  f05.9 delirium, unspecified                                                              59   mental and behavioural disorders  •at in other mental disorders due to brain damage         and dysfunction and to physical disease          this category includes miscellaneous conditions causally related to         brain dysfunction due to primary cerebral disease, to systemic disease         affecting the brain secondarily, to endocrine disorders such as         cushing's syndrome or other somatic illnesses, and to some exogenous         toxic substances (but excluding alcohol and drugs classified under         f10-f19) or hormones. \",\n",
       "  'these conditions have in common clinical         features that do not by themselves allow a presumptive diagnosis         of an organic mental disorder, such as dementia or delirium. ',\n",
       "  'rather,         the clinical manifestations resemble, or are identical with, those of         disorders not regarded as \"organic\" in the specific sense restricted         to this block of the classification. ',\n",
       "  'their inclusion here is based on         the hypothesis that they are directly caused by cerebral disease or         dysfunction rather than resulting from either a fortuitous associa        tion with such disease or dysfunction, or a psychological reaction         to its symptoms, such as schizophrenia-like disorders associated with         long-standing epilepsy.          ',\n",
       "  'the decision to classify a clinical syndrome here is supported by         the following:         ',\n",
       "  '(a) evidence of cerebral disease, damage or dysfunction, or of            systemic physical disease, known to be associated with one of            the listed syndromes;         ',\n",
       "  '(b) a temporal relationship (weeks or a few months) between the            development of the underlying disease and the onset of the            mental syndrome;         ',\n",
       "  '(c) recovery from the mental disorder following removal or improve           ment of the underlying presumed cause;         ',\n",
       "  '(d) absence of evidence to suggest an alternative cause of the mental            syndrome (such as a strong family history or precipitating stress).          ',\n",
       "  'conditions ',\n",
       "  '(a) and ',\n",
       "  '(b) justify a provisional diagnosis; if all four are         present, the certainty of diagnostic classification is significantly in        creased.          ',\n",
       "  \"the following are among the conditions known to increase the relative         risk for the syndromes classified here: epilepsy; limbic encephalitis;         huntington's disease; head trauma; brain neoplasms; extracranial         neoplasms with remote cns effects (especially carcinoma of the  60                                   f00-f09 organic mental disorders          pancreas); vascular cerebral disease, lesions, or malformations;         lupus erythematosus and other collagen diseases; endocrine disease         (especially hypoand hyperthyroidism, cushing's disease); metabolic         disorders (e.g. hypoglycaemia, porphyria, hypoxia); tropical infec        tious and parasitic diseases (e.g. trypanosomiasis); toxic effects of         nonpsychotropic drugs (propranolol, levodopa, methyldopa, steroids,         antihypertensives, antimalarials).          \",\n",
       "  'excludes: mental disorders associated with delirium (f05.-)                  mental disorders associated with dementia as classified                  in f00-f03  f06.0 organic hallucinosis         a disorder of persistent or recurrent hallucinations, usually visual         or auditory, that occur in clear consciousness and may or may not         be recognized by the subject as such. ',\n",
       "  'delusional elaboration of the         hallucinations may occur, but insight is not infrequently preserved.          ',\n",
       "  'diagnostic guidelines         in addition to the general criteria in the introduction to f06 above,         there should be evidence of persistent or recurrent hallucinations in         any modality; no clouding of consciousness; no significant intellec        tual decline; no predominant disturbance of mood; and no         predominance of delusions.          ',\n",
       "  'includes: dermatozoenwahn                 organic hallucinatory state (nonalcoholic)          excludes: alcoholic hallucinosis (f10.52)                  schizophrenia (f20. -)  f06.1 organic catatonic disorder         a disorder of diminished (stupor) or increased (excitement)         psychomotor activity associated with catatonic symptoms. ',\n",
       "  'the         extremes of psychomotor disturbance may alternate. ',\n",
       "  'it is not known         whether the full range of catatonic disturbances described in         schizophrenia occurs in such organic states, nor has it been con        clusively determined whether an organic catatonic state may occur         in clear consciousness or whether it is always a manifestation of         delirium, with subsequent partial or total amnesia. ',\n",
       "  'this calls for         caution in making this diagnosis and for a careful delimitation of                                                              61   mental and behavioural disorders          the condition from delirium. ',\n",
       "  'encephalitis and carbon monoxide         poisoning are presumed to be associated with this syndrome more         often than other organic causes.          ',\n",
       "  'diagnostic guidelines         the general criteria for assuming organic etiology, laid down in the         introduction to f06, must be met. ',\n",
       "  'in addition, there should be one         of the following:         ',\n",
       "  '(a) stupor (diminution or complete absence of spontaneous move           ment with partial or complete mutism, negativism, and rigid            posturing);         ',\n",
       "  '(b) excitement (gross hypermotility with or without a tendency to            assaultiveness);         ',\n",
       "  '(c) both (shifting rapidly and unpredictably from hypoto hyper           activity).          ',\n",
       "  'other catatonic phenomena that increase confidence in the diagnosis         are: stereotypies, waxy flexibility, and impulsive acts.          ',\n",
       "  'excludes: catatonic schizophrenia (20.2)                  dissociative stupor (f44.2)                  stupor nos (r40.1)  f06.2 organic delusional [schizophrenia-like] disorder         a disorder in which persistent or recurrent delusions dominate the         clinical picture. ',\n",
       "  'the delusions may be accompanied by hallucina        tions but are not confined to their content. ',\n",
       "  'features suggestive of         schizophrenia, such as bizarre delusions, hallucinations, or thought         disorder, may also be present.          ',\n",
       "  'diagnostic guidelines         the general criteria for assuming an organic etiology, laid down in         the introduction to f06, must be met. ',\n",
       "  'in addition, there should be         delusions (persecutory, of bodily change, jealousy, disease, or death         of the subject or another person). ',\n",
       "  'hallucinations, thought disorder,         or isolated catatonic phenomena may be present. ',\n",
       "  'consciousness and         memory must not be affected. ',\n",
       "  'this diagnosis should not be made         if the presumed evidence of organic causation is nonspecific or limited         to findings such as enlarged cerebral ventricles (visualized on         computerized axial tomography) or \"soft\" neurological signs.  ',\n",
       "  '62                                   f00-f09 organic mental disorders          includes: paranoid and paranoid-hallucinatory organic states                 schizophrenia-like psychosis in epilepsy          excludes: acute and transient psychotic disorders (f23.-)                  drug-induced psychotic disorders (fix.5)                  persistent delusional disorder (f22.-)                  schizophrenia (f20. -)  f06.3 organic mood [affective] disorders         disorders characterized by a change in mood or affect, usually         accompanied by a change in the overall level of activity. ',\n",
       "  'the only         criterion for inclusion of these disorders in this block is their presumed         direct causation by a cerebral or other physical disorder whose         presence must either be demonstrated independently (e.g. by means         of appropriate physical and laboratory investigations) or assumed         on the basis of adequate history information. ',\n",
       "  \"the affective disorder         must follow the presumed organic factor and be judged not to         represent an emotional response to the patient's knowledge of         having, or having the symptoms of, a concurrent brain disorder.          \",\n",
       "  'postinfective depression (e.g. following influenza) is a common         example and should be coded here. ',\n",
       "  'persistent mild euphoria not         amounting to hypomania (which is sometimes seen, for instance,         in association with steroid therapy or antidepressants) should not         be coded here but under f06.8.          ',\n",
       "  'diagnostic guidelines         in addition to the general criteria for assuming organic etiology,         laid down in the introduction to f06, the condition must meet         the requirements for a diagnosis of one of the disorders listed         under f3o-f33.          ',\n",
       "  'excludes: mood [affective] disorders, nonorganic or unspecified                    (f30-f39)                  right hemispheric affective disorder (f07.8)          the following five-character codes might be used to specify the clinical         disorder:         f06.30 organic manic disorder         f06.31 organic bipolar affective disorder                                                              63   mental and behavioural disorders          f06.32 organic depressive disorder         f06.33 organic mixed affective disorder  f06.4 organic anxiety disorder         a disorder characterized by the essential descriptive features of a         generalized anxiety disorder (f41.1), a panic disorder (f41.0), or a         combination of both, but arising as a consequence of an organic         disorder capable of causing cerebral dysfunction (e.g. temporal lobe         epilepsy, thyrotoxicosis, or phaechromocytoma).          ',\n",
       "  'excludes: anxiety disorders, nonorganic or unspecified (f41.-)  f06.5 organic dissociative disorder         a disorder that meets the requirements for one of the disorders in         f44. ',\n",
       "  '(dissociative [conversion] disorder) and for which the general         criteria for organic etiology are also fulfilled (as described in the         introduction to this block).          ',\n",
       "  'excludes: dissociative [conversion] disorders, nonorganic or                   unspecified (f44.-)  f06.6 organic emotionally labile [asthenic] disorder         a disorder characterized by marked and persistent emotional         incontinence or lability, fatiguability, or a variety of unpleasant         physical sensations (e.g. dizziness) and pains regarded as being due         to the presence of an organic disorder. ',\n",
       "  'this disorder is thought to         occur in association with cerebrovascular disease or hypertension more         often than with other causes.          ',\n",
       "  'excludes: somatoform disorders, nonorganic or unspecified (f45. -)   f06.7 mild cognitive disorder         this disorder may precede, accompany, or follow a wide variety         of infections and physical disorders, both cerebral and systemic          (including hiv infection). ',\n",
       "  'direct neurological evidence of cerebral         involvement is not necessarily present, but there may nevertheless         be distress and interference with usual activities. ',\n",
       "  'the boundaries of         this category are still to be firmly established. ',\n",
       "  'when associated with          a physical disorder from which the patient recovers, mild cognitive          disorder does not last for more than a few additional weeks. ',\n",
       "  'this          diagnosis should not be made if the condition is clearly attributable   64                                   f00-f09 organic mental disorders          to a mental or behavioural disorder classified in any of the remaining         blocks in this book.          ',\n",
       "  'diagnostic guidelines         the main feature is a decline in cognitive performance. ',\n",
       "  'this may         include memory impairment, learning or concentration difficulties.         ',\n",
       "  'objective tests usually indicate abnormality. ',\n",
       "  'the symptoms are such         that a diagnosis of dementia (f00-f03), organic amnesic syndrome         (f04) or delirium (f05.-) cannot be made.          ',\n",
       "  'differential diagnosis. ',\n",
       "  'the disorder can be differentiated from         postencephalitic syndrome (f07.1) and postconcussional syndrome         (f07.2) by its different etiology, more restricted range of generally         milder symptoms, and usually shorter duration.  ',\n",
       "  'f06.8 other specified mental disorders due to brain damage and         dysfunction and to physical disease         examples are abnormal mood states occurring during treatment with         steroids or antidepressants.          ',\n",
       "  'includes: epileptic psychosis nos  f06.9 unspecified mental disorder due to brain damage and dysfunc        tion and to physical disease  igifjfl personality and behavioural disorders due to         brain disease, damage and dysfunction          alteration of personality and behaviour can be a residual or con        comitant disorder of brain disease, damage, or dysfunction. ',\n",
       "  'in some         instances, differences in the manifestation of such residual or con        comitant personality and behavioural syndromes may be suggestive         of the type and/or localization of the intracerebral problem, but         the reliability of this kind of diagnostic inference should not be         overestimated. ',\n",
       "  'thus the underlying etiology should always be sought         by independent means and, if known, recorded.                                                               ',\n",
       "  '65   mental and behavioural disorders  f07.0 organic personality disorder         this disorder is characterized by a significant alteration of the habitual         patterns of premorbid behaviour. ',\n",
       "  'the expression of emotions, needs,         and impulses is particularly affected. ',\n",
       "  'cognitive functions may be         defective mainly or even exclusively in the areas of planning and         anticipating the likely personal and social consequences, as in the         so-called frontal lobe syndrome. ',\n",
       "  'however, it is now known that this         syndrome occurs not only with frontal lobe lesions but also with         lesions to other circumscribed areas of the brain.          ',\n",
       "  'diagnostic guidelines         in addition to an established history or other evidence of brain disease,         damage, or dysfunction, a definitive diagnosis requires the presence         of two or more of the following features:         ',\n",
       "  '(a) consistently reduced ability to persevere with goal-directed            activities, especially those involving longer periods of time and            postponed gratification;         ',\n",
       "  '(b) altered emotional behaviour, characterized by emotional labili           ty, shallow and unwarranted cheerfulness (euphoria, inappropriate            jocularity), and easy change to irritability or short-lived outbursts            of anger and aggression; in some instances apathy may be a more            prominent feature;         ',\n",
       "  '(c) expression of needs and impulses without consideration of con           sequences or social convention (the patient may engage in dissocial            acts, such as stealing, inappropriate sexual advances, or voracious            eating, or may exhibit disregard for personal hygiene);         ',\n",
       "  '(d) cognitive disturbances, in the form of suspiciousness or paranoid            ideation, and/or excessive preoccupation with a single, usually            abstract, theme (e.g. religion, \"right\" and \"wrong\");         ',\n",
       "  '(e) marked alteration of the rate and flow of language production,            with features such as circumstantiality, over-inclusiveness,            viscosity, and hypergraphia;         ',\n",
       "  '(f) altered sexual behaviour (hyposexuality or change of sexual            preference).          ',\n",
       "  'includes: frontal lobe syndrome                 limbic epilepsy personality syndrome                 lobotomy syndrome                 organic pseudopsychopathic personality                 organic pseudoretarded personality                 postleucotomy syndrome  66                                   f00-f09 organic mental disorders          excludes: enduring personality change after catastrophic experience                   (f62.0)                 enduring personality change after psychiatric illness (f62.1)                 postconcussional syndrome (f07.2)                  postencephalitic syndrome (f07.1)                  specific personality disorder (f60.-)  f07.1 postencephalitic syndrome         the syndrome includes residual behavioural change following recovery         from either viral or bacterial encephalitis. ',\n",
       "  'symptoms are nonspecific         and vary from individual to individual, from one infectious agent         to another, and, most consistently, with the age of the individual         at the time of infection. ',\n",
       "  'the principal difference between this disorder         and the organic personality disorders is that it is often reversible.          ',\n",
       "  'diagnostic guidelines         the manifestations may include general malaise, apathy or irritability,         some lowering of cognitive functioning (learning difficulties), altered         sleep and eating patterns, and changes in sexuality and in social         judgement. ',\n",
       "  'there may be a variety of residual neurological dysfunc        tions such as paralysis, deafness, aphasia, constructional apraxia,         and acalculia.          ',\n",
       "  'excludes: organic personality disorder (f07.0)  f07.2 postconcussional syndrome         the syndrome occurs following head trauma (usually sufficiently         severe to result in loss of consciousness) and includes a number of         disparate symptoms such as headache, dizziness (usually lacking         the features of true vertigo), fatigue, irritability, difficulty in         concentrating and performing mental tasks, impairment of memory,         insomnia, and reduced tolerance to stress, emotional excitement,         or alcohol. ',\n",
       "  'these symptoms may be accompanied by feelings of         depression or anxiety, resulting from some loss of self-esteem and         fear of permanent brain damage. ',\n",
       "  'such feelings enhance the original         symptoms and a vicious circle results. ',\n",
       "  'some patients become         hypochondriacal, embark on a search for diagnosis and cure, and         may adopt a permanent sick role. ',\n",
       "  'the etiology of these symptoms         is not always clear, and both organic and psychological factors have         been proposed to account for them. ',\n",
       "  'the nosological status of this         condition is thus somewhat uncertain. ',\n",
       "  'there is little doubt, however,         that this syndrome is common and distressing to the patient.                                                              ',\n",
       "  '67   mental and behavioural disorders          diagnostic guidelines         at least three of the features described above should be present for         a definite diagnosis. ',\n",
       "  'careful evaluation with laboratory techniques         (electroencephalography, brain stem evoked potentials, brain         imaging, oculonystagmography) may yield objective evidence to         substantiate the symptoms but results are often negative. ',\n",
       "  'the         complaints are not necessarily associated with compensation motives.          ',\n",
       "  'includes: postcontusional syndrome (encephalopathy)                 post-traumatic brain syndrome, nonpsychotic  f07.8 other organic personality and behavioural disorders due to         brain disease, damage and dysfunction         brain disease, damage, or dysfunction may produce a variety of         cognitive, emotional, personality, and behavioural disorders, not all         of which are classifiable under the preceding rubrics. ',\n",
       "  'however, since         the nosological status of the tentative syndromes in this area is         uncertain, they should be coded as \"other\". ',\n",
       "  'a fifth character may         be added, if necessary, to identify presumptive individual entities         such as:          right hemispheric organic affective disorder (changes in the ability         to express or comprehend emotion in individuals with right hemisphere         disorder). ',\n",
       "  'although the patient may superficially appear to be         depressed, depression is not usually present: it is the expression of         emotion that is restricted.          ',\n",
       "  'also code here:         ',\n",
       "  '(a) any other specified but presumptive syndromes of personality            or behavioural change due to brain disease, damage, or dysfunc           tion other than those listed under f07.0-f07.2; and         ',\n",
       "  \"(b) conditions with mild degrees of cognitive impairment not yet            amounting to dementia in progressive mental disorders such as            alzheimer's disease, parkinson's disease, etc. the diagnosis            should be changed when the criteria for dementia are fulfilled.          \",\n",
       "  'excludes: delirium (f05.-)   68                                       f00-f09 organic mental disorders  f07.9 unspecified organic personality and behavioural disorder          due to brain disease, damage and dysfunction           includes: organic psychosyndrome  •am unspecified organic or symptomatic mental disorder           this category should only be used for recording mental disorders          of known organic etiology.           ',\n",
       "  'includes: organic psychosis nos                   symptomatic psychosis nos           excludes: psychosis nos (f29) ']]"
      ]
     },
     "execution_count": 1,
     "metadata": {},
     "output_type": "execute_result"
    }
   ],
   "source": [
    "import os\n",
    "import re\n",
    "\n",
    "from pysbd import Segmenter\n",
    "\n",
    "segmenter = Segmenter()\n",
    "\n",
    "def read_txts_to_list(folder_path):\n",
    "    txt_texts = []\n",
    "    for filename in os.listdir(folder_path):\n",
    "        if filename.endswith('.txt'):\n",
    "            file_path = os.path.join(folder_path, filename)\n",
    "            with open(file_path, 'r', encoding='utf-8') as file:\n",
    "                full_text = file.read()\n",
    "                \n",
    "                # 清理文本，替换换行符和非打印字符\n",
    "                full_text = re.sub(r\"\\n\", \" \", full_text)\n",
    "                full_text = re.sub(r\"\\xa0\", \" \", full_text)\n",
    "                \n",
    "                # 去除可能存在的其他不需要的字符或格式\n",
    "                full_text = re.sub(r\"- \", \"\", full_text)\n",
    "                \n",
    "                # 使用pysbd进行句子分割\n",
    "                txt_texts.append(segmenter.segment(full_text.lower()))\n",
    "    return txt_texts\n",
    "\n",
    "folder_path = 'D:\\\\RexZhann\\\\nlp\\\\papers'\n",
    "\n",
    "txt_texts = read_txts_to_list(folder_path)\n",
    "\n",
    "# 打印或处理txt_texts列表\n",
    "txt_texts"
   ]
  },
  {
   "cell_type": "code",
   "execution_count": 126,
   "metadata": {},
   "outputs": [],
   "source": [
    "keyword = 'dementia'"
   ]
  },
  {
   "cell_type": "code",
   "execution_count": 87,
   "metadata": {},
   "outputs": [
    {
     "data": {
      "text/plain": [
       "430"
      ]
     },
     "execution_count": 87,
     "metadata": {},
     "output_type": "execute_result"
    }
   ],
   "source": [
    "def find_related_sent(keyword, sentences):\n",
    "    related_sent = []\n",
    "    for sent_per_text in sentences:\n",
    "        for i, sent in enumerate(sent_per_text):\n",
    "            if keyword.lower() in sent.lower():\n",
    "                for j in range(np.max([0, i - 5]), np.min([i + 5, len(sent_per_text)])):\n",
    "                    if sent_per_text[j] not in related_sent:\n",
    "                        related_sent.append(sent_per_text[j])\n",
    "    return related_sent\n",
    "\n",
    "\n",
    "articles = find_related_sent(keyword, txt_texts)\n",
    "len(articles)"
   ]
  },
  {
   "cell_type": "code",
   "execution_count": 65,
   "metadata": {},
   "outputs": [
    {
     "data": {
      "text/plain": [
       "['it is the second of these 2 definition of mental disorder, including the dysfunction  functions that has been the focus of most of the criticism of requirement, the definition was not systematically  the latest edition of the manual, dsm-5.1 the claim has been applied in the construction of diagnostic criteria sets in  that the dsm-5 definitions for numerous disorders fail to  this or any earlier dsms. ',\n",
       " 'validly differentiate disordered symptomatic presentations • given that most psychiatric symptoms can occur in  from nondisordered symptomatic presentations, thus         normal people, and given our lack of knowledge of                                              2              psychological and biological mechanisms underlying  creating a risk of wholesale false-positive diagnoses.     ',\n",
       " 'symptoms, various strategies must be used to ensure  the  dsm’s  definition  of  mental  disorder  and  how it  that symptom-based criteria are pathosuggestive and                                                             imply the presence of dysfunction, such as requiring  is  applied  to  the  various  specific  disorders  is  key to an extended symptom duration that is greater than  approaching the false-positives problem systematically.    ',\n",
       " 'expected in a normal person or excluding diagnosis  discrepancies  between  the  definition’s  requirements  and when the context is one in which symptoms are more  the diagnostic criteria for a specific category are often at the likely to represent normal-range responses. ',\n",
       " 'root of problems of false-positive diagnosies.3 the dsm-5 • such strategies should be systematically elaborated                                                             and applied to current and future dsm criteria sets  definition of mental disorder, which is a minor modification with the goal of reducing the risk of false positives and  of the definition that has appeared in all dsms since dsmresponding to public concerns about the pathologization  iii, states that                                           of problems of living.     ',\n",
       " 'a mental disorder is a syndrome characterized by      clinically significant disturbance in an individual’s      cognition, emotion regulation, or behavior that  that the syndromal symptoms represent a dysfunction in      reflects a dysfunction in the psychological,     the processes underlying mental functioning. ',\n",
       " 'second, this      biological, or developmental processes underlying dysfunction must cause harm to the person in the form of a      mental functioning.1, p 20                       disturbance in psychological functioning that is “clinically                                                       significant,”1, p 20 which, as the definition further specifies,  moreover, the definition specifies that even such potentially generally translates into distress or social role impairment  problematic conditions as socially deviant behaviour and that  is  sufficiently  serious  to  warrant  clinical  attention.  ',\n",
       " 'conflicts between the individual and society “are not mental the argument for accepting these central aspects of the  disorders  unless  the  deviance  or  conflict  results  from a dsm’s approach to the concept of mental disorder, and                                            1, p 20 dysfunction in the individual, as described above.”  for understanding the definition’s reference to dysfunction  according to dsm-5’s definition, there are 2 requirements as meaning failure of biologically designed functioning  for a syndrome to be considered indicative of a mental of psychological mechanisms or processes, has been  disorder.  ',\n",
       " 'first,  there  must  be  sufficient  evidence  to  infer persuasively elaborated in wakefield’s harmful dysfunction                                                       analysis of the concept of mental disorder (see wakefield4–9                                                       and wakefield and first10), and will not be reiterated here. ',\n",
       " 'abbreviations adhd    attention-deficit hyperactivity disorder     logically, each diagnostic category in the dsm that is  dsm     diagnostic and statistical manual of mental disorders claimed to be a mental disorder must satisfy the conditions  mdd     major depressive disorder                    set forth in the definition of mental disorder. ',\n",
       " 'the dsm-5 is  mde     major depressive episode                     the first edition of the manual to make this principle fully                                                       explicit  when  introducing  the  definition:  “each  disorder   664   w   la revue canadienne de psychiatrie, vol 58, no 12, décembre 2013                   www.larcp.ca            diagnostic criteria as dysfunction indicators:  bridging the chasm between the definition of mental disorder and diagnostic criteria for specific disorders  identified  in  section  ii  of  the  manual  .  .  .  must  meet the greater with mental disorders because of the greater overlap  definition of a mental disorder. . . . [t]he following elements of psychological symptoms indicative of disorder with  are required . . .”1, p 20                           normal reactions. ',\n",
       " 'to ensure that each dsm disorder meets the requirements in practical terms, given that virtually every psychiatric  for being a mental disorder, diagnostic criteria must include symptom characteristic of a dsm disorder can occur in  elements indicative of both harm and dysfunction. ',\n",
       " 'in some form or in some context in a normally functioning  general,  operationalizing  the  harm  requirement  is  much person, criteria based on symptoms must be constructed  more straightforward than establishing the presence of in such a way as to indicate that the symptom cannot  dysfunction.  ',\n",
       " 'the  harm  requirement  can  be  explicitly reasonably be considered normal (that is, within the range  stated as a criterion. for example, the clinical significance of normal functioning). ',\n",
       " 'for example, even though it is  criterion  (that  is,  “the  disturbance  causes  clinically normal for a person to experience transient periods of  significant  distress  or  impairment  in  social,  occupational, depressed mood from time to time, when that depressed  or other important areas of functioning”1, p 21) is included mood is persistent and part of a syndrome of co-occurring  in most diagnostic criteria sets specifically to establish that symptoms, such as sleep and appetite disturbance, fatigue,  the harm threshold for diagnosis of a disorder has been met. ',\n",
       " 'suicidality, and cognitive distortions regarding self-worth,  often the symptoms listed in the diagnostic criteria and the one can plausibly infer an underlying dysfunction. ',\n",
       " 'features of the symptoms used to support the inference to consequently,  the  main  challenge  in  creating  valid  dysfunction (for example, long duration and association diagnostic criteria for a dsm category is to show that  with other symptoms) are manifestly harmful and any  dysfunction can be inferred from the symptom criteria,  further specification of the harm requirement is redundant. ',\n",
       " 'possibly taking into account the context in which the  for example, the mdd clinical significance criterion has symptoms occur.3,14 to our knowledge, there has been no  been shown to be redundant and unnecessary in this way; if systematic exploration of how this is accomplished. ',\n",
       " 'in this  you have sufficient symptoms to qualify for mdd, you will paper, we perform an initial reconnaissance of the various  almost certainly report significant distress or impairment in strategies that are used in formulating dsm diagnostic                    11–13 your role functioning.                               ',\n",
       " 'criteria to indicate that a symptomatic presentation meets the  however, rarely a dsm-5 category’s symptoms are mild dysfunction requirement, and the challenges each strategy  enough that the harm requirement is not clearly satisfied. ',\n",
       " '(327.32)                              ',\n",
       " 'brain syndrome                                                            dsm-ii i classification 17  substance use disorders                       paranoid disorders code in fifth digit: 1 = continuous,          297.10 paranoia 2 = episodic, 3 = in remission, 0 =           297.30 shared paranoid disorder unspecified.                                  ',\n",
       " '298.30 acute paranoid disorder                                               297.90 atypical paranoid disorder 305.0x alcohol abuse, 303.9x alcohol dependence                     psychotic disorders not          ',\n",
       " '(alcoholism),                        elsewhere classified 305.4x barbiturate or similarly acting          sedative or hypnotic abuse,          295.40 schizophreniform disorder 304.1x barbiturate or similarly acting        298.80 brief reactive psychosis          sedative or hypnotic de            295.70 schizoaffective disorder          pendence,                            298.90 atypical psychosis 305.5x opioid abuse, 304.ox opioid dependence,                     neurotic disorders: these are in305.6x cocaine abuse,                         cluded in affective, anxiety, somato305.7x amphetamine or similarly               form, dissociative, and psychosexual          acting sympathomimetic               disorders. ',\n",
       " 'in order to facilitate the          abuse,                               identification of the categories that in 304.4x amphetamine or similarly               dsm-ii were grouped together in the          acting sympathomimetic               class of neuroses, the dsm-ii terms are          dependence,                          included separately in parentheses 305.9x phencyclidine ',\n",
       " '(pcp) ',\n",
       " 'or similarly       after the corresponding categories.          ',\n",
       " 'acting arylcyclohexylamine           these dsm-ii terms are included in icd         abuse, ',\n",
       " '(328.4x)                      ',\n",
       " '9-cm and therefore are acceptable as 305.3x hallucinogen abuse,                    alternatives to the recommended dsm305.2x cannabis abuse,                        iii terms that precede them. ',\n",
       " '304.3x cannabis dependence, 305.1x tobacco dependence,                    affective disorders 305.9x other, mixed or unspecified            major affective disorders          substance abuse, 304.6x other specified substance              code major depressive episode in fifth          dependence,                          digit: 6 = in remission, 4 = with 304.9x unspecified substance                  psychotic features ',\n",
       " '(the unofficial non         dependence,                          icd-9-cm fifth digit 7 may be used 304.7x dependence on combination              instead to indicate that the psychotic          of opioid and other non            features are mood-incongruent), 3 =          alcoholic substance,                 with melancholia, 2 — without melan304.8x dependence on combination of           cholia, 0 = unspecified.          ',\n",
       " 'substances, excluding opioids          and alcohol,                         code manic episode in fifth digit:                                               6 = in remission, 4 = with psychotic                                               features ',\n",
       " '(the unofficial non-icd-9-cm schizophrenic disorders                                               fifth digit 7 may be used instead to indicode in fifth digit: 1 = subchronic,          cate that the psychotic features are 2 =: chronic, 3 = subchronic with acute       mood-incongruent), 2 = without psyexacerbation, 4 — chronic with acute          chotic features, 0 = unspecified. ',\n",
       " 'exacerbation, 5 = in remission, 0 = unspecified.                                        ',\n",
       " 'bipolar disorder,                                               296.6x mixed,       schizophrenia,                          296.4x manic, 295.1x disorganized,                          296.5x depressed, 295.2x catatonic, 295.3x paranoid,                                    major depression, 295.9x undifferentiated,                      296.2x single episode, 295.6x residual,                              296.3x recurrent,   18 dsm-iii classification  other specific affective disorders            302.5x transsexualism, 301.13 cyclothymic disorder                  302.60 gender identity disorder of 300.40 dysthymic disorder                             childhood          ',\n",
       " '(or depressive neurosis)             ',\n",
       " '302.85 atypical gender identity dis                                                      order atypical affective disorders 296.70 atypical bipolar disorder 296.82 atypical depression                    paraphilias  anxiety disorders                             302.81 fetishism                                               302.30 transvestism       phobic disorders ',\n",
       " '(or phobic             302.10 zoophilia       neuroses)                               ',\n",
       " '302.20 pedophilia 300.21 agoraphobia with panic attacks         302.40 exhibitionism 300.22 agoraphobia without panic                                               302.82 voyeurism          attacks                                               302.83 sexual masochism 300.23 social phobia                                               302.84 sexual sadism 300.29 simple phobia                                               302.90 atypical paraphilia       anxiety states ',\n",
       " 'the nature of these changes and whether they should be considered true decrements of function, however, remain controversial. ',\n",
       " 'the diagnosis of dementia is warranted only if intellectual deterioration is of sufficient severity to interfere with social or occupational functioning. ',\n",
       " 'dementia is not synonymous with aging.     ',\n",
       " 'in delirium there is also impairment of intellectual abilities, but it occurs in the context of clouding of consciousness; in dementia the state of consciousness is normal. ',\n",
       " 'the clinical course of these two syndromes also differs. ',\n",
       " 'in delirium symptoms typically fluctuate, whereas in dementia they are relatively stable. ',\n",
       " 'an organic mental disorder persisting in unchanged form for more than a few months suggests dementia rather than delirium. ',\n",
       " '(see also delirium, differential diagnosis, p. 106.)     ',\n",
       " 'schizophrenia, especially when chronic, may be associated with some degree of intellectual deterioration. ',\n",
       " 'the absence of identifiable brain pathology helps rule out the additional diagnosis of dementia.                                           ',\n",
       " 'organic mental disorders 111       individuals with a major depressive episode may complain of memory im pairment, difficulty in thinking and concentrating, and an overall reduction in  intellectual abilities. ',\n",
       " 'they may also perform poorly on mental-status examination  and neuropsychological testing. ',\n",
       " 'these features may suggest the possible diagno sis of dementia, and this phenomenon is sometimes known as \"pseudodemen tia.\" depression, however, is primarily a disturbance of mood. ',\n",
       " 'any cognitive  deficits observed may be viewed as secondary to the disturbed affect. ',\n",
       " 'if suffi ciently motivated to perform, individuals with depression usually demonstrate  intact cognitive function. ',\n",
       " 'dementia, on the other hand, is basically a disorder of  intellectual function. ',\n",
       " 'abnormalities of mood are less frequent and, when present,  less pervasive than in depression. ',\n",
       " 'the clinical history also helps to differentiate between the two. ',\n",
       " 'in depressive pseudodementia, the onset can frequently be  dated with some precision, and symptoms progress more rapidly than in true de mentia. ',\n",
       " 'in addition, there may be a history of previous mental illness. ',\n",
       " 'on formal  mental-status testing there may be considerable variability in performance as opposed to the more consistently poor performance of individuals with demen tia. ',\n",
       " 'in the absence of evidence of a specific organic etiologic factor, if the fea tures suggesting major depressive episode are at least as prominent as those sug gesting dementia, it is best to diagnose major depressive episode and to assume  that the features suggesting dementia are secondary to the depression. ',\n",
       " 'a thera peutic trial with an antidepressant drug or electroconvulsive therapy ',\n",
       " '(ect) ',\n",
       " '(if  not contraindicated) ',\n",
       " 'may clarify the diagnosis in that if the disorder is actually a  major depressive episode, cognitive impairment may resolve as the mood im proves.     ',\n",
       " 'factitious disorder with psychological symptoms may mimic dementia, but rarely.     ',\n",
       " 'diagnostic criteria for dementia   ',\n",
       " 'a. a loss of tntellectuaj abilities of sufficient severity to interfere with   social or occupational functioning.    ',\n",
       " 'b. memory impairment    ',\n",
       " 'c. at least one of the following:        ',\n",
       " '(1) ',\n",
       " 'impairment of abstract thinking, as manifested by concrete inter      pretation of proverbs, inability to find similarities and differences       between related words, difficulty in defining words and concepts,       and other similar tasks       ',\n",
       " '(2) ',\n",
       " 'impaired judgment       ',\n",
       " 'sensory deprivation, as in blindness or deafness, is another cause. ',\n",
       " 'seizure foci, especially in the temporal and occipital lobes, may also cause the syndrome.      ',\n",
       " 'differential diagnosis. ',\n",
       " 'in delirium, hallucinations, if present, occur with clouding of consciousness. ',\n",
       " 'in dementia, hallucinations, if present, are associated with a general loss of intellectual abilities. ',\n",
       " 'in organic delusional syndrome, hallucinations, if present, are overshadowed by the prominent delusions.     ',\n",
       " 'schizophrenia and affective disorders may involve hallucinations, but no specific organic factor can be demonstrated.     ',\n",
       " 'hypnogogic and hypnopompic hallucinations may occur in individuals without a mental disorder, but they occur only on falling asleep or on awakening.     ',\n",
       " 'diagnostic criteria lor organic hallucinosis   a* persistent or recurrent hallucinations are the predominant clinical   feature,    ',\n",
       " 'b. no clouding of consciousness, as in delirium; no significant loss of   intellectual abilities, as in dementia; no predominant disturbance of   mood, as in organic affective syndrome; no predominant delusions, as   in organic delusional syndrome,    c evidence, from the history, physical examination, or laboratory tests,   of a specific organic factor that is judged to be etiologically related to the   disturbance.                                          ',\n",
       " 'organic mental disorders 117   organic affective syndrome  the essential feature is a disturbance in mood, resembling either a manic epi sode or a major depressive episode, that is due to a specific organic factor. ',\n",
       " 'the  diagnosis is not made if the disturbance in mood occurs in a clouded state of consciousness, as in delirium; if it is accompanied by a significant loss of intellectual abilities, as in dementia, or persistent or recurrent hallucinations, as in organic hallucinosis; or if delusions predominate, as in organic delusional syndrome.     ',\n",
       " 'the clinical phenomenology of this syndrome is the same as that of a manic or major depressive episode ',\n",
       " '(p. 206 and p. 210). ',\n",
       " 'the severity of the disturbance may range from mild to severe. ',\n",
       " 'if delusions or hallucinations are present, they are similar to those described under affective disorders.      ',\n",
       " 'associated features. ',\n",
       " 'mild cognitive impairment is often observed. ',\n",
       " 'any of the features associated with the affective disorders may also be present. ',\n",
       " 'if the mood is depressed, these features may include fearfulness, anxiety, irritability, brooding, excessive somatic concerns, phobias, panic attacks, suspiciousness, and a tearful, sad appearance. ',\n",
       " 'delusions of persecution or worthlessness can occur. ',\n",
       " 'if the mood is manic, irritability and lability of mood may be present. ',\n",
       " 'hallucinations and delusions are more common in the manic form than in the depressed form.      ',\n",
       " 'impairment. ',\n",
       " 'minimal to severe impairment can result.      ',\n",
       " 'complications. ',\n",
       " 'see manic and major depressive episodes ',\n",
       " '(p. 216).      ',\n",
       " 'etiological factors. ',\n",
       " 'this syndrome is usually caused by toxic or metabolic factors. ',\n",
       " 'certain substances, notably reserpine, methyldopa, and some of the hallucinogens, are apt to cause a depressive syndrome. ',\n",
       " 'endocrine disorders are another important etiological factor, and may produce either depressive or manic syndromes. ',\n",
       " 'examples are hyperand hypothyroidism and hyperand hypoadrenocorticalism. ',\n",
       " 'carcinoma of the pancreas is sometimes associated with the depressive syndrome, possibly due to an endocrine disturbance. ',\n",
       " 'viral illness may also cause a depressive syndrome. ',\n",
       " 'structural disease of the brain is a rare cause of an organic affective syndrome.      ',\n",
       " 'first-degree relatives are four times more likely to develop the disease than members of the general population. ',\n",
       " \"in rare cases, primary degenerative dementia of the alzheimer's type is inherited as a dominant trait.      \",\n",
       " 'the normal process of aging has been associated in a number of studies with certain decrements in intellectual functioning. ',\n",
       " 'the nature and significance of these changes are controversial. ',\n",
       " 'the diagnosis of pri  126 diagnostic categories  mary degenerative dementia should be limited to cases in which there is clear evidence of progressive and significant deterioration of intellectual and social or occupational functioning. ',\n",
       " '(see dementia, differential diagnosis, p. 110, for discussion.)     ',\n",
       " \"subdural hematoma, normal-pressure hydrocephalus, cerebral neoplasm, parkinson's disease, vitamin b12 deficiency, hypothyroidism, substance intoxication, and other specific and possibly treatable physical disorders that may cause dementia need to be ruled out by the history, physical examination, and appropriate laboratory tests.     \",\n",
       " 'in multi-infarct dementia the clinical course is more variable and typically progresses in stepwise fashion with focal neurological signs and systemic evidence of vascular disease. ',\n",
       " 'in occasional cases, the two disorders may coexist, and both diagnoses should be recorded.     ',\n",
       " 'elderly individuals with a major depressive episode may have features strongly suggesting dementia. ',\n",
       " 'for a discussion of this important problem in differential diagnosis, see major depressive episode ',\n",
       " '(p. 212) ',\n",
       " 'and dementia ',\n",
       " '(p. 111).  ',\n",
       " 'subtypes primary degenerative dementia, senile onset ',\n",
       " '(after age 65) ',\n",
       " '290.30 with delirium  290.20 with delusions  290.21 with depression  290.00 uncomplicated  primary degenerative dementia, presenile onset ',\n",
       " '(age 65 and below) ',\n",
       " '290.11 with delirium  290.12 with delusions  290.13 with depression  290.10 uncomplicated    diagnostic criteria for primary degenerative dementia   a< dementia ',\n",
       " '(see p. 111).     ',\n",
       " 'typically, the mood emerges shortly after hallucinogen use. ',\n",
       " 'most common is the appearance of depression or anxiety; elation is rare. ',\n",
       " 'the depressive features often include feelings of self-reproach or excessive or inappropriate guilt, accompanied by fearfulness, tension, and physical restlessness. ',\n",
       " 'the individual may be unable to stop talking and have difficulty sleeping. ',\n",
       " 'such individuals are frequently preoccupied with thoughts that they have destroyed their brains, that they have driven themselves crazy and will be unable to return to their normal state. ',\n",
       " 'these thoughts are without delusional conviction. ',\n",
       " 'when there is elation, grandiosity, decreased need for sleep, distractibility, increased activity, and loquacity are also present.      ',\n",
       " 'course. ',\n",
       " 'the course is variable, and may range from a brief, transitory experience to a long-lasting episode that is difficult to distinguish from an affective disorder.      ',\n",
       " 'manic and major depressive episodes.      ',\n",
       " 'an individual with a preexisting affective disorder may take an hallucinogen to elevate his or her mood and then become more depressed. ',\n",
       " 'in such cases it may be difficult or impossible to determine if the increased disturbance in mood is due to hallucinogen affective disorder or is merely an exacerbation of the affective disorder. ',\n",
       " 'see organic affective syndrome, p. 117.     ',\n",
       " 'hallucinogen delusional disorder may also be accompanied by marked affective changes. ',\n",
       " 'this diagnosis preempts a diagnosis of hallucinogen affective disorder.    ',\n",
       " 'diagnostic criteria for hallucinogen affective disorder   a, recent use of a hallucinogen.    ',\n",
       " 'b. development of an organic affective syndrome ',\n",
       " '(p. ',\n",
       " 'even though an  active phase of schizophrenia may begin with confusion, the presence of dis orientation or memory impairment strongly suggests an organic mental dis order. ',\n",
       " '(of course, it is possible for an individual with schizophrenia to have a  superimposed organic mental disorder.)                                            ',\n",
       " 'schizophrenic disorders 187      paranoid disorders are distinguished from schizophrenia by the absence of prominent hallucinations, incoherence, loosening of associations, or bizarre delusions, such as delusions of being controlled or thought broadcasting.     ',\n",
       " 'in affective disorders there often are withdrawal and deterioration in functioning. ',\n",
       " 'these should not be mistaken for prodromal signs of schizophrenia. ',\n",
       " 'in affective disorders the development of delusions or hallucinations follows a period of affective disturbance. ',\n",
       " 'for this reason the diagnosis of schizophrenia is not made unless an affective syndrome, if present, developed after any psychotic symptoms or was brief in duration relative to the duration of the characteristic psychotic symptoms. ',\n",
       " 'the differential diagnosis of schizophrenia from the psychotic forms of the affective disorders, particularly bipolar disorder, is of special importance because of the different long-term treatment implications. ',\n",
       " 'a manic episode with anger and paranoid delusions needs to be distinguished from schizophrenia, paranoid type. ',\n",
       " 'however, an atypical affective disorder or adjustment disorder with depressed mood may be superimposed on schizophrenia, residual type. ',\n",
       " \"an example would be an individual with schizophrenia, residual type, chronic, who could develop a major depressive episode of several months' duration without any psychotic symptoms. \",\n",
       " 'in such a case both schizophrenia and atypical depression should be diagnosed.     ',\n",
       " 'the diagnosis schizoaffective disorder should be made whenever the clinician is unable to make a differential diagnosis between schizophrenia and affective disorder. ',\n",
       " 'although no criteria for schizoaffective disorder are provided in this manual, several examples of clinical situations in which this diagnosis might be appropriate are given on p. 202.     ',\n",
       " 'in schizophreniform disorder, by definition the duration of the illness is less than six months. ',\n",
       " 'the cross-sectional symptom picture may be indistinguishable from schizophrenia, but emotional turmoil and confusion are more likely to occur in schizophreniform disorder. ',\n",
       " 'it should be noted that the six-month duration of illness required for schizophrenia refers to a continuous period of illness. ',\n",
       " 'thus, an individual with several episodes of schizophreniform disorder from each of which there has been full recovery would not be diagnosed as having schizophrenia merely because the total period of illness exceeded six months.     ',\n",
       " 'atypical psychosis is diagnosed when there is a nonaffective psychotic disorder but there is insufficient information to make a diagnosis of schizophrenia. ',\n",
       " 'it is also diagnosed in those unusual instances in which one of the psychotic symptoms of schizophrenia such as an encapsulated delusion of bodily change is present, but there is apparently no deterioration from a previous level of functioning.     ',\n",
       " 'preexisting psychopathology may predispose to the de velopment of this disorder. ',\n",
       " 'individuals with paranoid, histrionic, narcissistic,  schizotypal, or borderline personality disorders are thought to be particularly  vulnerable to its development. ',\n",
       " 'by definition situations involving major stress  predispose to development of this disorder.       ',\n",
       " 'prevalence, sex ratio, and familial pattern. ',\n",
       " 'no information.       ',\n",
       " 'although by definition this diagnosis is not made if  the psychotic symptoms persist for more than two weeks, the diagnosis can be  made soon after the onset of the disturbance without waiting for the expected  recovery. ',\n",
       " 'if the psychotic symptoms last more than two weeks, the diagnosis  should be changed to either schizophreniform disorder, paranoid disorder,  affective disorder, or atypical psychosis.     ',\n",
       " 'organic mental disorders, particularly those involving delirium, organic  delusional syndrome, or intoxication, can be distinguished from this disorder  only on the basis of historical or laboratory information that indicates a known  organic factor.     ',\n",
       " 'schizophreniform disorder by definition requires a duration of more than  two weeks, and frequently there is no precipitating psychosocial stressor.     ',\n",
       " 'manic and major depressive episodes may follow a major psychosocial  stressor. ',\n",
       " 'the diagnosis of a manic or major depressive episode preempts the  diagnosis of brief reactive psychosis, and should be made when the criteria for  it are met whether or not it is associated with a psychosocial stressor.     ',\n",
       " 'individuals with a personality disorder may, under stress, develop brief reactive psychosis, in which case both diagnoses should be made.     ',\n",
       " 'an episode of factitious disorder with psychological symptoms may have apparently psychotic symptoms and may also be precipitated by a psychosocial stressor, but in such cases there is evidence that the symptoms are under voluntary control.     ',\n",
       " 'when malingering presents with apparently psychotic symptoms, there is usually evidence that the illness was feigned for an understandable goal.    ',\n",
       " 'diagnostic criteria for brief reactive psychosis   a, psychotic symptoms appear immediately following a recognizable   psychosocial stressor that would evoke significant symptoms of distress in   almost anyone.    ',\n",
       " 'b. the clinical picture involves emotional turmoil and at least one of the   following psychotic symptoms:        fl) ',\n",
       " 'incoherence or loosening of associations       ',\n",
       " 'delusions       ',\n",
       " '(3) ',\n",
       " '(5) ',\n",
       " 'psychoses with confusing clinical features that make a more specific         diagnosis impossible.   ',\n",
       " 'this page intentionally left blank                                   affective disorders*   the essential feature of this group of disorders is a disturbance of mood, ac companied by a full or partial manic or depressive syndrome, that is not due  to any other physical or mental disorder. ',\n",
       " 'mood refers to a prolonged emotion  that colors the whole psychic life; it generally involves either depression or  elation. ',\n",
       " 'the manic and depressive syndromes each consist of characteristic  symptoms that tend to occur together.      ',\n",
       " 'in other classifications these disorders are grouped in various categories,  including affective, personality, and neurotic disorders.       ',\n",
       " 'subclassification of affective disorders. ',\n",
       " 'the classification of affective dis orders in dsm-iii differs from many other classifications based on such dichot omous distinctions as neurotic vs. psychotic or endogenous vs. reactive.      ',\n",
       " \"in this manual the class affective disorders is divided into major affective  disorders, in which there is a full affective syndrome; other specific affective  disorders, in which there is only a partial affective syndrome of at least two  years' duration; and finally, atypical affective disorders, a category for those  affective disorders that cannot be classified in either of the two specific sub classes.      \",\n",
       " 'major affective disorders include bipolar disorder and major depression,  which are distinguished by whether or not there has ever been a manic episode.  ',\n",
       " 'a category of manic disorder is not included in this classification; instead,  when there has been one or more manic episodes, with or without a history  of a major depressive episode, the category bipolar disorder is used. ',\n",
       " 'bipolar  disorder is subclassified at the fourth digit as mixed, manic, or depressed;  major depression is subclassified at the fourth digit as single episode or re current. ',\n",
       " 'the current episode is further subclassified at the fifth digit to reflect  certain characteristics such as the presence of psychotic features and, in the  case of a major depressive episode, the presence of melancholia.t      other specific affective disorders include cyclothymic disorder and dys thymic disorder. ',\n",
       " 'in cyclothymic disorder there are symptoms characteristic of  both the depressive and the manic syndromes, but they are not of sufficient  severity and duration to meet the criteria for major depressive or manic episodes.  ',\n",
       " 'in dysthymic disorder the symptoms are not of sufficient severity and duration      * the proper descriptive term for this group of disorders should be \"mood disorders\"; however,  common usage and historical continuity favor retention of the term \"affective disorders.\"     ta term from the past, in this manual used to indicate a typically severe form of depression  that is particularly responsive to somatic therapy. ',\n",
       " 'the clinical features that characterize this syndrome  have been referred to as \"endogenous.\" since the term \"endogenous\" implies, to many, the absence  of precipitating stress, a characteristic not always associated with this syndrome, the term \"endoge nous\" is not used in dsm-iii.                                      ',\n",
       " '205   206 diagnostic categories  to meet the criteria for a major depressive episode, and there have been no hypomanic periods. ',\n",
       " \"a theoretically possible third disorder in this group is chronic hypomanic disorder, which would require hypomanic features of at least two years' duration, but not depressive periods; the existence of such a syndrome has not been well enough established to warrant inclusion as a distinct disorder. \",\n",
       " 'these chronic disorders may have a superimposed episode of major affective disorder, in which case both diagnoses should be recorded.  ',\n",
       " 'major affective disorders* the essential feature is an illness involving either a manic episode ',\n",
       " '(see below) ',\n",
       " 'or a major depressive episode ',\n",
       " '(p. 210). ',\n",
       " 'these major affective episodes are not diagnosed if the affective disturbance is due to an organic mental disorder or if it is superimposed on schizophrenia.  ',\n",
       " 'manic episode the essential feature is a distinct period when the predominant mood is either elevated, expansive, or irritable and when there are associated symptoms of the manic syndrome. ',\n",
       " 'these symptoms include hyperactivity, pressure of speech, flight of ideas, inflated self-esteem, decreased need for sleep, distractibility, and excessive involvement in activities that have a high potential for painful consequences, which is not recognized.     ',\n",
       " 'the elevated mood may be described as euphoric, unusually good, cheerful, or high; often has an infectious quality for the uninvolved observer; but is recognized as excessive by those who know the individual well. ',\n",
       " 'the expansive quality of the mood disturbance is characterized by unceasing and unselective enthusiasm for interacting with people and seeking involvement with other aspects of the environment. ',\n",
       " 'although elevated mood is considered the prototypical symptom, the predominant mood disturbance may be irritability, which may be most apparent when the individual is thwarted.     ',\n",
       " 'the hyperactivity often involves excessive planning of and participation in multiple activities ',\n",
       " '(e.g., sexual, occupational, political, religious). ',\n",
       " 'almost invariably there is increased sociability, which includes efforts to renew old acquaintanceships and calling friends at all hours of the night. ',\n",
       " 'the intrusive, domineering, and demanding nature of these interactions is not recognized by the individual. ',\n",
       " 'frequently, expansiveness, unwarranted optimism, grandiosity, and lack of judgment lead to such activities as buying sprees, reckless driving, foolish business investments, and sexual behavior unusual for the individual. ',\n",
       " 'often the activities have a disorganized, flamboyant, or bizarre quality, for example, dressing in colorful or strange garments, wearing excessive, poorly applied make-up, or distributing candy, money, or advice to passing strangers.     ',\n",
       " 'manic speech is typically loud, rapid, and difficult to interrupt. ',\n",
       " 'often it is  * the organization of the text for the major affective disorders departs from the usual method of  presentation in order to avoid redundancy. ',\n",
       " 'the essential features, associated features, differential diagnosis and diagnostic criteria of manic and major depressive episodes are described first. ',\n",
       " 'age at  onset, course and other features of both manic and major depressive episodes are discussed next. ',\n",
       " 'finally, the diagnostic criteria for the specific major affective disorders are listed.                                                ',\n",
       " 'affective disorders 207  full of jokes, puns, plays on words, and amusing irrelevancies. ',\n",
       " 'it may become theatrical, with dramatic mannerisms and singing. ',\n",
       " 'sounds rather than meaningful conceptual relationships may govern word choice ',\n",
       " '(clanging). ',\n",
       " 'if the mood is more irritable than expansive, there may be complaints, hostile comments, and angry tirades.     ',\n",
       " 'frequently there is flight of ideas, ',\n",
       " 'i.e.',\n",
       " ', a nearly continuous flow of accelerated speech with abrupt changes from topic to topic, usually based on understandable associations, distracting stimuli, or plays on words. ',\n",
       " 'characteristically, there is inflated self-esteem, ranging from uncritical selfconfidence to marked grandiosity, which may be delusional. ',\n",
       " 'for instance, advice may be given on matters about which the individual has no special knowledge, such as how to run a mental hospital or the united nations. ',\n",
       " 'despite a lack of any particular talent, a novel may be started, music composed, or publicity sought for some impractical invention. ',\n",
       " 'grandiose delusions involving a special relationship to god or some well-known figure from the political, religious, or entertainment world are common.     ',\n",
       " 'almost invariably there is a decreased need for sleep; the individual awakens several hours before the usual time, full of energy. ',\n",
       " 'when the sleep disturbance is severe, the individual may go for days without any sleep at all and yet not feel tired.     ',\n",
       " 'the term \"hypomania\" is used to describe a clinical syndrome that is similar to, but not as severe as, that described by the term \"mania\" or \"manic episode/\\'      associated features. ',\n",
       " 'a common associated feature is lability of mood, with rapid shifts to anger or depression. ',\n",
       " 'the depression, expressed by tearfulness, suicidal threats, or other depressive symptoms, may last moments, hours, or, more rarely, days. ',\n",
       " 'occasionally the depressive and manic symptoms intermingle, occurring at the same time; or they may alternate rapidly within a few days. ',\n",
       " 'less often, in bipolar disorder, mixed, the depressive symptoms are more prominent and last at least a full day, and there is the full symptom picture of manic and major depressive episodes.     ',\n",
       " 'when delusions or hallucinations are present, their content is usually clearly consistent with the predominant mood ',\n",
       " '(mood-congruent). ',\n",
       " \"god's voice may be heard explaining that the individual has a special mission. \",\n",
       " 'persecutory delusions may be based on the idea that the individual is being persecuted because of some special relationship or attribute. ',\n",
       " 'less commonly, the content of the hallucinations or delusions has no apparent relationship to the predominant mood ',\n",
       " '(mood-incongruent). ',\n",
       " 'the usefulness of the distinction between moodcongruent and mood-incongruent psychotic features is controversial.   ',\n",
       " '208 diagnostic categories      differential diagnosis of manic episode. ',\n",
       " 'organic affective syndromes with mania may be due to such substances as amphetamines or steroids, or to some other known organic factor, such as multiple sclerosis. ',\n",
       " 'or ',\n",
       " '(b):     ',\n",
       " '(a) ',\n",
       " 'delusions or hallucinations whose content does not involve     themes of either inflated worth, power, knowledge, identity, or spe    cial relationship to a deity or famous person. ',\n",
       " 'included are such symp    toms as persecutory delusions, thought insertion, and delusions of     being controlled, whose content has no apparent relationship to any     of the themes noted above.   ',\n",
       " '210 diagnostic categories        ',\n",
       " '(b) ',\n",
       " 'any of the following catatonic symptoms: stupor, mutism, nega      tivism, posturing.    ',\n",
       " '2without psychotic features. ',\n",
       " 'meets the criteria for manic episode,   but no psychotic features are present    0unspecified.  ',\n",
       " 'major depressive episode the essential feature is either a dysphoric mood, usually depression, or loss of interest or pleasure in all or almost all usual activities and pastimes. ',\n",
       " 'this disturbance is prominent, relatively persistent, and associated with other symptoms of the depressive syndrome. ',\n",
       " 'these symptoms include appetite disturbance, change in weight, sleep disturbance, psychomotor agitation or retardation, decreased energy, feelings of worthlessness or guilt, difficulty concentrating or thinking, and thoughts of death or suicide or suicidal attempts.     ',\n",
       " 'an individual with a depressive syndrome will usually describe his or her mood as depressed, sad, hopeless, discouraged, down in the dumps, or in terms of some other colloquial variant. ',\n",
       " 'sometimes, however, the mood disturbance may not be expressed as a synonym for depressive mood but rather as a complaint of \"not caring anymore,\" or as a painful inability to experience pleasure. ',\n",
       " 'in a child with a depressive syndrome there may not be complaints of any dysphoric mood, but its existence may be inferred from a persistently sad facial expression.     ',\n",
       " 'loss of interest or pleasure is probably always present in a major depressive episode to some degree, but the individual may not complain of this or even be aware of the loss, although family members may notice it. ',\n",
       " 'withdrawal from friends and family and neglect of avocations that were previously a source of pleasure are common.     ',\n",
       " 'appetite is frequently disturbed, usually with loss of appetite, but occasionally with increased appetite. ',\n",
       " 'when loss of appetite is severe, there may be significant weight loss or, in the case of children, failure to make expected weight gains. ',\n",
       " 'when appetite is markedly increased there may be significant weight gain.     ',\n",
       " 'sleep is commonly disturbed, more frequently with insomnia present, but sometimes with hypersomnia. ',\n",
       " 'the insomnia may involve difficulty falling asleep ',\n",
       " '(initial insomnia), waking up during sleep and then returning to sleep only with difficulty ',\n",
       " '(middle insomnia), or early morning awakening ',\n",
       " '(terminal insomnia).     ',\n",
       " 'a common delusion is that one is being persecuted because of sinfulness or some inadequacy. ',\n",
       " 'there may be nihilistic delusions of world or personal destruction, somatic delusions of cancer or other serious illness, or delusions of poverty. ',\n",
       " 'hallucinations, when present, are usually transient and not elaborate, and may involve voices that berate the individual for his or her shortcomings or sins.     ',\n",
       " 'less commonly the content of the hallucinations or delusions has no apparent relationship to the mood disturbance ',\n",
       " 'this is particularly the case with persecutory delusions, in which the individual may be at a loss to explain why he or she should be the object of persecution. ',\n",
       " 'the usefulness of the distinction between mood-congruent and mood-incongruent psychotic features is controversial.      ',\n",
       " 'age-specific associated features. ',\n",
       " 'although the essential features of a major depressive episode are similar in infants, children, adolescents, and adults, there are differences in the associated features.     ',\n",
       " 'in prepubertal children separation anxiety may develop and cause the child to cling, to refuse to go to school, and to fear that he or she or the parents will die. ',\n",
       " 'a previous history of separation anxiety may result in more intense anxiety symptoms with the onset of a major depressive episode.     ',\n",
       " 'in adolescent boys negativistic or frankly antisocial behavior may appear. ',\n",
       " 'feelings of wanting to leave home or of not being understood and approved of, restlessness, grouchiness, and aggression are common. ',\n",
       " \"sulkiness, a reluctance to cooperate in family ventures, and withdrawal from social activities, with retreat to one's room, are frequent. \",\n",
       " 'school difficulties are likely. ',\n",
       " 'there may be    212 diagnostic categories  inattention to personal appearance and increased emotionality, with particular sensitivity to rejection in love relationships. ',\n",
       " 'substance abuse may develop.     ',\n",
       " 'in elderly adults there may be symptoms suggesting dementia, such as disorientation, memory loss, and distractibility. ',\n",
       " \"loss of interest or pleasure in the individual's usual activities may appear as apathy; difficulty in concentration as inattentiveness. \",\n",
       " 'these symptoms make the differential diagnosis of \"pseudodementia\" ',\n",
       " '(due to depression) ',\n",
       " 'from true dementia ',\n",
       " '(an organic mental disorder) ',\n",
       " 'particularly difficult ',\n",
       " '(p. 111).      ',\n",
       " 'differential diagnosis of major depressive episode. ',\n",
       " 'an organic affective syndrome with depression may be due to substances such as reserpine, to infectious diseases such as influenza, or to hypothyroidism. ',\n",
       " 'only by excluding organic etiology can one make the diagnosis of a major depressive episode. ',\n",
       " 'for further discussion, see p. 117.     ',\n",
       " 'primary degenerative dementia or multi-infarct dementia, because of the presence of disorientation, apathy, and complaints of difficulty concentrating or of memory loss, may be difficult to distinguish from a major depressive episode occurring in the elderly. ',\n",
       " 'if the features suggesting a major depressive episode  are at least as prominent as those suggesting dementia, it is best to diagnose a  major depressive episode and assume that the features suggesting dementia represent a pseudo-dementia that is a manifestation of the major depressive  episode. ',\n",
       " 'in such cases the successful treatment of the major depressive episode  often results in the disappearance of the symptoms suggesting dementia. ',\n",
       " 'if the  features suggesting dementia are more prominent than the depressive features,  the diagnosis should be the appropriate form of dementia, but the presence of depressive features should be noted.      ',\n",
       " 'if a psychological reaction to the functional impairment associated with a  physical illness that does not involve the central nervous system causes a de pression that meets the full criteria for a major depressive episode, the major  depression should be recorded on axis i, the physical disorder on axis iii, and  the severity of the psychosocial stressor on axis iv. ',\n",
       " 'examples would include  the psychological reaction to the amputation of a leg or to the development of  a life-threatening or incapacitating illness.      ',\n",
       " 'in schizophrenia there is usually considerable depressive symptomatology.  ',\n",
       " 'if an episode of depression follows an episode of schizophrenia and is super imposed upon the residual phase of schizophrenia, the additional diagnosis of  either atypical depression or adjustment disorder with depressed mood may  be made, but not major depression. ',\n",
       " 'an individual with a major depressive  episode may have psychotic symptoms; however, the diagnosis of schizophrenia  is made in the presence of a full depressive syndrome only if the affective  symptoms follow the psychotic symptoms or are brief relative to the duration  of the psychotic symptoms. ',\n",
       " 'an individual with schizophrenia, catatonic type,  may appear to be withdrawn and depressed, and it may be difficult to dis tinguish this condition from major depression with psychomotor retardation.  ',\n",
       " 'in such instances it may be necessary to rely on features that on a statistical  basis are associated differentially with the two disorders. ',\n",
       " 'for example, the  diagnosis of a major depressive episode is more likely if there is a family history                                                 affective disorders 213   of affective disorder, good premorbid adjustment, and a previous episode of  affective disturbance from which there was complete recovery.      ',\n",
       " 'the diagnosis of schizoaffective disorder can be made whenever the clin ician is unable to make a differential diagnosis between a major depressive  episode and schizophrenia. ',\n",
       " 'although no criteria for schizoaffective disorder  are provided in this manual, several examples of clinical situations in which  this diagnosis might be appropriate are given on p. 202.      ',\n",
       " 'in dysthymic and cyclothymic disorders there are features of the depres sive syndrome, but they are not of sufficient severity and duration to meet the  criteria for a major depressive episode. ',\n",
       " 'however, in some instances, a major  depressive episode is superimposed on one of these disorders. ',\n",
       " 'in such cases both diagnoses should be recorded, since it is likely that after recovering from the major depressive episode, either a dysthymic or a cyclothymic disorder will persist.     ',\n",
       " 'chronic mental disorders, such as obsessive compulsive disorder or alcohol dependence, when associated with depressive symptoms, may suggest a major depression. ',\n",
       " 'the additional diagnosis of major depression should be made only if the full depressive syndrome is present and persistent. ',\n",
       " 'in such instances both the chronic mental disorder and the superimposed major depression should be recorded.     ',\n",
       " 'in separation anxiety disorder, depressive symptoms are common, but if the full depressive syndrome is not present, only separation anxiety disorder should be diagnosed. ',\n",
       " 'on the other hand, children with separation anxiety disorder may develop a superimposed major depressive episode, in which case both diagnoses should be made.     ',\n",
       " 'uncomplicated bereavement is distinguished from a major depressive episode and is not considered a mental disorder even when associated with the full depressive syndrome ',\n",
       " '(see p. 333). ',\n",
       " 'however, if bereavement is unduly severe or prolonged, the diagnosis may be changed to major depression.    ',\n",
       " 'diagnostic criteria for major depressive episode   ',\n",
       " 'a. dysphoric mood or loss of interest or pleasure in all or almost ail usual   activities and pastimes. ',\n",
       " 'the dysphoric mood is characterized by symptoms   such as the following: depressed, sad,, blue, hopeless, low, down in the   dumps, irritable. ',\n",
       " 'the mood disturbance must be prominent and relatively   persistent, but not necessarily the most dominant symptom, and does not   include momentary shifts from one dysphoric mood to another dysphoric   mood, ',\n",
       " 'e.g.',\n",
       " ', anxiety to depression to anger, such as are seen in states of   acute psychotic turmoil. ',\n",
       " '(for children under six, dysphoric mood may   have to be inferred from a persistently sad facial expression.)    ',\n",
       " 'b. at least four of the following symptoms have each been present   nearly every day for a period of at least two weeks ',\n",
       " '(in children under   six, at least three of the first four).   ',\n",
       " '+214 diagnostic categories        ',\n",
       " '(i.e., symptoms in criteria a and b above):        ',\n",
       " 'preoccupation with a mood-incongruent delusion or hallucina      tion ',\n",
       " '(see definition below)       ',\n",
       " 'bizarre behavior    ',\n",
       " 'd. not superimposed on either schizophrenia, schizophreniform dis  order, or a paranoid disorder.    ',\n",
       " 'l not due to any organic mental disorder or uncomplicated bereave  ment    fifth-digit code numbers and criteria for subclassification of major   depressive episode   ',\n",
       " '(when psychotic features and melancholia are present the coding sys  tem requires that the clinician record the single most clinically significant   characteristic.)    ',\n",
       " '6in remission. ',\n",
       " 'this fifth-digit category should be used when in the   past the individual met the full criteria for a major depressive episode but   now is essentially free of depressive symptoms or has some signs of the   disorder but does not meet the full criteria.    ',\n",
       " '4with psychotic features, this fifth-digit category should be used   when there apparently is gross impairment in reality testing, as when   there are delusions or hallucinations, or depressive stupor ',\n",
       " '(the individual                                                 affective disorders 215     is mute and ynresponsive). ',\n",
       " 'when possible, specify whether the psychotic    features are mood-congruent or moocnncongruent. ',\n",
       " '(the non~icd*9-cm    fifth-digit 7 may be used instead to indicate that the psychotic features    are mood-incongruent; otherwise, mood-congruence may be assumed,}         mood-congruent psychotic features. ',\n",
       " 'delusions or hallucinations        whose content is entirely consistent with the themes of either per       sonal inadequacy, guilt, disease, death, nihilism, or deserved punish       ment; depressive stupor ',\n",
       " '(the individual rs mute tad unresponsive),         mood-incongruent psychic: features. ',\n",
       " 'delusions or hallucinations        whose content does not involve themes of either personal inade       quacy, guilt, disease, death/nihhlsm, or deserved punishment in       cluded here are such symptoms as ptersecutory delusions, thought        insertion, thought broadcasting) ',\n",
       " 'and delusions of control, whose        content has no apparent relationship to any 61 the themes noted        above.     ',\n",
       " '3with melancholia, loss of pleasure in all or almost all activities, lack    of reactivity to usually pleasurable stimuli ',\n",
       " '(&) ',\n",
       " 'the depression is regularly worse in the morning        ',\n",
       " '(c) ',\n",
       " 'early morning awakening ',\n",
       " '(at least two hours before usual time of        awakening)        ',\n",
       " '(d) ',\n",
       " 'marked psychomotor retardation or agitation        ',\n",
       " '(e) ',\n",
       " 'sigimlicant anorexia or weight loss        ',\n",
       " '(r) ',\n",
       " 'excessive or inappropriate guilt    2without melancholia    0000  other features of both manic and major depressive episodes      age at onset. ',\n",
       " 'the first manic episode of bipolar disorder typically occurs before age 30. ',\n",
       " 'major depression may begin at any age, including infancy, and the age at onset is fairly evenly distributed throughout adult life.      ',\n",
       " 'manic episodes typically begin suddenly, with a rapid escalation of symptoms over a few days. ',\n",
       " 'the episodes usually last from a few days to months and are briefer and end more abruptly than major depressive episodes.   ',\n",
       " '216 diagnostic categories  most individuals who have a disorder characterized by one or more manic episodes ',\n",
       " '(bipolar disorder) ',\n",
       " 'will eventually have a major depressive episode.     ',\n",
       " 'the onset of a major depressive episode is variable, the symptoms usually developing over a period of days to weeks; but in some cases it may be sudden ',\n",
       " '(e.g., when associated with a severe psychosocial stress). ',\n",
       " 'in some instances prodromal symptoms—e.g., generalized anxiety, panic attacks, phobias, or mild depressive symptoms—may occur over a period of several months. ',\n",
       " 'it is estimated that over 50% of individuals with a major depression, single episode, will eventually have another major depressive episode, thus meeting the criteria for major depression, recurrent. ',\n",
       " 'individuals with major depression, recurrent, are at greater risk of developing bipolar disorder than are those with a single episode of major depression.     ',\n",
       " 'in bipolar disorder the initial episode is often manic. ',\n",
       " 'both the manic and the major depressive episodes are more frequent and shorter than the major depressive episodes in major depression. ',\n",
       " 'frequently a manic or major depressive episode is immediately followed by a short episode of the other kind. ',\n",
       " 'in rare cases, over long periods of time there is an alternation of the two kinds of episodes without an intervening period of normal mood ',\n",
       " '(cycling).     ',\n",
       " 'the course of major affective disorders is variable. ',\n",
       " 'some individuals have episodes separated by many years of normal functioning; others have clusters of episodes; and still others have an increased frequency of episodes as they grow older. ',\n",
       " 'usually functioning returns to the premorbid level between epi sodes. ',\n",
       " 'however, in 20% to 35% of cases there is a chronic course with con siderable residual symptomatic and social impairment. ',\n",
       " 'this is more likely when there are frequent recurrent episodes.      ',\n",
       " 'in manic episodes there are usually considerable impairment  in both social and occupational functioning and a need for protection from the  consequences of poor judgment or hyperactivity.      ',\n",
       " 'in major depressive episodes the degree of impairment varies, but there is  always some interference in social and occupational functioning. ',\n",
       " 'if impairment  is severe, the individual may be totally unable to function socially or occupa tionally, or even to feed or clothe himself or herself or maintain minimal per sonal hygiene.       ',\n",
       " 'the most common complications of a manic episode are  substance abuse and the consequences of actions resulting from impaired judg ment, such as financial losses and illegal activities.      ',\n",
       " 'the most serious complication of a major depressive episode is suicide.       ',\n",
       " 'predisposing factors. ',\n",
       " 'chronic physical illness, alcohol dependence, cyclo thymic and dysthymic disorders apparently predispose to the development of  a major affective disorder.      ',\n",
       " 'frequently an episode of major affective disorder follows a psychosocial  stressor. ',\n",
       " 'if an individual has recurrent episodes, however, subsequent episodes  may occur apparently without precipitating factors.                                                 ',\n",
       " 'affective disorders 217       prevalence and sex ratio. ',\n",
       " 'studies in europe and in the united states indi cate that in the adult population, approximately 18% to 23% of the females  and 8% to 11% of the males have at some time had a major depressive episode.  ',\n",
       " 'it is estimated that 6% of the females and 3% of the males have had a major  depressive episode sufficiently severe to require hospitalization.      ',\n",
       " 'it is estimated that from 0.4% to 1.2% of the adult population have had  bipolar disorder. ',\n",
       " 'in contrast to major depression, bipolar disorder is appar ently equally common in women and in men.       ',\n",
       " 'familial pattern. ',\n",
       " 'major affective disorders are more common among family  members than in the general population. ',\n",
       " 'this is particularly true for family members of individuals with bipolar disorder.  ',\n",
       " 'diagnostic criteria for major affective disorders bipolar disorder  296.6x bipolar disorder, mixed    diagnostic criteria lor bipolar disorder, mixed   use fifth-digit coding for manic episode.    ',\n",
       " 'a. current ',\n",
       " '(or most recent) ',\n",
       " 'episode involves the full symptomatic pic  ture of both manic and major depressive episodes ',\n",
       " '(p. 208 and p. 213),   intermixed or rapidly alternating every few days,     ',\n",
       " 'b. depressive symptoms are prominent and last at least a full day.  ',\n",
       " '296.4x bipolar disorder, manic    diagnostic criteria for bipolar disorder, manic       currently ',\n",
       " '(or most recently) ',\n",
       " 'in a manic episode ',\n",
       " '(p. 208). ',\n",
       " '(if there       has been a previous manic episode, the current episode need not       meet the full criteria for a manic episode.)  ',\n",
       " '296.5x bipolar disorder, depressed    diagnostic criteria for bipolar disorder, depressed    ',\n",
       " 'a. has had one or more manic episodes ',\n",
       " '(p. 208),    8. currently ',\n",
       " 'in a major depressive episode ',\n",
       " '(p. 213).   ',\n",
       " '(if there has been a previous major depressive episode, the current epi  sode of depression need not meet the full criteria for a major depres  sive episode.)   ',\n",
       " '218 diagnostic categories  major depression  296.2x major depression, single episode  296.3x major depression, recurrent    diagnostic criteria for major depression   a, one or more major depressive episodes ',\n",
       " '(p. 213).    ',\n",
       " 'b. has never had a manic episode ',\n",
       " '(p. 208).   ',\n",
       " \"other specific affective disorders the essential feature is a long-standing illness of at least two years' duration, with either sustained or intermittent disturbance in mood, and associated symptoms. \",\n",
       " 'a full affective syndrome is not present, and there are no psychotic features. ',\n",
       " 'these disorders usually begin in early adult life, without a clear onset. ',\n",
       " 'this category contains two disorders: cyclothymic disorder and dysthymic disorder. ',\n",
       " 'other terms for these disorders are cyclothymic and depressive personality disorders.  ',\n",
       " \"301.13 cyclothymic disorder the essential feature is a chronic mood disturbance of at least two years' duration, involving numerous periods of depression and hypomania, but not of sufficient severity and duration to meet the criteria for a major depressive or a manic episode \",\n",
       " 'and hypomania. ',\n",
       " 'in addition, during the affective periods there are paired sets of symptoms ',\n",
       " '(see criterion c below). ',\n",
       " 'the following pairs of symptoms are particularly common: feelings of inadequacy ',\n",
       " '(during depressed periods) ',\n",
       " 'and inflated self-esteem ',\n",
       " '(during hypomanic periods); social withdrawal and uninhibited people-seeking; sleeping too much and decreased need for sleep; diminished productivity at work and increased productivity, often associated with unusual and self-imposed working hours; decreased attention or concentration and sharpened and unusually creative thinking.      ',\n",
       " 'associated features are similar to those of manic episode ',\n",
       " '(p. 207) ',\n",
       " 'and major depressive episode ',\n",
       " '(p. 211) ',\n",
       " 'except that by definition there are no psychotic features such as delusions, hallucinations, incoherence, or loosening of associations. ',\n",
       " 'substance abuse is particularly common as a result of                                                 affective disorders 219   self-treatment with sedatives and alcohol during the depressed periods and the  self-indulgent use of stimulants and psychedelics during the hypomanic periods.       ',\n",
       " 'age at onset. ',\n",
       " 'usually early adult life.       ',\n",
       " 'the disorder usually begins without clear onset and has a chronic  course.       ',\n",
       " 'impairment in social and occupational functioning is usually  moderate or severe.       ',\n",
       " '(p. 216). ',\n",
       " 'frequently  manic and major depressive episodes are complications of this disorder. ',\n",
       " 'for this  reason some investigators believe that cyclothymic disorder is a mild form of  bipolar disorder.      ',\n",
       " 'no information.      ',\n",
       " 'prevalence. ',\n",
       " 'this disorder was previously assumed to be rare. ',\n",
       " 'recent evi dence suggests that among outpatients the disorder may be relatively common,  the depressive and hypomanic periods being manifested by loss of interest or  pleasure and an expansive or irritable mood rather than by acknowledged depressed and elevated moods.      ',\n",
       " 'sex ratio. ',\n",
       " 'the disorder is apparently more common in females.      ',\n",
       " 'major depression and bipolar disorder are more common among family members of individuals with cyclothymic disorder than in the general population.      ',\n",
       " 'see manic ',\n",
       " '(p. 208) ',\n",
       " 'and major depressive episodes  ',\n",
       " '(p. 213). ',\n",
       " 'when a major depressive or manic episode is superimposed on cyclothymic disorder, both diagnoses should be made because it is likely that the individual will continue to have cyclothymic disorder after recovery from the major affective disorder.    ',\n",
       " 'diagnostic criteria for cyclothymic disorder   ',\n",
       " 'a. during the past two years, numerous periods during which some   symptoms characteristic of both the depressive and the mmi£ syn  dromes were present, but were not of sufficient severity and duration   to meet the criteria for a major depressive or manic episode.    ',\n",
       " 'b, the depressive periods and hypomanic periods may ibe separated toy   periods of normal mood lasting as bng as months at a time, to^ may be   intermixed, or they may alternate.   ',\n",
       " '220 diagnostic categories    c during depressive periods     during hypomanic periods there is   there is depressed mood or loss of an elevated, expansive, or irritable   interest or pleasure in all or almood and at least three of the fol  most all, usual activities and paslowing:   times, and at least three of the   following:        ',\n",
       " 'insomnia or hypersomnia ',\n",
       " 'overoptimism or exaggeration       toward the future, or broodof past achievements       ing about past events       ',\n",
       " '(12) ',\n",
       " 'tearfulness or crying  ',\n",
       " 'inappropriate laughing, joking,                                   punning    ',\n",
       " 'd. absence of psychotic features such as delusions, hallucinations, in  coherence, or loosening of associations.    ',\n",
       " 'e, not due to any other mental disorder, such as partial remission of   bipolar disorder. ',\n",
       " 'however, cyclothymic disorder may precede bipolar   disorder.  ',\n",
       " '300.40 dysthymic disorder ',\n",
       " '(or depressive neurosis) ',\n",
       " 'the essential feature is a chronic disturbance of mood involving either depressed mood or loss of interest or pleasure in all, or almost all, usual activities and                                                affective disorders 221  pastimes, and associated symptoms, but not of sufficient severity and duration to meet the criteria for a major depressive episode ',\n",
       " '(full affective syndrome).     ',\n",
       " \"for adults, two years' duration is required; for children and adolescents, one year is sufficient.     \",\n",
       " 'the depressed mood may be characterized by the individual as feeling sad, blue, down in the dumps, or low. ',\n",
       " 'the depressed mood or loss of interest or pleasure may be either relatively persistent or intermittent and separated by periods of normal mood, interest, and pleasure. ',\n",
       " 'these normal periods may last a few days to a few weeks. ',\n",
       " 'the diagnosis should not be made if an apparently chronic course has been interrupted by a period of normal mood lasting more than a few months.     ',\n",
       " 'during the depressive periods there are some of the milder features of the depressive syndrome described as part of a major depressive episode on p. 210 ',\n",
       " '(see criterion d below).      ',\n",
       " 'associated features ',\n",
       " '(and age-specific associated features) ',\n",
       " 'are similar to those of major depressive episode ',\n",
       " '(p. 211), except that by definition there are no delusions or hallucinations.     ',\n",
       " 'often an associated personality disturbance warrants an additional diagnosis of a personality disorder on axis ii.      ',\n",
       " 'this disorder usually begins early in adult life, and for this reason was often referred to as depressive personality. ',\n",
       " 'although it may begin in childhood or adolescence, in other cases it may begin at a period later in adulthood, in some instances following a major depression.      ',\n",
       " 'the disorder usually begins without clear onset and has a chronic course.      ',\n",
       " 'impairment and complications. ',\n",
       " 'the impairment in social and occupational functioning is usually mild or moderate because of the chronicity rather than the severity of the depressive syndrome. ',\n",
       " 'predisposing factors include chronic physical disorder, chronic psychosocial stressors, and another mental disorder, such as a personality disorder or an affective disorder that does not completely remit and merges imperceptibly into this condition.   ',\n",
       " '222 diagnostic categories      in children and adolescents predisposing factors are the presence of attention deficit disorder, conduct disorder, mental retardation, a severe specific developmental disorder or an inadequate, disorganized, rejecting and chaotic environment.      ',\n",
       " 'this disorder is apparently common.      ',\n",
       " 'among adults the disorder is apparently more common in females. ',\n",
       " 'in children it seems to occur equally frequently in both sexes.      ',\n",
       " 'for a discussion of the differential diagnosis with major depressive episode, see p. 213.     ',\n",
       " 'when a major depression is in partial remission for a period of two years, dysthymic disorder should be considered as an alternative diagnosis to major depression in remission. ',\n",
       " 'when a major depression is superimposed on dysthymic disorder, both diagnoses should be recorded since it is likely that the individual will continue to have the dysthymic disorder when he or she has recovered from the major depression.     ',\n",
       " 'often the affective features of this disorder are viewed as secondary to an underlying personality disorder. ',\n",
       " 'when an individual meets the criteria for both this disorder and a personality disorder, both diagnoses should be made regardless of the causal relationship between the two. ',\n",
       " 'this disorder is particularly common in individuals with borderline, histrionic and dependent personality disorders.     ',\n",
       " 'normal fluctuations of mood are not as frequent or severe as the depressed mood in dysthymic disorder and there is no interference with social functioning.     ',\n",
       " 'chronic mental disorders such as obsessive compulsive disorder or alcohol dependence, when associated with depressive symptoms may suggest dysthymic disorder. ',\n",
       " \"the additional diagnosis of dysthymic disorder should be made only if the depressed mood, by virtue of its intensity or effect on functioning, can be clearly distinguished from the individual's usual mood. \",\n",
       " 'in children dysthymic disorder may be superimposed on attention deficit disorder, a specific developmental disorder, or an organic mental disorder.    ',\n",
       " 'diagnostic criteria for dysthymic disorder   a, during the past two years lor one year for children and adolescents)   ',\n",
       " 'the individual has been bothered most or all of the time by symptoms   characteristic of the depressive syndrome but that are not of sufficient   severity and duration to meet the criteria for a major depressive episode.    ',\n",
       " 'b. the manifestations of the depressive syndrome may be relatively per  sistent or separated by periods of normal mood lasting a few days to a   few weeks, but no more than a few months at a time.                                                 ',\n",
       " 'affective disorders 223     c during the depressive periods there is either prominent depressed    mood ',\n",
       " '(e,g^ sad, blue, down in the dumps, low) ',\n",
       " 'or marked loss of interest    or pleasure in all, or almost all, usual activities and pastimes.     ',\n",
       " '0. ',\n",
       " 'dyrtiig the depressive periods at least three of the following symp   toms are present:        ; flj insomnia or        000000000000000       . ',\n",
       " 'feettegs of inadequacy^ tess 0£ self-esteem, or self-deprecation        \"\":  ',\n",
       " '(4)\\'\"\" dec\\'reised -\\'etfecpveniess ;oi.',\n",
       " '. .. ',\n",
       " 'enis or... caretak        ',\n",
       " '(9) ',\n",
       " 'inability to respond with apparent pleasure to praise or rewards       ',\n",
       " '(10) ',\n",
       " \"less active or-lattetlv e 'than :-iisual, or feels slowed down or       restless       \",\n",
       " '(11) ',\n",
       " 'pessimiitic attitude toward the future, brooding about past       events/ or feeling, sotry for mil       tearfwjnesi p\\'r crying \"/\" \"\" /\" j\"       000000000000000000000000000000000000     l absence of piychotic tnltiw^suipk a$ delusions, hallucinations, or    incoherence, or loosening of association     ',\n",
       " \"f. if the disturbance is superimposed oft a preexisting mental disorder,    such as 0tof^fvfr-opfrp&^e disorder or alchor or alochol depedependence, the de   prelsed mood, by virtua of 'fe'.\",\n",
       " \"i»lensl%-oi affect on functioning,, can be    clearlyd lstin|ui§hed from-tfie tntkviifcral^ usual '• mood. '   atypical affective disorders   296.70 atypical bipolar disorder this is a residual category for individuals with manic features that cannot be  classified as bipolar disorder or as cyclothymic disorder. \",\n",
       " 'for example, an in dividual who previously had a major depressive episode and now has an episode  of illness with some manic features ',\n",
       " '(hypomanic episode), but not of sufficient  severity and duration to meet the criteria for a manic episode. ',\n",
       " 'such cases have been referred to as \"bipolar ii.\"   296.82 atypical depression this is a residual category for individuals with depressive symptoms who cannot be diagnosed as having a major or other specific affective disorder or adjustment disorder. ',\n",
       " 'examples include the following:   224 diagnostic categories      ',\n",
       " 'a distinct and sustained episode of the full depressive syndrome in an         individual with schizophrenia, residual type, that develops without an         activation of the psychotic symptoms.     ',\n",
       " 'a disorder that fulfills the criteria for dysthymic disorder; however,         there have been intermittent periods of normal mood lasting more than         a few months.     ',\n",
       " 'a brief episode of depression that does not meet the criteria for a         major affective disorder and that is apparently not reactive to psycho        social stress, so that it cannot be classified as an adjustment disorder.                                   ',\n",
       " 'when more than one type is present, multiple diagnoses should be made.     ',\n",
       " 'although anxiety related to separation from parental figures is a form of phobic reaction, it is classified as separation anxiety disorder, in the section disorders usually first evident in infancy, childhood, or adolescence ',\n",
       " '(p. 50). ',\n",
       " 'similarly, phobic avoidance limited to sexual activities is classified as a psychosexual disorder not elsewhere classified ',\n",
       " '(p. 282).     ',\n",
       " 'although simple phobia is the most common type of phobic disorder in                                  225   226 diagnostic categories  the general population/ agoraphobia is the most common among those seeking treatment.  ',\n",
       " '300.21 agoraphobia with panic attacks  300.22 agoraphobia without panic attacks the essential feature is a marked fear of being alone, or being in public places from which escape might be difficult or help not available in case of sudden incapacitation. ',\n",
       " \"normal activities are increasingly constricted as the fears or avoidance behavior dominate the individual's life. \",\n",
       " 'the most common situations avoided involve being in crowds, such as on a busy street or in crowded stores, or being in tunnels, on bridges, on elevators, or on public transportation. ',\n",
       " 'often these individuals insist that a family member or friend accompany them whenever they leave home.     ',\n",
       " 'the disturbance is not due to a major depressive episode, obsessive compulsive disorder, paranoid personality disorder, or schizophrenia.     ',\n",
       " 'often the initial phase of the disorder consists of recurrent panic attacks. ',\n",
       " '(for a description of panic attacks, see p. 230.) ',\n",
       " 'the individual develops anticipatory fear of having such an attack and becomes reluctant or refuses to enter a variety of situations that are associated with these attacks. ',\n",
       " 'when there is a history of panic attacks ',\n",
       " '(which may or may not be currently present) ',\n",
       " 'associated with avoidance behavior, the diagnosis of agoraphobia with panic attacks should be made. ',\n",
       " 'where there is no such history ',\n",
       " '(or this information is lacking), the diagnosis of agoraphobia without panic attacks should be made.      ',\n",
       " 'anxiety disorders 227      sex ratio. ',\n",
       " 'the disorder is more frequently diagnosed in women.      ',\n",
       " 'in schizophrenia, major depression, obsessive compulsive disorder and paranoid personality disorder there may be phobic avoidance of certain situations. ',\n",
       " 'the diagnosis of agoraphobia is not made if a phobia is due to any of these disorders.    ',\n",
       " 'diagnostic criteria for agoraphobia   ',\n",
       " 'a. the individual has marked fear of and thus avoids being alone or m   public places from which escape might be difficult or help not available   in case of sudden incapacitation, ',\n",
       " ', crowds, tunnels, bridges, public   transportation.    ',\n",
       " \"b. there is increasing constriction of normal activities until the fears or   avoidance behavior dominate the individual's life.    \",\n",
       " 'c. not due to a major depressive episode, obsessive compulsive dis  order, paranoid personality disorder, or schizophrenia.  ',\n",
       " '300.23 social phobia the essential feature is a persistent, irrational fear of, and compelling desire to avoid, situations in which the individual may be exposed to scrutiny by others. ',\n",
       " 'there is also fear that the individual may behave in a manner that will be humiliating or embarrassing. ',\n",
       " 'marked anticipatory anxiety occurs if the individual is confronted with the necessity of entering into such a situation, and he or she therefore attempts to avoid it. ',\n",
       " 'the disturbance is a significant source of distress and is recognized by the individual as excessive or unreasonable. ',\n",
       " 'it is not due to any other mental disorder. ',\n",
       " 'examples of social phobias are fears of speaking or performing in public, using public lavatories, eating in public, and writing in the presence of others. ',\n",
       " 'generally an individual has only one social phobia.     ',\n",
       " 'usually the individual is aware that the fear is that others will detect signs of anxiety in the phobic situation. ',\n",
       " 'for example, the individual with a fear of writing in the presence of others is concerned that others may detect a hand tremor. ',\n",
       " \"i  said, boy, i'm not going to know what's going on in this. \",\n",
       " \"but it seemed to get so murky, and everybody's reports were so negative. \",\n",
       " \"huh, i thought, i  don't want any part of this, and i don't care who was in on it, and all i could figure out was artie had something to do with it. \",\n",
       " 'artie was trying to flush the bathroom toilet of the white house or something. ',\n",
       " 'she was trying to do something fairly simple. ',\n",
       " 'the tour guests stuck or something. ',\n",
       " 'she got blamed because the water overflowed, went down in the basement, down, to the kitchen. ',\n",
       " 'they had a, they were going to have to repaint and restore the white house room, the enormous living room. ',\n",
       " 'and then it was at this reunion they were having.  ',\n",
       " \"and it's just such a mess and i just thought, well, i'm just going to pretend like i don't even know what's going on. \",\n",
       " 'so i came downstairs and \\'cause i pretended like i didn\\'t know what was going on, i slipped on the floor of the                                         glossary of technical terms 363  kitchen, cracking my toe, when i was teaching some kids how to do some double dives.\"     loosening of associations may be seen in schizophrenia, manic episodes, and other psychotic disorders.  magical thinking. the individual believes that his or her thoughts, words, or actions might, or will in some manner cause or prevent a specific outcome in some way that defies the normal laws of cause and effect. example: a man believed that if he said a specific prayer three times each night, his mother\\'s death might be prevented indefinitely; a mother believed that if she had an angry thought her child would become ill.     magical thinking may be part of ideas of reference or may reach delusional proportions when the individual maintains a firm conviction about the belief despite evidence to the contrary.     magical thinking is seen in children, in people in primitive cultures, and in schizotypal personality disorder, schizophrenia, and obsessive compulsive disorder.  mental disorder. in dsm-iii, a mental disorder is conceptualized as a clinically significant behavioral or psychologic syndrome or pattern that occurs in an individual and that typically is associated with either a painful symptom (distress) or impairment in one or more important areas of functioning (disability). in addition, there is an inference that there is a behavioral, psychologic, or biologic dysfunction, and that the disturbance is not only in the relationship between the individual and society. when the disturbance is limited to a conflict between an individual and society, this may represent social deviance, which may or may not be commendable, but is not by itself a mental disorder.  mood. a pervasive and sustained emotion that in the extreme, markedly colors the person\\'s perception of the world. mood is to affect as climate is to weather. common examples of mood include depression, elation, anger, and anxiety.          mood, dysphoric. an unpleasant mood, such as depression, anxiety, or     irritability.          mood, elevated. a mood that is more cheerful than normal; it does not     necessarily imply pathology.          mood, euphoric. an exaggerated feeling of well-being. as a technical     term, euphoria implies a pathological mood. whereas the individual with a     normally elevated mood may describe himself or herself as being in \"good     spirits,\" \"very happy,\" or \"cheerful,\" the euphoric person is likely to     exclaim that he or she is \"on top of the world,\" \"up in the clouds,\" or to     say, \"i feel ecstatic,\" \"i\\'m flying,\" or \"i am high.\"          mood, euthymic. mood in the \"normal\" range, which implies the ab    sence of depressed or elevated mood.   364 appendix b          mood, expansive. lack of restraint in expressing one\\'s feelings, fre    quently with an overvaluation of one\\'s significance or importance. there     may also be elevated or euphoric mood.          mood, irritable. internalized feeling of tension associated with being     easily annoyed and provoked to anger.  mood-congruent psychotic features. delusions or hallucinations whose content is entirely consistent with either a depressed or a manic mood. if the mood is depressed, the content of the delusions or hallucinations would involve themes of either personal inadequacy, guilt, disease, death, nihilism, or deserved punishment. if the mood is manic, the content of the delusions or hallucinations would involve themes of inflated worth, power, knowledge, or identity, or special relationship to a deity or a famous person.  mood-incongruent psychotic features. delusions or hallucinations whose content is not consistent with either a depressed or a manic mood. in the case of depression, a delusion or hallucination whose content does not involve themes of either personal inadequacy, guilt, disease, death, nihilism, or deserved punishment. in the case of mania, a delusion or hallucination whose content does not involve themes of either inflated worth, power, knowledge, or identity or special relationship with a deity or a famous person. examples of such symptoms are persecutory delusions, thought insertion, thought broadcasting, and delusions of being controlled, whose content has no apparent relationship to any of the themes noted above. (note: the catatonic symptoms of stupor, mutism, negativism, and posturing in manic episodes are also considered mood-incongruent psychotic features.)  neologisms. new words invented by the subject, distortions of words, or standard words to which the subject has given new, highly idiosyncratic meaning. the judgment that neologisms are present should be made cautiously, taking into account the subject\\'s educational and cultural background. examples: \"i was accused of midigation\" (meaning the subject was accused of breaking the law). \"they had an insinuating machine next door\" (person explaining how her neighbors were bothering her).     neologisms may be observed in schizophrenia and other psychotic disorders.  neurotic disorder. a mental disorder in which the predominant disturbance is a symptom or group of symptoms that is distressing to the individual and is recognized by him or her as unacceptable and alien (ego-dystonic); reality testing is grossly intact. behavior does not actively violate gross social norms (though it may be quite disabling). the disturbance is relatively enduring or recurrent without treatment, and is not limited to a transitory reaction to stressors. there is no demonstrable organic etiology or factor.  neurotic process. a specific etiological process involving the following                                         glossary of technical terms 365  sequence: (1) unconscious conflicts between opposing desires or between desires and prohibitions, which cause (2) unconscious perception of anticipated danger or dysphoria, which leads to (3) use of defense mechanisms that result in (4) either symptoms, personality disturbance, or both.  obsessions. recurrent, persistent ideas, thoughts, images, or impulses that are ego-dystonic, that is, they are not experienced as voluntarily produced, but rather as ideas that invade consciousness.     obsessions are characteristic of obsessive compulsive disorder and may also be seen in schizophrenia.  orientation. awareness of where one is in relation to time, place, and person.  overvalued idea. an unreasonable and sustained belief or idea that is maintained with less than delusional intensity. it differs from an obsessional thought in that the person holding the overvalued idea does not recognize its absurdity and thus does not struggle against it. as with a delusion, the idea or belief is not one that is ordinarily accepted by other members of the person\\'s culture or subculture.     example: a patient with a long-standing hand-washing compulsion thought there might be danger in shaking hands with people, because they might have recently been inoculated against smallpox and be infectious. although she acknowledged that the danger might not be real, she could not accept reassurances that there was medically no danger.  panic attacks. discrete periods of sudden onset of intense apprehension, fearfulness, or terror, often associated with feelings of impending doom. during the attacks there are such symptoms as dyspnea, palpitations, chest pain or discomfort, choking or smothering sensations, and fear of going crazy or losing control.     panic attacks are characteristic of panic disorder, but may also occur in somatization disorder, major depression and schizophrenia.  paranoid ideation. ideation, of less than delusional proportions, involving suspiciousness or the belief that one is being harassed, persecuted, or unfairly treated. in some instances the term is used when the clinician is unsure of whether the disturbances are actually delusional. ideas of reference often involve paranoid ideation.  perseveration. persistent repetition of words, ideas, or subjects so that, once an individual begins speaking about a particular subject or uses a particular word, it continually recurs. perseveration differs from the repetitive use of \"stock words\" or interjections such as \"you know\" or \"like.\"     examples: \"i think i\\'ll put on my hat, my hat, my hat, my hat.\" interviewer: \"tell me what you are like, what kind of person you are.\" subject:   366 appendix b  \"i\\'m from marshalltown, iowa. that\\'s 60 miles northwest, northeast of des moines, iowa. and i\\'m married at the present time. i\\'m 36 years old. my wife is 35. she lives in garwin, iowa. that\\'s 15 miles southeast of marshalltown, iowa. i\\'m getting a divorce at the present time. and i am at present in a mental institution in iowa city, iowa, which is 100 miles southeast of marshalltown, iowa.\"     perseveration is most commonly seen in organic mental disorders, schizophrenia, and other psychotic disorders.  personality. deeply ingrained patterns of behavior, which include the way one relates to, perceives, and thinks about the environment and oneself. personality traits are prominent aspects of personality, and do not imply pathology. personality disorder implies inflexible and maladaptive patterns of sufficient severity to cause either significant impairment in adaptive functioning or subjective distress.  phobia. a persistent, irrational fear of a specific object, activity, or situation that results in a compelling desire to avoid the dreaded object, activity, or situation (the phobic stimulus). more commonly, the individual does actually avoid the feared situation or object, though he or she recognizes that the fear is unreasonable and unwarranted by the actual dangerousness of the object, activity, or situation. some individuals with a phobia claim that their avoidance is rational because they anticipate overwhelming anxiety or some other strong emotion that is out of their control; they do not claim, however, that their anxiety is rationally justified.  poverty of content of speech. speech that is adequate in amount but conveys little information because of vagueness, empty repetitions, or use of stereotyped or obscure phrases. the interviewer may observe that the individual has spoken at some length but has not given adequate information to answer a question. alternatively, the individual may provide enough information to answer the question, but require many words to do so, so that his or her lengthy reply can be summarized in a sentence or two. the term poverty of content of speech is generally not used when the speech is, for the most part, not understandable (incoherence).     example: interviewer: \"ok. why is it, do you think, that people believe in god?\" patient: \"well, first of all because, he is the person that, is their personal savior. he walks with me and talks with me. and uh, the understanding that i have, a lot of peoples, they don\\'t really know their own personal self. because they ain\\'t, they all, just don\\'t know their own personal self. they don\\'t, know that he uh, seemed like to me, a lot of em don\\'t understand that he walks and talks with them. and uh, show \\'em their way to go. i understand also that, every man and every lady, is just not pointed in the same direction. some are pointed different. they go in their different ways. the way that jesus christ wanted \\'em to go. myself, i am pointed in the ways of uh, knowing right from wrong, and doing it. i can\\'t do any more, or not less, than that.\"                                         glossary of technical terms 367  poverty of speech. restriction in the amount of speech, so that spontaneous speech and replies to questions are brief and unelaborated. when the condition is marked, replies may be monosyllabic, and some questions may be unanswered.     poverty of speech occurs frequently in schizophrenia, major depressive episodes, and organic mental disorders, such as dementia.  pressure of speech. speech that is increased in amount, accelerated, and difficult or impossible to interrupt. usually it is also loud and emphatic. frequently, the individual talks without any social stimulation and may continue to talk even though no one is listening.     pressure of speech is most often seen in manic episodes, but may also occur in some cases of organic mental disorders, major depression with psychomotor agitation, schizophrenia, other psychotic disorders, and, occasionally, acute reactions to stress.  prodromal. early signs or symptoms of a disorder.  pseudodementia. clinical features resembling a dementia that are not due to organic brain dysfunction or disease. pseudodementia may occur in a major depressive episode or may be seen in factitious disorder with psychological symptoms.  psychomotor agitation. excessive motor activity associated with a feeling of inner tension; the activity is usually nonproductive and repetitious. when the agitation is severe, it may be accompanied by shouting or loud complaining. the term should be used in a technical sense to refer only to states of tension or restlessness that are accompanied by observable excessive motor activity. examples: inability to sit still, pacing, wringing of hands, pulling at clothes.  psychomotor retardation. visible generalized slowing down of physical reactions, movements, and speech.  psychotic. a term indicating gross impairment in reality testing. it may be used to describe the behavior of an individual at a given time, or a mental disorder in which at some time during its course all individuals with the disorder have grossly impaired reality testing. when there is gross impairment in reality  testing, the individual incorrectly evaluates the accuracy of his or her percep tions and thoughts and makes incorrect inferences about external reality, even in  the face of contrary evidence. the term psychotic does not apply to minor dis tortions of reality that involve matters of relative judgment. for example, a  depressed person who underestimated his achievements would not be described  as psychotic, whereas one who believed he had caused a natural catastrophe  would be so described.     direct evidence of psychotic behavior is the presence of either delusions or  hallucinations without insight into their pathological nature. the term psychotic  is sometimes appropriate when an individual\\'s behavior is so grossly disorga  368 appendix b  nized that a reasonable inference can be made that reality testing is disturbed. examples include markedly incoherent speech without apparent awareness by the person that the speech is not understandable, and the agitated, inattentive, and disoriented behavior seen in alcohol withdrawal delirium.     in dsm-ii the term psychotic was applied to individuals whose \"mental functioning [was] sufficiently impaired to interfere grossly with their capacity to meet the ordinary demands of life,\" whether or not there was impaired reality testing. this definition of psychotic did not conform to common usage, which generally limited use of the term to impairment in reality testing, as does the dsm-iii definition. as a result, the value of the term for communication was diminished, since it was then unclear whether or not an individual described as being psychotic had gross impairment in reality testing. it should also be noted that an individual with a nonpsychotic mental disorder may exhibit psychotic behavior, though rarely. for example, an individual with obsessive compulsive disorder may at times come to believe in the reality of the danger of being contaminated by shaking hands with strangers.     in dsm-iii the psychotic disorders include pervasive developmental disorders, schizophrenic and paranoid disorders, psychotic disorders not elsewhere classified, some organic mental disorders, and some affective disorders.  residual. the phase of an illness that occurs after remission of the florid symptoms or the full syndrome. examples: the residual states of infantile autism, attention deficit disorder, and schizophrenia.  sign. an objective manifestation of a pathological condition. signs are observed by the examiner rather than reported by the individual.  symptom. a manifestation of a pathological condition. although in some uses of the term it is limited to subjective complaints, in common use \"symptom\" includes objective signs of pathological conditions as well.  syndrome. a grouping of symptoms that occur together and that constitute a recognizable condition. the term \"syndrome\" is less specific than \"disorder\" or \"disease.',\n",
       " '\" the term \"disease\" generally implies a specific etiology or pathophysiological process. ',\n",
       " 'in dsm-iii most of the disorders are, in fact, syndromes.                  ',\n",
       " 'appendix c   annotated comparative listing     of dsm-ii and dsm-iii*   this page intentionally left blank                                                       appendixc:     annotated comparative listing                  of dsm-ii and dsm-iii*   this section lists all of the specific categories included in the previous manual (dsm-ii) and the specific dsm-iii categories that are equivalent to or subsumed by them. ',\n",
       " 'because of the greater precision with which the dsm-iii categories are described and because the diagnostic concepts have often been modified, the degree of equivalence varies. ',\n",
       " '(for example, in dsm-iii the category of schizophrenia is more restrictive than the dsm-ii category.) whenever a category in one manual corresponds to several categories in the other, the latter categories are enclosed by one brace. ',\n",
       " 'in some instances, several categories from one manual are equivalent to several categories from the other manual. ',\n",
       " 'in such cases, a double brace is used.  ',\n",
       " 'this text should not be used as a conversion between dsm-ii and icd-9-cm. ',\n",
       " 'in a number of instances, the conceptual reclassification of disorders is unique to dsm-iii and does not conform to the classification of these disorders in icd9-cm. ',\n",
       " 'the other dsm-lll categories are included here because of the heterogeneous nature of individuals previously classified as having schizo-affective schizophrenia (20, 21). ',\n",
       " 'in dsm-lll schizoaffective disorder is a residual category, not included in schizophrenia, and is to be used when there is uncertainty about the differential diagnosis between an affective disorder and either schizophrenia, schizophreniform disorder, or paranoid disorder.                                               ',\n",
       " '299.0x infantile autism 295.8 schizophrenia, chidhood                299.9x childhood onset pervasive de                                                        velopmental disorder when children or adolescents have an illness that meets the criteria for schizophrenia in dsm-lll that diagnosis is given. ',\n",
       " 'there is evidence that the syndrome of infantile autism has little relationship to the psychotic disorders of adult life, particularly adult onset schizophrenia (22). ',\n",
       " 'the relationship between the dsm-lll category of childhood onset pervasive developmental disorder and the psychotic disorders of adult life is unclear (23, 24, 25). ',\n",
       " 'the criteria for this disorder describe children who have been described by some clinicians as childhood schizophrenia, childhood psychosis, atypical children, and symbiotic psychosis. ',\n",
       " 'it is likely that some children with this disorder will indeed develop schizophrenia as adults. ',\n",
       " 'however, there is currently no way of predicting which children will develop schizophrenia as adults.  ',\n",
       " '295.9 schizophrenia, chronic undifferen         tiated type 295.9x schizophrenia, undifferentiated                                                         type major affective disorders major affective disorders  in dsm-ii major affective disorders were included within the non-organic psychoses, and affective disorders that seemed to be \"related directly to a precipitating life experience\" were excluded. ',\n",
       " 'in contrast, the dsm-lll category of affective disorders groups all the affective disorders together, regardless of the presence or absence of psychotic features or association with precipitating life experiences. ',\n",
       " 'the dsm-lll classification recognizes the heterogeneous nature of a major depressive episode (26) and uses the term melancholia to designate the subtype that tends to be more severe, associated with a constellation of characteristic symptoms, and is apparently particularly responsive to somatic therapy (27). ',\n",
       " '296.0 involutional melancholia 296.23                 major depression, single epi                                                        sode with melancholia or                                                         296.24 with psychotic fea                                                        tures there is no compelling evidence that depression occurring in the involutional period is distinct from depression occurring at other stages of life (28). ',\n",
       " '296.1 manic-depressive illness, manic type 296.4x bipolar disorder, manic* since virtually all individuals with manic episodes eventually develop depressive episodes, most investigators now conceptualize manic episodes as being subsumed under bipolar disorder (29). ',\n",
       " 'therefore, in dsm-lll, the diagnosis of bipolar disorder is made when there is a manic episode, whether or not there has been a depressive episode. ',\n",
       " '296.2 manic-depressive illness, depressed          type major depression                                                296.2x single episode                                                296.3x recurrent   376 appendix c  dsm-ii dsm-iii 296.3 manic-depressive illness, circular          type                           bipolar disorder 296.33 manic                             296.4x manic 296.34 depressed                          296.5x depressed                                           296.6x mixed the dsm-ii classification implied the unity of manic-depressive illness. ',\n",
       " 'dsm-iii accepts the evidence pointing to the importance of the distinction between unipolar and bipolar forms of affective disorder (30, 31).  ',\n",
       " 'paranoid states                         paranoi 297.0 paranoia                          297.10                               / 297.10 paranoia* 297.1 involutional paranoik d state ......... •s^«^ «« *. ',\n",
       " '• i                     \\\\297.90 atypical paranoid disorder*  there is no compelling evidence that a paranoid disorder occurring in the involutional period is distinct from paranoid disorders occurring in other periods of life (32).                                        ',\n",
       " '297.30 shared paranoid disorder this category is the traditional category of folie a deux. ',\n",
       " 'the justification for its inclusion in dsm-iii, despite its rarity, rests on the distinct clinical picture and the treatment implications (33, 34).                                         ',\n",
       " '\\\\jjl jl^jlcl,|^jllilfcjlljl,%, ',\n",
       " \"j. ite'jljljli.ci   this index includes names of diagnostic categories in dsm-iii as well as other widely used diagnostic terms. \",\n",
       " 'descriptive terms included in appendix b: glossary of technical terms, as well as in appendix a: decision trees for differential diagnosis are not included. ',\n",
       " 'page numbers for diagnostic criteria are in parentheses.  ',\n",
       " 'abuse, substance 164. ',\n",
       " 'see substance     adolescent antisocial behavior, child    use disorders 163-179                   hood or 332 academic or work inhibition, adjust   adolescents, diagnosis of personality     ment disorder with 301                  disorders in children and 305-306   problem 332                           adult antisocial behavior 332 acute, alcohol intoxication. ',\n",
       " 'see alcohol affective disorders 205-224     intoxication 129(131)                 atypical bipolar disorder 223   confusional state. ',\n",
       " 'see delirium 104     atypical depression 223     (107)                                 bipolar disorder, depressed/manic/   paranoid reaction. ',\n",
       " 'see acute paranoid     mixed 217     disorder 197 (197)                    cyclothymic disorder 218(219)   reactions to stress. ',\n",
       " 'see post-traumatic dysthymic disorder 220(222)     stress disorder 236(238), adjust    hallucinogen 156(156)     ment disorder 299(300)                major depression, single episode/re  schizophrenic episode. ',\n",
       " 'see schizo       current 34, 218     phreniform disorder 199(200), brief   major depressive episode 210(213)     reactive psychosis 200(201), a      manic episode 206(208)     typical psychosis 202               affective syndrome, organic 117(118) additional codes 335                      other or unspecified substance-in  diagnosis deferred on axis ii/diag      duced 161-162     nosis or condition deferred on axis agoraphobia:     i/no diagnosis on axis ii/no diag   with/without panic attacks 226(227)     nosis or condition on axis i/ un  alcohol abuse/dependence 169(169)     specified mental disorder (nonpsy    chotic) 335                         alcohol, organic mental disorders 129                                            139 adjustment disorder 299(300)              amnestic disorder 136(137)   subtypes: with anxious mood/atypi     dementia associated with alcoholism     cal features/depressed mood/dis       137(138)     turbance of conduct/mixed distur    hallucinosis 135(136)     bance of emotions and conduct/        idiosyncratic intoxication 132(132)     mixed emotional features/physical     intoxication 129(131)     symptoms/withdrawal/work (or ac     paranoid state. see paranoid disorder     ademic) inhibition 299-302              195 (196) adjustment reaction. ',\n",
       " 'see adjustment       withdrawal 133(133)     disorder 299(300)                     withdrawal delirium 134(135) adolescence, disorders usually first evialcoholic, deterioration. ',\n",
       " 'see dementia     dent in infancy, childhood, or 35     associated with alcoholism 137     99                                      (138)                                      483    484 index    hallucinosis. ',\n",
       " 'see alcohol hallucinosis  panic disorder 230(231)      135 (136)                            phobic disorders 225-230   jealousy. ',\n",
       " 'see paranoid disorder 195     post-traumatic stress disorder, acute/      (196)                                  chronic or delayed 236(238)   paranoia. ',\n",
       " 'see paranoid disorder 195     simple phobia 228(229)      (196)                                social phobia 227(228)    psychosis. ',\n",
       " 'see alcohol amnestic disanxiety disorders of childhood or ado     order 136(137), dementia asso        lescence 50-57      ciated with alcoholism 137(138),     avoidant disorder 53(55)     alcohol hallucinosis 135(136), al   overanxious disorder 55(56)      cohol idiosyncratic intoxication     separation anxiety disorder 50(53)      132(132), alcohol intoxication 129 anxiety neuroses. ',\n",
       " 'see panic disorder      (131), alcohol withdrawal delirium      230(231), generalized anxiety dis     134(135)                                order 232(233)  alcoholism, dementia associated with.   ',\n",
       " \"anxiety states 230-238     see alcohol dependence 169-170                                         anxious mood, adjustment disorder with alzheimer's disease. \",\n",
       " 'see dementias aris    301     ing in the senium and presenium     124-128                              arithmetic disorder, developmental 94                                              (95) amnesia, anterograde/retrograde. ',\n",
       " 'see major de  personality. ',\n",
       " 'see histrionic personality     disorder 313(315)                       pression 218   psychosis. ',\n",
       " 'see brief reactive psychosis paranoid state. ',\n",
       " 'see paranoid disorders     200(201), factitious disorder with      195-198     psychological symptoms 286(287)                                         isolated explosive disorder 297(298) identity disorder (of adolescence) 65    67                                  jealousy, alcoholic. ',\n",
       " \"see alcohol organic                                             mental disorders 129-139 identity disorder, gender 261-266   atypical 266    of childhood 264-266                 kleptomania 293(294)   transsexualism 261(263)                korsakoff's disease. \",\n",
       " 'see alcohol amnesimpotence. ',\n",
       " 'see inhibited sexual excite     tic disorder 136(137)      ment 279 impulse control not elsewhere classified, labile personality disorder. ',\n",
       " 'see cyclo    disorders of 291-298                     thymic disorder 218(219)   intermittent explosive 295(297)        language disorder, developmental 95  isolated explosive 297(298)                98    kleptomania 293(294)                    articulation disorder 98(98)   pathological gambling 291(292)           expressive type 95(96)   pyromania 294(295)                       mixed specific 98  inadequate personality disorder. ',\n",
       " 'see      receptive type 96(97)      atypical, mixed, or other personality latent schizophrenia. ',\n",
       " 'see schizotypal      disorder 329-330                        personality disorder 310  infancy, childhood, or adolescence, dis   orders usually first evident in 35-99 major affective disorders 206(217)                                                                   index 489  major depression, single episode/recurneurasthenia. ',\n",
       " 'see dysthymic disorder     rent 218                                220(222) major depressive episode 210(213)       neurasthenic neurosis. ',\n",
       " 'see dysthymic malingering 331-332                         disorder 220(222) manic-depressive illness. ',\n",
       " 'see bipolar disneurosis 9     order 217                             anxiety. ',\n",
       " 'see panic disorder 230(231), manic episode 206(208)                      generalized anxiety disorder 232 marital problem 333                         (233) masochism, sexual 273(274)                depersonalization. ',\n",
       " 'see depersonalmelancholia 215                             ization disorder 259(260) mental disorder (dsm-iii) 5-6             depressive. ',\n",
       " 'see dysthymic disorder   conditions not attributable to a 6        220(222). ',\n",
       " 'see also major depresmental retardation 36(40)                   sion 218, adjustment disorder   subtypes: mild/moderate/severe/pro      with depressed mood 301     found/unspecified 39-40               hypochondriacal. ',\n",
       " 'see hypochondriasis metabolic encephalopathy. ',\n",
       " 'see delir       249(251)     ium 104                               hysterical, conversion type. ',\n",
       " 'see conmild mental retardation 39                  version disorder 244(247), psychominimal brain damage. ',\n",
       " 'see ob                                            sessive compulsive disorder 234 mutism, elective 62(63)                                             (235) narcissistic personality disorder 315   occupational problem 332     (317)                               opioid abuse/dependence 171(172)   490 index  opioid and other nonalcoholic sub     other disorders of infancy, childhood, or     stances, dependence on combination      adolescence 57-67     of 179                                elective mutism 62(63) opioid-induced organic mental dis       identity disorder 65(67)     orders 142-145                        oppositional disorder 63(64)   intoxication 142(143)                   reactive attachment disorder of in  withdrawal 144(145)                       fancy 57(59) opioids and alcohol, dependence on a      schizoid disorder of childhood or ado    combination of substances excluding     lescence 60(61)     179                                 other disorders (of infancy, childhood, oppositional disorder (of childhood or      or adolescence) with physical mani    adolescence) 63(64)                     festations 78-86 organic affective syndrome 117(118)       functional encopresis 81(82)                                           functional enuresis 79(80) organic brain syndromes 103-124                                           sleep terror disorder (pavor noc  affective 117(118)                                             turnus) 84(86)   atypical or mixed 123(123)                                           sleepwalking disorder 82(84)   amnestic 112(113)                                           stuttering 78(79)   delirium 104(107)   dementia 107(111)                     other, interpersonal problem 334   intoxication 120(122)                   life circumstance problem, phase of   organic affective 117(118)                life problem or 333   organic delusional 114(115)             mixed or unspecified substance abuse/   organic hallucinosis 115(116)             dependence 179   organic personality 118(119)            or mixed organic brain syndrome   withdrawal 122(123)                       31(31) organic delusional syndrome 114(115)    other or unspecified substance-induced organic hallucinosis 115(116)               organic mental disorders 161-162 organic mental disorders 102-162          affective / amnestic / atypical or   organic brain syndromes 103-124           mixed / delirium / delusional / de  organic mental disorders—section 1:       mentia / hallucinosis/intoxication /     dementias arising in the senium         personality/withdrawal 161-162       and presenium 124-128             other personality disorder, atypical,     substance-induced 128-162               mixed or 329-330 organic mental disorders—section 2:     other psychosexual disorders 281-283   affective / amnestic / atypical or      ego-dystonic homosexuality 281(282)     mixed /delirium/delusional /demen   psychosexual disorder not elsewhere     tia/hallucinosis/personality 162        classified 282-283 organic mental disorders, substance-inother specific affective disorders 218    duced 128-162                           223   alcohol 129-139                       other specified, family circumstances   amphetamine 147-150                       333   barbiturate 139-142                     substance dependence 179   caffeine 160-161                      overanxious disorder 55(56)   cannabis 156-159   cocaine 145-147   hallucinogen 153-156                  panic disorder 230(231)   opioid 142-145                        paranoia 197(197)   other 161-162                         paranoid disorders 195(196)   phencyclidine (pcp) 150-153             acute 197(197)   tobacco 159-160                         atypical 198 organic personality syndrome 118        paranoia 197(197)     119                                   shared paranoid disorder 197(197) orgasm, inhibited female 279            paranoid, personality disorder 307   inhibited male 280                        (309)                                                                   index 491    type, schizophrenic disorder 191        delirium 152(153)     (191)                                 intoxication 151(151) paraphilias 266-275                       mixed 153(153)   atypical 275                          phobic disorders (phobic neuroses)   exhibitionism 272(272)                    225-230   fetishism 268(269)                      agoraphobia with/without panic at  pedophilia 271(271)                       tacks 226(227)   sexual masochism 273(274)               simple phobia 228(229)   sexual sadism 274(275)                  social phobia 227(228)   transvestism 269(270)                 phobic neuroses. ',\n",
       " 'see phobic disorders   voyeurism 272(273)                        225-230, separation anxiety dis  zoophilia 270(270)                        order 50(53) paraphrenia. ',\n",
       " 'see paranoid disorder      physical condition, psychological factors     195(196)                                affecting 303(303) parent-child problem 333                physical disorders, (dsm term) 32 passive-aggressive personality disorder   or conditions (axis ',\n",
       " \"iii) 26     328(329)                            pica 71(72) pathological gambling 291(292)          pick's disease. \",\n",
       " 'see primary degenerative   intoxication. ',\n",
       " 'see alcohol idiosyncratic   dementia 124(126)     intoxication 132(132)                                         post-concussional syndrome. ',\n",
       " 'see atypipavor nocturnus. ',\n",
       " 'see sleep terror dis     cal or mixed organic brain syndrome     order 84(86)                            123(123) pedophilia 271(271)                                         post-traumatic stress disorder, acute/ personality disorder, other or unspeci    chronic or delayed 236(238)     fied substance-induced 162                                         postpartum psychosis. ',\n",
       " 'see schizophrenipersonality disorders 305-330               form disorder 199(200), brief re  diagnosis in childhood or adolescence     active psychosis 200(201), atypi    305                                     cal psychosis 202, major affective   subtypes: antisocial 317(320)             disorders 206(217), organic brain     atypical, mixed or other 329-330        syndrome 103-124     avoidant 323(324)                   premature ejaculation 280     borderline 321(322)                 presenile dementia. ',\n",
       " 'see primary degen    compulsive 326(327)                     erative dementia, presenile onset     dependent 324(325)                      124(126)     histrionic 313(315)                 primary degenerative dementia 124     narcissistic 315(317)                   (126)     paranoid 307(309)                                           presenile onset 124(126)     passive-aggressive 328(329)           senile onset 124(126)     schizoid 309,310(311)     schizotypal 309, 312(312)           profound mental retardation 39                                         pseudodementia. ',\n",
       " 'see dementia 111, personality disorders, and psychotic dis                                            107(111), major depressive episode     orders 306                                             212, 210(213)   and specific developmental disorders     (axis ',\n",
       " 'ii) 23                        pseudoneurotic schizophrenia. ',\n",
       " 'see schiz                                            otypal personality disorder 309, pervasive developmental disorders 86      312(312)     92                                         pseudopsychosis. ',\n",
       " 'see factitious disorder phase of life problem or other life cir   with psychological symptoms 286     cumstance problem 333                   (287) phencyclidine (pcp) or similarly acting psychogenic, amnesia 253(255)     arylcyclohexylamine abuse 175(175)    fugue 255(257) phencyclidine (pcp) or similarly acting   pain disorder 247(249)     arylcyclohexylamine-induced, organpsychological factors affecting physical     ic mental disorders 150-153             condition 303(303)   492 index  psychophysiologic disorders. ',\n",
       " 'see psychoschizoid, disorder of childhood or ado    logical factors affecting physical      lescence 60(61)     condition 303(303)                    personality disorder 309, 310(311) psychosexual disorder not elsewhere     schizophrenic disorders 181(188)     classified 282-283                    catatonic type 190(191)                                           disorganized type 190(190) psychosexual disorders 261-283            paranoid type 191(191)   gender identity disorders 261-266       residual type 192(192)   paraphilias 266-275                     undifferentiated type 191(192)   psychosexual dysfunctions 275-281   other psychosexual disorders 281    schizophreniform disorder 199(200)     283                                 schizotypal personality disorder 309,                                             312(312) psychosexual dysfunctions 275-281   atypical 281                          school phobia. ',\n",
       " 'see separation anxiety   functional dyspareunia 280                disorder 50(53)   functional vaginismus 280             sedative. ',\n",
       " 'see barbiturate   inhibited female orgasm 279           senile dementia. ',\n",
       " 'see primary degenera  inhibited male orgasm 280                 tive dementia, senile onset 124   inhibited sexual desire 278               (126)   inhibited sexual excitement 279                                         separation anxiety disorder 50(53)   premature ejaculation 280                                         severe mental retardation 39 psychosomatic. ',\n",
       " 'see psychological factors     affecting physical condition 303    sexual desire/excitement, inhibited     (303)                                   278-279 psychotic depressive reaction. ',\n",
       " 'see ma sexual, deviations. ']"
      ]
     },
     "execution_count": 65,
     "metadata": {},
     "output_type": "execute_result"
    }
   ],
   "source": [
    "articles"
   ]
  },
  {
   "cell_type": "code",
   "execution_count": 66,
   "metadata": {},
   "outputs": [],
   "source": [
    "articles = articles[30:480]"
   ]
  },
  {
   "cell_type": "code",
   "execution_count": null,
   "metadata": {},
   "outputs": [],
   "source": [
    "articles = ['Depressive disorder (also known as depression) is a common mental disorder. It involves a depressed mood or loss of pleasure or interest in activities for long periods of time.',\n",
    "            'Depression is different from regular mood changes and feelings about everyday life. It can affect all aspects of life, including relationships with family, friends and community. It can result from or lead to problems at school and at work.',\n",
    "            'During a depressive episode, a person experiences a depressed mood (feeling sad, irritable, empty). They may feel a loss of pleasure or interest in activities.',\n",
    "            'Major depression includes symptoms of depressed mood or loss of interest, most of the time for at least 2 weeks, that interfere with daily activities.',\n",
    "            'Due to the limitations of the above loss functions, we aim to design a loss function that directly optimizes the cosine function for consistency in training and prediction and can be widely used across various datasets.',\n",
    "            'Though depression and grief share some features, depression is different from grief felt after losing a loved one or sadness felt after a traumatic life event. Depression usually involves self-loathing or a loss of self-esteem, while grief typically does not.',\n",
    "]\n"
   ]
  },
  {
   "cell_type": "code",
   "execution_count": 17,
   "metadata": {},
   "outputs": [],
   "source": [
    "dashscope.api_key='sk-b8ba4c6e0c9b4e7697fd3cdaaebe63f7'\n",
    "\n",
    "def generate_embeddings(text):\n",
    "    rsp = TextEmbedding.call(model=TextEmbedding.Models.text_embedding_v2,\n",
    "                             input=text)\n",
    "    embeddings = [record['embedding'] for record in rsp.output['embeddings']]\n",
    "    return embeddings if isinstance(text, list) else embeddings[0]\n"
   ]
  },
  {
   "cell_type": "markdown",
   "metadata": {},
   "source": [
    "用qwen大模型api进行的分词"
   ]
  },
  {
   "cell_type": "code",
   "execution_count": null,
   "metadata": {},
   "outputs": [],
   "source": [
    "def tokenizer(articles):\n",
    "    prompt = f'''complete the #OBJECTIVE# based on the #CONTEXT#, and generate the output based on #STYLE# and #RESPONSE#\n",
    "    # CONTEXT #\n",
    "    You are an expert at tokenizing text based on the context of the text, including extracting out any possible phrases and chunks of nouns\n",
    "    # OBJECTIVE #\n",
    "    tokenize these paragraphs:{articles}\n",
    "    # STYLE #\n",
    "    output only the result of tokenization, separated by quotation and space.\n",
    "    # RESPONSE #\n",
    "    do not output anything other than the result of tokenization\n",
    "    '''\n",
    "    \n",
    "    rsp = Generation.call(model='qwen-turbo', prompt=prompt)\n",
    "    return rsp.output.text"
   ]
  },
  {
   "cell_type": "code",
   "execution_count": 18,
   "metadata": {},
   "outputs": [],
   "source": [
    "from tqdm import tqdm"
   ]
  },
  {
   "cell_type": "code",
   "execution_count": 101,
   "metadata": {},
   "outputs": [],
   "source": [
    "def tokenizer_batch(articles, batchsize=6):\n",
    "    def batch_generator(articles, batchsize):\n",
    "        for i in range(0, len(articles), batchsize):\n",
    "            yield articles[i:i + batchsize]\n",
    "    \n",
    "    tokenized_results = []\n",
    "    \n",
    "    with tqdm(total=len(articles) // batchsize + (len(articles) % batchsize > 0)) as pbar:\n",
    "        for idx, batch in enumerate(batch_generator(articles, batchsize)):\n",
    "            \n",
    "            debug_info = f\"Processing batch {idx + 1}/{len(articles) // batchsize + (len(articles) % batchsize > 0)} with {len(batch)} phrases\"\n",
    "            \n",
    "            print(f\"Debug: {debug_info}\")  \n",
    "            \n",
    "            prompt = f'''complete the #OBJECTIVE# based on the #CONTEXT#, and generate the output based on #STYLE# and #RESPONSE#\n",
    "            # CONTEXT #\n",
    "            You are an professional and seasoned expert with 20 years experience of tokenizing text based on the deep connection \n",
    "            within context and dependency of the text, including extracting out any possible phrases and chunks of nouns. You are also\n",
    "            good at recognizing the logical relation between the phrases in one context.\n",
    "            # OBJECTIVE #\n",
    "            tokenize these paragraphs by phrases and chunks of nouns:{' '.join(batch)}\n",
    "            # STYLE #\n",
    "            output only the result of tokenization, separated by quotation and comma, no linebreaks. Prefer chunks of nouns than \n",
    "            single nouns, try to output chunks of nouns when possible.\n",
    "            # RESPONSE #\n",
    "            do not output anything other than the result of tokenization, do not output too many single-word tokens. Do not output \n",
    "            complete sentences.Do not output any stopwords that's not part of a phrase.\n",
    "            '''\n",
    "            \n",
    "            rsp = Generation.call(model='qwen-turbo', prompt=prompt)\n",
    "            tokenized_results.append(rsp.output.text.strip())\n",
    "            \n",
    "            pbar.update(len(batch))  \n",
    "    \n",
    "    return tokenized_results\n"
   ]
  },
  {
   "cell_type": "code",
   "execution_count": null,
   "metadata": {},
   "outputs": [],
   "source": [
    "'''# CONTEXT #\n",
    "    You are an expert at tokenizing text based on the context of the text, including etracting out any possible phrases and chunks of nouns\n",
    "    # OBJECTIVE #\n",
    "    tokenize these paragraphs:['Depressive disorder (also known as depression) is a common mental disorder. It involves a depressed mood or loss of pleasure or interest in activities for long periods of time.',\n",
    "                'Depression is different from regular mood changes and feelings about everyday life. It can affect all aspects of life, including relationships with family, friends and community. It can result from or lead to problems at school and at work.',\n",
    "                'During a depressive episode, a person experiences a depressed mood (feeling sad, irritable, empty). They may feel a loss of pleasure or interest in activities.',\n",
    "                'Major depression includes symptoms of depressed mood or loss of interest, most of the time for at least 2 weeks, that interfere with daily activities.',\n",
    "                'Due to the limitations of the above loss functions, we aim to design a loss function that directly optimizes the cosine function for consistency in training and prediction and can be widely used across various datasets.',\n",
    "                'Though depression and grief share some features, depression is different from grief felt after losing a loved one or sadness felt after a traumatic life event. Depression usually involves self-loathing or a loss of self-esteem, while grief typically does not.',\n",
    "    ]\n",
    "    # STYLE #\n",
    "    output only the result of tokenization, separated by quotation and comma, no linebreaks.\n",
    "    # RESPONSE #\n",
    "    do not output anything other than the result of tokenization\n",
    "    '''\n",
    "    "
   ]
  },
  {
   "cell_type": "markdown",
   "metadata": {},
   "source": []
  },
  {
   "cell_type": "code",
   "execution_count": 102,
   "metadata": {},
   "outputs": [
    {
     "name": "stderr",
     "output_type": "stream",
     "text": [
      "  0%|          | 0/72 [00:00<?, ?it/s]"
     ]
    },
    {
     "name": "stdout",
     "output_type": "stream",
     "text": [
      "Debug: Processing batch 1/72 with 6 phrases\n"
     ]
    },
    {
     "name": "stderr",
     "output_type": "stream",
     "text": [
      "  8%|▊         | 6/72 [00:08<01:29,  1.36s/it]"
     ]
    },
    {
     "name": "stdout",
     "output_type": "stream",
     "text": [
      "Debug: Processing batch 2/72 with 6 phrases\n"
     ]
    },
    {
     "name": "stderr",
     "output_type": "stream",
     "text": [
      " 17%|█▋        | 12/72 [00:10<00:49,  1.21it/s]"
     ]
    },
    {
     "name": "stdout",
     "output_type": "stream",
     "text": [
      "Debug: Processing batch 3/72 with 6 phrases\n"
     ]
    },
    {
     "name": "stderr",
     "output_type": "stream",
     "text": [
      " 25%|██▌       | 18/72 [00:13<00:35,  1.50it/s]"
     ]
    },
    {
     "name": "stdout",
     "output_type": "stream",
     "text": [
      "Debug: Processing batch 4/72 with 6 phrases\n"
     ]
    },
    {
     "name": "stderr",
     "output_type": "stream",
     "text": [
      " 33%|███▎      | 24/72 [00:15<00:24,  1.93it/s]"
     ]
    },
    {
     "name": "stdout",
     "output_type": "stream",
     "text": [
      "Debug: Processing batch 5/72 with 6 phrases\n"
     ]
    },
    {
     "name": "stderr",
     "output_type": "stream",
     "text": [
      " 42%|████▏     | 30/72 [00:17<00:18,  2.29it/s]"
     ]
    },
    {
     "name": "stdout",
     "output_type": "stream",
     "text": [
      "Debug: Processing batch 6/72 with 6 phrases\n"
     ]
    },
    {
     "name": "stderr",
     "output_type": "stream",
     "text": [
      " 50%|█████     | 36/72 [00:19<00:14,  2.44it/s]"
     ]
    },
    {
     "name": "stdout",
     "output_type": "stream",
     "text": [
      "Debug: Processing batch 7/72 with 6 phrases\n"
     ]
    },
    {
     "name": "stderr",
     "output_type": "stream",
     "text": [
      " 58%|█████▊    | 42/72 [00:20<00:10,  2.94it/s]"
     ]
    },
    {
     "name": "stdout",
     "output_type": "stream",
     "text": [
      "Debug: Processing batch 8/72 with 6 phrases\n"
     ]
    },
    {
     "name": "stderr",
     "output_type": "stream",
     "text": [
      " 67%|██████▋   | 48/72 [00:23<00:09,  2.53it/s]"
     ]
    },
    {
     "name": "stdout",
     "output_type": "stream",
     "text": [
      "Debug: Processing batch 9/72 with 6 phrases\n"
     ]
    },
    {
     "name": "stderr",
     "output_type": "stream",
     "text": [
      " 75%|███████▌  | 54/72 [00:28<00:09,  2.00it/s]"
     ]
    },
    {
     "name": "stdout",
     "output_type": "stream",
     "text": [
      "Debug: Processing batch 10/72 with 6 phrases\n"
     ]
    },
    {
     "name": "stderr",
     "output_type": "stream",
     "text": [
      " 83%|████████▎ | 60/72 [00:29<00:05,  2.35it/s]"
     ]
    },
    {
     "name": "stdout",
     "output_type": "stream",
     "text": [
      "Debug: Processing batch 11/72 with 6 phrases\n"
     ]
    },
    {
     "name": "stderr",
     "output_type": "stream",
     "text": [
      " 92%|█████████▏| 66/72 [00:30<00:02,  2.76it/s]"
     ]
    },
    {
     "name": "stdout",
     "output_type": "stream",
     "text": [
      "Debug: Processing batch 12/72 with 6 phrases\n"
     ]
    },
    {
     "name": "stderr",
     "output_type": "stream",
     "text": [
      "100%|██████████| 72/72 [00:33<00:00,  2.47it/s]"
     ]
    },
    {
     "name": "stdout",
     "output_type": "stream",
     "text": [
      "Debug: Processing batch 13/72 with 6 phrases\n"
     ]
    },
    {
     "name": "stderr",
     "output_type": "stream",
     "text": [
      "78it [00:35,  2.89it/s]                        "
     ]
    },
    {
     "name": "stdout",
     "output_type": "stream",
     "text": [
      "Debug: Processing batch 14/72 with 6 phrases\n"
     ]
    },
    {
     "name": "stderr",
     "output_type": "stream",
     "text": [
      "84it [00:36,  3.03it/s]"
     ]
    },
    {
     "name": "stdout",
     "output_type": "stream",
     "text": [
      "Debug: Processing batch 15/72 with 6 phrases\n"
     ]
    },
    {
     "name": "stderr",
     "output_type": "stream",
     "text": [
      "90it [00:43,  1.80it/s]"
     ]
    },
    {
     "name": "stdout",
     "output_type": "stream",
     "text": [
      "Debug: Processing batch 16/72 with 6 phrases\n"
     ]
    },
    {
     "name": "stderr",
     "output_type": "stream",
     "text": [
      "96it [00:45,  2.04it/s]"
     ]
    },
    {
     "name": "stdout",
     "output_type": "stream",
     "text": [
      "Debug: Processing batch 17/72 with 6 phrases\n"
     ]
    },
    {
     "name": "stderr",
     "output_type": "stream",
     "text": [
      "102it [00:48,  2.08it/s]"
     ]
    },
    {
     "name": "stdout",
     "output_type": "stream",
     "text": [
      "Debug: Processing batch 18/72 with 6 phrases\n"
     ]
    },
    {
     "name": "stderr",
     "output_type": "stream",
     "text": [
      "108it [00:49,  2.46it/s]"
     ]
    },
    {
     "name": "stdout",
     "output_type": "stream",
     "text": [
      "Debug: Processing batch 19/72 with 6 phrases\n"
     ]
    },
    {
     "name": "stderr",
     "output_type": "stream",
     "text": [
      "114it [00:53,  2.19it/s]"
     ]
    },
    {
     "name": "stdout",
     "output_type": "stream",
     "text": [
      "Debug: Processing batch 20/72 with 6 phrases\n"
     ]
    },
    {
     "name": "stderr",
     "output_type": "stream",
     "text": [
      "120it [00:55,  2.16it/s]"
     ]
    },
    {
     "name": "stdout",
     "output_type": "stream",
     "text": [
      "Debug: Processing batch 21/72 with 6 phrases\n"
     ]
    },
    {
     "name": "stderr",
     "output_type": "stream",
     "text": [
      "126it [00:57,  2.63it/s]"
     ]
    },
    {
     "name": "stdout",
     "output_type": "stream",
     "text": [
      "Debug: Processing batch 22/72 with 6 phrases\n"
     ]
    },
    {
     "name": "stderr",
     "output_type": "stream",
     "text": [
      "132it [00:59,  2.44it/s]"
     ]
    },
    {
     "name": "stdout",
     "output_type": "stream",
     "text": [
      "Debug: Processing batch 23/72 with 6 phrases\n"
     ]
    },
    {
     "name": "stderr",
     "output_type": "stream",
     "text": [
      "138it [01:01,  2.67it/s]"
     ]
    },
    {
     "name": "stdout",
     "output_type": "stream",
     "text": [
      "Debug: Processing batch 24/72 with 6 phrases\n"
     ]
    },
    {
     "name": "stderr",
     "output_type": "stream",
     "text": [
      "144it [01:04,  2.61it/s]"
     ]
    },
    {
     "name": "stdout",
     "output_type": "stream",
     "text": [
      "Debug: Processing batch 25/72 with 6 phrases\n"
     ]
    },
    {
     "name": "stderr",
     "output_type": "stream",
     "text": [
      "150it [01:05,  2.94it/s]"
     ]
    },
    {
     "name": "stdout",
     "output_type": "stream",
     "text": [
      "Debug: Processing batch 26/72 with 6 phrases\n"
     ]
    },
    {
     "name": "stderr",
     "output_type": "stream",
     "text": [
      "156it [01:07,  2.77it/s]"
     ]
    },
    {
     "name": "stdout",
     "output_type": "stream",
     "text": [
      "Debug: Processing batch 27/72 with 6 phrases\n"
     ]
    },
    {
     "name": "stderr",
     "output_type": "stream",
     "text": [
      "162it [01:10,  2.77it/s]"
     ]
    },
    {
     "name": "stdout",
     "output_type": "stream",
     "text": [
      "Debug: Processing batch 28/72 with 6 phrases\n"
     ]
    },
    {
     "name": "stderr",
     "output_type": "stream",
     "text": [
      "168it [01:12,  2.81it/s]"
     ]
    },
    {
     "name": "stdout",
     "output_type": "stream",
     "text": [
      "Debug: Processing batch 29/72 with 6 phrases\n"
     ]
    },
    {
     "name": "stderr",
     "output_type": "stream",
     "text": [
      "174it [01:14,  2.78it/s]"
     ]
    },
    {
     "name": "stdout",
     "output_type": "stream",
     "text": [
      "Debug: Processing batch 30/72 with 6 phrases\n"
     ]
    },
    {
     "name": "stderr",
     "output_type": "stream",
     "text": [
      "180it [01:15,  3.44it/s]"
     ]
    },
    {
     "name": "stdout",
     "output_type": "stream",
     "text": [
      "Debug: Processing batch 31/72 with 6 phrases\n"
     ]
    },
    {
     "name": "stderr",
     "output_type": "stream",
     "text": [
      "186it [01:16,  3.62it/s]"
     ]
    },
    {
     "name": "stdout",
     "output_type": "stream",
     "text": [
      "Debug: Processing batch 32/72 with 6 phrases\n"
     ]
    },
    {
     "name": "stderr",
     "output_type": "stream",
     "text": [
      "192it [01:18,  3.43it/s]"
     ]
    },
    {
     "name": "stdout",
     "output_type": "stream",
     "text": [
      "Debug: Processing batch 33/72 with 6 phrases\n"
     ]
    },
    {
     "name": "stderr",
     "output_type": "stream",
     "text": [
      "198it [01:24,  2.02it/s]"
     ]
    },
    {
     "name": "stdout",
     "output_type": "stream",
     "text": [
      "Debug: Processing batch 34/72 with 6 phrases\n"
     ]
    },
    {
     "name": "stderr",
     "output_type": "stream",
     "text": [
      "204it [01:26,  2.15it/s]"
     ]
    },
    {
     "name": "stdout",
     "output_type": "stream",
     "text": [
      "Debug: Processing batch 35/72 with 6 phrases\n"
     ]
    },
    {
     "name": "stderr",
     "output_type": "stream",
     "text": [
      "210it [01:29,  2.11it/s]"
     ]
    },
    {
     "name": "stdout",
     "output_type": "stream",
     "text": [
      "Debug: Processing batch 36/72 with 6 phrases\n"
     ]
    },
    {
     "name": "stderr",
     "output_type": "stream",
     "text": [
      "216it [01:31,  2.31it/s]"
     ]
    },
    {
     "name": "stdout",
     "output_type": "stream",
     "text": [
      "Debug: Processing batch 37/72 with 6 phrases\n"
     ]
    },
    {
     "name": "stderr",
     "output_type": "stream",
     "text": [
      "222it [01:33,  2.52it/s]"
     ]
    },
    {
     "name": "stdout",
     "output_type": "stream",
     "text": [
      "Debug: Processing batch 38/72 with 6 phrases\n"
     ]
    },
    {
     "name": "stderr",
     "output_type": "stream",
     "text": [
      "228it [01:35,  2.88it/s]"
     ]
    },
    {
     "name": "stdout",
     "output_type": "stream",
     "text": [
      "Debug: Processing batch 39/72 with 6 phrases\n"
     ]
    },
    {
     "name": "stderr",
     "output_type": "stream",
     "text": [
      "234it [01:36,  3.15it/s]"
     ]
    },
    {
     "name": "stdout",
     "output_type": "stream",
     "text": [
      "Debug: Processing batch 40/72 with 6 phrases\n"
     ]
    },
    {
     "name": "stderr",
     "output_type": "stream",
     "text": [
      "240it [01:38,  3.18it/s]"
     ]
    },
    {
     "name": "stdout",
     "output_type": "stream",
     "text": [
      "Debug: Processing batch 41/72 with 6 phrases\n"
     ]
    },
    {
     "name": "stderr",
     "output_type": "stream",
     "text": [
      "246it [01:40,  3.12it/s]"
     ]
    },
    {
     "name": "stdout",
     "output_type": "stream",
     "text": [
      "Debug: Processing batch 42/72 with 6 phrases\n"
     ]
    },
    {
     "name": "stderr",
     "output_type": "stream",
     "text": [
      "252it [01:42,  3.15it/s]"
     ]
    },
    {
     "name": "stdout",
     "output_type": "stream",
     "text": [
      "Debug: Processing batch 43/72 with 6 phrases\n"
     ]
    },
    {
     "name": "stderr",
     "output_type": "stream",
     "text": [
      "258it [01:44,  3.08it/s]"
     ]
    },
    {
     "name": "stdout",
     "output_type": "stream",
     "text": [
      "Debug: Processing batch 44/72 with 6 phrases\n"
     ]
    },
    {
     "name": "stderr",
     "output_type": "stream",
     "text": [
      "264it [01:45,  3.36it/s]"
     ]
    },
    {
     "name": "stdout",
     "output_type": "stream",
     "text": [
      "Debug: Processing batch 45/72 with 6 phrases\n"
     ]
    },
    {
     "name": "stderr",
     "output_type": "stream",
     "text": [
      "270it [01:47,  3.66it/s]"
     ]
    },
    {
     "name": "stdout",
     "output_type": "stream",
     "text": [
      "Debug: Processing batch 46/72 with 6 phrases\n"
     ]
    },
    {
     "name": "stderr",
     "output_type": "stream",
     "text": [
      "276it [01:48,  3.59it/s]"
     ]
    },
    {
     "name": "stdout",
     "output_type": "stream",
     "text": [
      "Debug: Processing batch 47/72 with 6 phrases\n"
     ]
    },
    {
     "name": "stderr",
     "output_type": "stream",
     "text": [
      "282it [01:49,  4.00it/s]"
     ]
    },
    {
     "name": "stdout",
     "output_type": "stream",
     "text": [
      "Debug: Processing batch 48/72 with 6 phrases\n"
     ]
    },
    {
     "name": "stderr",
     "output_type": "stream",
     "text": [
      "288it [01:51,  3.96it/s]"
     ]
    },
    {
     "name": "stdout",
     "output_type": "stream",
     "text": [
      "Debug: Processing batch 49/72 with 6 phrases\n"
     ]
    },
    {
     "name": "stderr",
     "output_type": "stream",
     "text": [
      "294it [01:53,  3.41it/s]"
     ]
    },
    {
     "name": "stdout",
     "output_type": "stream",
     "text": [
      "Debug: Processing batch 50/72 with 6 phrases\n"
     ]
    },
    {
     "name": "stderr",
     "output_type": "stream",
     "text": [
      "300it [01:55,  3.48it/s]"
     ]
    },
    {
     "name": "stdout",
     "output_type": "stream",
     "text": [
      "Debug: Processing batch 51/72 with 6 phrases\n"
     ]
    },
    {
     "name": "stderr",
     "output_type": "stream",
     "text": [
      "306it [01:56,  3.74it/s]"
     ]
    },
    {
     "name": "stdout",
     "output_type": "stream",
     "text": [
      "Debug: Processing batch 52/72 with 6 phrases\n"
     ]
    },
    {
     "name": "stderr",
     "output_type": "stream",
     "text": [
      "312it [01:58,  3.94it/s]"
     ]
    },
    {
     "name": "stdout",
     "output_type": "stream",
     "text": [
      "Debug: Processing batch 53/72 with 6 phrases\n"
     ]
    },
    {
     "name": "stderr",
     "output_type": "stream",
     "text": [
      "318it [02:00,  3.54it/s]"
     ]
    },
    {
     "name": "stdout",
     "output_type": "stream",
     "text": [
      "Debug: Processing batch 54/72 with 6 phrases\n"
     ]
    },
    {
     "name": "stderr",
     "output_type": "stream",
     "text": [
      "324it [02:01,  3.57it/s]"
     ]
    },
    {
     "name": "stdout",
     "output_type": "stream",
     "text": [
      "Debug: Processing batch 55/72 with 6 phrases\n"
     ]
    },
    {
     "name": "stderr",
     "output_type": "stream",
     "text": [
      "330it [02:03,  3.47it/s]"
     ]
    },
    {
     "name": "stdout",
     "output_type": "stream",
     "text": [
      "Debug: Processing batch 56/72 with 6 phrases\n"
     ]
    },
    {
     "name": "stderr",
     "output_type": "stream",
     "text": [
      "336it [02:04,  3.98it/s]"
     ]
    },
    {
     "name": "stdout",
     "output_type": "stream",
     "text": [
      "Debug: Processing batch 57/72 with 6 phrases\n"
     ]
    },
    {
     "name": "stderr",
     "output_type": "stream",
     "text": [
      "342it [02:07,  3.19it/s]"
     ]
    },
    {
     "name": "stdout",
     "output_type": "stream",
     "text": [
      "Debug: Processing batch 58/72 with 6 phrases\n"
     ]
    },
    {
     "name": "stderr",
     "output_type": "stream",
     "text": [
      "348it [02:09,  3.01it/s]"
     ]
    },
    {
     "name": "stdout",
     "output_type": "stream",
     "text": [
      "Debug: Processing batch 59/72 with 6 phrases\n"
     ]
    },
    {
     "name": "stderr",
     "output_type": "stream",
     "text": [
      "354it [02:11,  3.13it/s]"
     ]
    },
    {
     "name": "stdout",
     "output_type": "stream",
     "text": [
      "Debug: Processing batch 60/72 with 6 phrases\n"
     ]
    },
    {
     "name": "stderr",
     "output_type": "stream",
     "text": [
      "360it [02:14,  2.53it/s]"
     ]
    },
    {
     "name": "stdout",
     "output_type": "stream",
     "text": [
      "Debug: Processing batch 61/72 with 6 phrases\n"
     ]
    },
    {
     "name": "stderr",
     "output_type": "stream",
     "text": [
      "366it [02:18,  2.21it/s]"
     ]
    },
    {
     "name": "stdout",
     "output_type": "stream",
     "text": [
      "Debug: Processing batch 62/72 with 6 phrases\n"
     ]
    },
    {
     "name": "stderr",
     "output_type": "stream",
     "text": [
      "372it [02:20,  2.49it/s]"
     ]
    },
    {
     "name": "stdout",
     "output_type": "stream",
     "text": [
      "Debug: Processing batch 63/72 with 6 phrases\n"
     ]
    },
    {
     "name": "stderr",
     "output_type": "stream",
     "text": [
      "378it [02:22,  2.57it/s]"
     ]
    },
    {
     "name": "stdout",
     "output_type": "stream",
     "text": [
      "Debug: Processing batch 64/72 with 6 phrases\n"
     ]
    },
    {
     "name": "stderr",
     "output_type": "stream",
     "text": [
      "384it [02:23,  2.89it/s]"
     ]
    },
    {
     "name": "stdout",
     "output_type": "stream",
     "text": [
      "Debug: Processing batch 65/72 with 6 phrases\n"
     ]
    },
    {
     "name": "stderr",
     "output_type": "stream",
     "text": [
      "390it [02:46,  1.37s/it]"
     ]
    },
    {
     "name": "stdout",
     "output_type": "stream",
     "text": [
      "Debug: Processing batch 66/72 with 6 phrases\n"
     ]
    },
    {
     "name": "stderr",
     "output_type": "stream",
     "text": [
      "396it [02:49,  1.12s/it]"
     ]
    },
    {
     "name": "stdout",
     "output_type": "stream",
     "text": [
      "Debug: Processing batch 67/72 with 6 phrases\n"
     ]
    },
    {
     "name": "stderr",
     "output_type": "stream",
     "text": [
      "402it [02:53,  1.02it/s]"
     ]
    },
    {
     "name": "stdout",
     "output_type": "stream",
     "text": [
      "Debug: Processing batch 68/72 with 6 phrases\n"
     ]
    },
    {
     "name": "stderr",
     "output_type": "stream",
     "text": [
      "408it [02:58,  1.09it/s]"
     ]
    },
    {
     "name": "stdout",
     "output_type": "stream",
     "text": [
      "Debug: Processing batch 69/72 with 6 phrases\n"
     ]
    },
    {
     "name": "stderr",
     "output_type": "stream",
     "text": [
      "414it [02:59,  1.35it/s]"
     ]
    },
    {
     "name": "stdout",
     "output_type": "stream",
     "text": [
      "Debug: Processing batch 70/72 with 6 phrases\n"
     ]
    },
    {
     "name": "stderr",
     "output_type": "stream",
     "text": [
      "420it [03:03,  1.49it/s]"
     ]
    },
    {
     "name": "stdout",
     "output_type": "stream",
     "text": [
      "Debug: Processing batch 71/72 with 6 phrases\n"
     ]
    },
    {
     "name": "stderr",
     "output_type": "stream",
     "text": [
      "426it [03:06,  1.57it/s]"
     ]
    },
    {
     "name": "stdout",
     "output_type": "stream",
     "text": [
      "Debug: Processing batch 72/72 with 4 phrases\n"
     ]
    },
    {
     "name": "stderr",
     "output_type": "stream",
     "text": [
      "430it [03:09,  2.27it/s]\n"
     ]
    }
   ],
   "source": [
    "res = tokenizer_batch(articles)\n",
    "\n",
    "phrases_llm = [re.findall(r'\"(.*?)\"', phrase) for phrase in res]\n",
    "\n"
   ]
  },
  {
   "cell_type": "code",
   "execution_count": 108,
   "metadata": {},
   "outputs": [
    {
     "name": "stderr",
     "output_type": "stream",
     "text": [
      "[nltk_data] Error loading stopwords: Remote end closed connection\n",
      "[nltk_data]     without response\n"
     ]
    },
    {
     "data": {
      "text/plain": [
       "72"
      ]
     },
     "execution_count": 108,
     "metadata": {},
     "output_type": "execute_result"
    }
   ],
   "source": [
    "import nltk\n",
    "from nltk.corpus import stopwords\n",
    "from typing import List\n",
    "\n",
    "# 首先，确保你已经下载了nltk的停用词列表\n",
    "nltk.download('stopwords')\n",
    "\n",
    "# 获取英文停用词列表，包括连词和介词\n",
    "stop_words = set(stopwords.words('english'))\n",
    "\n",
    "phrases_llm = [[phrase for phrase in phrases if len(phrase) <= 30 and len(phrase) > 4 and '%' not in phrase and phrase not in stop_words] for phrases in phrases_llm]\n",
    "phrases_llm = [phrases for phrases in phrases_llm if len(phrases) != 0]\n",
    "len(phrases_llm)"
   ]
  },
  {
   "cell_type": "code",
   "execution_count": 104,
   "metadata": {},
   "outputs": [
    {
     "data": {
      "text/plain": [
       "[['mental disorder',\n",
       "  'syndrome characterized',\n",
       "  'cognition',\n",
       "  'emotion regulation',\n",
       "  'behavior',\n",
       "  'dysfunction',\n",
       "  'psychological',\n",
       "  'biological',\n",
       "  'developmental processes',\n",
       "  'person',\n",
       "  'mental functioning',\n",
       "  'distress',\n",
       "  'social role impairment',\n",
       "  'socially deviant behavior',\n",
       "  'conflicts',\n",
       "  'individual',\n",
       "  'society',\n",
       "  'dsm’s approach',\n",
       "  'concept of mental disorder',\n",
       "  'clinically significant',\n",
       "  'warrant clinical attention',\n",
       "  'problematic conditions',\n",
       "  'deviance',\n",
       "  'funktioning',\n",
       "  'dsm-5’s definition',\n",
       "  'psychological mechanisms',\n",
       "  'logical relation',\n",
       "  'extracting out',\n",
       "  'possible phrases',\n",
       "  'chunks of nouns',\n",
       "  'context',\n",
       "  'dependency of the text',\n",
       "  'tokenizing',\n",
       "  'paragraphs',\n",
       "  'syndromes',\n",
       "  'symptoms',\n",
       "  'funktioning',\n",
       "  'biological',\n",
       "  'developmental processes',\n",
       "  'dysfunction',\n",
       "  'individual',\n",
       "  'sufficient evidence',\n",
       "  'infer persuasively',\n",
       "  'harmful dysfunction',\n",
       "  'analysis of the concept',\n",
       "  'mental disorder',\n",
       "  'central aspects',\n",
       "  'definition’s reference',\n",
       "  'failing of',\n",
       "  'biologically designed',\n",
       "  'functioning',\n",
       "  'psychological mechanisms',\n",
       "  'processes',\n",
       "  'clinical attention',\n",
       "  'socially deviant behavior',\n",
       "  'conflicts',\n",
       "  'individual',\n",
       "  'society',\n",
       "  'dsm’s approach',\n",
       "  'concept of mental disorder',\n",
       "  'clinically significant',\n",
       "  'distress',\n",
       "  'social role impairment',\n",
       "  'deviance',\n",
       "  'conflict',\n",
       "  'individual',\n",
       "  'society',\n",
       "  'dsm’s definition',\n",
       "  'requirements',\n",
       "  'syndrome',\n",
       "  'evidence',\n",
       "  'persuasively',\n",
       "  'harmful dysfunction',\n",
       "  'analysis',\n",
       "  'concept of mental disorder',\n",
       "  'dsm-5’s definition',\n",
       "  'diagnostic criteria',\n",
       "  'conditions set forth',\n",
       "  'definition of mental disorder',\n",
       "  'dsm-5',\n",
       "  'introducing the definition',\n",
       "  'disorder',\n",
       "  'disorder',\n",
       "  'greater overlap',\n",
       "  'normal reactions'],\n",
       " ['tokenized_phrases'],\n",
       " ['acting arylcyclohexylamine',\n",
       "  'these dsm-ii terms',\n",
       "  'abuse',\n",
       "  '(328.4x)',\n",
       "  '305.3x hallucinogen abuse',\n",
       "  'cannabis abuse',\n",
       "  '305.2x cannabis abuse',\n",
       "  'affective disorders',\n",
       "  'substance abuse',\n",
       "  'major depressive episode',\n",
       "  'fifth digit',\n",
       "  '6 = in remission',\n",
       "  '4 = with psychotic features',\n",
       "  'melancholia',\n",
       "  'unspecified',\n",
       "  'manic episode',\n",
       "  'fifth digit',\n",
       "  '6 = in remission',\n",
       "  '4 = with psychotic features'],\n",
       " ['schizophrenic disorders',\n",
       "  'fifth digit 7',\n",
       "  'subchronic',\n",
       "  'chronic',\n",
       "  'mood-incongruent',\n",
       "  'without psyexacerbation',\n",
       "  'acute chotic features',\n",
       "  'in remission',\n",
       "  'delirium symptoms',\n",
       "  'dementia',\n",
       "  'organic mental disorder',\n",
       "  'intellectual deterioration',\n",
       "  'schizophrenia',\n",
       "  'chronic',\n",
       "  'intellectual deterioration'],\n",
       " ['organic mental disorders',\n",
       "  'major depressive episode',\n",
       "  'memory impairment',\n",
       "  'thinking',\n",
       "  'concentrating',\n",
       "  'poor performance',\n",
       "  'mental-status examination',\n",
       "  'neuropsychological testing',\n",
       "  'possible diagnosis of dementia',\n",
       "  'pseudodementia',\n",
       "  'disturbance of mood',\n",
       "  'cognitive deficits',\n",
       "  'intact cognitive function',\n",
       "  'depression'],\n",
       " ['abnormalities of mood',\n",
       "  'less frequent',\n",
       "  'less pervasive',\n",
       "  'depression',\n",
       "  'clinical history',\n",
       "  'differentiate between',\n",
       "  'onset can frequently',\n",
       "  'dated with some precision',\n",
       "  'symptoms progress more rapidly',\n",
       "  'true dementia',\n",
       "  'formal mental-status testing',\n",
       "  'individuals with dementia',\n",
       "  'prominent as those',\n",
       "  'suggesting dementia',\n",
       "  'secondary to the depression',\n",
       "  'major depressive episode'],\n",
       " ['therapeutic trial',\n",
       "  'antidepressant drug',\n",
       "  'electroconvulsive therapy',\n",
       "  'contraindicated',\n",
       "  'major depressive episode',\n",
       "  'cognitive impairment',\n",
       "  'mood improves',\n",
       "  'factitious disorder',\n",
       "  'psychological symptoms',\n",
       "  'mimic dementia',\n",
       "  'diagnostic criteria',\n",
       "  'dementia'],\n",
       " ['loss of intellectual abilities',\n",
       "  'sufficient severity',\n",
       "  'memory impairment',\n",
       "  'organic delusional syndrome',\n",
       "  'hallucinations',\n",
       "  'prominent delusions',\n",
       "  'involve hallucinations',\n",
       "  'no specific organic factor',\n",
       "  'demonstrated',\n",
       "  'hypnogogic hallucinations',\n",
       "  'hypnopompic hallucinations',\n",
       "  'occur only on falling asleep',\n",
       "  'on awakening',\n",
       "  'predominant clinical feature'],\n",
       " ['no clouding of consciousness',\n",
       "  'as in delirium',\n",
       "  'as in dementia',\n",
       "  'no predominant delusions',\n",
       "  'evidence',\n",
       "  'from the history',\n",
       "  'physical examination',\n",
       "  'or laboratory tests',\n",
       "  'of a specific organic factor',\n",
       "  'disturbance',\n",
       "  'organic mental disorders',\n",
       "  'organic affective syndrome',\n",
       "  'essential feature',\n",
       "  'disturbance in mood',\n",
       "  'or a major depressive episode',\n",
       "  'not made if the disturbance',\n",
       "  'as in delirium',\n",
       "  'as in dementia',\n",
       "  'as in organic hallucinosis',\n",
       "  'delusions predominate',\n",
       "  'clinical phenomenology',\n",
       "  'severity of the disturbance',\n",
       "  'ranges from mild to severe'],\n",
       " ['associated features',\n",
       "  'if the mood is manic',\n",
       "  'hallucinations and delusions',\n",
       "  'more common in the manic form',\n",
       "  'than in the depressed form',\n",
       "  'impairment'],\n",
       " ['complications',\n",
       "  'p. 216',\n",
       "  'etiological factors',\n",
       "  'toxic or metabolic factors',\n",
       "  'this syndrome',\n",
       "  'caused by',\n",
       "  'certain substances',\n",
       "  'depressive syndrome'],\n",
       " ['diagnosis',\n",
       "  'pri 126 diagnostic categories',\n",
       "  'mary degenerative dementia',\n",
       "  'clear evidence',\n",
       "  'dementia',\n",
       "  'differential diagnosis',\n",
       "  'subdural hematoma',\n",
       "  'normal-pressure hydrocephalus',\n",
       "  'cerebral neoplasm',\n",
       "  \"parkinson's disease\",\n",
       "  'vitamin b12 deficiency',\n",
       "  'hypothyroidism',\n",
       "  'substance intoxication',\n",
       "  'rule out',\n",
       "  'history',\n",
       "  'physical examination',\n",
       "  'appropriate laboratory tests',\n",
       "  'multi-infarct dementia',\n",
       "  'clinical course',\n",
       "  'variable progression',\n",
       "  'focal neurological signs',\n",
       "  'systemic evidence',\n",
       "  'vascular disease',\n",
       "  'elderly individuals',\n",
       "  'major depressive episode'],\n",
       " ['differential diagnosis',\n",
       "  'major depressive episode',\n",
       "  'p. 212',\n",
       "  'dementia',\n",
       "  'p. 111',\n",
       "  'senile onset',\n",
       "  'thoughts',\n",
       "  'without delusional conviction'],\n",
       " ['elation',\n",
       "  'grandiosity',\n",
       "  'decreased need for sleep',\n",
       "  'distractibility',\n",
       "  'increased activity',\n",
       "  'loquacity',\n",
       "  'course',\n",
       "  'variable',\n",
       "  'transitory experience',\n",
       "  'long-lasting episode',\n",
       "  'affective disorder',\n",
       "  'manic',\n",
       "  'major depressive episodes',\n",
       "  'differential diagnosis',\n",
       "  'preexisting affective disorder',\n",
       "  'hallucinogen',\n",
       "  'depression'],\n",
       " ['cases',\n",
       "  'difficult',\n",
       "  'impossible',\n",
       "  'determine',\n",
       "  'increased',\n",
       "  'disturbance',\n",
       "  'hallucinogen',\n",
       "  'affective',\n",
       "  'disorder',\n",
       "  'merely',\n",
       "  'exacerbation',\n",
       "  'affective',\n",
       "  'disorder',\n",
       "  'organic',\n",
       "  'affective',\n",
       "  'syndrome',\n",
       "  'affective',\n",
       "  'disorders',\n",
       "  'development',\n",
       "  'delusions',\n",
       "  'hallucinations',\n",
       "  'follows',\n",
       "  'period',\n",
       "  'affective',\n",
       "  'disturbance',\n",
       "  'reason',\n",
       "  'diagnosis',\n",
       "  'schizophrenia',\n",
       "  'unless',\n",
       "  'affective',\n",
       "  'syndrome',\n",
       "  'present',\n",
       "  'developed',\n",
       "  'after',\n",
       "  'psychotic',\n",
       "  'symptoms',\n",
       "  'brief',\n",
       "  'duration',\n",
       "  'relative',\n",
       "  'duration',\n",
       "  'characteristic',\n",
       "  'psychotic',\n",
       "  'symptoms',\n",
       "  'differential',\n",
       "  'diagnosis',\n",
       "  'schizophrenia',\n",
       "  'psychotic',\n",
       "  'forms',\n",
       "  'affective',\n",
       "  'disorders',\n",
       "  'particularly',\n",
       "  'bipolar',\n",
       "  'disorder',\n",
       "  'special',\n",
       "  'importance',\n",
       "  'because',\n",
       "  'different',\n",
       "  'long-term',\n",
       "  'treatment',\n",
       "  'implications',\n",
       "  'manic',\n",
       "  'episode',\n",
       "  'anger',\n",
       "  'paranoid',\n",
       "  'delusions',\n",
       "  'needs',\n",
       "  'distinguished',\n",
       "  'schizophrenia',\n",
       "  'paranoid'],\n",
       " ['an atypical affective disorder',\n",
       "  'major depressive episode',\n",
       "  \"several months' duration\",\n",
       "  'psychotic symptoms',\n",
       "  'schizoaffective disorder',\n",
       "  'clinical situations',\n",
       "  'diagnosis might be appropriate',\n",
       "  'schizophreniform disorder',\n",
       "  'duration of the illness'],\n",
       " ['expected recovery',\n",
       "  'diagnosis changed to',\n",
       "  'schizophreniform disorder',\n",
       "  'paranoid disorder',\n",
       "  'affective disorder',\n",
       "  'atypical psychosis',\n",
       "  'organic mental disorders',\n",
       "  'delirium',\n",
       "  'organic delusional syndrome',\n",
       "  'intoxication',\n",
       "  'known organic factor',\n",
       "  'made when criteria met'],\n",
       " ['brief reactive psychosis',\n",
       "  'psychosocial stressor',\n",
       "  'factitious disorder',\n",
       "  'apparently psychotic symptoms',\n",
       "  'voluntary control',\n",
       "  'malingering',\n",
       "  'understandable goal',\n",
       "  'psychotic symptoms',\n",
       "  'affective disorders',\n",
       "  'personality disorders',\n",
       "  'neurotic disorders'],\n",
       " ['classification',\n",
       "  'affective',\n",
       "  'disorders',\n",
       "  'DSM-III',\n",
       "  'dichotomous',\n",
       "  'distinctions',\n",
       "  'neurotic',\n",
       "  'psychotic',\n",
       "  'endogenous',\n",
       "  'reactive',\n",
       "  'manual',\n",
       "  'class',\n",
       "  'affective',\n",
       "  'disorders',\n",
       "  'major',\n",
       "  'affective',\n",
       "  'disorders',\n",
       "  'affective',\n",
       "  'syndrome',\n",
       "  'partial',\n",
       "  'affective',\n",
       "  'syndrome',\n",
       "  'years',\n",
       "  'duration',\n",
       "  'atypical',\n",
       "  'affective',\n",
       "  'disorders',\n",
       "  'category',\n",
       "  'classify',\n",
       "  'bipolar',\n",
       "  'disorder',\n",
       "  'major',\n",
       "  'depression',\n",
       "  'manic',\n",
       "  'episode',\n",
       "  'cyclothymic',\n",
       "  'disorder',\n",
       "  'dysthymic',\n",
       "  'disorder'],\n",
       " ['cyclothymic disorder',\n",
       "  'depressive syndromes',\n",
       "  'manic syndromes',\n",
       "  'criteria for major depressive',\n",
       "  'manic episodes',\n",
       "  'dysthymic disorder',\n",
       "  'mood disorders',\n",
       "  'affective disorders',\n",
       "  'past term',\n",
       "  'severe form of depression',\n",
       "  'somatic therapy',\n",
       "  'clinical features',\n",
       "  'typical endogenous depression',\n",
       "  \"term 'endogenous'\",\n",
       "  'DSM-III',\n",
       "  'major depressive episode',\n",
       "  'hypomanic periods',\n",
       "  'chronic hypomanic disorder',\n",
       "  \"two years' duration\",\n",
       "  'depressive periods',\n",
       "  'superimposed episode',\n",
       "  'major affective disorder'],\n",
       " ['major affective disorders',\n",
       "  'manic episode',\n",
       "  'major depressive episode',\n",
       "  'organic mental disorder',\n",
       "  'schizophrenia',\n",
       "  'distinct period',\n",
       "  'elevated mood',\n",
       "  'expansive mood',\n",
       "  'irritable mood',\n",
       "  'symptoms of the manic syndrome'],\n",
       " ['hyperactivity',\n",
       "  'pressure of speech',\n",
       "  'flight of ideas',\n",
       "  'inflated self-esteem',\n",
       "  'decreased need for sleep',\n",
       "  'distractibility',\n",
       "  'excessive involvement',\n",
       "  'intrusive nature',\n",
       "  'domineering nature',\n",
       "  'demanding nature',\n",
       "  'expansiveness',\n",
       "  'unwarranted optimism',\n",
       "  'grandiosity',\n",
       "  'lack of judgment',\n",
       "  'buying sprees',\n",
       "  'reckless driving',\n",
       "  'foolish business investments',\n",
       "  'sexual behavior',\n",
       "  'disorganized quality',\n",
       "  'flamboyant quality',\n",
       "  'bizarre quality',\n",
       "  'colorful garments',\n",
       "  'strange garments',\n",
       "  'excessive make-up',\n",
       "  'candy distribution',\n",
       "  'money distribution',\n",
       "  'advice distribution',\n",
       "  'manic speech',\n",
       "  'organization of text',\n",
       "  'major affective disorders',\n",
       "  'presentation method',\n",
       "  'redundancy avoidance'],\n",
       " ['essential features',\n",
       "  'associated features',\n",
       "  'differential diagnosis',\n",
       "  'diagnostic criteria',\n",
       "  'manic episodes',\n",
       "  'major depressive episodes',\n",
       "  'age at onset',\n",
       "  'course',\n",
       "  'other features',\n",
       "  'major affective disorders',\n",
       "  'affective disorders',\n",
       "  'jokes',\n",
       "  'plays on words',\n",
       "  'amusing irrelevancies',\n",
       "  'theatrical',\n",
       "  'dramatic mannerisms',\n",
       "  'singing',\n",
       "  'word choice'],\n",
       " ['sleep disturbance',\n",
       "  'severe',\n",
       "  'sleep',\n",
       "  'tired',\n",
       "  'hypomania',\n",
       "  'clinical syndrome',\n",
       "  'severity',\n",
       "  'mania',\n",
       "  'manic episode',\n",
       "  'lability of mood',\n",
       "  'rash shifts',\n",
       "  'anger',\n",
       "  'depression',\n",
       "  'tearfulness',\n",
       "  'suicidal threats',\n",
       "  'depressive symptoms',\n",
       "  'moments',\n",
       "  'hours',\n",
       "  'intermingle',\n",
       "  'same time',\n",
       "  'alternate',\n",
       "  'rapidly',\n",
       "  'few days',\n",
       "  'bipolar disorder',\n",
       "  'mixed',\n",
       "  'prominent',\n",
       "  'full day',\n",
       "  'symptom picture',\n",
       "  'manic',\n",
       "  'major depressive episodes'],\n",
       " ['mood-congruent', '210 diagnostic categories'],\n",
       " ['catatonic symptoms',\n",
       "  'stupor',\n",
       "  'mutism',\n",
       "  'tivism',\n",
       "  'posturing',\n",
       "  'manic episode',\n",
       "  'psychotic features',\n",
       "  'major depressive episode',\n",
       "  'dysphoric mood',\n",
       "  'loss of interest',\n",
       "  'usual activities',\n",
       "  'pastimes',\n",
       "  'disturbance',\n",
       "  'prominent',\n",
       "  'persistent',\n",
       "  'appetite disturbance',\n",
       "  'change in weight',\n",
       "  'sleep disturbance',\n",
       "  'psychomotor agitation',\n",
       "  'retardation',\n",
       "  'decreased energy',\n",
       "  'feelings of worthlessness',\n",
       "  'guilt',\n",
       "  'difficulty concentrating',\n",
       "  'thinking',\n",
       "  'thoughts of death',\n",
       "  'suicide',\n",
       "  'suicidal attempts'],\n",
       " ['depressive syndrome',\n",
       "  'depressed',\n",
       "  'hopeless',\n",
       "  'discouraged',\n",
       "  'down in the dumps',\n",
       "  'colloquial variant',\n",
       "  'complaint',\n",
       "  'not caring anymore',\n",
       "  'painful inability',\n",
       "  'pleasure',\n",
       "  'child',\n",
       "  'depressive syndrome',\n",
       "  'complaints',\n",
       "  'dysphoric mood',\n",
       "  'facial expression',\n",
       "  'interest',\n",
       "  'pleasure',\n",
       "  'friends',\n",
       "  'family',\n",
       "  'avocations',\n",
       "  'appetite',\n",
       "  'increased appetite'],\n",
       " ['loss of appetite',\n",
       "  'severe',\n",
       "  'significant weight loss',\n",
       "  'children',\n",
       "  'expected weight gains',\n",
       "  'appetite',\n",
       "  'markedly increased',\n",
       "  'significant weight gain',\n",
       "  'content of the hallucinations',\n",
       "  'delusions',\n",
       "  'apparent relationship',\n",
       "  'mood disturbance',\n",
       "  'mood-incongruent',\n",
       "  'persecutory delusions',\n",
       "  'individual',\n",
       "  'object of persecution',\n",
       "  'usefulness',\n",
       "  'distinction',\n",
       "  'mood-congruent',\n",
       "  'controversial'],\n",
       " ['essential features',\n",
       "  'major depressive episode',\n",
       "  'infants',\n",
       "  'children',\n",
       "  'adolescents',\n",
       "  'adults',\n",
       "  'differences',\n",
       "  'associated features',\n",
       "  'prepubertal children',\n",
       "  'separation anxiety',\n",
       "  'child',\n",
       "  'parents',\n",
       "  'school',\n",
       "  'death',\n",
       "  'previous history',\n",
       "  'intense anxiety symptoms',\n",
       "  'adolescent boys',\n",
       "  'negativistic behavior',\n",
       "  'antisocial behavior',\n",
       "  'behavior',\n",
       "  'feelings',\n",
       "  'wanting',\n",
       "  'leave home',\n",
       "  'understood',\n",
       "  'approved',\n",
       "  'restlessness',\n",
       "  'grouchiness',\n",
       "  'aggression'],\n",
       " [\"retreat to one's room\",\n",
       "  'school difficulties',\n",
       "  'due to depression',\n",
       "  'true dementia',\n",
       "  'organic mental disorder'],\n",
       " ['major depressive episode',\n",
       "  'organic affective syndrome',\n",
       "  'substances such as reserpine',\n",
       "  'hypothyroidism',\n",
       "  'primary degenerative dementia',\n",
       "  'multi-infarct dementia',\n",
       "  'disorientation',\n",
       "  'apathy',\n",
       "  'memory loss',\n",
       "  'elderly'],\n",
       " ['major depressive episode',\n",
       "  'prominent features',\n",
       "  'dementia',\n",
       "  'pseudo-dementia',\n",
       "  'successful treatment',\n",
       "  'physical illness',\n",
       "  'central nervous system',\n",
       "  'depression',\n",
       "  'full criteria',\n",
       "  'major depression',\n",
       "  'axis i',\n",
       "  'axis iii',\n",
       "  'axis iv',\n",
       "  'psychological reaction',\n",
       "  'functional impairment',\n",
       "  'physical disorder',\n",
       "  'severe psychosocial stressor',\n",
       "  'schizophrenia',\n",
       "  'depressive symptomatology',\n",
       "  'amputation',\n",
       "  'life-threatening illness',\n",
       "  'incapacitating illness'],\n",
       " ['episode',\n",
       "  'depression',\n",
       "  'follows',\n",
       "  'episode',\n",
       "  'schizophrenia',\n",
       "  'super',\n",
       "  'imposed',\n",
       "  'residual',\n",
       "  'phase',\n",
       "  'schizophrenia',\n",
       "  'additional',\n",
       "  'diagnosis',\n",
       "  'either',\n",
       "  'atypical',\n",
       "  'depression',\n",
       "  'adjustment',\n",
       "  'disorder',\n",
       "  'depressed',\n",
       "  'major',\n",
       "  'depression',\n",
       "  'individual',\n",
       "  'major',\n",
       "  'depressive',\n",
       "  'episode',\n",
       "  'psychotic',\n",
       "  'symptoms',\n",
       "  'however',\n",
       "  'diagnosis',\n",
       "  'schizophrenia',\n",
       "  'presence',\n",
       "  'depressive',\n",
       "  'syndrome',\n",
       "  'affective',\n",
       "  'symptoms',\n",
       "  'follow',\n",
       "  'psychotic',\n",
       "  'symptoms',\n",
       "  'brief',\n",
       "  'relative',\n",
       "  'duration',\n",
       "  'psychotic',\n",
       "  'symptoms',\n",
       "  'individual',\n",
       "  'schizophrenia',\n",
       "  'catatonic',\n",
       "  'appear',\n",
       "  'withdrawn',\n",
       "  'depressed',\n",
       "  'difficult',\n",
       "  'distinguish',\n",
       "  'condition',\n",
       "  'major',\n",
       "  'depression',\n",
       "  'psychomotor',\n",
       "  'retardation',\n",
       "  'instances',\n",
       "  'necessary',\n",
       "  'features',\n",
       "  'statistical',\n",
       "  'basis',\n",
       "  'associated',\n",
       "  'differentially',\n",
       "  'disorders',\n",
       "  'example',\n",
       "  'diagnosis',\n",
       "  'major',\n",
       "  'depressive',\n",
       "  'episode',\n",
       "  'likely',\n",
       "  'family',\n",
       "  'history',\n",
       "  'affective',\n",
       "  'disorder',\n",
       "  'premorbid',\n",
       "  'adjustment',\n",
       "  'previous',\n",
       "  'episode',\n",
       "  'affective',\n",
       "  'disturbance',\n",
       "  'complete',\n",
       "  'recovery',\n",
       "  'diagnosis',\n",
       "  'schizoaffective',\n",
       "  'disorder',\n",
       "  'whenever',\n",
       "  'clinician',\n",
       "  'unable',\n",
       "  'differential',\n",
       "  'diagnosis',\n",
       "  'between',\n",
       "  'major',\n",
       "  'depressive',\n",
       "  'episode',\n",
       "  'schizophrenia'],\n",
       " ['schizoaffective disorder',\n",
       "  'criteria',\n",
       "  'clinical situations',\n",
       "  'diagnosis',\n",
       "  'dysthymic disorders',\n",
       "  'cyclothymic disorders',\n",
       "  'depressive syndrome',\n",
       "  'severity',\n",
       "  'duration',\n",
       "  'major depressive episode',\n",
       "  'instances',\n",
       "  'superimposed',\n",
       "  'diagnoses',\n",
       "  'recovered',\n",
       "  'major depressive episode',\n",
       "  'dysthymic disorder',\n",
       "  'cyclothymic disorder',\n",
       "  'chronic mental disorders',\n",
       "  'obsessive compulsive disorder',\n",
       "  'alcohol dependence',\n",
       "  'depressive symptoms',\n",
       "  'major depression',\n",
       "  'full depressive syndrome',\n",
       "  'persistent'],\n",
       " ['instances',\n",
       "  'chronic',\n",
       "  'mental',\n",
       "  'disorder',\n",
       "  'superimposed',\n",
       "  'major',\n",
       "  'depression',\n",
       "  'recorded',\n",
       "  'separation',\n",
       "  'anxiety',\n",
       "  'disorder',\n",
       "  'common',\n",
       "  'present',\n",
       "  'diagnosed',\n",
       "  'children',\n",
       "  'separation',\n",
       "  'anxiety',\n",
       "  'develop',\n",
       "  'superimposed',\n",
       "  'major',\n",
       "  'depressive',\n",
       "  'episode',\n",
       "  'uncomplicated',\n",
       "  'bereavement',\n",
       "  'distinguished',\n",
       "  'major',\n",
       "  'depressive',\n",
       "  'episode',\n",
       "  'considered',\n",
       "  'mental',\n",
       "  'disorder',\n",
       "  'associated',\n",
       "  'syndrome',\n",
       "  'however',\n",
       "  'unduly',\n",
       "  'severe',\n",
       "  'prolonged',\n",
       "  'diagnosis',\n",
       "  'changed',\n",
       "  'major',\n",
       "  'depression'],\n",
       " ['diagnostic criteria',\n",
       "  'major depressive episode',\n",
       "  'dysphoric mood',\n",
       "  'loss of interest',\n",
       "  'usual activities',\n",
       "  'pastimes',\n",
       "  'depressed',\n",
       "  'hopeless',\n",
       "  'down in the dumps',\n",
       "  'irritable',\n",
       "  'mood disturbance',\n",
       "  'prominent',\n",
       "  'relatively persistent',\n",
       "  'not necessarily',\n",
       "  'most dominant symptom',\n",
       "  'include',\n",
       "  'momentary shifts',\n",
       "  'bizarre behavior'],\n",
       " ['schizophrenia',\n",
       "  'schizophreniform disorder',\n",
       "  'paranoid disorder',\n",
       "  'organic mental disorder',\n",
       "  'uncomplicated bereavement',\n",
       "  'major depressive episode',\n",
       "  'psychotic features',\n",
       "  'melancholia',\n",
       "  'coding system',\n",
       "  'clinician',\n",
       "  'remission',\n",
       "  'full criteria',\n",
       "  'depressive symptoms',\n",
       "  'signs of the disorder',\n",
       "  'full criteria',\n",
       "  'psychotic features',\n",
       "  'reality testing',\n",
       "  'delusions',\n",
       "  'hallucinations',\n",
       "  'depressive stupor'],\n",
       " ['individual affective disorders',\n",
       "  'ynresponsive',\n",
       "  'psychotic features',\n",
       "  'mood-congruent',\n",
       "  'mood-incongruent',\n",
       "  'non-ICD*9-CM fifth-digit',\n",
       "  'marked psychomotor retardation',\n",
       "  'agitation'],\n",
       " ['sigimlicant',\n",
       "  'anorexia',\n",
       "  'weight loss',\n",
       "  'excessive guilt',\n",
       "  'inappropriate guilt',\n",
       "  'melancholia',\n",
       "  'features',\n",
       "  'manic episodes',\n",
       "  'major depressive episodes',\n",
       "  'age onset',\n",
       "  'bipolar disorder',\n",
       "  'age 30',\n",
       "  'major depression',\n",
       "  'infancy',\n",
       "  'adult life',\n",
       "  'manic episode',\n",
       "  'rapid escalation',\n",
       "  'symptoms'],\n",
       " ['major depressive episodes',\n",
       "  'diagnostic categories',\n",
       "  'bipolar disorder',\n",
       "  'major depressive episode',\n",
       "  'variable symptoms',\n",
       "  'in some cases sudden',\n",
       "  'severe psychosocial stress'],\n",
       " ['prodromal symptoms',\n",
       "  'generalized anxiety',\n",
       "  'panic attacks',\n",
       "  'phobias',\n",
       "  'mild depressive symptoms',\n",
       "  'major depression, recurrent',\n",
       "  'greater risk',\n",
       "  'bipolar disorder',\n",
       "  'initial episode',\n",
       "  'manic',\n",
       "  'major depressive episodes',\n",
       "  'major depression',\n",
       "  'frequent',\n",
       "  'shorter',\n",
       "  'immediately followed',\n",
       "  'other kind'],\n",
       " ['rare cases',\n",
       "  'long periods',\n",
       "  'two kinds',\n",
       "  'episodes',\n",
       "  'intermediate period',\n",
       "  'normal mood',\n",
       "  'cycling',\n",
       "  'course',\n",
       "  'major affective disorders',\n",
       "  'variable',\n",
       "  'individuals',\n",
       "  'episodes',\n",
       "  'years',\n",
       "  'normal functioning',\n",
       "  'clusters',\n",
       "  'increased frequency',\n",
       "  'functioning',\n",
       "  'premorbid level',\n",
       "  'episodes',\n",
       "  'chronic course',\n",
       "  'residual symptoms',\n",
       "  'social impairment'],\n",
       " ['more likely',\n",
       "  'frequent recurrent episodes',\n",
       "  'manic episodes',\n",
       "  'considerable impairment',\n",
       "  'protection consequences',\n",
       "  'poor judgment',\n",
       "  'hyperactivity',\n",
       "  'major depressive episodes',\n",
       "  'degree impairment',\n",
       "  'severe impairment',\n",
       "  'function socially',\n",
       "  'occupationally',\n",
       "  'clothe',\n",
       "  'maintain personal hygiene',\n",
       "  'most common complications',\n",
       "  'substance abuse',\n",
       "  'consequences actions',\n",
       "  'impaired judgment',\n",
       "  'financial losses',\n",
       "  'illegal activities',\n",
       "  'serious complication',\n",
       "  'major depressive episode',\n",
       "  'suicide'],\n",
       " ['predisposing factors',\n",
       "  'chronic physical illness',\n",
       "  'alcohol dependence',\n",
       "  'psychosocial stressor',\n",
       "  'subsequent episodes',\n",
       "  'major affective disorder',\n",
       "  'adult population',\n",
       "  'prevalence and sex ratio',\n",
       "  'major depressive episode'],\n",
       " ['major depressive episode',\n",
       "  'require hospitalization',\n",
       "  'bipolar disorder',\n",
       "  'women',\n",
       "  'familial pattern',\n",
       "  'major affective disorders',\n",
       "  'family members',\n",
       "  'general population',\n",
       "  'individuals bipolar disorder'],\n",
       " ['diagnostic criteria',\n",
       "  'major affective disorders',\n",
       "  'bipolar disorder',\n",
       "  '296.6x',\n",
       "  'bipolar disorder, mixed',\n",
       "  'fifth-digit coding',\n",
       "  'manic episode',\n",
       "  'symptomatic picture',\n",
       "  'every few days',\n",
       "  'depressive symptoms',\n",
       "  'prominent',\n",
       "  'least a full day'],\n",
       " ['bipolar disorder',\n",
       "  'manic diagnostic criteria',\n",
       "  'bipolar disorder',\n",
       "  'depressed diagnostic criteria',\n",
       "  'current episode',\n",
       "  'previous manic episode',\n",
       "  'one or more manic episodes',\n",
       "  'currently'],\n",
       " ['major depressive episode',\n",
       "  'current episode of depression',\n",
       "  'diagnostic categories',\n",
       "  'major depression',\n",
       "  '218 diagnostic categories',\n",
       "  'never had a manic episode'],\n",
       " ['essential feature',\n",
       "  'long-standing illness',\n",
       "  \"two years' duration\",\n",
       "  'disturbance in mood',\n",
       "  'associated symptoms',\n",
       "  'inflated self-esteem',\n",
       "  'hypomanic periods',\n",
       "  'social withdrawal',\n",
       "  'uninhibited people-seeking',\n",
       "  'sleeping too much',\n",
       "  'decreased need for sleep',\n",
       "  'productivity at work',\n",
       "  'increased productivity',\n",
       "  'attention or concentration',\n",
       "  'manic episode'],\n",
       " ['major depressive episode',\n",
       "  'psychotic features',\n",
       "  'delusions',\n",
       "  'hallucinations',\n",
       "  'incoherence',\n",
       "  'loosening of associations',\n",
       "  'substance abuse',\n",
       "  'sedatives',\n",
       "  'alcohol',\n",
       "  'depressed periods',\n",
       "  'stimulants',\n",
       "  'psychedelics',\n",
       "  'hypomanic periods',\n",
       "  'age at onset',\n",
       "  'chronic course',\n",
       "  'affective disorders'],\n",
       " ['impaired social functioning',\n",
       "  'moderate or severe',\n",
       "  'occupational functioning',\n",
       "  'manic episodes',\n",
       "  'major depressive episodes',\n",
       "  'disorder complications',\n",
       "  'cyclothymic disorder',\n",
       "  'bipolar disorder',\n",
       "  'prevalence information'],\n",
       " ['major depression',\n",
       "  'bipolar disorder',\n",
       "  'family members',\n",
       "  'individuals',\n",
       "  'cyclothymic disorder',\n",
       "  'general population',\n",
       "  'manic episodes',\n",
       "  'major depressive episodes',\n",
       "  'superimposed',\n",
       "  'cyclothymic disorder',\n",
       "  'diagnoses',\n",
       "  'recovery',\n",
       "  'major affective disorder',\n",
       "  'output'],\n",
       " ['diagnostic criteria',\n",
       "  'cyclothymic disorder',\n",
       "  'past two years',\n",
       "  'numerous periods',\n",
       "  'symptoms characteristic',\n",
       "  'depressive and mmi£ syndrome',\n",
       "  'absence of psychotic features',\n",
       "  'may precede bipolar disorder',\n",
       "  'dysthymic disorder'],\n",
       " ['essential feature',\n",
       "  'chronic disturbance',\n",
       "  'depressed mood',\n",
       "  'loss of interest',\n",
       "  'usual activities',\n",
       "  'affective disorders',\n",
       "  'pastimes',\n",
       "  'associated symptoms',\n",
       "  'major depressive episode',\n",
       "  'full affective syndrome',\n",
       "  'adults',\n",
       "  \"two years' duration\",\n",
       "  'children',\n",
       "  'adolescents',\n",
       "  'one year',\n",
       "  'depressed mood',\n",
       "  'down in the dumps'],\n",
       " ['these normal periods',\n",
       "  'a few days',\n",
       "  'a few weeks',\n",
       "  'the diagnosis',\n",
       "  'an apparently chronic course',\n",
       "  'interrupted by',\n",
       "  'a period of normal mood',\n",
       "  'lasting more than a few months',\n",
       "  'depressive periods',\n",
       "  'some of the milder features',\n",
       "  'the depressive syndrome',\n",
       "  'major depressive episode',\n",
       "  'p. 210',\n",
       "  'see criterion d',\n",
       "  'associated features'],\n",
       " ['major depressive episode',\n",
       "  'delusions',\n",
       "  'hallucinations',\n",
       "  'personality disorder',\n",
       "  'axis ii',\n",
       "  'adult life',\n",
       "  'depressive personality',\n",
       "  'females',\n",
       "  'children',\n",
       "  'both sexes'],\n",
       " [', major depressive episode',\n",
       "  'p. 213',\n",
       "  'major depression',\n",
       "  'period of two years',\n",
       "  'dysthymic disorder',\n",
       "  'alternative diagnosis',\n",
       "  'major depression in remission',\n",
       "  'diagnoses should be recorded',\n",
       "  'individual will continue',\n",
       "  'dysthymic disorder',\n",
       "  'affective features',\n",
       "  'personality disorder',\n",
       "  'normal fluctuations of mood',\n",
       "  'severe as the depressed mood',\n",
       "  'dysthymic disorder'],\n",
       " ['chronic mental disorders',\n",
       "  'obsessive compulsive disorder',\n",
       "  'alcohol dependence',\n",
       "  'depressive symptoms',\n",
       "  'dysthymic disorder',\n",
       "  'additional diagnosis',\n",
       "  'depressed mood',\n",
       "  \"individual's usual mood\",\n",
       "  'children',\n",
       "  'attention deficit disorder',\n",
       "  'organic mental disorder',\n",
       "  'diagnostic criteria',\n",
       "  'past two years',\n",
       "  'one year',\n",
       "  'children and adolescents',\n",
       "  'symptoms characteristic',\n",
       "  'depressive syndrome',\n",
       "  'severity duration',\n",
       "  'major depressive episode',\n",
       "  'persistent separated',\n",
       "  'periods normal mood',\n",
       "  'few days',\n",
       "  'few weeks',\n",
       "  'few months',\n",
       "  'dysthymic disorder'],\n",
       " ['affective disorders',\n",
       "  'depressive periods',\n",
       "  'prominent depressed mood',\n",
       "  'loss of interest',\n",
       "  'pleasure in all',\n",
       "  'usual activities and pastimes',\n",
       "  'less active',\n",
       "  'restless',\n",
       "  'pessimistic attitude',\n",
       "  'future',\n",
       "  'past events',\n",
       "  'feeling sorry',\n",
       "  'tearfulness',\n",
       "  'crying',\n",
       "  'absence of psychotic thoughts',\n",
       "  'delusions',\n",
       "  'hallucinations',\n",
       "  'incoherence',\n",
       "  'loosening of association'],\n",
       " ['de   prelsed mood',\n",
       "  'atypical affective disorders',\n",
       "  'major depressive episode',\n",
       "  'episode  of illness',\n",
       "  'some manic features',\n",
       "  'hypomanic episode',\n",
       "  'bipolar ii',\n",
       "  'depressive symptoms',\n",
       "  'adjustment disorder',\n",
       "  '224 diagnostic categories'],\n",
       " ['simple phobia',\n",
       "  'most common type',\n",
       "  'phobic disorder',\n",
       "  'diagnostic categories',\n",
       "  'general population',\n",
       "  'agoraphobia',\n",
       "  'common among',\n",
       "  'treatment',\n",
       "  '300.21',\n",
       "  'agoraphobia with panic attacks',\n",
       "  '300.22',\n",
       "  'essential feature',\n",
       "  'marked fear',\n",
       "  'being alone',\n",
       "  'public places',\n",
       "  'escape',\n",
       "  'sudden incapacitation',\n",
       "  'normal activities',\n",
       "  'increasingly constricted',\n",
       "  'fears',\n",
       "  'avoidance behavior',\n",
       "  \"individual's life\",\n",
       "  'common situations',\n",
       "  'avoided',\n",
       "  'crowds',\n",
       "  'busy street',\n",
       "  'crowded stores',\n",
       "  'tunnels',\n",
       "  'bridges',\n",
       "  'elevators',\n",
       "  'public transportation',\n",
       "  'family member',\n",
       "  'friend',\n",
       "  'leave home',\n",
       "  'accompany'],\n",
       " ['the disturbance',\n",
       "  'not due',\n",
       "  'major depressive episode',\n",
       "  'obsessive compulsive disorder',\n",
       "  'paranoid personality disorder',\n",
       "  'schizophrenia',\n",
       "  'initial phase',\n",
       "  'disorder',\n",
       "  'recurrent panic attacks',\n",
       "  'individual',\n",
       "  'develops anticipatory fear',\n",
       "  'having such an attack',\n",
       "  'becomes reluctant',\n",
       "  'refuses to enter',\n",
       "  'variety of situations',\n",
       "  'associated with these attacks',\n",
       "  'history of panic attacks',\n",
       "  'diagnostic criteria',\n",
       "  'agoraphobia'],\n",
       " ['individual',\n",
       "  'has marked fear',\n",
       "  'being alone',\n",
       "  'public places',\n",
       "  'difficult escape',\n",
       "  'help not available',\n",
       "  'sudden incapacitation',\n",
       "  'crowds',\n",
       "  'tunnels',\n",
       "  'bridges',\n",
       "  'public transportation',\n",
       "  'increasing constriction',\n",
       "  'normal activities',\n",
       "  'fears',\n",
       "  'avoidance behavior',\n",
       "  \"individual's life\",\n",
       "  'major depressive episode',\n",
       "  'obsessive compulsive disorder',\n",
       "  'paranoid personality disorder',\n",
       "  'schizophrenia',\n",
       "  'social phobia',\n",
       "  'persistent irrational fear',\n",
       "  'compelling desire',\n",
       "  'exposed to scrutiny',\n",
       "  'others',\n",
       "  'behavior',\n",
       "  'humiliating',\n",
       "  'embarrassing'],\n",
       " ['marked anticipatory anxiety',\n",
       "  'necessity of entering',\n",
       "  'avoiding situation',\n",
       "  'source of distress',\n",
       "  'individual as excessive',\n",
       "  'unreasonable disturbance',\n",
       "  'tour guests',\n",
       "  'something stuck',\n",
       "  'water overflowed',\n",
       "  'basement',\n",
       "  'kitchen',\n",
       "  'repaint and restore',\n",
       "  'white house room',\n",
       "  'enormous living room',\n",
       "  'reunion',\n",
       "  'having'],\n",
       " ['mood, euthymic. mood in the '],\n",
       " ['criteria for this disorder',\n",
       "  'childhood psychosis',\n",
       "  'atypical children',\n",
       "  'symbiotic psychosis',\n",
       "  'children with this disorder',\n",
       "  'no way of predicting',\n",
       "  'major affective disorders',\n",
       "  'non-organic psychoses',\n",
       "  'precipitating life experience',\n",
       "  'term melancholia'],\n",
       " ['involutional melancholia',\n",
       "  'major depression',\n",
       "  'single episode',\n",
       "  'psychotic features',\n",
       "  'depression involutional period',\n",
       "  'depression other stages',\n",
       "  'manic-depressive illness',\n",
       "  'manic type',\n",
       "  'bipolar disorder',\n",
       "  'manic episode',\n",
       "  'depressed type',\n",
       "  'circular type',\n",
       "  'manic',\n",
       "  'depressed',\n",
       "  'mixed',\n",
       "  'dsm-ii',\n",
       "  'dsm-iii',\n",
       "  'adolescent antisocial behavior',\n",
       "  'child use disorders',\n",
       "  'academic or work inhibition',\n",
       "  'adolescents',\n",
       "  'personality disorder',\n",
       "  'diagnosis',\n",
       "  'disorders in children',\n",
       "  'problem',\n",
       "  'adult antisocial behavior',\n",
       "  'acute',\n",
       "  'alcohol intoxication',\n",
       "  'atypical bipolar disorder',\n",
       "  'confusional state'],\n",
       " ['delirium',\n",
       "  'atypical depression',\n",
       "  'bipolar disorder',\n",
       "  'paranoid reaction',\n",
       "  'acute paranoid disorder',\n",
       "  'cyclothymic disorder',\n",
       "  'reactions to stress',\n",
       "  'stress disorder',\n",
       "  'hallucinogen ment disorder',\n",
       "  'major depression',\n",
       "  'schizophrenic episode',\n",
       "  'phreniform disorder',\n",
       "  'brief major depressive episode',\n",
       "  'reactive psychosis',\n",
       "  'manic episode',\n",
       "  'typical psychosis',\n",
       "  'affective syndrome',\n",
       "  'organic',\n",
       "  'additional codes',\n",
       "  'agoraphobia',\n",
       "  'diagnosis deferred on axis ii',\n",
       "  'alcohol abuse/dependence',\n",
       "  'adjustment disorder',\n",
       "  'amnestic disorder',\n",
       "  'paranoid state',\n",
       "  'withdrawal delirium',\n",
       "  'hallucinosis'],\n",
       " ['alcohol hallucinosis',\n",
       "  'panic disorder',\n",
       "  'phobic disorders',\n",
       "  'jealousy',\n",
       "  'paranoid disorder',\n",
       "  'post-traumatic stress disorder',\n",
       "  'paranoia',\n",
       "  'alcohol amnesimpotence',\n",
       "  'inhibited sexual excitement',\n",
       "  'tic disorder',\n",
       "  'labile personality disorder',\n",
       "  'cyclo-thymic disorder',\n",
       "  'intermittent explosive',\n",
       "  'isolated explosive',\n",
       "  'kleptomania',\n",
       "  'articulation disorder',\n",
       "  'pathological gambling',\n",
       "  'expressive type',\n",
       "  'receptive type',\n",
       "  'latent schizophrenia'],\n",
       " ['schizotypal disorder',\n",
       "  'personality disorder',\n",
       "  'infancy',\n",
       "  'childhood',\n",
       "  'adolescence',\n",
       "  'major affective disorders',\n",
       "  'index',\n",
       "  'major depression',\n",
       "  'single episode',\n",
       "  'recurneurasthenia',\n",
       "  'dysthymic disorder',\n",
       "  'major depressive episode',\n",
       "  'neurasthenic neurosis',\n",
       "  'dysthymic disorder',\n",
       "  'malingering',\n",
       "  'disorder',\n",
       "  'manic-depressive illness',\n",
       "  'bipolar disorder',\n",
       "  'anxiety',\n",
       "  'panic disorder',\n",
       "  'generalized anxiety disorder',\n",
       "  'marital problem',\n",
       "  'masochism',\n",
       "  'sexual',\n",
       "  'depersonalization',\n",
       "  'melancholia',\n",
       "  'depersonalization',\n",
       "  'disorder',\n",
       "  'mental disorder',\n",
       "  'dsm-iii',\n",
       "  'depressive'],\n",
       " ['alcohol',\n",
       "  'dementia',\n",
       "  'intoxication',\n",
       "  'post-concussional syndrome',\n",
       "  'atypipavor nocturnus',\n",
       "  'sleep terror dis',\n",
       "  'order',\n",
       "  'pedophilia',\n",
       "  'post-traumatic stress disorder',\n",
       "  'chronic or delayed',\n",
       "  'substance-induced',\n",
       "  'postpartum psychosis',\n",
       "  'form disorder',\n",
       "  'active psychosis',\n",
       "  'atypi',\n",
       "  'cal psychosis',\n",
       "  'antisocial',\n",
       "  'organic brain',\n",
       "  'atypical, mixed or other',\n",
       "  'avoidant',\n",
       "  'borderline',\n",
       "  'compulsive',\n",
       "  'dependent',\n",
       "  'histrionic',\n",
       "  'narcissistic',\n",
       "  'paranoid',\n",
       "  'passive-aggressive',\n",
       "  'senile onset',\n",
       "  'profound mental retardation',\n",
       "  'pseudodementia',\n",
       "  'dementia',\n",
       "  'personality disorders',\n",
       "  'psychotic dis',\n",
       "  'major depressive episode'],\n",
       " ['schizophrenia',\n",
       "  'pseudoneurotic',\n",
       "  'pseudopsychosis',\n",
       "  'factitious disorder',\n",
       "  'phase of life problem',\n",
       "  'life circumstance problem',\n",
       "  'phencyclidine (pcp)',\n",
       "  'arylcylohexylamine abuse',\n",
       "  'fugue',\n",
       "  'pain disorder',\n",
       "  'organpsychological factors',\n",
       "  'physical condition',\n",
       "  'psychophysiologic disorders',\n",
       "  'psychoschizoid',\n",
       "  'paranoid type',\n",
       "  'catatonic type',\n",
       "  'disorganized type',\n",
       "  'gender identity disorders',\n",
       "  'paraphilias',\n",
       "  'school phobia']]"
      ]
     },
     "execution_count": 104,
     "metadata": {},
     "output_type": "execute_result"
    }
   ],
   "source": [
    "phrases_llm"
   ]
  },
  {
   "cell_type": "code",
   "execution_count": null,
   "metadata": {},
   "outputs": [],
   "source": [
    "phrases_llm = re.findall(r'\"(.*?)\"', tokenizer(articles))\n",
    "phrases_llm\n",
    "tokenizer(articles)"
   ]
  },
  {
   "cell_type": "markdown",
   "metadata": {},
   "source": [
    "用Spacy模型进行的分词（用时0.8但需要根据语言调整依赖关系筛选）"
   ]
  },
  {
   "cell_type": "code",
   "execution_count": null,
   "metadata": {},
   "outputs": [],
   "source": [
    "import spacy\n",
    "\n",
    "nlp = spacy.load(\"en_core_web_sm\")\n",
    "\n",
    "def extract_phrases(doc):\n",
    "    phrases = []\n",
    "\n",
    "    # 提取名词短语\n",
    "    for chunk in doc.noun_chunks:\n",
    "        phrases.append(chunk.text)\n",
    "    \n",
    "    # 提取动词短语\n",
    "    for token in doc:\n",
    "        if token.dep_ in ('ROOT', 'acl', 'advcl', 'relcl'):\n",
    "            phrases.append(' '.join([child.text for child in token.subtree]))\n",
    "\n",
    "    # 提取副词短语\n",
    "    for token in doc:\n",
    "        if token.pos_ == 'ADV':\n",
    "            adverb_phrase = [token.text]\n",
    "            adverb_phrase.extend([child.text for child in token.children])\n",
    "            phrases.append(' '.join(adverb_phrase))\n",
    "\n",
    "    # 提取介词短语并拼接修饰的主体\n",
    "    for token in doc:\n",
    "        if token.dep_ == 'prep':  # 如果是介词\n",
    "            prep_phrase = ' '.join([child.text for child in token.subtree])\n",
    "            head = token.head\n",
    "            head_phrase = head.text\n",
    "            if head.dep_ in ('ROOT', 'acl', 'advcl', 'relcl', 'pobj', 'dobj', 'nsubj'):\n",
    "                head_phrase = ' '.join([child.text for child in head.subtree])\n",
    "            phrases.append([f\"{head_phrase}\", 1])\n",
    "    \n",
    "    return phrases\n",
    "\n",
    "# 提取所有文章中的短语\n",
    "all_phrases = []\n",
    "for article in articles:\n",
    "    doc = nlp(article)\n",
    "    phrases = extract_phrases(doc)\n",
    "    all_phrases.extend(phrases)\n",
    "\n",
    "\n",
    "print(\"phrases extracted:\")\n",
    "for phrase in all_phrases:\n",
    "    print(phrase)"
   ]
  },
  {
   "cell_type": "code",
   "execution_count": null,
   "metadata": {},
   "outputs": [],
   "source": [
    "docs = [nlp(article) for article in articles]\n",
    "for token in docs[0]:\n",
    "    print([token.text, token.dep_])"
   ]
  },
  {
   "cell_type": "markdown",
   "metadata": {},
   "source": [
    "用BERT模型分词(用时3m56)"
   ]
  },
  {
   "cell_type": "code",
   "execution_count": null,
   "metadata": {},
   "outputs": [],
   "source": [
    "# 加载 DistilBERT 模型和 tokenizer\n",
    "tokenizer = DistilBertTokenizer.from_pretrained('distilbert-base-uncased')\n",
    "model = DistilBertModel.from_pretrained('distilbert-base-uncased')\n",
    "\n",
    "# 提取短语函数\n",
    "def extract_phrases(article):\n",
    "    phrases = []\n",
    "    sentences = article.split('.')\n",
    "    for sentence in sentences:\n",
    "        words = sentence.split()\n",
    "        phrases.extend(words)\n",
    "    return phrases\n",
    "\n",
    "# 提取所有文章中的短语\n",
    "all_phrases = []\n",
    "for article in articles:\n",
    "    phrases = extract_phrases(article)\n",
    "    all_phrases.extend(phrases)"
   ]
  },
  {
   "cell_type": "markdown",
   "metadata": {},
   "source": [
    "Prepare for embedding and vecotr search"
   ]
  },
  {
   "cell_type": "code",
   "execution_count": 24,
   "metadata": {},
   "outputs": [],
   "source": [
    "client = Client(\n",
    "  api_key='sk-0R9jI2212bV7Ma7u7ba4UmX8QQ8Gt2E2060C14D5411EF9A1EB61E393DC850',\n",
    "  endpoint='vrs-cn-0mm3ulqnq00032.dashvector.cn-hangzhou.aliyuncs.com'\n",
    ")\n",
    "\n",
    "collection = client.get('sample1')\n",
    "assert collection"
   ]
  },
  {
   "cell_type": "code",
   "execution_count": 41,
   "metadata": {},
   "outputs": [
    {
     "data": {
      "text/plain": [
       "['these symptoms',\n",
       " 'appear in some individuals',\n",
       " 'following ingestion',\n",
       " 'as little as 250 mg of caffeine per day',\n",
       " 'whereas others',\n",
       " 'require much larger doses',\n",
       " 'levels of more than i g/day',\n",
       " 'muscle twitchings',\n",
       " 'periods of inexhaustibility',\n",
       " 'psychomotor agitation',\n",
       " 'rambling flow of thought and speech',\n",
       " 'cardiac arrhythmia',\n",
       " 'mild sensory disturbances',\n",
       " 'ringing in the ears',\n",
       " 'flashes of light',\n",
       " 'higher doses',\n",
       " 'with doses exceeding 10 g of caffeine',\n",
       " 'grand mal seizures',\n",
       " 'respiratory failure',\n",
       " 'result in death',\n",
       " 'this disorder',\n",
       " 'called caffeinism',\n",
       " 'coffee contains 100150 mg of caffeine per cup',\n",
       " 'tea is about half as strong',\n",
       " 'glass of cola',\n",
       " 'about a third as strong']"
      ]
     },
     "execution_count": 41,
     "metadata": {},
     "output_type": "execute_result"
    }
   ],
   "source": [
    "phrases_llm[0]"
   ]
  },
  {
   "cell_type": "code",
   "execution_count": null,
   "metadata": {},
   "outputs": [],
   "source": [
    "for phrase in phrases_llm:\n",
    "    # 批量 embedding\n",
    "\n",
    "    embedding = generate_embeddings(phrase)\n",
    "\n",
    "\n",
    "    \n",
    "    rsp = collection.insert(\n",
    "        \n",
    "        Doc(id=str(len(phrase)), vector=embedding, fields={\"title\": phrase}) \n",
    "           \n",
    "    )\n",
    "    assert rsp"
   ]
  },
  {
   "cell_type": "code",
   "execution_count": 109,
   "metadata": {},
   "outputs": [],
   "source": [
    "def batch_generator(items, batchsize):\n",
    "    for i in range(0, len(items), batchsize):\n",
    "        yield items[i:i + batchsize]\n",
    "\n",
    "def process_phrases(phrases_llm, batchsize=6):\n",
    "    for batch in batch_generator(phrases_llm, batchsize):\n",
    "        \n",
    "        for sent in batch:\n",
    "            embeddings = [generate_embeddings(phrase) for phrase in sent]\n",
    "\n",
    "            \n",
    "            docs = [Doc(id=str(len(phrase)), vector=embedding, fields={\"title\": phrase}) \n",
    "                    for phrase, embedding in zip(sent, embeddings)]\n",
    "        \n",
    "        rsp = collection.insert(docs)\n",
    "        assert rsp\n",
    "process_phrases(phrases_llm, batchsize=5)\n"
   ]
  },
  {
   "cell_type": "markdown",
   "metadata": {},
   "source": [
    "这里用测试的输入词‘{}’尝试输出"
   ]
  },
  {
   "cell_type": "code",
   "execution_count": 110,
   "metadata": {},
   "outputs": [],
   "source": [
    "rsp = collection.query(generate_embeddings(keyword), output_fields=['title'],topk=30)\n",
    "\n",
    "\n",
    "related_phrases = [doc.fields['title'] for doc in rsp.output][4:20]\n",
    "related_phrases_embeddings = [doc.vector for doc in rsp.output][4:20]\n"
   ]
  },
  {
   "cell_type": "code",
   "execution_count": 111,
   "metadata": {},
   "outputs": [
    {
     "data": {
      "image/png": "[encoded data removed]",
      "text/plain": [
       "<Figure size 1000x800 with 2 Axes>"
      ]
     },
     "metadata": {},
     "output_type": "display_data"
    }
   ],
   "source": [
    "related_phrases_embeddings = [generate_embeddings(phrase) for phrase in related_phrases]\n",
    "\n",
    "similarity_matrix = cosine_similarity(related_phrases_embeddings)\n",
    "\n",
    "plt.figure(figsize=(10, 8))\n",
    "sns.heatmap(similarity_matrix, xticklabels=related_phrases, yticklabels=related_phrases, cmap='coolwarm')\n",
    "plt.title(f'Related Phrases Similarity Heatmap for word {keyword}')\n",
    "plt.xticks(rotation=90)\n",
    "plt.yticks(rotation=0)\n",
    "plt.show()"
   ]
  },
  {
   "cell_type": "markdown",
   "metadata": {},
   "source": [
    "可以继续优化删除掉与原词相似度太高的词（相似度太高说明是近义词，与我们需要的逻辑关系不符），但是感觉也并没有实现筛选出固定语义的目的"
   ]
  },
  {
   "cell_type": "code",
   "execution_count": 112,
   "metadata": {},
   "outputs": [
    {
     "data": {
      "image/png": "[encoded data removed]",
      "text/plain": [
       "<Figure size 1000x800 with 1 Axes>"
      ]
     },
     "metadata": {},
     "output_type": "display_data"
    }
   ],
   "source": [
    "from scipy.cluster.hierarchy import dendrogram, linkage\n",
    "\n",
    "# 层次聚类\n",
    "Z = linkage(similarity_matrix, 'ward')\n",
    "\n",
    "# 绘制层次聚类树状图\n",
    "plt.figure(figsize=(10, 8))\n",
    "dendrogram(Z)\n",
    "plt.title(f'Hierarchical Clustering Dendrogram for {keyword}')\n",
    "plt.xlabel('Sample index')\n",
    "plt.ylabel('Distance')\n",
    "plt.show()"
   ]
  },
  {
   "cell_type": "code",
   "execution_count": 120,
   "metadata": {},
   "outputs": [
    {
     "name": "stdout",
     "output_type": "stream",
     "text": [
      "Final 5 characteristics of major depressive episode:\n",
      "development\n",
      "cognitive deficits\n",
      "pseudodementia\n",
      "exacerbation\n",
      "more common in the manic form\n"
     ]
    }
   ],
   "source": [
    "from scipy.cluster.hierarchy import linkage, fcluster\n",
    "import numpy as np\n",
    "\n",
    "# 使用相似度矩阵进行层次聚类\n",
    "Z = linkage(1 - similarity_matrix, 'ward')  # 使用1减去相似度矩阵作为距离矩阵\n",
    "\n",
    "# 将短语分为k类\n",
    "k = 5  # 假设我们要分为5类\n",
    "clusters = fcluster(Z, k, criterion='maxclust')\n",
    "\n",
    "def get_representative_phrases(similarity_matrix, clusters, k, related_phrases, related_phrases_embeddings):\n",
    "    rep_phrases = []\n",
    "    rep_phrase_emb = []\n",
    "    for cluster_id in range(1, k + 1):\n",
    "        cluster_indices = [i for i, c in enumerate(clusters) if c == cluster_id]\n",
    "        cluster_similarity = similarity_matrix[cluster_indices][:, cluster_indices]\n",
    "        centroid_index = np.argmax(np.sum(cluster_similarity, axis=0))\n",
    "        rep_index = cluster_indices[centroid_index]\n",
    "        rep_phrases.append(related_phrases[rep_index])\n",
    "        rep_phrase_emb.append(related_phrases_embeddings[rep_index])\n",
    "    return rep_phrases, rep_phrase_emb\n",
    "\n",
    "# 获取代表性短语\n",
    "final_phrases, final_emb = get_representative_phrases(similarity_matrix, clusters, k, related_phrases, related_phrases_embeddings)\n",
    "print(f\"Final {k} characteristics of {keyword}:\")\n",
    "\n",
    "\n",
    "for phrase in final_phrases:\n",
    "    print(phrase)\n"
   ]
  },
  {
   "cell_type": "code",
   "execution_count": 121,
   "metadata": {},
   "outputs": [
    {
     "name": "stdout",
     "output_type": "stream",
     "text": [
      "Final 5 characteristics of major depressive episode:\n",
      "period\n",
      "cognitive deficits\n",
      "memory impairment\n",
      "exacerbation\n",
      "more common in the manic form\n"
     ]
    }
   ],
   "source": [
    "def get_representative_phrases( clusters, k, related_phrases, related_phrases_embeddings, target_emb):\n",
    "    rep_phrases = []\n",
    "    rep_phrase_emb = []\n",
    "    \n",
    "    # 计算target_emb与所有短语嵌入的相似度\n",
    "    target_similarity = np.dot(related_phrases_embeddings, target_emb)\n",
    "    \n",
    "    for cluster_id in range(1, k + 1):\n",
    "        cluster_indices = [i for i, c in enumerate(clusters) if c == cluster_id]\n",
    "        \n",
    "        # 如果当前聚类中没有元素，则跳过\n",
    "        if not cluster_indices:\n",
    "            continue\n",
    "        \n",
    "        # 计算target_emb与当前聚类中所有短语的相似度\n",
    "        cluster_similarities = target_similarity[cluster_indices]\n",
    "        \n",
    "        # 找出与target_emb最相似的短语索引\n",
    "        max_similarity_index = np.argmax(cluster_similarities)\n",
    "        rep_index = cluster_indices[max_similarity_index]\n",
    "        \n",
    "        # 添加代表性短语和其嵌入向量\n",
    "        rep_phrases.append(related_phrases[rep_index])\n",
    "        rep_phrase_emb.append(related_phrases_embeddings[rep_index])\n",
    "        \n",
    "    return rep_phrases, rep_phrase_emb\n",
    "\n",
    "final_phrases, final_emb = get_representative_phrases(clusters, k, related_phrases, related_phrases_embeddings, generate_embeddings(keyword))\n",
    "print(f\"Final {k} characteristics of {keyword}:\")\n",
    "for phrase in final_phrases:\n",
    "    print(phrase)"
   ]
  },
  {
   "cell_type": "markdown",
   "metadata": {},
   "source": [
    "计算输出的负相关性，负相关性是衡量输出重复度的重要指标"
   ]
  },
  {
   "cell_type": "code",
   "execution_count": 122,
   "metadata": {},
   "outputs": [
    {
     "name": "stdout",
     "output_type": "stream",
     "text": [
      "average dot product is 0.33248150233442114\n",
      "average cosine similarity is 0.4659852018675367\n"
     ]
    }
   ],
   "source": [
    "def average_dot_product(vectors):\n",
    "    n = len(vectors)\n",
    "    dot_products = []\n",
    "\n",
    "    for i in range(n):\n",
    "        for j in range(i + 1, n):\n",
    "            dot_product = np.dot(vectors[i], vectors[j])\n",
    "            dot_products.append(dot_product)\n",
    "    \n",
    "    average_dot = np.mean(dot_products)\n",
    "    return average_dot\n",
    "\n",
    "ave_dot = average_dot_product(final_emb)\n",
    "ave_cos = np.mean(cosine_similarity(final_emb))\n",
    "\n",
    "print(f'average dot product is {ave_dot}')\n",
    "print(f'average cosine similarity is {ave_cos}')"
   ]
  },
  {
   "cell_type": "markdown",
   "metadata": {},
   "source": [
    "这里用大模型尝试恢复到原本的输入词‘symptoms of depression'"
   ]
  },
  {
   "cell_type": "code",
   "execution_count": 123,
   "metadata": {},
   "outputs": [],
   "source": [
    "def retrieve(articles, final_phrases):\n",
    "    prompt = f'''complete the #OBJECTIVE# based on the #CONTEXT#, and generate the output based on #STYLE# and #RESPONSE#\n",
    "    # CONTEXT #\n",
    "    You are an expert at retrieving a phrase from a text database given a list of the characteristics of that phrase.\n",
    "    # OBJECTIVE #\n",
    "    Pick exactly one phrase or word from the text database that best fits the list of characteristics.\n",
    "\n",
    "    list of characteristics: {final_phrases}\n",
    "\n",
    "    text database: {articles}\n",
    "\n",
    "    # STYLE #\n",
    "    output only the result of phrase retrieval. \n",
    "    The result could be a single word or a short phrase, but never a sentence. \n",
    "    The result must be from the text database.\n",
    "    Set the temperature parameter to 0 to ensure a precise output\n",
    "    # RESPONSE #\n",
    "    do not output anything other than the result of retrieval\n",
    "    '''\n",
    "    \n",
    "    rsp = Generation.call(model='qwen-max', prompt=prompt)\n",
    "    return rsp.output.text"
   ]
  },
  {
   "cell_type": "code",
   "execution_count": 124,
   "metadata": {},
   "outputs": [],
   "source": [
    "def retriever_batch(articles, final_phrases, batchsize=6):\n",
    "    def batch_generator(articles, batchsize):\n",
    "        for i in range(0, len(articles), batchsize):\n",
    "            yield articles[i:i + batchsize]\n",
    "    \n",
    "    tokenized_results = []\n",
    "    \n",
    "    with tqdm(total=len(articles) // batchsize + (len(articles) % batchsize > 0)) as pbar:\n",
    "        for idx, batch in enumerate(batch_generator(articles, batchsize)):\n",
    "            \n",
    "            debug_info = f\"Processing batch {idx + 1}/{len(articles) // batchsize + (len(articles) % batchsize > 0)} with {len(batch)} phrases\"\n",
    "            \n",
    "            print(f\"Debug: {debug_info}\")  \n",
    "            \n",
    "            prompt = f'''complete the #OBJECTIVE# based on the #CONTEXT#, and generate the output based on #STYLE# and #RESPONSE#\n",
    "            # CONTEXT #\n",
    "            You are an expert at retrieving a phrase from a text database given a list of the characteristics of that phrase.\n",
    "            # OBJECTIVE #\n",
    "            Pick exactly one phrase or word from the text database that best fits the list of characteristics.\n",
    "\n",
    "            list of characteristics: {final_phrases}\n",
    "\n",
    "            text database: {batch}\n",
    "\n",
    "            # STYLE #\n",
    "            output only the result of phrase retrieval. \n",
    "            The result could be a single word or a short phrase, but never a sentence. \n",
    "            The result must be from the text database.\n",
    "            Set the temperature parameter to 0 to ensure a precise output\n",
    "            # RESPONSE #\n",
    "            do not output anything other than the result of retrieval\n",
    "            '''\n",
    "            \n",
    "            rsp = Generation.call(model='qwen-turbo', prompt=prompt)\n",
    "            tokenized_results.append(rsp.output.text.strip())\n",
    "            \n",
    "            pbar.update(len(batch))  # 更新进度条\n",
    "     \n",
    "    return tokenized_results"
   ]
  },
  {
   "cell_type": "code",
   "execution_count": 125,
   "metadata": {},
   "outputs": [
    {
     "name": "stderr",
     "output_type": "stream",
     "text": [
      "  0%|          | 0/72 [00:00<?, ?it/s]"
     ]
    },
    {
     "name": "stdout",
     "output_type": "stream",
     "text": [
      "Debug: Processing batch 1/72 with 6 phrases\n"
     ]
    },
    {
     "name": "stderr",
     "output_type": "stream",
     "text": [
      "  8%|▊         | 6/72 [00:00<00:05, 12.59it/s]"
     ]
    },
    {
     "name": "stdout",
     "output_type": "stream",
     "text": [
      "Debug: Processing batch 2/72 with 6 phrases\n"
     ]
    },
    {
     "name": "stderr",
     "output_type": "stream",
     "text": [
      " 17%|█▋        | 12/72 [00:00<00:04, 13.24it/s]"
     ]
    },
    {
     "name": "stdout",
     "output_type": "stream",
     "text": [
      "Debug: Processing batch 3/72 with 6 phrases\n"
     ]
    },
    {
     "name": "stderr",
     "output_type": "stream",
     "text": [
      " 25%|██▌       | 18/72 [00:01<00:04, 13.29it/s]"
     ]
    },
    {
     "name": "stdout",
     "output_type": "stream",
     "text": [
      "Debug: Processing batch 4/72 with 6 phrases\n"
     ]
    },
    {
     "name": "stderr",
     "output_type": "stream",
     "text": [
      " 33%|███▎      | 24/72 [00:01<00:03, 14.09it/s]"
     ]
    },
    {
     "name": "stdout",
     "output_type": "stream",
     "text": [
      "Debug: Processing batch 5/72 with 6 phrases\n"
     ]
    },
    {
     "name": "stderr",
     "output_type": "stream",
     "text": [
      " 42%|████▏     | 30/72 [00:02<00:02, 14.16it/s]"
     ]
    },
    {
     "name": "stdout",
     "output_type": "stream",
     "text": [
      "Debug: Processing batch 6/72 with 6 phrases\n"
     ]
    },
    {
     "name": "stderr",
     "output_type": "stream",
     "text": [
      " 50%|█████     | 36/72 [00:02<00:02, 15.03it/s]"
     ]
    },
    {
     "name": "stdout",
     "output_type": "stream",
     "text": [
      "Debug: Processing batch 7/72 with 6 phrases\n"
     ]
    },
    {
     "name": "stderr",
     "output_type": "stream",
     "text": [
      " 58%|█████▊    | 42/72 [00:02<00:01, 15.59it/s]"
     ]
    },
    {
     "name": "stdout",
     "output_type": "stream",
     "text": [
      "Debug: Processing batch 8/72 with 6 phrases\n"
     ]
    },
    {
     "name": "stderr",
     "output_type": "stream",
     "text": [
      " 67%|██████▋   | 48/72 [00:03<00:01, 15.46it/s]"
     ]
    },
    {
     "name": "stdout",
     "output_type": "stream",
     "text": [
      "Debug: Processing batch 9/72 with 6 phrases\n"
     ]
    },
    {
     "name": "stderr",
     "output_type": "stream",
     "text": [
      " 75%|███████▌  | 54/72 [00:03<00:01, 15.55it/s]"
     ]
    },
    {
     "name": "stdout",
     "output_type": "stream",
     "text": [
      "Debug: Processing batch 10/72 with 6 phrases\n"
     ]
    },
    {
     "name": "stderr",
     "output_type": "stream",
     "text": [
      " 83%|████████▎ | 60/72 [00:04<00:00, 15.17it/s]"
     ]
    },
    {
     "name": "stdout",
     "output_type": "stream",
     "text": [
      "Debug: Processing batch 11/72 with 6 phrases\n"
     ]
    },
    {
     "name": "stderr",
     "output_type": "stream",
     "text": [
      " 92%|█████████▏| 66/72 [00:04<00:00, 14.98it/s]"
     ]
    },
    {
     "name": "stdout",
     "output_type": "stream",
     "text": [
      "Debug: Processing batch 12/72 with 6 phrases\n"
     ]
    },
    {
     "name": "stderr",
     "output_type": "stream",
     "text": [
      "100%|██████████| 72/72 [00:04<00:00, 14.74it/s]"
     ]
    },
    {
     "name": "stdout",
     "output_type": "stream",
     "text": [
      "Debug: Processing batch 13/72 with 6 phrases\n"
     ]
    },
    {
     "name": "stderr",
     "output_type": "stream",
     "text": [
      "78it [00:05, 15.67it/s]                        "
     ]
    },
    {
     "name": "stdout",
     "output_type": "stream",
     "text": [
      "Debug: Processing batch 14/72 with 6 phrases\n"
     ]
    },
    {
     "name": "stderr",
     "output_type": "stream",
     "text": [
      "84it [00:05, 14.92it/s]"
     ]
    },
    {
     "name": "stdout",
     "output_type": "stream",
     "text": [
      "Debug: Processing batch 15/72 with 6 phrases\n"
     ]
    },
    {
     "name": "stderr",
     "output_type": "stream",
     "text": [
      "90it [00:06, 14.28it/s]"
     ]
    },
    {
     "name": "stdout",
     "output_type": "stream",
     "text": [
      "Debug: Processing batch 16/72 with 6 phrases\n"
     ]
    },
    {
     "name": "stderr",
     "output_type": "stream",
     "text": [
      "96it [00:06, 15.37it/s]"
     ]
    },
    {
     "name": "stdout",
     "output_type": "stream",
     "text": [
      "Debug: Processing batch 17/72 with 6 phrases\n"
     ]
    },
    {
     "name": "stderr",
     "output_type": "stream",
     "text": [
      "102it [00:06, 15.56it/s]"
     ]
    },
    {
     "name": "stdout",
     "output_type": "stream",
     "text": [
      "Debug: Processing batch 18/72 with 6 phrases\n"
     ]
    },
    {
     "name": "stderr",
     "output_type": "stream",
     "text": [
      "108it [00:07, 15.40it/s]"
     ]
    },
    {
     "name": "stdout",
     "output_type": "stream",
     "text": [
      "Debug: Processing batch 19/72 with 6 phrases\n"
     ]
    },
    {
     "name": "stderr",
     "output_type": "stream",
     "text": [
      "114it [00:07, 15.53it/s]"
     ]
    },
    {
     "name": "stdout",
     "output_type": "stream",
     "text": [
      "Debug: Processing batch 20/72 with 6 phrases\n"
     ]
    },
    {
     "name": "stderr",
     "output_type": "stream",
     "text": [
      "120it [00:08, 15.17it/s]"
     ]
    },
    {
     "name": "stdout",
     "output_type": "stream",
     "text": [
      "Debug: Processing batch 21/72 with 6 phrases\n"
     ]
    },
    {
     "name": "stderr",
     "output_type": "stream",
     "text": [
      "126it [00:08, 15.68it/s]"
     ]
    },
    {
     "name": "stdout",
     "output_type": "stream",
     "text": [
      "Debug: Processing batch 22/72 with 6 phrases\n"
     ]
    },
    {
     "name": "stderr",
     "output_type": "stream",
     "text": [
      "132it [00:08, 15.32it/s]"
     ]
    },
    {
     "name": "stdout",
     "output_type": "stream",
     "text": [
      "Debug: Processing batch 23/72 with 6 phrases\n"
     ]
    },
    {
     "name": "stderr",
     "output_type": "stream",
     "text": [
      "138it [00:09, 15.61it/s]"
     ]
    },
    {
     "name": "stdout",
     "output_type": "stream",
     "text": [
      "Debug: Processing batch 24/72 with 6 phrases\n"
     ]
    },
    {
     "name": "stderr",
     "output_type": "stream",
     "text": [
      "144it [00:09, 15.24it/s]"
     ]
    },
    {
     "name": "stdout",
     "output_type": "stream",
     "text": [
      "Debug: Processing batch 25/72 with 6 phrases\n"
     ]
    },
    {
     "name": "stderr",
     "output_type": "stream",
     "text": [
      "150it [00:09, 15.92it/s]"
     ]
    },
    {
     "name": "stdout",
     "output_type": "stream",
     "text": [
      "Debug: Processing batch 26/72 with 6 phrases\n"
     ]
    },
    {
     "name": "stderr",
     "output_type": "stream",
     "text": [
      "156it [00:10, 15.47it/s]"
     ]
    },
    {
     "name": "stdout",
     "output_type": "stream",
     "text": [
      "Debug: Processing batch 27/72 with 6 phrases\n"
     ]
    },
    {
     "name": "stderr",
     "output_type": "stream",
     "text": [
      "162it [00:10, 15.85it/s]"
     ]
    },
    {
     "name": "stdout",
     "output_type": "stream",
     "text": [
      "Debug: Processing batch 28/72 with 6 phrases\n"
     ]
    },
    {
     "name": "stderr",
     "output_type": "stream",
     "text": [
      "168it [00:11, 14.99it/s]"
     ]
    },
    {
     "name": "stdout",
     "output_type": "stream",
     "text": [
      "Debug: Processing batch 29/72 with 6 phrases\n"
     ]
    },
    {
     "name": "stderr",
     "output_type": "stream",
     "text": [
      "174it [00:11, 15.64it/s]"
     ]
    },
    {
     "name": "stdout",
     "output_type": "stream",
     "text": [
      "Debug: Processing batch 30/72 with 6 phrases\n"
     ]
    },
    {
     "name": "stderr",
     "output_type": "stream",
     "text": [
      "180it [00:11, 16.07it/s]"
     ]
    },
    {
     "name": "stdout",
     "output_type": "stream",
     "text": [
      "Debug: Processing batch 31/72 with 6 phrases\n"
     ]
    },
    {
     "name": "stderr",
     "output_type": "stream",
     "text": [
      "186it [00:12, 15.94it/s]"
     ]
    },
    {
     "name": "stdout",
     "output_type": "stream",
     "text": [
      "Debug: Processing batch 32/72 with 6 phrases\n"
     ]
    },
    {
     "name": "stderr",
     "output_type": "stream",
     "text": [
      "192it [00:12, 16.09it/s]"
     ]
    },
    {
     "name": "stdout",
     "output_type": "stream",
     "text": [
      "Debug: Processing batch 33/72 with 6 phrases\n"
     ]
    },
    {
     "name": "stderr",
     "output_type": "stream",
     "text": [
      "198it [00:12, 15.73it/s]"
     ]
    },
    {
     "name": "stdout",
     "output_type": "stream",
     "text": [
      "Debug: Processing batch 34/72 with 6 phrases\n"
     ]
    },
    {
     "name": "stderr",
     "output_type": "stream",
     "text": [
      "204it [00:13, 15.22it/s]"
     ]
    },
    {
     "name": "stdout",
     "output_type": "stream",
     "text": [
      "Debug: Processing batch 35/72 with 6 phrases\n"
     ]
    },
    {
     "name": "stderr",
     "output_type": "stream",
     "text": [
      "210it [00:13, 15.02it/s]"
     ]
    },
    {
     "name": "stdout",
     "output_type": "stream",
     "text": [
      "Debug: Processing batch 36/72 with 6 phrases\n"
     ]
    },
    {
     "name": "stderr",
     "output_type": "stream",
     "text": [
      "216it [00:14, 15.08it/s]"
     ]
    },
    {
     "name": "stdout",
     "output_type": "stream",
     "text": [
      "Debug: Processing batch 37/72 with 6 phrases\n"
     ]
    },
    {
     "name": "stderr",
     "output_type": "stream",
     "text": [
      "222it [00:14, 14.75it/s]"
     ]
    },
    {
     "name": "stdout",
     "output_type": "stream",
     "text": [
      "Debug: Processing batch 38/72 with 6 phrases\n"
     ]
    },
    {
     "name": "stderr",
     "output_type": "stream",
     "text": [
      "228it [00:15, 14.50it/s]"
     ]
    },
    {
     "name": "stdout",
     "output_type": "stream",
     "text": [
      "Debug: Processing batch 39/72 with 6 phrases\n"
     ]
    },
    {
     "name": "stderr",
     "output_type": "stream",
     "text": [
      "234it [00:15, 14.75it/s]"
     ]
    },
    {
     "name": "stdout",
     "output_type": "stream",
     "text": [
      "Debug: Processing batch 40/72 with 6 phrases\n"
     ]
    },
    {
     "name": "stderr",
     "output_type": "stream",
     "text": [
      "240it [00:15, 14.03it/s]"
     ]
    },
    {
     "name": "stdout",
     "output_type": "stream",
     "text": [
      "Debug: Processing batch 41/72 with 6 phrases\n"
     ]
    },
    {
     "name": "stderr",
     "output_type": "stream",
     "text": [
      "246it [00:16, 14.46it/s]"
     ]
    },
    {
     "name": "stdout",
     "output_type": "stream",
     "text": [
      "Debug: Processing batch 42/72 with 6 phrases\n"
     ]
    },
    {
     "name": "stderr",
     "output_type": "stream",
     "text": [
      "252it [00:16, 15.29it/s]"
     ]
    },
    {
     "name": "stdout",
     "output_type": "stream",
     "text": [
      "Debug: Processing batch 43/72 with 6 phrases\n"
     ]
    },
    {
     "name": "stderr",
     "output_type": "stream",
     "text": [
      "258it [00:17, 14.94it/s]"
     ]
    },
    {
     "name": "stdout",
     "output_type": "stream",
     "text": [
      "Debug: Processing batch 44/72 with 6 phrases\n"
     ]
    },
    {
     "name": "stderr",
     "output_type": "stream",
     "text": [
      "264it [00:17, 13.71it/s]"
     ]
    },
    {
     "name": "stdout",
     "output_type": "stream",
     "text": [
      "Debug: Processing batch 45/72 with 6 phrases\n"
     ]
    },
    {
     "name": "stderr",
     "output_type": "stream",
     "text": [
      "270it [00:18, 13.19it/s]"
     ]
    },
    {
     "name": "stdout",
     "output_type": "stream",
     "text": [
      "Debug: Processing batch 46/72 with 6 phrases\n"
     ]
    },
    {
     "name": "stderr",
     "output_type": "stream",
     "text": [
      "276it [00:18, 13.51it/s]"
     ]
    },
    {
     "name": "stdout",
     "output_type": "stream",
     "text": [
      "Debug: Processing batch 47/72 with 6 phrases\n"
     ]
    },
    {
     "name": "stderr",
     "output_type": "stream",
     "text": [
      "282it [00:18, 13.66it/s]"
     ]
    },
    {
     "name": "stdout",
     "output_type": "stream",
     "text": [
      "Debug: Processing batch 48/72 with 6 phrases\n"
     ]
    },
    {
     "name": "stderr",
     "output_type": "stream",
     "text": [
      "288it [00:19, 14.00it/s]"
     ]
    },
    {
     "name": "stdout",
     "output_type": "stream",
     "text": [
      "Debug: Processing batch 49/72 with 6 phrases\n"
     ]
    },
    {
     "name": "stderr",
     "output_type": "stream",
     "text": [
      "294it [00:19, 14.29it/s]"
     ]
    },
    {
     "name": "stdout",
     "output_type": "stream",
     "text": [
      "Debug: Processing batch 50/72 with 6 phrases\n"
     ]
    },
    {
     "name": "stderr",
     "output_type": "stream",
     "text": [
      "300it [00:20, 14.57it/s]"
     ]
    },
    {
     "name": "stdout",
     "output_type": "stream",
     "text": [
      "Debug: Processing batch 51/72 with 6 phrases\n"
     ]
    },
    {
     "name": "stderr",
     "output_type": "stream",
     "text": [
      "306it [00:20, 14.71it/s]"
     ]
    },
    {
     "name": "stdout",
     "output_type": "stream",
     "text": [
      "Debug: Processing batch 52/72 with 6 phrases\n"
     ]
    },
    {
     "name": "stderr",
     "output_type": "stream",
     "text": [
      "312it [00:20, 15.39it/s]"
     ]
    },
    {
     "name": "stdout",
     "output_type": "stream",
     "text": [
      "Debug: Processing batch 53/72 with 6 phrases\n"
     ]
    },
    {
     "name": "stderr",
     "output_type": "stream",
     "text": [
      "318it [00:21, 15.21it/s]"
     ]
    },
    {
     "name": "stdout",
     "output_type": "stream",
     "text": [
      "Debug: Processing batch 54/72 with 6 phrases\n"
     ]
    },
    {
     "name": "stderr",
     "output_type": "stream",
     "text": [
      "324it [00:21, 15.30it/s]"
     ]
    },
    {
     "name": "stdout",
     "output_type": "stream",
     "text": [
      "Debug: Processing batch 55/72 with 6 phrases\n"
     ]
    },
    {
     "name": "stderr",
     "output_type": "stream",
     "text": [
      "330it [00:22, 16.19it/s]"
     ]
    },
    {
     "name": "stdout",
     "output_type": "stream",
     "text": [
      "Debug: Processing batch 56/72 with 6 phrases\n"
     ]
    },
    {
     "name": "stderr",
     "output_type": "stream",
     "text": [
      "336it [00:22, 15.89it/s]"
     ]
    },
    {
     "name": "stdout",
     "output_type": "stream",
     "text": [
      "Debug: Processing batch 57/72 with 6 phrases\n"
     ]
    },
    {
     "name": "stderr",
     "output_type": "stream",
     "text": [
      "342it [00:22, 16.04it/s]"
     ]
    },
    {
     "name": "stdout",
     "output_type": "stream",
     "text": [
      "Debug: Processing batch 58/72 with 6 phrases\n"
     ]
    },
    {
     "name": "stderr",
     "output_type": "stream",
     "text": [
      "348it [00:23, 15.12it/s]"
     ]
    },
    {
     "name": "stdout",
     "output_type": "stream",
     "text": [
      "Debug: Processing batch 59/72 with 6 phrases\n"
     ]
    },
    {
     "name": "stderr",
     "output_type": "stream",
     "text": [
      "354it [00:23, 15.28it/s]"
     ]
    },
    {
     "name": "stdout",
     "output_type": "stream",
     "text": [
      "Debug: Processing batch 60/72 with 6 phrases\n"
     ]
    },
    {
     "name": "stderr",
     "output_type": "stream",
     "text": [
      "360it [00:23, 15.66it/s]"
     ]
    },
    {
     "name": "stdout",
     "output_type": "stream",
     "text": [
      "Debug: Processing batch 61/72 with 6 phrases\n"
     ]
    },
    {
     "name": "stderr",
     "output_type": "stream",
     "text": [
      "366it [00:24, 15.60it/s]"
     ]
    },
    {
     "name": "stdout",
     "output_type": "stream",
     "text": [
      "Debug: Processing batch 62/72 with 6 phrases\n"
     ]
    },
    {
     "name": "stderr",
     "output_type": "stream",
     "text": [
      "372it [00:24, 15.58it/s]"
     ]
    },
    {
     "name": "stdout",
     "output_type": "stream",
     "text": [
      "Debug: Processing batch 63/72 with 6 phrases\n"
     ]
    },
    {
     "name": "stderr",
     "output_type": "stream",
     "text": [
      "378it [00:25, 15.40it/s]"
     ]
    },
    {
     "name": "stdout",
     "output_type": "stream",
     "text": [
      "Debug: Processing batch 64/72 with 6 phrases\n"
     ]
    },
    {
     "name": "stderr",
     "output_type": "stream",
     "text": [
      "384it [00:25, 16.14it/s]"
     ]
    },
    {
     "name": "stdout",
     "output_type": "stream",
     "text": [
      "Debug: Processing batch 65/72 with 6 phrases\n"
     ]
    },
    {
     "name": "stderr",
     "output_type": "stream",
     "text": [
      "390it [00:26, 10.53it/s]"
     ]
    },
    {
     "name": "stdout",
     "output_type": "stream",
     "text": [
      "Debug: Processing batch 66/72 with 6 phrases\n"
     ]
    },
    {
     "name": "stderr",
     "output_type": "stream",
     "text": [
      "396it [00:26, 11.60it/s]"
     ]
    },
    {
     "name": "stdout",
     "output_type": "stream",
     "text": [
      "Debug: Processing batch 67/72 with 6 phrases\n"
     ]
    },
    {
     "name": "stderr",
     "output_type": "stream",
     "text": [
      "402it [00:27, 11.74it/s]"
     ]
    },
    {
     "name": "stdout",
     "output_type": "stream",
     "text": [
      "Debug: Processing batch 68/72 with 6 phrases\n"
     ]
    },
    {
     "name": "stderr",
     "output_type": "stream",
     "text": [
      "408it [00:27, 12.25it/s]"
     ]
    },
    {
     "name": "stdout",
     "output_type": "stream",
     "text": [
      "Debug: Processing batch 69/72 with 6 phrases\n"
     ]
    },
    {
     "name": "stderr",
     "output_type": "stream",
     "text": [
      "414it [00:28, 12.77it/s]"
     ]
    },
    {
     "name": "stdout",
     "output_type": "stream",
     "text": [
      "Debug: Processing batch 70/72 with 6 phrases\n"
     ]
    },
    {
     "name": "stderr",
     "output_type": "stream",
     "text": [
      "420it [00:28, 13.27it/s]"
     ]
    },
    {
     "name": "stdout",
     "output_type": "stream",
     "text": [
      "Debug: Processing batch 71/72 with 6 phrases\n"
     ]
    },
    {
     "name": "stderr",
     "output_type": "stream",
     "text": [
      "426it [00:29, 13.37it/s]"
     ]
    },
    {
     "name": "stdout",
     "output_type": "stream",
     "text": [
      "Debug: Processing batch 72/72 with 4 phrases\n"
     ]
    },
    {
     "name": "stderr",
     "output_type": "stream",
     "text": [
      "430it [00:29, 14.57it/s]\n"
     ]
    }
   ],
   "source": [
    "retrieval = retriever_batch(articles, final_phrases)"
   ]
  },
  {
   "cell_type": "code",
   "execution_count": 127,
   "metadata": {},
   "outputs": [],
   "source": [
    "len(retrieval)\n",
    "ave_emb_1 = np.array([generate_embeddings(phrase) for phrase in retrieval])\n"
   ]
  },
  {
   "cell_type": "code",
   "execution_count": 128,
   "metadata": {},
   "outputs": [
    {
     "name": "stdout",
     "output_type": "stream",
     "text": [
      "the retrieval result from the LLMs is : memory impairment\n"
     ]
    }
   ],
   "source": [
    "retrieval_1 = [doc.fields['title'] for doc in collection.query(np.mean(ave_emb_1, axis=0), output_fields=['title'],topk=1).output]\n",
    "print(f'the retrieval result from the LLMs is : {retrieval_1[0]}')"
   ]
  },
  {
   "cell_type": "code",
   "execution_count": 60,
   "metadata": {},
   "outputs": [
    {
     "name": "stdout",
     "output_type": "stream",
     "text": [
      "[[0.17782755]]\n"
     ]
    }
   ],
   "source": [
    "cos_score = cosine_similarity([generate_embeddings(keyword)], [generate_embeddings(retrieval_1[0])])\n",
    "print(cos_score)"
   ]
  },
  {
   "cell_type": "markdown",
   "metadata": {},
   "source": [
    "或者对输出list取均值重新请求embeddings"
   ]
  },
  {
   "cell_type": "code",
   "execution_count": 61,
   "metadata": {},
   "outputs": [
    {
     "data": {
      "text/plain": [
       "['flushed face']"
      ]
     },
     "execution_count": 61,
     "metadata": {},
     "output_type": "execute_result"
    }
   ],
   "source": [
    "retrieval_2 = [doc.fields['title'] for doc in collection.query(np.mean(np.array(final_emb), axis=0), output_fields=['title'],topk=1).output]\n",
    "retrieval_2"
   ]
  },
  {
   "cell_type": "code",
   "execution_count": null,
   "metadata": {},
   "outputs": [],
   "source": [
    "np.array(final_emb).shape\n"
   ]
  },
  {
   "cell_type": "code",
   "execution_count": null,
   "metadata": {},
   "outputs": [],
   "source": [
    "cos_score = cosine_similarity([generate_embeddings(keyword)], [generate_embeddings(retrieval_2[0])])\n",
    "print(cos_score)"
   ]
  }
 ],
 "metadata": {
  "kernelspec": {
   "display_name": "py37",
   "language": "python",
   "name": "python3"
  },
  "language_info": {
   "codemirror_mode": {
    "name": "ipython",
    "version": 3
   },
   "file_extension": ".py",
   "mimetype": "text/x-python",
   "name": "python",
   "nbconvert_exporter": "python",
   "pygments_lexer": "ipython3",
   "version": "3.11.4"
  }
 },
 "nbformat": 4,
 "nbformat_minor": 2
}
